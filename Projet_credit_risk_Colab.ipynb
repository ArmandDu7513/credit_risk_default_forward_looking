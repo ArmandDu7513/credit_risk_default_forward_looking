{
 "cells": [
  {
   "cell_type": "markdown",
   "id": "FGyvmhyOaOw0",
   "metadata": {
    "id": "FGyvmhyOaOw0"
   },
   "source": [
    "# Packages\n"
   ]
  },
  {
   "cell_type": "code",
   "execution_count": 2,
   "id": "jyJqCuHFlAix",
   "metadata": {
    "colab": {
     "base_uri": "https://localhost:8080/"
    },
    "id": "jyJqCuHFlAix",
    "outputId": "4b2d04ad-c238-4784-d3d7-62d14f4551af"
   },
   "outputs": [
    {
     "name": "stdout",
     "output_type": "stream",
     "text": [
      "Looking in indexes: https://pypi.org/simple, https://us-python.pkg.dev/colab-wheels/public/simple/\n",
      "Requirement already satisfied: arch in /usr/local/lib/python3.8/dist-packages (5.3.1)\n",
      "Requirement already satisfied: statsmodels>=0.11 in /usr/local/lib/python3.8/dist-packages (from arch) (0.13.5)\n",
      "Requirement already satisfied: scipy>=1.3 in /usr/local/lib/python3.8/dist-packages (from arch) (1.10.1)\n",
      "Requirement already satisfied: pandas>=1.0 in /usr/local/lib/python3.8/dist-packages (from arch) (1.3.5)\n",
      "Requirement already satisfied: property-cached>=1.6.4 in /usr/local/lib/python3.8/dist-packages (from arch) (1.6.4)\n",
      "Requirement already satisfied: numpy>=1.17 in /usr/local/lib/python3.8/dist-packages (from arch) (1.22.4)\n",
      "Requirement already satisfied: pytz>=2017.3 in /usr/local/lib/python3.8/dist-packages (from pandas>=1.0->arch) (2022.7.1)\n",
      "Requirement already satisfied: python-dateutil>=2.7.3 in /usr/local/lib/python3.8/dist-packages (from pandas>=1.0->arch) (2.8.2)\n",
      "Requirement already satisfied: packaging>=21.3 in /usr/local/lib/python3.8/dist-packages (from statsmodels>=0.11->arch) (23.0)\n",
      "Requirement already satisfied: patsy>=0.5.2 in /usr/local/lib/python3.8/dist-packages (from statsmodels>=0.11->arch) (0.5.3)\n",
      "Requirement already satisfied: six in /usr/local/lib/python3.8/dist-packages (from patsy>=0.5.2->statsmodels>=0.11->arch) (1.15.0)\n"
     ]
    }
   ],
   "source": [
    "!pip install --upgrade arch"
   ]
  },
  {
   "cell_type": "code",
   "execution_count": 3,
   "id": "hRi5mjBMX_hF",
   "metadata": {
    "colab": {
     "base_uri": "https://localhost:8080/"
    },
    "id": "hRi5mjBMX_hF",
    "outputId": "0dc28ba4-aef4-4053-c237-78bbe2b0df1a"
   },
   "outputs": [
    {
     "name": "stdout",
     "output_type": "stream",
     "text": [
      "Looking in indexes: https://pypi.org/simple, https://us-python.pkg.dev/colab-wheels/public/simple/\n",
      "Requirement already satisfied: statsmodels in /usr/local/lib/python3.8/dist-packages (0.13.5)\n",
      "Requirement already satisfied: numpy>=1.17 in /usr/local/lib/python3.8/dist-packages (from statsmodels) (1.22.4)\n",
      "Requirement already satisfied: packaging>=21.3 in /usr/local/lib/python3.8/dist-packages (from statsmodels) (23.0)\n",
      "Requirement already satisfied: patsy>=0.5.2 in /usr/local/lib/python3.8/dist-packages (from statsmodels) (0.5.3)\n",
      "Requirement already satisfied: pandas>=0.25 in /usr/local/lib/python3.8/dist-packages (from statsmodels) (1.3.5)\n",
      "Requirement already satisfied: scipy>=1.3 in /usr/local/lib/python3.8/dist-packages (from statsmodels) (1.10.1)\n",
      "Requirement already satisfied: python-dateutil>=2.7.3 in /usr/local/lib/python3.8/dist-packages (from pandas>=0.25->statsmodels) (2.8.2)\n",
      "Requirement already satisfied: pytz>=2017.3 in /usr/local/lib/python3.8/dist-packages (from pandas>=0.25->statsmodels) (2022.7.1)\n",
      "Requirement already satisfied: six in /usr/local/lib/python3.8/dist-packages (from patsy>=0.5.2->statsmodels) (1.15.0)\n"
     ]
    }
   ],
   "source": [
    "pip install --upgrade statsmodels"
   ]
  },
  {
   "cell_type": "code",
   "execution_count": 4,
   "id": "y-vEfjybbD5I",
   "metadata": {
    "colab": {
     "base_uri": "https://localhost:8080/"
    },
    "id": "y-vEfjybbD5I",
    "outputId": "1ac9bb17-95da-41e1-9469-986822f1a237"
   },
   "outputs": [
    {
     "name": "stdout",
     "output_type": "stream",
     "text": [
      "Looking in indexes: https://pypi.org/simple, https://us-python.pkg.dev/colab-wheels/public/simple/\n",
      "Requirement already satisfied: fiona in /usr/local/lib/python3.8/dist-packages (1.9.1)\n",
      "Requirement already satisfied: click~=8.0 in /usr/local/lib/python3.8/dist-packages (from fiona) (8.1.3)\n",
      "Requirement already satisfied: certifi in /usr/local/lib/python3.8/dist-packages (from fiona) (2022.12.7)\n",
      "Requirement already satisfied: attrs>=19.2.0 in /usr/local/lib/python3.8/dist-packages (from fiona) (22.2.0)\n",
      "Requirement already satisfied: munch>=2.3.2 in /usr/local/lib/python3.8/dist-packages (from fiona) (2.5.0)\n",
      "Requirement already satisfied: click-plugins>=1.0 in /usr/local/lib/python3.8/dist-packages (from fiona) (1.1.1)\n",
      "Requirement already satisfied: setuptools in /usr/local/lib/python3.8/dist-packages (from fiona) (57.4.0)\n",
      "Requirement already satisfied: cligj>=0.5 in /usr/local/lib/python3.8/dist-packages (from fiona) (0.7.2)\n",
      "Requirement already satisfied: six in /usr/local/lib/python3.8/dist-packages (from munch>=2.3.2->fiona) (1.15.0)\n"
     ]
    }
   ],
   "source": [
    "!pip install --upgrade fiona"
   ]
  },
  {
   "cell_type": "code",
   "execution_count": 5,
   "id": "r4lwEmmZXUam",
   "metadata": {
    "colab": {
     "base_uri": "https://localhost:8080/"
    },
    "id": "r4lwEmmZXUam",
    "outputId": "0f37c95e-4573-4c20-99b0-f5019bad0534"
   },
   "outputs": [
    {
     "name": "stdout",
     "output_type": "stream",
     "text": [
      "Looking in indexes: https://pypi.org/simple, https://us-python.pkg.dev/colab-wheels/public/simple/\n",
      "Requirement already satisfied: bounds in /usr/local/lib/python3.8/dist-packages (0.0.5)\n",
      "Requirement already satisfied: rasterio in /usr/local/lib/python3.8/dist-packages (from bounds) (1.3.6)\n",
      "Requirement already satisfied: pyproj in /usr/local/lib/python3.8/dist-packages (from bounds) (3.4.1)\n",
      "Requirement already satisfied: certifi in /usr/local/lib/python3.8/dist-packages (from pyproj->bounds) (2022.12.7)\n",
      "Requirement already satisfied: click>=4.0 in /usr/local/lib/python3.8/dist-packages (from rasterio->bounds) (8.1.3)\n",
      "Requirement already satisfied: click-plugins in /usr/local/lib/python3.8/dist-packages (from rasterio->bounds) (1.1.1)\n",
      "Requirement already satisfied: setuptools in /usr/local/lib/python3.8/dist-packages (from rasterio->bounds) (57.4.0)\n",
      "Requirement already satisfied: snuggs>=1.4.1 in /usr/local/lib/python3.8/dist-packages (from rasterio->bounds) (1.4.7)\n",
      "Requirement already satisfied: attrs in /usr/local/lib/python3.8/dist-packages (from rasterio->bounds) (22.2.0)\n",
      "Requirement already satisfied: affine in /usr/local/lib/python3.8/dist-packages (from rasterio->bounds) (2.4.0)\n",
      "Requirement already satisfied: numpy>=1.18 in /usr/local/lib/python3.8/dist-packages (from rasterio->bounds) (1.22.4)\n",
      "Requirement already satisfied: cligj>=0.5 in /usr/local/lib/python3.8/dist-packages (from rasterio->bounds) (0.7.2)\n",
      "Requirement already satisfied: pyparsing>=2.1.6 in /usr/local/lib/python3.8/dist-packages (from snuggs>=1.4.1->rasterio->bounds) (3.0.9)\n"
     ]
    }
   ],
   "source": [
    "!pip install bounds"
   ]
  },
  {
   "cell_type": "code",
   "execution_count": 6,
   "id": "d9fd4d6d",
   "metadata": {
    "id": "d9fd4d6d"
   },
   "outputs": [],
   "source": [
    "import pandas as pd\n",
    "import numpy as np\n",
    "\n",
    "from statsmodels.graphics.tsaplots import plot_acf\n",
    "from statsmodels.graphics.tsaplots import plot_pacf\n",
    "from statsmodels.tsa.stattools import kpss\n",
    "from arch.unitroot import PhillipsPerron\n",
    "\"\"\"\n",
    "from statsmodels.tsa.ardl import ardl_select_order\n",
    "import statsmodels.api as sm\"\"\"\n",
    "\n",
    "from sklearn.preprocessing import StandardScaler\n",
    "\n",
    "import matplotlib.pyplot as plt\n",
    "import seaborn as sns\n",
    "\n",
    "from scipy.stats import shapiro, kstest\n",
    "\n",
    "from statsmodels.stats.outliers_influence import variance_inflation_factor\n"
   ]
  },
  {
   "cell_type": "code",
   "execution_count": 7,
   "id": "v39wCEX_QIfr",
   "metadata": {
    "colab": {
     "base_uri": "https://localhost:8080/"
    },
    "id": "v39wCEX_QIfr",
    "outputId": "a5f40a27-d3f8-4cf3-fbf7-5daf144c9c3d"
   },
   "outputs": [
    {
     "name": "stdout",
     "output_type": "stream",
     "text": [
      "Drive already mounted at drive; to attempt to forcibly remount, call drive.mount(\"drive\", force_remount=True).\n"
     ]
    }
   ],
   "source": [
    "from google.colab import drive\n",
    "drive.mount('drive')"
   ]
  },
  {
   "cell_type": "code",
   "execution_count": 8,
   "id": "oF7WWhK8QIjJ",
   "metadata": {
    "id": "oF7WWhK8QIjJ"
   },
   "outputs": [],
   "source": [
    "file_path = \"drive/My Drive/Projets Mars 2023 Mosef/CREDIT RISK/\""
   ]
  },
  {
   "cell_type": "code",
   "execution_count": 9,
   "id": "4d3207b7",
   "metadata": {
    "id": "4d3207b7"
   },
   "outputs": [],
   "source": [
    "td = pd.read_excel(file_path+\"data/default_rate_quarterly.xlsx\")\n",
    "macro = pd.read_excel(file_path+\"data/variables_macroeconomiques.xlsx\")\n",
    "#base_1 = pd.read_csv(file_path+\"Base_1.csv\")\n",
    "#base_2 = pd.read_csv(file_path+\"Base_2.csv\")"
   ]
  },
  {
   "cell_type": "code",
   "execution_count": 10,
   "id": "wDBGnMwAuQB1",
   "metadata": {
    "colab": {
     "base_uri": "https://localhost:8080/",
     "height": 143
    },
    "id": "wDBGnMwAuQB1",
    "outputId": "16657ce4-8839-483d-fd2b-adb84c8412ef"
   },
   "outputs": [
    {
     "data": {
      "text/html": [
       "\n",
       "  <div id=\"df-4520af9e-f8c2-4f54-8020-9253d1d4dad7\">\n",
       "    <div class=\"colab-df-container\">\n",
       "      <div>\n",
       "<style scoped>\n",
       "    .dataframe tbody tr th:only-of-type {\n",
       "        vertical-align: middle;\n",
       "    }\n",
       "\n",
       "    .dataframe tbody tr th {\n",
       "        vertical-align: top;\n",
       "    }\n",
       "\n",
       "    .dataframe thead th {\n",
       "        text-align: right;\n",
       "    }\n",
       "</style>\n",
       "<table border=\"1\" class=\"dataframe\">\n",
       "  <thead>\n",
       "    <tr style=\"text-align: right;\">\n",
       "      <th></th>\n",
       "      <th>Date</th>\n",
       "      <th>RGDP</th>\n",
       "      <th>HICP</th>\n",
       "      <th>RREP</th>\n",
       "      <th>IRLT</th>\n",
       "      <th>UNR</th>\n",
       "    </tr>\n",
       "  </thead>\n",
       "  <tbody>\n",
       "    <tr>\n",
       "      <th>0</th>\n",
       "      <td>2009-01-31</td>\n",
       "      <td>394004.0</td>\n",
       "      <td>91.3</td>\n",
       "      <td>119.18</td>\n",
       "      <td>4.36</td>\n",
       "      <td>7.589134</td>\n",
       "    </tr>\n",
       "    <tr>\n",
       "      <th>1</th>\n",
       "      <td>2009-04-30</td>\n",
       "      <td>396296.5</td>\n",
       "      <td>90.6</td>\n",
       "      <td>119.36</td>\n",
       "      <td>4.37</td>\n",
       "      <td>8.103871</td>\n",
       "    </tr>\n",
       "    <tr>\n",
       "      <th>2</th>\n",
       "      <td>2009-07-31</td>\n",
       "      <td>397582.5</td>\n",
       "      <td>91.8</td>\n",
       "      <td>118.59</td>\n",
       "      <td>4.10</td>\n",
       "      <td>8.280931</td>\n",
       "    </tr>\n",
       "  </tbody>\n",
       "</table>\n",
       "</div>\n",
       "      <button class=\"colab-df-convert\" onclick=\"convertToInteractive('df-4520af9e-f8c2-4f54-8020-9253d1d4dad7')\"\n",
       "              title=\"Convert this dataframe to an interactive table.\"\n",
       "              style=\"display:none;\">\n",
       "        \n",
       "  <svg xmlns=\"http://www.w3.org/2000/svg\" height=\"24px\"viewBox=\"0 0 24 24\"\n",
       "       width=\"24px\">\n",
       "    <path d=\"M0 0h24v24H0V0z\" fill=\"none\"/>\n",
       "    <path d=\"M18.56 5.44l.94 2.06.94-2.06 2.06-.94-2.06-.94-.94-2.06-.94 2.06-2.06.94zm-11 1L8.5 8.5l.94-2.06 2.06-.94-2.06-.94L8.5 2.5l-.94 2.06-2.06.94zm10 10l.94 2.06.94-2.06 2.06-.94-2.06-.94-.94-2.06-.94 2.06-2.06.94z\"/><path d=\"M17.41 7.96l-1.37-1.37c-.4-.4-.92-.59-1.43-.59-.52 0-1.04.2-1.43.59L10.3 9.45l-7.72 7.72c-.78.78-.78 2.05 0 2.83L4 21.41c.39.39.9.59 1.41.59.51 0 1.02-.2 1.41-.59l7.78-7.78 2.81-2.81c.8-.78.8-2.07 0-2.86zM5.41 20L4 18.59l7.72-7.72 1.47 1.35L5.41 20z\"/>\n",
       "  </svg>\n",
       "      </button>\n",
       "      \n",
       "  <style>\n",
       "    .colab-df-container {\n",
       "      display:flex;\n",
       "      flex-wrap:wrap;\n",
       "      gap: 12px;\n",
       "    }\n",
       "\n",
       "    .colab-df-convert {\n",
       "      background-color: #E8F0FE;\n",
       "      border: none;\n",
       "      border-radius: 50%;\n",
       "      cursor: pointer;\n",
       "      display: none;\n",
       "      fill: #1967D2;\n",
       "      height: 32px;\n",
       "      padding: 0 0 0 0;\n",
       "      width: 32px;\n",
       "    }\n",
       "\n",
       "    .colab-df-convert:hover {\n",
       "      background-color: #E2EBFA;\n",
       "      box-shadow: 0px 1px 2px rgba(60, 64, 67, 0.3), 0px 1px 3px 1px rgba(60, 64, 67, 0.15);\n",
       "      fill: #174EA6;\n",
       "    }\n",
       "\n",
       "    [theme=dark] .colab-df-convert {\n",
       "      background-color: #3B4455;\n",
       "      fill: #D2E3FC;\n",
       "    }\n",
       "\n",
       "    [theme=dark] .colab-df-convert:hover {\n",
       "      background-color: #434B5C;\n",
       "      box-shadow: 0px 1px 3px 1px rgba(0, 0, 0, 0.15);\n",
       "      filter: drop-shadow(0px 1px 2px rgba(0, 0, 0, 0.3));\n",
       "      fill: #FFFFFF;\n",
       "    }\n",
       "  </style>\n",
       "\n",
       "      <script>\n",
       "        const buttonEl =\n",
       "          document.querySelector('#df-4520af9e-f8c2-4f54-8020-9253d1d4dad7 button.colab-df-convert');\n",
       "        buttonEl.style.display =\n",
       "          google.colab.kernel.accessAllowed ? 'block' : 'none';\n",
       "\n",
       "        async function convertToInteractive(key) {\n",
       "          const element = document.querySelector('#df-4520af9e-f8c2-4f54-8020-9253d1d4dad7');\n",
       "          const dataTable =\n",
       "            await google.colab.kernel.invokeFunction('convertToInteractive',\n",
       "                                                     [key], {});\n",
       "          if (!dataTable) return;\n",
       "\n",
       "          const docLinkHtml = 'Like what you see? Visit the ' +\n",
       "            '<a target=\"_blank\" href=https://colab.research.google.com/notebooks/data_table.ipynb>data table notebook</a>'\n",
       "            + ' to learn more about interactive tables.';\n",
       "          element.innerHTML = '';\n",
       "          dataTable['output_type'] = 'display_data';\n",
       "          await google.colab.output.renderOutput(dataTable, element);\n",
       "          const docLink = document.createElement('div');\n",
       "          docLink.innerHTML = docLinkHtml;\n",
       "          element.appendChild(docLink);\n",
       "        }\n",
       "      </script>\n",
       "    </div>\n",
       "  </div>\n",
       "  "
      ],
      "text/plain": [
       "        Date      RGDP  HICP    RREP  IRLT       UNR\n",
       "0 2009-01-31  394004.0  91.3  119.18  4.36  7.589134\n",
       "1 2009-04-30  396296.5  90.6  119.36  4.37  8.103871\n",
       "2 2009-07-31  397582.5  91.8  118.59  4.10  8.280931"
      ]
     },
     "execution_count": 10,
     "metadata": {},
     "output_type": "execute_result"
    }
   ],
   "source": [
    "macro.head(3)"
   ]
  },
  {
   "cell_type": "code",
   "execution_count": 11,
   "id": "0-Y840Jkmi4c",
   "metadata": {
    "id": "0-Y840Jkmi4c"
   },
   "outputs": [],
   "source": [
    "#je retire la saisonnamlité de HICP car elle est beaucoup trop présente (graphique)\n",
    "from statsmodels.tsa.seasonal import seasonal_decompose\n",
    "decomposition = seasonal_decompose(macro.HICP, period=4)\n",
    "seasonal = decomposition.seasonal\n",
    "macro[\"HICP\"] = macro.HICP - seasonal\n",
    "\n",
    "#traitement des deux varaibles encore totalement brutes\n",
    "macro[['RGDP', 'HICP', 'IRLT',  'RREP', 'UNR']] = macro[['RGDP', 'HICP', 'IRLT',  'RREP', 'UNR']].pct_change() * 100"
   ]
  },
  {
   "cell_type": "code",
   "execution_count": 12,
   "id": "d8977d5f",
   "metadata": {
    "id": "d8977d5f"
   },
   "outputs": [],
   "source": [
    "td = td.set_index(\"Date\")\n",
    "macro = macro.set_index(\"Date\")"
   ]
  },
  {
   "cell_type": "code",
   "execution_count": 13,
   "id": "126f3d3f",
   "metadata": {
    "id": "126f3d3f"
   },
   "outputs": [],
   "source": [
    "\n",
    "macro[\"td\"]=td"
   ]
  },
  {
   "cell_type": "code",
   "execution_count": 14,
   "id": "7b8edc09",
   "metadata": {
    "colab": {
     "base_uri": "https://localhost:8080/",
     "height": 390
    },
    "id": "7b8edc09",
    "outputId": "9f409412-986b-4364-aa5e-31c98b2bc982"
   },
   "outputs": [
    {
     "data": {
      "image/png": "[encoded data removed]",
      "text/plain": [
       "<Figure size 720x432 with 1 Axes>"
      ]
     },
     "metadata": {
      "needs_background": "light"
     },
     "output_type": "display_data"
    }
   ],
   "source": [
    "def normalize_and_plot(df):\n",
    "    \n",
    "    # Normalisation des données dans le DataFrame\n",
    "    scaler = StandardScaler()\n",
    "    df_normalized = pd.DataFrame(scaler.fit_transform(df), columns=df.columns, index=df.index)\n",
    "\n",
    "    # Affichage graphique des séries temporelles normalisées\n",
    "    plt.figure(figsize=(10, 6))\n",
    "    for col in df_normalized.columns:\n",
    "        plt.plot(df_normalized.index, df_normalized[col], label=col)\n",
    "    plt.legend()\n",
    "    plt.title(\"Séries temporelles normalisées\")\n",
    "    plt.show()\n",
    "\n",
    "\n",
    "\n",
    "normalize_and_plot(macro[['RGDP', 'HICP', 'IRLT', 'RREP', 'UNR', 'td']])"
   ]
  },
  {
   "cell_type": "code",
   "execution_count": 16,
   "id": "nQz1HDsW3ES3",
   "metadata": {
    "id": "nQz1HDsW3ES3"
   },
   "outputs": [],
   "source": [
    "macro_ADL = macro.copy()\n",
    "macro = macro.dropna()"
   ]
  },
  {
   "cell_type": "markdown",
   "id": "-7aqEqe77pFT",
   "metadata": {
    "id": "-7aqEqe77pFT"
   },
   "source": [
    "# **Analyses PACF et ACF**\n",
    "\n",
    "Pour avoir une première idée sur la stationnarité des variables, on trace des autocorrélogrames.\n",
    "\n",
    "Les résultats nous disent que : \n",
    "\n",
    "RGDP : \n",
    "HICP : \n",
    "IRLT : \n",
    "RREP : \n",
    "UNR : \n"
   ]
  },
  {
   "cell_type": "code",
   "execution_count": 116,
   "id": "Uer0xQmc7vBf",
   "metadata": {
    "colab": {
     "base_uri": "https://localhost:8080/",
     "height": 1000
    },
    "id": "Uer0xQmc7vBf",
    "outputId": "af88975c-fb5c-40fd-9a09-e1b3e587a45b"
   },
   "outputs": [
    {
     "name": "stdout",
     "output_type": "stream",
     "text": [
      "RGDP\n"
     ]
    },
    {
     "name": "stderr",
     "output_type": "stream",
     "text": [
      "/usr/local/lib/python3.8/dist-packages/statsmodels/graphics/tsaplots.py:348: FutureWarning: The default method 'yw' can produce PACF values outside of the [-1,1] interval. After 0.13, the default will change tounadjusted Yule-Walker ('ywm'). You can use this method now by setting method='ywm'.\n",
      "  warnings.warn(\n"
     ]
    },
    {
     "data": {
      "image/png": "[encoded data removed]",
      "text/plain": [
       "<Figure size 432x288 with 1 Axes>"
      ]
     },
     "metadata": {
      "needs_background": "light"
     },
     "output_type": "display_data"
    },
    {
     "data": {
      "image/png": "[encoded data removed]",
      "text/plain": [
       "<Figure size 432x288 with 1 Axes>"
      ]
     },
     "metadata": {
      "needs_background": "light"
     },
     "output_type": "display_data"
    },
    {
     "name": "stdout",
     "output_type": "stream",
     "text": [
      "HICP\n"
     ]
    },
    {
     "data": {
      "image/png": "[encoded data removed]",
      "text/plain": [
       "<Figure size 432x288 with 1 Axes>"
      ]
     },
     "metadata": {
      "needs_background": "light"
     },
     "output_type": "display_data"
    },
    {
     "data": {
      "image/png": "[encoded data removed]",
      "text/plain": [
       "<Figure size 432x288 with 1 Axes>"
      ]
     },
     "metadata": {
      "needs_background": "light"
     },
     "output_type": "display_data"
    },
    {
     "name": "stdout",
     "output_type": "stream",
     "text": [
      "IRLT\n"
     ]
    },
    {
     "data": {
      "image/png": "[encoded data removed]",
      "text/plain": [
       "<Figure size 432x288 with 1 Axes>"
      ]
     },
     "metadata": {
      "needs_background": "light"
     },
     "output_type": "display_data"
    },
    {
     "data": {
      "image/png": "[encoded data removed]",
      "text/plain": [
       "<Figure size 432x288 with 1 Axes>"
      ]
     },
     "metadata": {
      "needs_background": "light"
     },
     "output_type": "display_data"
    },
    {
     "name": "stdout",
     "output_type": "stream",
     "text": [
      "RREP\n"
     ]
    },
    {
     "data": {
      "image/png": "[encoded data removed]",
      "text/plain": [
       "<Figure size 432x288 with 1 Axes>"
      ]
     },
     "metadata": {
      "needs_background": "light"
     },
     "output_type": "display_data"
    },
    {
     "data": {
      "image/png": "[encoded data removed]",
      "text/plain": [
       "<Figure size 432x288 with 1 Axes>"
      ]
     },
     "metadata": {
      "needs_background": "light"
     },
     "output_type": "display_data"
    },
    {
     "name": "stdout",
     "output_type": "stream",
     "text": [
      "UNR\n"
     ]
    },
    {
     "data": {
      "image/png": "[encoded data removed]",
      "text/plain": [
       "<Figure size 432x288 with 1 Axes>"
      ]
     },
     "metadata": {
      "needs_background": "light"
     },
     "output_type": "display_data"
    },
    {
     "data": {
      "image/png": "[encoded data removed]",
      "text/plain": [
       "<Figure size 432x288 with 1 Axes>"
      ]
     },
     "metadata": {
      "needs_background": "light"
     },
     "output_type": "display_data"
    }
   ],
   "source": [
    "for col in macro[['RGDP', 'HICP', 'IRLT', 'RREP', 'UNR']].columns:\n",
    "  print(col)\n",
    "  plot_acf(macro[['RGDP', 'HICP', 'IRLT', 'RREP', 'UNR']][col], lags=8)\n",
    "  plot_pacf(macro[['RGDP', 'HICP', 'IRLT', 'RREP', 'UNR']][col], lags=8)  \n",
    "  plt.show()"
   ]
  },
  {
   "cell_type": "markdown",
   "id": "ufpRmeCF03fZ",
   "metadata": {
    "id": "ufpRmeCF03fZ"
   },
   "source": [
    "**Seul le PIB a l'air presque stationnaire. Mais sinon on détecte des AR(1)**"
   ]
  },
  {
   "cell_type": "code",
   "execution_count": 14,
   "id": "NNd39kqF02db",
   "metadata": {
    "id": "NNd39kqF02db"
   },
   "outputs": [],
   "source": []
  },
  {
   "cell_type": "markdown",
   "id": "-ERWWmGcEV5U",
   "metadata": {
    "id": "-ERWWmGcEV5U"
   },
   "source": [
    "**Tests de stationnarité** *KPSS and Philips Perron*"
   ]
  },
  {
   "cell_type": "code",
   "execution_count": 15,
   "id": "DtUuYheONBPp",
   "metadata": {
    "colab": {
     "base_uri": "https://localhost:8080/",
     "height": 35
    },
    "id": "DtUuYheONBPp",
    "outputId": "5598cf28-385d-4987-d449-51482399e2f0"
   },
   "outputs": [
    {
     "data": {
      "application/vnd.google.colaboratory.intrinsic+json": {
       "type": "string"
      },
      "text/plain": [
       "\"macro_diff = macro[['RGDP', 'HICP', 'RREP', 'IRLT', 'UNR']] - macro_lag1\\nmacro_diff = macro_diff.dropna()\""
      ]
     },
     "execution_count": 15,
     "metadata": {},
     "output_type": "execute_result"
    }
   ],
   "source": [
    "\"\"\"#préparation des données pour le test\n",
    "macro[['RGDP', 'HICP', 'RREP', 'IRLT', 'UNR']]\n",
    "macro_lag1 = macro[['RGDP', 'HICP', 'RREP', 'IRLT', 'UNR']].shift(1)\n",
    "\"\"\""
   ]
  },
  {
   "cell_type": "code",
   "execution_count": 16,
   "id": "TnG6zfPhhmJt",
   "metadata": {
    "colab": {
     "base_uri": "https://localhost:8080/",
     "height": 35
    },
    "id": "TnG6zfPhhmJt",
    "outputId": "ab1b1c9e-cdf5-47ce-b818-5cbb072c4ffa"
   },
   "outputs": [
    {
     "data": {
      "application/vnd.google.colaboratory.intrinsic+json": {
       "type": "string"
      },
      "text/plain": [
       "'td_serie_lag1 = td_serie.shift(1)\\ntd_serie_diff = td_serie - td_serie_lag1\\ntd_serie_diff = td_serie_diff.dropna()'"
      ]
     },
     "execution_count": 16,
     "metadata": {},
     "output_type": "execute_result"
    }
   ],
   "source": [
    "\"\"\"#même chose pour le taux de defaut\n",
    "td_serie = pd.DataFrame(macro['td'].dropna())\n",
    "\"\"\"td_serie_lag1 = td_serie.shift(1)\n",
    "td_serie_diff = td_serie - td_serie_lag1\n",
    "td_serie_diff = td_serie_diff.dropna()\"\"\"\"\"\""
   ]
  },
  {
   "cell_type": "markdown",
   "id": "W4DkQzODbbHb",
   "metadata": {
    "id": "W4DkQzODbbHb"
   },
   "source": [
    "# ***Les tests***"
   ]
  },
  {
   "cell_type": "markdown",
   "id": "-TkboM6P_BcS",
   "metadata": {
    "id": "-TkboM6P_BcS"
   },
   "source": [
    "**Ljung-Box Test**\n",
    "\n",
    "We could use to pvalues : Ljung-Box and Box-Pierce. But Ljung-Box and Box-Pierce statistic differ in their scaling of the autocorrelation function. Ljung-Box test is has better finite-sample properties. Ljung-Box is best in our case"
   ]
  },
  {
   "cell_type": "code",
   "execution_count": 135,
   "id": "Hze3emC_NcCX",
   "metadata": {
    "colab": {
     "base_uri": "https://localhost:8080/",
     "height": 921
    },
    "id": "Hze3emC_NcCX",
    "outputId": "317e5d5f-4551-4ea8-a0b1-c1a6eb9f7870"
   },
   "outputs": [
    {
     "name": "stderr",
     "output_type": "stream",
     "text": [
      "/usr/local/lib/python3.8/dist-packages/statsmodels/tsa/base/tsa_model.py:471: ValueWarning: No frequency information was provided, so inferred frequency Q-OCT will be used.\n",
      "  self._init_dates(dates, freq)\n",
      "/usr/local/lib/python3.8/dist-packages/statsmodels/tsa/base/tsa_model.py:471: ValueWarning: No frequency information was provided, so inferred frequency Q-OCT will be used.\n",
      "  self._init_dates(dates, freq)\n",
      "/usr/local/lib/python3.8/dist-packages/statsmodels/tsa/base/tsa_model.py:471: ValueWarning: No frequency information was provided, so inferred frequency Q-OCT will be used.\n",
      "  self._init_dates(dates, freq)\n",
      "/usr/local/lib/python3.8/dist-packages/statsmodels/tsa/base/tsa_model.py:471: ValueWarning: No frequency information was provided, so inferred frequency Q-OCT will be used.\n",
      "  self._init_dates(dates, freq)\n",
      "/usr/local/lib/python3.8/dist-packages/statsmodels/tsa/base/tsa_model.py:471: ValueWarning: No frequency information was provided, so inferred frequency Q-OCT will be used.\n",
      "  self._init_dates(dates, freq)\n",
      "/usr/local/lib/python3.8/dist-packages/statsmodels/tsa/base/tsa_model.py:471: ValueWarning: No frequency information was provided, so inferred frequency Q-OCT will be used.\n",
      "  self._init_dates(dates, freq)\n",
      "/usr/local/lib/python3.8/dist-packages/statsmodels/tsa/base/tsa_model.py:471: ValueWarning: No frequency information was provided, so inferred frequency Q-OCT will be used.\n",
      "  self._init_dates(dates, freq)\n",
      "/usr/local/lib/python3.8/dist-packages/statsmodels/tsa/base/tsa_model.py:471: ValueWarning: No frequency information was provided, so inferred frequency Q-OCT will be used.\n",
      "  self._init_dates(dates, freq)\n"
     ]
    },
    {
     "name": "stdout",
     "output_type": "stream",
     "text": [
      "    lb_stat  lb_pvalue\n",
      "5  0.261912   0.998299\n",
      "    lb_stat  lb_pvalue\n",
      "5  8.089916   0.151349\n"
     ]
    },
    {
     "name": "stderr",
     "output_type": "stream",
     "text": [
      "/usr/local/lib/python3.8/dist-packages/statsmodels/tsa/base/tsa_model.py:471: ValueWarning: No frequency information was provided, so inferred frequency Q-OCT will be used.\n",
      "  self._init_dates(dates, freq)\n",
      "/usr/local/lib/python3.8/dist-packages/statsmodels/tsa/base/tsa_model.py:471: ValueWarning: No frequency information was provided, so inferred frequency Q-OCT will be used.\n",
      "  self._init_dates(dates, freq)\n",
      "/usr/local/lib/python3.8/dist-packages/statsmodels/tsa/base/tsa_model.py:471: ValueWarning: No frequency information was provided, so inferred frequency Q-OCT will be used.\n",
      "  self._init_dates(dates, freq)\n",
      "/usr/local/lib/python3.8/dist-packages/statsmodels/tsa/base/tsa_model.py:471: ValueWarning: No frequency information was provided, so inferred frequency Q-OCT will be used.\n",
      "  self._init_dates(dates, freq)\n"
     ]
    },
    {
     "name": "stdout",
     "output_type": "stream",
     "text": [
      "    lb_stat  lb_pvalue\n",
      "5  6.974005   0.222581\n",
      "    lb_stat  lb_pvalue\n",
      "5  3.385419   0.640792\n",
      "    lb_stat  lb_pvalue\n",
      "5  4.298017   0.507354\n"
     ]
    },
    {
     "name": "stderr",
     "output_type": "stream",
     "text": [
      "/usr/local/lib/python3.8/dist-packages/statsmodels/tsa/base/tsa_model.py:471: ValueWarning: No frequency information was provided, so inferred frequency Q-OCT will be used.\n",
      "  self._init_dates(dates, freq)\n",
      "/usr/local/lib/python3.8/dist-packages/statsmodels/tsa/base/tsa_model.py:471: ValueWarning: No frequency information was provided, so inferred frequency Q-OCT will be used.\n",
      "  self._init_dates(dates, freq)\n",
      "/usr/local/lib/python3.8/dist-packages/statsmodels/tsa/base/tsa_model.py:471: ValueWarning: No frequency information was provided, so inferred frequency Q-OCT will be used.\n",
      "  self._init_dates(dates, freq)\n"
     ]
    },
    {
     "data": {
      "text/html": [
       "\n",
       "  <div id=\"df-1299417b-e431-4101-b553-560f535d9fc9\">\n",
       "    <div class=\"colab-df-container\">\n",
       "      <div>\n",
       "<style scoped>\n",
       "    .dataframe tbody tr th:only-of-type {\n",
       "        vertical-align: middle;\n",
       "    }\n",
       "\n",
       "    .dataframe tbody tr th {\n",
       "        vertical-align: top;\n",
       "    }\n",
       "\n",
       "    .dataframe thead th {\n",
       "        text-align: right;\n",
       "    }\n",
       "</style>\n",
       "<table border=\"1\" class=\"dataframe\">\n",
       "  <thead>\n",
       "    <tr style=\"text-align: right;\">\n",
       "      <th></th>\n",
       "      <th>Variable</th>\n",
       "      <th>Ljung-Box Statistic</th>\n",
       "      <th>p-value</th>\n",
       "      <th>Result</th>\n",
       "    </tr>\n",
       "  </thead>\n",
       "  <tbody>\n",
       "    <tr>\n",
       "      <th>0</th>\n",
       "      <td>RGDP</td>\n",
       "      <td>0.261912</td>\n",
       "      <td>0.998299</td>\n",
       "      <td>Residuals are NOT independant</td>\n",
       "    </tr>\n",
       "    <tr>\n",
       "      <th>1</th>\n",
       "      <td>HICP</td>\n",
       "      <td>8.089916</td>\n",
       "      <td>0.151349</td>\n",
       "      <td>Residuals are NOT independant</td>\n",
       "    </tr>\n",
       "    <tr>\n",
       "      <th>2</th>\n",
       "      <td>RREP</td>\n",
       "      <td>6.974005</td>\n",
       "      <td>0.222581</td>\n",
       "      <td>Residuals are NOT independant</td>\n",
       "    </tr>\n",
       "    <tr>\n",
       "      <th>3</th>\n",
       "      <td>IRLT</td>\n",
       "      <td>3.385419</td>\n",
       "      <td>0.640792</td>\n",
       "      <td>Residuals are NOT independant</td>\n",
       "    </tr>\n",
       "    <tr>\n",
       "      <th>4</th>\n",
       "      <td>UNR</td>\n",
       "      <td>4.298017</td>\n",
       "      <td>0.507354</td>\n",
       "      <td>Residuals are NOT independant</td>\n",
       "    </tr>\n",
       "  </tbody>\n",
       "</table>\n",
       "</div>\n",
       "      <button class=\"colab-df-convert\" onclick=\"convertToInteractive('df-1299417b-e431-4101-b553-560f535d9fc9')\"\n",
       "              title=\"Convert this dataframe to an interactive table.\"\n",
       "              style=\"display:none;\">\n",
       "        \n",
       "  <svg xmlns=\"http://www.w3.org/2000/svg\" height=\"24px\"viewBox=\"0 0 24 24\"\n",
       "       width=\"24px\">\n",
       "    <path d=\"M0 0h24v24H0V0z\" fill=\"none\"/>\n",
       "    <path d=\"M18.56 5.44l.94 2.06.94-2.06 2.06-.94-2.06-.94-.94-2.06-.94 2.06-2.06.94zm-11 1L8.5 8.5l.94-2.06 2.06-.94-2.06-.94L8.5 2.5l-.94 2.06-2.06.94zm10 10l.94 2.06.94-2.06 2.06-.94-2.06-.94-.94-2.06-.94 2.06-2.06.94z\"/><path d=\"M17.41 7.96l-1.37-1.37c-.4-.4-.92-.59-1.43-.59-.52 0-1.04.2-1.43.59L10.3 9.45l-7.72 7.72c-.78.78-.78 2.05 0 2.83L4 21.41c.39.39.9.59 1.41.59.51 0 1.02-.2 1.41-.59l7.78-7.78 2.81-2.81c.8-.78.8-2.07 0-2.86zM5.41 20L4 18.59l7.72-7.72 1.47 1.35L5.41 20z\"/>\n",
       "  </svg>\n",
       "      </button>\n",
       "      \n",
       "  <style>\n",
       "    .colab-df-container {\n",
       "      display:flex;\n",
       "      flex-wrap:wrap;\n",
       "      gap: 12px;\n",
       "    }\n",
       "\n",
       "    .colab-df-convert {\n",
       "      background-color: #E8F0FE;\n",
       "      border: none;\n",
       "      border-radius: 50%;\n",
       "      cursor: pointer;\n",
       "      display: none;\n",
       "      fill: #1967D2;\n",
       "      height: 32px;\n",
       "      padding: 0 0 0 0;\n",
       "      width: 32px;\n",
       "    }\n",
       "\n",
       "    .colab-df-convert:hover {\n",
       "      background-color: #E2EBFA;\n",
       "      box-shadow: 0px 1px 2px rgba(60, 64, 67, 0.3), 0px 1px 3px 1px rgba(60, 64, 67, 0.15);\n",
       "      fill: #174EA6;\n",
       "    }\n",
       "\n",
       "    [theme=dark] .colab-df-convert {\n",
       "      background-color: #3B4455;\n",
       "      fill: #D2E3FC;\n",
       "    }\n",
       "\n",
       "    [theme=dark] .colab-df-convert:hover {\n",
       "      background-color: #434B5C;\n",
       "      box-shadow: 0px 1px 3px 1px rgba(0, 0, 0, 0.15);\n",
       "      filter: drop-shadow(0px 1px 2px rgba(0, 0, 0, 0.3));\n",
       "      fill: #FFFFFF;\n",
       "    }\n",
       "  </style>\n",
       "\n",
       "      <script>\n",
       "        const buttonEl =\n",
       "          document.querySelector('#df-1299417b-e431-4101-b553-560f535d9fc9 button.colab-df-convert');\n",
       "        buttonEl.style.display =\n",
       "          google.colab.kernel.accessAllowed ? 'block' : 'none';\n",
       "\n",
       "        async function convertToInteractive(key) {\n",
       "          const element = document.querySelector('#df-1299417b-e431-4101-b553-560f535d9fc9');\n",
       "          const dataTable =\n",
       "            await google.colab.kernel.invokeFunction('convertToInteractive',\n",
       "                                                     [key], {});\n",
       "          if (!dataTable) return;\n",
       "\n",
       "          const docLinkHtml = 'Like what you see? Visit the ' +\n",
       "            '<a target=\"_blank\" href=https://colab.research.google.com/notebooks/data_table.ipynb>data table notebook</a>'\n",
       "            + ' to learn more about interactive tables.';\n",
       "          element.innerHTML = '';\n",
       "          dataTable['output_type'] = 'display_data';\n",
       "          await google.colab.output.renderOutput(dataTable, element);\n",
       "          const docLink = document.createElement('div');\n",
       "          docLink.innerHTML = docLinkHtml;\n",
       "          element.appendChild(docLink);\n",
       "        }\n",
       "      </script>\n",
       "    </div>\n",
       "  </div>\n",
       "  "
      ],
      "text/plain": [
       "  Variable  Ljung-Box Statistic   p-value                         Result\n",
       "0     RGDP             0.261912  0.998299  Residuals are NOT independant\n",
       "1     HICP             8.089916  0.151349  Residuals are NOT independant\n",
       "2     RREP             6.974005  0.222581  Residuals are NOT independant\n",
       "3     IRLT             3.385419  0.640792  Residuals are NOT independant\n",
       "4      UNR             4.298017  0.507354  Residuals are NOT independant"
      ]
     },
     "execution_count": 135,
     "metadata": {},
     "output_type": "execute_result"
    }
   ],
   "source": [
    "import statsmodels.api as sm\n",
    "macro_Box = macro[['RGDP', 'HICP', 'RREP', 'IRLT', 'UNR']].dropna()\n",
    "results = pd.DataFrame(columns=['Variable', 'Ljung-Box Statistic', 'p-value','Result'])\n",
    "for col in macro_Box[['RGDP', 'HICP', 'RREP', 'IRLT', 'UNR']]:\n",
    "  i=macro_Box[col]\n",
    "  res = sm.tsa.ARIMA(i, order=(1,0,1)).fit()\n",
    "  print(sm.stats.acorr_ljungbox(res.resid, lags=[5]))\n",
    "  results.loc[len(results)] = [col, sm.stats.acorr_ljungbox(res.resid, lags=[5]).iloc[0, 0], sm.stats.acorr_ljungbox(res.resid, lags=[5]).iloc[0, 1], sm.stats.acorr_ljungbox(res.resid, lags=[5]).iloc[0, 1] < 0.05]\n",
    "  results['Result'] = results['Result'].replace(False, 'Residuals are NOT independant')\n",
    "  results['Result'] = results['Result'].replace(True, 'Residuals are independant')\n",
    "results\n",
    "\n",
    "  #if True then it means the serie has residuals that are correlated"
   ]
  },
  {
   "cell_type": "markdown",
   "id": "mAbqKDz9EbZf",
   "metadata": {
    "id": "mAbqKDz9EbZf"
   },
   "source": [
    "***KPSS*** \n",
    "\n",
    "Taking the null hypothesis as a stationary process and the unit\n",
    "root as an alternative is in accordance with a conservative testing strategy. If we then reject the null hypothesis, we can\n",
    "be pretty confident that the series indeed has a unit root. (Plaff, 2008)"
   ]
  },
  {
   "cell_type": "code",
   "execution_count": 136,
   "id": "y2hkB_JkZaFg",
   "metadata": {
    "id": "y2hkB_JkZaFg"
   },
   "outputs": [],
   "source": [
    "def kpss_test(df, regression, alpha='5%'):\n",
    "    # Initialisation du DataFrame de résultats\n",
    "    results = pd.DataFrame(columns=['Variable', 'Regression', 'KPSS Statistic', 'p-value', 'Lags Used', 'Result'])\n",
    "\n",
    "    # Boucle sur chaque colonne de la DataFrame\n",
    "    for col in df.columns:\n",
    "        # Calcul du test ADF pour la série temporelle\n",
    "        kpss_result = kpss(df[col], regression=regression)\n",
    "        \n",
    "        # Ajout des résultats du test ADF dans le DataFrame de résultats\n",
    "        results.loc[len(results)] = [col, regression, round(kpss_result[0], 3), round(kpss_result[1], 3), kpss_result[2], kpss_result[0] < kpss_result[3][alpha]]\n",
    "    \n",
    "    # Remplacement des valeurs booléennes par des chaînes de caractères lisibles\n",
    "    results['Result'] = results['Result'].replace(False, 'Reject the null hypothesis -> series non stationary)')\n",
    "    results['Result'] = results['Result'].replace(True, 'Do Not Reject the null hypothesis -> stationary')\n",
    "\n",
    "    return results\n"
   ]
  },
  {
   "cell_type": "code",
   "execution_count": 137,
   "id": "ISPcYh-Qf2jJ",
   "metadata": {
    "colab": {
     "base_uri": "https://localhost:8080/",
     "height": 730
    },
    "id": "ISPcYh-Qf2jJ",
    "outputId": "c89d8052-e170-475a-fe67-b7ca34eb9a77"
   },
   "outputs": [
    {
     "name": "stderr",
     "output_type": "stream",
     "text": [
      "/usr/local/lib/python3.8/dist-packages/statsmodels/tsa/stattools.py:2022: InterpolationWarning: The test statistic is outside of the range of p-values available in the\n",
      "look-up table. The actual p-value is greater than the p-value returned.\n",
      "\n",
      "  warnings.warn(\n",
      "/usr/local/lib/python3.8/dist-packages/statsmodels/tsa/stattools.py:2022: InterpolationWarning: The test statistic is outside of the range of p-values available in the\n",
      "look-up table. The actual p-value is greater than the p-value returned.\n",
      "\n",
      "  warnings.warn(\n",
      "/usr/local/lib/python3.8/dist-packages/statsmodels/tsa/stattools.py:2022: InterpolationWarning: The test statistic is outside of the range of p-values available in the\n",
      "look-up table. The actual p-value is greater than the p-value returned.\n",
      "\n",
      "  warnings.warn(\n",
      "/usr/local/lib/python3.8/dist-packages/statsmodels/tsa/stattools.py:2022: InterpolationWarning: The test statistic is outside of the range of p-values available in the\n",
      "look-up table. The actual p-value is greater than the p-value returned.\n",
      "\n",
      "  warnings.warn(\n",
      "/usr/local/lib/python3.8/dist-packages/statsmodels/tsa/stattools.py:2022: InterpolationWarning: The test statistic is outside of the range of p-values available in the\n",
      "look-up table. The actual p-value is greater than the p-value returned.\n",
      "\n",
      "  warnings.warn(\n"
     ]
    },
    {
     "data": {
      "text/html": [
       "\n",
       "  <div id=\"df-5271bd28-cf78-4ce1-8fcf-65d75e656dea\">\n",
       "    <div class=\"colab-df-container\">\n",
       "      <div>\n",
       "<style scoped>\n",
       "    .dataframe tbody tr th:only-of-type {\n",
       "        vertical-align: middle;\n",
       "    }\n",
       "\n",
       "    .dataframe tbody tr th {\n",
       "        vertical-align: top;\n",
       "    }\n",
       "\n",
       "    .dataframe thead th {\n",
       "        text-align: right;\n",
       "    }\n",
       "</style>\n",
       "<table border=\"1\" class=\"dataframe\">\n",
       "  <thead>\n",
       "    <tr style=\"text-align: right;\">\n",
       "      <th></th>\n",
       "      <th>Variable</th>\n",
       "      <th>Regression</th>\n",
       "      <th>KPSS Statistic</th>\n",
       "      <th>p-value</th>\n",
       "      <th>Lags Used</th>\n",
       "      <th>Result</th>\n",
       "    </tr>\n",
       "  </thead>\n",
       "  <tbody>\n",
       "    <tr>\n",
       "      <th>0</th>\n",
       "      <td>RGDP</td>\n",
       "      <td>c</td>\n",
       "      <td>0.157</td>\n",
       "      <td>0.100</td>\n",
       "      <td>2</td>\n",
       "      <td>Do Not Reject the null hypothesis -&gt; stationary</td>\n",
       "    </tr>\n",
       "    <tr>\n",
       "      <th>1</th>\n",
       "      <td>HICP</td>\n",
       "      <td>c</td>\n",
       "      <td>0.372</td>\n",
       "      <td>0.089</td>\n",
       "      <td>3</td>\n",
       "      <td>Do Not Reject the null hypothesis -&gt; stationary</td>\n",
       "    </tr>\n",
       "    <tr>\n",
       "      <th>2</th>\n",
       "      <td>RREP</td>\n",
       "      <td>c</td>\n",
       "      <td>0.236</td>\n",
       "      <td>0.100</td>\n",
       "      <td>3</td>\n",
       "      <td>Do Not Reject the null hypothesis -&gt; stationary</td>\n",
       "    </tr>\n",
       "    <tr>\n",
       "      <th>3</th>\n",
       "      <td>IRLT</td>\n",
       "      <td>c</td>\n",
       "      <td>0.068</td>\n",
       "      <td>0.100</td>\n",
       "      <td>1</td>\n",
       "      <td>Do Not Reject the null hypothesis -&gt; stationary</td>\n",
       "    </tr>\n",
       "    <tr>\n",
       "      <th>4</th>\n",
       "      <td>UNR</td>\n",
       "      <td>c</td>\n",
       "      <td>0.539</td>\n",
       "      <td>0.033</td>\n",
       "      <td>3</td>\n",
       "      <td>Reject the null hypothesis -&gt; series non stati...</td>\n",
       "    </tr>\n",
       "    <tr>\n",
       "      <th>5</th>\n",
       "      <td>RGDP</td>\n",
       "      <td>ct</td>\n",
       "      <td>0.156</td>\n",
       "      <td>0.042</td>\n",
       "      <td>2</td>\n",
       "      <td>Reject the null hypothesis -&gt; series non stati...</td>\n",
       "    </tr>\n",
       "    <tr>\n",
       "      <th>6</th>\n",
       "      <td>HICP</td>\n",
       "      <td>ct</td>\n",
       "      <td>0.126</td>\n",
       "      <td>0.087</td>\n",
       "      <td>3</td>\n",
       "      <td>Do Not Reject the null hypothesis -&gt; stationary</td>\n",
       "    </tr>\n",
       "    <tr>\n",
       "      <th>7</th>\n",
       "      <td>RREP</td>\n",
       "      <td>ct</td>\n",
       "      <td>0.171</td>\n",
       "      <td>0.030</td>\n",
       "      <td>3</td>\n",
       "      <td>Reject the null hypothesis -&gt; series non stati...</td>\n",
       "    </tr>\n",
       "    <tr>\n",
       "      <th>8</th>\n",
       "      <td>IRLT</td>\n",
       "      <td>ct</td>\n",
       "      <td>0.070</td>\n",
       "      <td>0.100</td>\n",
       "      <td>1</td>\n",
       "      <td>Do Not Reject the null hypothesis -&gt; stationary</td>\n",
       "    </tr>\n",
       "    <tr>\n",
       "      <th>9</th>\n",
       "      <td>UNR</td>\n",
       "      <td>ct</td>\n",
       "      <td>0.074</td>\n",
       "      <td>0.100</td>\n",
       "      <td>2</td>\n",
       "      <td>Do Not Reject the null hypothesis -&gt; stationary</td>\n",
       "    </tr>\n",
       "  </tbody>\n",
       "</table>\n",
       "</div>\n",
       "      <button class=\"colab-df-convert\" onclick=\"convertToInteractive('df-5271bd28-cf78-4ce1-8fcf-65d75e656dea')\"\n",
       "              title=\"Convert this dataframe to an interactive table.\"\n",
       "              style=\"display:none;\">\n",
       "        \n",
       "  <svg xmlns=\"http://www.w3.org/2000/svg\" height=\"24px\"viewBox=\"0 0 24 24\"\n",
       "       width=\"24px\">\n",
       "    <path d=\"M0 0h24v24H0V0z\" fill=\"none\"/>\n",
       "    <path d=\"M18.56 5.44l.94 2.06.94-2.06 2.06-.94-2.06-.94-.94-2.06-.94 2.06-2.06.94zm-11 1L8.5 8.5l.94-2.06 2.06-.94-2.06-.94L8.5 2.5l-.94 2.06-2.06.94zm10 10l.94 2.06.94-2.06 2.06-.94-2.06-.94-.94-2.06-.94 2.06-2.06.94z\"/><path d=\"M17.41 7.96l-1.37-1.37c-.4-.4-.92-.59-1.43-.59-.52 0-1.04.2-1.43.59L10.3 9.45l-7.72 7.72c-.78.78-.78 2.05 0 2.83L4 21.41c.39.39.9.59 1.41.59.51 0 1.02-.2 1.41-.59l7.78-7.78 2.81-2.81c.8-.78.8-2.07 0-2.86zM5.41 20L4 18.59l7.72-7.72 1.47 1.35L5.41 20z\"/>\n",
       "  </svg>\n",
       "      </button>\n",
       "      \n",
       "  <style>\n",
       "    .colab-df-container {\n",
       "      display:flex;\n",
       "      flex-wrap:wrap;\n",
       "      gap: 12px;\n",
       "    }\n",
       "\n",
       "    .colab-df-convert {\n",
       "      background-color: #E8F0FE;\n",
       "      border: none;\n",
       "      border-radius: 50%;\n",
       "      cursor: pointer;\n",
       "      display: none;\n",
       "      fill: #1967D2;\n",
       "      height: 32px;\n",
       "      padding: 0 0 0 0;\n",
       "      width: 32px;\n",
       "    }\n",
       "\n",
       "    .colab-df-convert:hover {\n",
       "      background-color: #E2EBFA;\n",
       "      box-shadow: 0px 1px 2px rgba(60, 64, 67, 0.3), 0px 1px 3px 1px rgba(60, 64, 67, 0.15);\n",
       "      fill: #174EA6;\n",
       "    }\n",
       "\n",
       "    [theme=dark] .colab-df-convert {\n",
       "      background-color: #3B4455;\n",
       "      fill: #D2E3FC;\n",
       "    }\n",
       "\n",
       "    [theme=dark] .colab-df-convert:hover {\n",
       "      background-color: #434B5C;\n",
       "      box-shadow: 0px 1px 3px 1px rgba(0, 0, 0, 0.15);\n",
       "      filter: drop-shadow(0px 1px 2px rgba(0, 0, 0, 0.3));\n",
       "      fill: #FFFFFF;\n",
       "    }\n",
       "  </style>\n",
       "\n",
       "      <script>\n",
       "        const buttonEl =\n",
       "          document.querySelector('#df-5271bd28-cf78-4ce1-8fcf-65d75e656dea button.colab-df-convert');\n",
       "        buttonEl.style.display =\n",
       "          google.colab.kernel.accessAllowed ? 'block' : 'none';\n",
       "\n",
       "        async function convertToInteractive(key) {\n",
       "          const element = document.querySelector('#df-5271bd28-cf78-4ce1-8fcf-65d75e656dea');\n",
       "          const dataTable =\n",
       "            await google.colab.kernel.invokeFunction('convertToInteractive',\n",
       "                                                     [key], {});\n",
       "          if (!dataTable) return;\n",
       "\n",
       "          const docLinkHtml = 'Like what you see? Visit the ' +\n",
       "            '<a target=\"_blank\" href=https://colab.research.google.com/notebooks/data_table.ipynb>data table notebook</a>'\n",
       "            + ' to learn more about interactive tables.';\n",
       "          element.innerHTML = '';\n",
       "          dataTable['output_type'] = 'display_data';\n",
       "          await google.colab.output.renderOutput(dataTable, element);\n",
       "          const docLink = document.createElement('div');\n",
       "          docLink.innerHTML = docLinkHtml;\n",
       "          element.appendChild(docLink);\n",
       "        }\n",
       "      </script>\n",
       "    </div>\n",
       "  </div>\n",
       "  "
      ],
      "text/plain": [
       "  Variable Regression  KPSS Statistic  p-value Lags Used  \\\n",
       "0     RGDP          c           0.157    0.100         2   \n",
       "1     HICP          c           0.372    0.089         3   \n",
       "2     RREP          c           0.236    0.100         3   \n",
       "3     IRLT          c           0.068    0.100         1   \n",
       "4      UNR          c           0.539    0.033         3   \n",
       "5     RGDP         ct           0.156    0.042         2   \n",
       "6     HICP         ct           0.126    0.087         3   \n",
       "7     RREP         ct           0.171    0.030         3   \n",
       "8     IRLT         ct           0.070    0.100         1   \n",
       "9      UNR         ct           0.074    0.100         2   \n",
       "\n",
       "                                              Result  \n",
       "0    Do Not Reject the null hypothesis -> stationary  \n",
       "1    Do Not Reject the null hypothesis -> stationary  \n",
       "2    Do Not Reject the null hypothesis -> stationary  \n",
       "3    Do Not Reject the null hypothesis -> stationary  \n",
       "4  Reject the null hypothesis -> series non stati...  \n",
       "5  Reject the null hypothesis -> series non stati...  \n",
       "6    Do Not Reject the null hypothesis -> stationary  \n",
       "7  Reject the null hypothesis -> series non stati...  \n",
       "8    Do Not Reject the null hypothesis -> stationary  \n",
       "9    Do Not Reject the null hypothesis -> stationary  "
      ]
     },
     "execution_count": 137,
     "metadata": {},
     "output_type": "execute_result"
    }
   ],
   "source": [
    "results_c = kpss_test(macro[['RGDP', 'HICP', 'RREP', 'IRLT', 'UNR']].dropna(), regression='c')\n",
    "results_ct = kpss_test(macro[['RGDP', 'HICP', 'RREP', 'IRLT', 'UNR']].dropna(), regression='ct')\n",
    "\n",
    "results = pd.concat([results_c, results_ct], ignore_index=True)\n",
    "results"
   ]
  },
  {
   "cell_type": "markdown",
   "id": "IyneJKLmSIem",
   "metadata": {
    "id": "IyneJKLmSIem"
   },
   "source": [
    "Interpretation KPSS\n",
    "\n",
    "les séries qui pourraient être stationnaires : \n",
    "avec une constante : \n",
    "\n",
    "-toutes les séries-\n",
    "\n",
    "\n",
    "les séries qui pourraient être stationnaires : \n",
    "avec un trend : \n",
    "\n",
    "-aucune- "
   ]
  },
  {
   "cell_type": "markdown",
   "id": "V7wuqM2BEhM1",
   "metadata": {
    "id": "V7wuqM2BEhM1"
   },
   "source": [
    "***PP***\n",
    " \n",
    "rappel : H0: The time series has a unit root (is non-stationary)\n",
    "\n"
   ]
  },
  {
   "cell_type": "code",
   "execution_count": 138,
   "id": "8v90wu0yc-fe",
   "metadata": {
    "id": "8v90wu0yc-fe"
   },
   "outputs": [],
   "source": [
    "def PhillipsPerron_test(df,regression, alpha='5%'):\n",
    "    # Initialisation du DataFrame de résultats\n",
    "    results = pd.DataFrame(columns=['Variable', 'Regression', 'Phillips Perron Statistic', 'p-value', 'Lags Used', 'Résultat'])\n",
    "\n",
    "    # Boucle sur chaque colonne de la DataFrame\n",
    "    for col in df.columns:\n",
    "        # Calcul du test ADF pour la série temporelle\n",
    "        pp_result = PhillipsPerron(df[col], trend=regression)\n",
    "        # Ajout des résultats du test ADF dans le DataFrame de résultats\n",
    "        results.loc[col] = [col, regression, round(pp_result.stat, 3), round(pp_result.pvalue, 3) , pp_result.lags, pp_result.pvalue < 0.05]\n",
    "    \n",
    "    # Remplacement des valeurs booléennes par des chaînes de caractères lisibles\n",
    "    results['Résultat'] = results['Résultat'].replace(False, 'Not Stationary')\n",
    "    results['Résultat'] = results['Résultat'].replace(True, 'Stationary')\n",
    "\n",
    "    return results\n"
   ]
  },
  {
   "cell_type": "code",
   "execution_count": 139,
   "id": "GS5TKRt7c-h2",
   "metadata": {
    "colab": {
     "base_uri": "https://localhost:8080/",
     "height": 520
    },
    "id": "GS5TKRt7c-h2",
    "outputId": "0a15a1cc-bdff-450d-c875-a6ed82945a14"
   },
   "outputs": [
    {
     "data": {
      "text/html": [
       "\n",
       "  <div id=\"df-109d9097-3556-4403-8494-70fddf921ceb\">\n",
       "    <div class=\"colab-df-container\">\n",
       "      <div>\n",
       "<style scoped>\n",
       "    .dataframe tbody tr th:only-of-type {\n",
       "        vertical-align: middle;\n",
       "    }\n",
       "\n",
       "    .dataframe tbody tr th {\n",
       "        vertical-align: top;\n",
       "    }\n",
       "\n",
       "    .dataframe thead th {\n",
       "        text-align: right;\n",
       "    }\n",
       "</style>\n",
       "<table border=\"1\" class=\"dataframe\">\n",
       "  <thead>\n",
       "    <tr style=\"text-align: right;\">\n",
       "      <th></th>\n",
       "      <th>Variable</th>\n",
       "      <th>Regression</th>\n",
       "      <th>Phillips Perron Statistic</th>\n",
       "      <th>p-value</th>\n",
       "      <th>Lags Used</th>\n",
       "      <th>Résultat</th>\n",
       "    </tr>\n",
       "  </thead>\n",
       "  <tbody>\n",
       "    <tr>\n",
       "      <th>0</th>\n",
       "      <td>RGDP</td>\n",
       "      <td>n</td>\n",
       "      <td>-0.862</td>\n",
       "      <td>0.344</td>\n",
       "      <td>10</td>\n",
       "      <td>Not Stationary</td>\n",
       "    </tr>\n",
       "    <tr>\n",
       "      <th>1</th>\n",
       "      <td>HICP</td>\n",
       "      <td>n</td>\n",
       "      <td>-5.771</td>\n",
       "      <td>0.000</td>\n",
       "      <td>10</td>\n",
       "      <td>Stationary</td>\n",
       "    </tr>\n",
       "    <tr>\n",
       "      <th>2</th>\n",
       "      <td>RREP</td>\n",
       "      <td>n</td>\n",
       "      <td>-4.489</td>\n",
       "      <td>0.000</td>\n",
       "      <td>10</td>\n",
       "      <td>Stationary</td>\n",
       "    </tr>\n",
       "    <tr>\n",
       "      <th>3</th>\n",
       "      <td>IRLT</td>\n",
       "      <td>n</td>\n",
       "      <td>-5.112</td>\n",
       "      <td>0.000</td>\n",
       "      <td>10</td>\n",
       "      <td>Stationary</td>\n",
       "    </tr>\n",
       "    <tr>\n",
       "      <th>4</th>\n",
       "      <td>UNR</td>\n",
       "      <td>n</td>\n",
       "      <td>-4.272</td>\n",
       "      <td>0.000</td>\n",
       "      <td>10</td>\n",
       "      <td>Stationary</td>\n",
       "    </tr>\n",
       "    <tr>\n",
       "      <th>5</th>\n",
       "      <td>RGDP</td>\n",
       "      <td>c</td>\n",
       "      <td>-0.651</td>\n",
       "      <td>0.859</td>\n",
       "      <td>10</td>\n",
       "      <td>Not Stationary</td>\n",
       "    </tr>\n",
       "    <tr>\n",
       "      <th>6</th>\n",
       "      <td>HICP</td>\n",
       "      <td>c</td>\n",
       "      <td>-6.740</td>\n",
       "      <td>0.000</td>\n",
       "      <td>10</td>\n",
       "      <td>Stationary</td>\n",
       "    </tr>\n",
       "    <tr>\n",
       "      <th>7</th>\n",
       "      <td>RREP</td>\n",
       "      <td>c</td>\n",
       "      <td>-4.606</td>\n",
       "      <td>0.000</td>\n",
       "      <td>10</td>\n",
       "      <td>Stationary</td>\n",
       "    </tr>\n",
       "    <tr>\n",
       "      <th>8</th>\n",
       "      <td>IRLT</td>\n",
       "      <td>c</td>\n",
       "      <td>-5.024</td>\n",
       "      <td>0.000</td>\n",
       "      <td>10</td>\n",
       "      <td>Stationary</td>\n",
       "    </tr>\n",
       "    <tr>\n",
       "      <th>9</th>\n",
       "      <td>UNR</td>\n",
       "      <td>c</td>\n",
       "      <td>-4.220</td>\n",
       "      <td>0.001</td>\n",
       "      <td>10</td>\n",
       "      <td>Stationary</td>\n",
       "    </tr>\n",
       "    <tr>\n",
       "      <th>10</th>\n",
       "      <td>RGDP</td>\n",
       "      <td>ct</td>\n",
       "      <td>0.446</td>\n",
       "      <td>0.997</td>\n",
       "      <td>10</td>\n",
       "      <td>Not Stationary</td>\n",
       "    </tr>\n",
       "    <tr>\n",
       "      <th>11</th>\n",
       "      <td>HICP</td>\n",
       "      <td>ct</td>\n",
       "      <td>-7.123</td>\n",
       "      <td>0.000</td>\n",
       "      <td>10</td>\n",
       "      <td>Stationary</td>\n",
       "    </tr>\n",
       "    <tr>\n",
       "      <th>12</th>\n",
       "      <td>RREP</td>\n",
       "      <td>ct</td>\n",
       "      <td>-4.402</td>\n",
       "      <td>0.002</td>\n",
       "      <td>10</td>\n",
       "      <td>Stationary</td>\n",
       "    </tr>\n",
       "    <tr>\n",
       "      <th>13</th>\n",
       "      <td>IRLT</td>\n",
       "      <td>ct</td>\n",
       "      <td>-4.920</td>\n",
       "      <td>0.000</td>\n",
       "      <td>10</td>\n",
       "      <td>Stationary</td>\n",
       "    </tr>\n",
       "    <tr>\n",
       "      <th>14</th>\n",
       "      <td>UNR</td>\n",
       "      <td>ct</td>\n",
       "      <td>-4.432</td>\n",
       "      <td>0.002</td>\n",
       "      <td>10</td>\n",
       "      <td>Stationary</td>\n",
       "    </tr>\n",
       "  </tbody>\n",
       "</table>\n",
       "</div>\n",
       "      <button class=\"colab-df-convert\" onclick=\"convertToInteractive('df-109d9097-3556-4403-8494-70fddf921ceb')\"\n",
       "              title=\"Convert this dataframe to an interactive table.\"\n",
       "              style=\"display:none;\">\n",
       "        \n",
       "  <svg xmlns=\"http://www.w3.org/2000/svg\" height=\"24px\"viewBox=\"0 0 24 24\"\n",
       "       width=\"24px\">\n",
       "    <path d=\"M0 0h24v24H0V0z\" fill=\"none\"/>\n",
       "    <path d=\"M18.56 5.44l.94 2.06.94-2.06 2.06-.94-2.06-.94-.94-2.06-.94 2.06-2.06.94zm-11 1L8.5 8.5l.94-2.06 2.06-.94-2.06-.94L8.5 2.5l-.94 2.06-2.06.94zm10 10l.94 2.06.94-2.06 2.06-.94-2.06-.94-.94-2.06-.94 2.06-2.06.94z\"/><path d=\"M17.41 7.96l-1.37-1.37c-.4-.4-.92-.59-1.43-.59-.52 0-1.04.2-1.43.59L10.3 9.45l-7.72 7.72c-.78.78-.78 2.05 0 2.83L4 21.41c.39.39.9.59 1.41.59.51 0 1.02-.2 1.41-.59l7.78-7.78 2.81-2.81c.8-.78.8-2.07 0-2.86zM5.41 20L4 18.59l7.72-7.72 1.47 1.35L5.41 20z\"/>\n",
       "  </svg>\n",
       "      </button>\n",
       "      \n",
       "  <style>\n",
       "    .colab-df-container {\n",
       "      display:flex;\n",
       "      flex-wrap:wrap;\n",
       "      gap: 12px;\n",
       "    }\n",
       "\n",
       "    .colab-df-convert {\n",
       "      background-color: #E8F0FE;\n",
       "      border: none;\n",
       "      border-radius: 50%;\n",
       "      cursor: pointer;\n",
       "      display: none;\n",
       "      fill: #1967D2;\n",
       "      height: 32px;\n",
       "      padding: 0 0 0 0;\n",
       "      width: 32px;\n",
       "    }\n",
       "\n",
       "    .colab-df-convert:hover {\n",
       "      background-color: #E2EBFA;\n",
       "      box-shadow: 0px 1px 2px rgba(60, 64, 67, 0.3), 0px 1px 3px 1px rgba(60, 64, 67, 0.15);\n",
       "      fill: #174EA6;\n",
       "    }\n",
       "\n",
       "    [theme=dark] .colab-df-convert {\n",
       "      background-color: #3B4455;\n",
       "      fill: #D2E3FC;\n",
       "    }\n",
       "\n",
       "    [theme=dark] .colab-df-convert:hover {\n",
       "      background-color: #434B5C;\n",
       "      box-shadow: 0px 1px 3px 1px rgba(0, 0, 0, 0.15);\n",
       "      filter: drop-shadow(0px 1px 2px rgba(0, 0, 0, 0.3));\n",
       "      fill: #FFFFFF;\n",
       "    }\n",
       "  </style>\n",
       "\n",
       "      <script>\n",
       "        const buttonEl =\n",
       "          document.querySelector('#df-109d9097-3556-4403-8494-70fddf921ceb button.colab-df-convert');\n",
       "        buttonEl.style.display =\n",
       "          google.colab.kernel.accessAllowed ? 'block' : 'none';\n",
       "\n",
       "        async function convertToInteractive(key) {\n",
       "          const element = document.querySelector('#df-109d9097-3556-4403-8494-70fddf921ceb');\n",
       "          const dataTable =\n",
       "            await google.colab.kernel.invokeFunction('convertToInteractive',\n",
       "                                                     [key], {});\n",
       "          if (!dataTable) return;\n",
       "\n",
       "          const docLinkHtml = 'Like what you see? Visit the ' +\n",
       "            '<a target=\"_blank\" href=https://colab.research.google.com/notebooks/data_table.ipynb>data table notebook</a>'\n",
       "            + ' to learn more about interactive tables.';\n",
       "          element.innerHTML = '';\n",
       "          dataTable['output_type'] = 'display_data';\n",
       "          await google.colab.output.renderOutput(dataTable, element);\n",
       "          const docLink = document.createElement('div');\n",
       "          docLink.innerHTML = docLinkHtml;\n",
       "          element.appendChild(docLink);\n",
       "        }\n",
       "      </script>\n",
       "    </div>\n",
       "  </div>\n",
       "  "
      ],
      "text/plain": [
       "   Variable Regression  Phillips Perron Statistic  p-value Lags Used  \\\n",
       "0      RGDP          n                     -0.862    0.344        10   \n",
       "1      HICP          n                     -5.771    0.000        10   \n",
       "2      RREP          n                     -4.489    0.000        10   \n",
       "3      IRLT          n                     -5.112    0.000        10   \n",
       "4       UNR          n                     -4.272    0.000        10   \n",
       "5      RGDP          c                     -0.651    0.859        10   \n",
       "6      HICP          c                     -6.740    0.000        10   \n",
       "7      RREP          c                     -4.606    0.000        10   \n",
       "8      IRLT          c                     -5.024    0.000        10   \n",
       "9       UNR          c                     -4.220    0.001        10   \n",
       "10     RGDP         ct                      0.446    0.997        10   \n",
       "11     HICP         ct                     -7.123    0.000        10   \n",
       "12     RREP         ct                     -4.402    0.002        10   \n",
       "13     IRLT         ct                     -4.920    0.000        10   \n",
       "14      UNR         ct                     -4.432    0.002        10   \n",
       "\n",
       "          Résultat  \n",
       "0   Not Stationary  \n",
       "1       Stationary  \n",
       "2       Stationary  \n",
       "3       Stationary  \n",
       "4       Stationary  \n",
       "5   Not Stationary  \n",
       "6       Stationary  \n",
       "7       Stationary  \n",
       "8       Stationary  \n",
       "9       Stationary  \n",
       "10  Not Stationary  \n",
       "11      Stationary  \n",
       "12      Stationary  \n",
       "13      Stationary  \n",
       "14      Stationary  "
      ]
     },
     "execution_count": 139,
     "metadata": {},
     "output_type": "execute_result"
    }
   ],
   "source": [
    "results_n = PhillipsPerron_test(macro[['RGDP', 'HICP', 'RREP', 'IRLT', 'UNR']].dropna(), regression='n')\n",
    "results_c = PhillipsPerron_test(macro[['RGDP', 'HICP', 'RREP', 'IRLT', 'UNR']].dropna(), regression='c')\n",
    "results_ct = PhillipsPerron_test(macro[['RGDP', 'HICP', 'RREP', 'IRLT', 'UNR']].dropna(), regression='ct')\n",
    "\n",
    "results = pd.concat([results_n, results_c, results_ct], ignore_index=True)\n",
    "results"
   ]
  },
  {
   "cell_type": "markdown",
   "id": "dacwm2m2VrPa",
   "metadata": {
    "id": "dacwm2m2VrPa"
   },
   "source": [
    "Interpretation Philips Perron\n",
    "\n",
    "les séries qui pourraient être stationnaires\n",
    "sans aucun trend: \n",
    "*   UNR\n",
    "\n",
    "les séries qui pourraient être stationnaires \n",
    "avec une constante : \n",
    "\n",
    "-aucune-\n",
    "\n",
    "\n",
    "les séries qui pourraient être stationnaires\n",
    "avec un trend : \n",
    "*   HIPC"
   ]
  },
  {
   "cell_type": "markdown",
   "id": "1YbVazPLLqgo",
   "metadata": {
    "id": "1YbVazPLLqgo"
   },
   "source": [
    "**Les deux tests montrent que les séries sont toutes très rarement non-stationnaires. En plus les PAC/PACF montraient de la non stationnarité aussi. On pense donc qu'il est nécessaire de toutes les différencier. On va tester les séries intégrées d'ordre 1.**"
   ]
  },
  {
   "cell_type": "markdown",
   "id": "Sj3p527MW-Mu",
   "metadata": {
    "id": "Sj3p527MW-Mu"
   },
   "source": [
    "# ***Stationnarité du taux de défaut***"
   ]
  },
  {
   "cell_type": "markdown",
   "id": "GPYIIavJ6Uxf",
   "metadata": {
    "id": "GPYIIavJ6Uxf"
   },
   "source": [
    "*Ljung-Box test*\n",
    "\n",
    "H0: The residuals are independently distributed.\n",
    "\n",
    "HA: The residuals are not independently distributed; they exhibit serial correlation.\n",
    "\n",
    "Ideally, we would like to fail to reject the null hypothesis. That is, we would like to see the p-value of the test be greater than 0.05 because this means the residuals for our time series model are independent\n"
   ]
  },
  {
   "cell_type": "code",
   "execution_count": null,
   "id": "gyzKK69-7sOf",
   "metadata": {
    "colab": {
     "base_uri": "https://localhost:8080/",
     "height": 183
    },
    "id": "gyzKK69-7sOf",
    "outputId": "40eb75fd-1465-4033-d751-8de70260cb98"
   },
   "outputs": [
    {
     "ename": "AttributeError",
     "evalue": "ignored",
     "output_type": "error",
     "traceback": [
      "\u001b[0;31m---------------------------------------------------------------------------\u001b[0m",
      "\u001b[0;31mAttributeError\u001b[0m                            Traceback (most recent call last)",
      "\u001b[0;32m<ipython-input-88-d6708ee47434>\u001b[0m in \u001b[0;36m<module>\u001b[0;34m\u001b[0m\n\u001b[0;32m----> 1\u001b[0;31m \u001b[0mres\u001b[0m \u001b[0;34m=\u001b[0m \u001b[0msm\u001b[0m\u001b[0;34m.\u001b[0m\u001b[0mtsa\u001b[0m\u001b[0;34m.\u001b[0m\u001b[0mARMA\u001b[0m\u001b[0;34m(\u001b[0m\u001b[0mtd_serie\u001b[0m\u001b[0;34m[\u001b[0m\u001b[0;34m'td'\u001b[0m\u001b[0;34m]\u001b[0m\u001b[0;34m.\u001b[0m\u001b[0mdropna\u001b[0m\u001b[0;34m(\u001b[0m\u001b[0;34m)\u001b[0m\u001b[0;34m,\u001b[0m \u001b[0;34m(\u001b[0m\u001b[0;36m1\u001b[0m\u001b[0;34m,\u001b[0m\u001b[0;36m0\u001b[0m\u001b[0;34m)\u001b[0m\u001b[0;34m)\u001b[0m\u001b[0;34m.\u001b[0m\u001b[0mfit\u001b[0m\u001b[0;34m(\u001b[0m\u001b[0mdisp\u001b[0m\u001b[0;34m=\u001b[0m\u001b[0;34m-\u001b[0m\u001b[0;36m1\u001b[0m\u001b[0;34m)\u001b[0m\u001b[0;34m\u001b[0m\u001b[0;34m\u001b[0m\u001b[0m\n\u001b[0m\u001b[1;32m      2\u001b[0m \u001b[0msm\u001b[0m\u001b[0;34m.\u001b[0m\u001b[0mstats\u001b[0m\u001b[0;34m.\u001b[0m\u001b[0macorr_ljungbox\u001b[0m\u001b[0;34m(\u001b[0m\u001b[0mres\u001b[0m\u001b[0;34m.\u001b[0m\u001b[0mresid\u001b[0m\u001b[0;34m,\u001b[0m \u001b[0mlags\u001b[0m\u001b[0;34m=\u001b[0m\u001b[0;34m[\u001b[0m\u001b[0;36m5\u001b[0m\u001b[0;34m]\u001b[0m\u001b[0;34m,\u001b[0m \u001b[0mreturn_df\u001b[0m\u001b[0;34m=\u001b[0m\u001b[0;32mTrue\u001b[0m\u001b[0;34m)\u001b[0m\u001b[0;34m\u001b[0m\u001b[0;34m\u001b[0m\u001b[0m\n",
      "\u001b[0;31mAttributeError\u001b[0m: module 'statsmodels.tsa.api' has no attribute 'ARMA'"
     ]
    }
   ],
   "source": [
    "res = sm.tsa.ARMA(td_serie['td'].dropna(), (1,0)).fit(disp=-1)\n",
    "sm.stats.acorr_ljungbox(res.resid, lags=[5], return_df=True)"
   ]
  },
  {
   "cell_type": "markdown",
   "id": "6Fgpl6Uk99Xf",
   "metadata": {
    "id": "6Fgpl6Uk99Xf"
   },
   "source": [
    "Pvalue supérieure à 5% donc on rejette H0 => les résidus ne sont pas corrélés sur la série brute."
   ]
  },
  {
   "cell_type": "markdown",
   "id": "oelkDxwX6ZND",
   "metadata": {
    "id": "oelkDxwX6ZND"
   },
   "source": [
    "*KPSS and Philips Perron Tests*"
   ]
  },
  {
   "cell_type": "code",
   "execution_count": null,
   "id": "06pmPOSXLB3_",
   "metadata": {
    "colab": {
     "base_uri": "https://localhost:8080/",
     "height": 545
    },
    "id": "06pmPOSXLB3_",
    "outputId": "7d51a5fe-e90f-4fbc-e8ca-93c1285b29c8"
   },
   "outputs": [
    {
     "data": {
      "image/png": "[encoded data removed]",
      "text/plain": [
       "<Figure size 432x288 with 1 Axes>"
      ]
     },
     "metadata": {
      "needs_background": "light"
     },
     "output_type": "display_data"
    },
    {
     "data": {
      "image/png": "[encoded data removed]",
      "text/plain": [
       "<Figure size 432x288 with 1 Axes>"
      ]
     },
     "metadata": {
      "needs_background": "light"
     },
     "output_type": "display_data"
    }
   ],
   "source": [
    "plot_acf(td_serie, lags=6)\n",
    "plot_pacf(td_serie, lags=6)  \n",
    "plt.show()"
   ]
  },
  {
   "cell_type": "code",
   "execution_count": null,
   "id": "LDfIBtnrLgnJ",
   "metadata": {
    "colab": {
     "base_uri": "https://localhost:8080/",
     "height": 236
    },
    "id": "LDfIBtnrLgnJ",
    "outputId": "7ef9b3a0-dc5e-4b3f-dceb-759a2596c9c5"
   },
   "outputs": [
    {
     "name": "stderr",
     "output_type": "stream",
     "text": [
      "/usr/local/lib/python3.8/dist-packages/statsmodels/tsa/stattools.py:1875: FutureWarning: The behavior of using nlags=None will change in release 0.13.Currently nlags=None is the same as nlags=\"legacy\", and so a sample-size lag length is used. After the next release, the default will change to be the same as nlags=\"auto\" which uses an automatic lag length selection method. To silence this warning, either use \"auto\" or \"legacy\"\n",
      "  warnings.warn(msg, FutureWarning)\n",
      "/usr/local/lib/python3.8/dist-packages/statsmodels/tsa/stattools.py:1910: InterpolationWarning: The test statistic is outside of the range of p-values available in the\n",
      "look-up table. The actual p-value is greater than the p-value returned.\n",
      "\n",
      "  warnings.warn(\n"
     ]
    },
    {
     "data": {
      "text/html": [
       "\n",
       "  <div id=\"df-bbe7a861-20be-460d-bc87-ee3658827bcb\">\n",
       "    <div class=\"colab-df-container\">\n",
       "      <div>\n",
       "<style scoped>\n",
       "    .dataframe tbody tr th:only-of-type {\n",
       "        vertical-align: middle;\n",
       "    }\n",
       "\n",
       "    .dataframe tbody tr th {\n",
       "        vertical-align: top;\n",
       "    }\n",
       "\n",
       "    .dataframe thead th {\n",
       "        text-align: right;\n",
       "    }\n",
       "</style>\n",
       "<table border=\"1\" class=\"dataframe\">\n",
       "  <thead>\n",
       "    <tr style=\"text-align: right;\">\n",
       "      <th></th>\n",
       "      <th>Variable</th>\n",
       "      <th>Regression</th>\n",
       "      <th>KPSS Statistic</th>\n",
       "      <th>p-value</th>\n",
       "      <th>Lags Used</th>\n",
       "      <th>Result</th>\n",
       "    </tr>\n",
       "  </thead>\n",
       "  <tbody>\n",
       "    <tr>\n",
       "      <th>0</th>\n",
       "      <td>td</td>\n",
       "      <td>c</td>\n",
       "      <td>0.329</td>\n",
       "      <td>0.100</td>\n",
       "      <td>8</td>\n",
       "      <td>Do Not Reject the null hypothesis -&gt; stationary</td>\n",
       "    </tr>\n",
       "    <tr>\n",
       "      <th>1</th>\n",
       "      <td>td</td>\n",
       "      <td>ct</td>\n",
       "      <td>0.192</td>\n",
       "      <td>0.019</td>\n",
       "      <td>8</td>\n",
       "      <td>Reject the null hypothesis -&gt; series non stati...</td>\n",
       "    </tr>\n",
       "  </tbody>\n",
       "</table>\n",
       "</div>\n",
       "      <button class=\"colab-df-convert\" onclick=\"convertToInteractive('df-bbe7a861-20be-460d-bc87-ee3658827bcb')\"\n",
       "              title=\"Convert this dataframe to an interactive table.\"\n",
       "              style=\"display:none;\">\n",
       "        \n",
       "  <svg xmlns=\"http://www.w3.org/2000/svg\" height=\"24px\"viewBox=\"0 0 24 24\"\n",
       "       width=\"24px\">\n",
       "    <path d=\"M0 0h24v24H0V0z\" fill=\"none\"/>\n",
       "    <path d=\"M18.56 5.44l.94 2.06.94-2.06 2.06-.94-2.06-.94-.94-2.06-.94 2.06-2.06.94zm-11 1L8.5 8.5l.94-2.06 2.06-.94-2.06-.94L8.5 2.5l-.94 2.06-2.06.94zm10 10l.94 2.06.94-2.06 2.06-.94-2.06-.94-.94-2.06-.94 2.06-2.06.94z\"/><path d=\"M17.41 7.96l-1.37-1.37c-.4-.4-.92-.59-1.43-.59-.52 0-1.04.2-1.43.59L10.3 9.45l-7.72 7.72c-.78.78-.78 2.05 0 2.83L4 21.41c.39.39.9.59 1.41.59.51 0 1.02-.2 1.41-.59l7.78-7.78 2.81-2.81c.8-.78.8-2.07 0-2.86zM5.41 20L4 18.59l7.72-7.72 1.47 1.35L5.41 20z\"/>\n",
       "  </svg>\n",
       "      </button>\n",
       "      \n",
       "  <style>\n",
       "    .colab-df-container {\n",
       "      display:flex;\n",
       "      flex-wrap:wrap;\n",
       "      gap: 12px;\n",
       "    }\n",
       "\n",
       "    .colab-df-convert {\n",
       "      background-color: #E8F0FE;\n",
       "      border: none;\n",
       "      border-radius: 50%;\n",
       "      cursor: pointer;\n",
       "      display: none;\n",
       "      fill: #1967D2;\n",
       "      height: 32px;\n",
       "      padding: 0 0 0 0;\n",
       "      width: 32px;\n",
       "    }\n",
       "\n",
       "    .colab-df-convert:hover {\n",
       "      background-color: #E2EBFA;\n",
       "      box-shadow: 0px 1px 2px rgba(60, 64, 67, 0.3), 0px 1px 3px 1px rgba(60, 64, 67, 0.15);\n",
       "      fill: #174EA6;\n",
       "    }\n",
       "\n",
       "    [theme=dark] .colab-df-convert {\n",
       "      background-color: #3B4455;\n",
       "      fill: #D2E3FC;\n",
       "    }\n",
       "\n",
       "    [theme=dark] .colab-df-convert:hover {\n",
       "      background-color: #434B5C;\n",
       "      box-shadow: 0px 1px 3px 1px rgba(0, 0, 0, 0.15);\n",
       "      filter: drop-shadow(0px 1px 2px rgba(0, 0, 0, 0.3));\n",
       "      fill: #FFFFFF;\n",
       "    }\n",
       "  </style>\n",
       "\n",
       "      <script>\n",
       "        const buttonEl =\n",
       "          document.querySelector('#df-bbe7a861-20be-460d-bc87-ee3658827bcb button.colab-df-convert');\n",
       "        buttonEl.style.display =\n",
       "          google.colab.kernel.accessAllowed ? 'block' : 'none';\n",
       "\n",
       "        async function convertToInteractive(key) {\n",
       "          const element = document.querySelector('#df-bbe7a861-20be-460d-bc87-ee3658827bcb');\n",
       "          const dataTable =\n",
       "            await google.colab.kernel.invokeFunction('convertToInteractive',\n",
       "                                                     [key], {});\n",
       "          if (!dataTable) return;\n",
       "\n",
       "          const docLinkHtml = 'Like what you see? Visit the ' +\n",
       "            '<a target=\"_blank\" href=https://colab.research.google.com/notebooks/data_table.ipynb>data table notebook</a>'\n",
       "            + ' to learn more about interactive tables.';\n",
       "          element.innerHTML = '';\n",
       "          dataTable['output_type'] = 'display_data';\n",
       "          await google.colab.output.renderOutput(dataTable, element);\n",
       "          const docLink = document.createElement('div');\n",
       "          docLink.innerHTML = docLinkHtml;\n",
       "          element.appendChild(docLink);\n",
       "        }\n",
       "      </script>\n",
       "    </div>\n",
       "  </div>\n",
       "  "
      ],
      "text/plain": [
       "  Variable Regression  KPSS Statistic  p-value Lags Used  \\\n",
       "0       td          c           0.329    0.100         8   \n",
       "1       td         ct           0.192    0.019         8   \n",
       "\n",
       "                                              Result  \n",
       "0    Do Not Reject the null hypothesis -> stationary  \n",
       "1  Reject the null hypothesis -> series non stati...  "
      ]
     },
     "execution_count": 19,
     "metadata": {},
     "output_type": "execute_result"
    }
   ],
   "source": [
    "results_c = kpss_test(td_serie, regression='c')\n",
    "results_ct = kpss_test(td_serie, regression='ct')\n",
    "\n",
    "results = pd.concat([results_c, results_ct], ignore_index=True)\n",
    "results"
   ]
  },
  {
   "cell_type": "code",
   "execution_count": null,
   "id": "rkI-wpZsLgpn",
   "metadata": {
    "colab": {
     "base_uri": "https://localhost:8080/",
     "height": 143
    },
    "id": "rkI-wpZsLgpn",
    "outputId": "70ed362c-eaf1-4524-aed5-2d08b056e5ba"
   },
   "outputs": [
    {
     "data": {
      "text/html": [
       "\n",
       "  <div id=\"df-b3c77f90-8080-4c76-b5a1-2dcafb27f0b7\">\n",
       "    <div class=\"colab-df-container\">\n",
       "      <div>\n",
       "<style scoped>\n",
       "    .dataframe tbody tr th:only-of-type {\n",
       "        vertical-align: middle;\n",
       "    }\n",
       "\n",
       "    .dataframe tbody tr th {\n",
       "        vertical-align: top;\n",
       "    }\n",
       "\n",
       "    .dataframe thead th {\n",
       "        text-align: right;\n",
       "    }\n",
       "</style>\n",
       "<table border=\"1\" class=\"dataframe\">\n",
       "  <thead>\n",
       "    <tr style=\"text-align: right;\">\n",
       "      <th></th>\n",
       "      <th>Variable</th>\n",
       "      <th>Regression</th>\n",
       "      <th>Phillips Perron Statistic</th>\n",
       "      <th>p-value</th>\n",
       "      <th>Lags Used</th>\n",
       "      <th>Résultat</th>\n",
       "    </tr>\n",
       "  </thead>\n",
       "  <tbody>\n",
       "    <tr>\n",
       "      <th>0</th>\n",
       "      <td>td</td>\n",
       "      <td>n</td>\n",
       "      <td>-1.417</td>\n",
       "      <td>0.146</td>\n",
       "      <td>8</td>\n",
       "      <td>Not Stationary</td>\n",
       "    </tr>\n",
       "    <tr>\n",
       "      <th>1</th>\n",
       "      <td>td</td>\n",
       "      <td>c</td>\n",
       "      <td>-6.429</td>\n",
       "      <td>0.000</td>\n",
       "      <td>8</td>\n",
       "      <td>Stationary</td>\n",
       "    </tr>\n",
       "    <tr>\n",
       "      <th>2</th>\n",
       "      <td>td</td>\n",
       "      <td>ct</td>\n",
       "      <td>-5.665</td>\n",
       "      <td>0.000</td>\n",
       "      <td>8</td>\n",
       "      <td>Stationary</td>\n",
       "    </tr>\n",
       "  </tbody>\n",
       "</table>\n",
       "</div>\n",
       "      <button class=\"colab-df-convert\" onclick=\"convertToInteractive('df-b3c77f90-8080-4c76-b5a1-2dcafb27f0b7')\"\n",
       "              title=\"Convert this dataframe to an interactive table.\"\n",
       "              style=\"display:none;\">\n",
       "        \n",
       "  <svg xmlns=\"http://www.w3.org/2000/svg\" height=\"24px\"viewBox=\"0 0 24 24\"\n",
       "       width=\"24px\">\n",
       "    <path d=\"M0 0h24v24H0V0z\" fill=\"none\"/>\n",
       "    <path d=\"M18.56 5.44l.94 2.06.94-2.06 2.06-.94-2.06-.94-.94-2.06-.94 2.06-2.06.94zm-11 1L8.5 8.5l.94-2.06 2.06-.94-2.06-.94L8.5 2.5l-.94 2.06-2.06.94zm10 10l.94 2.06.94-2.06 2.06-.94-2.06-.94-.94-2.06-.94 2.06-2.06.94z\"/><path d=\"M17.41 7.96l-1.37-1.37c-.4-.4-.92-.59-1.43-.59-.52 0-1.04.2-1.43.59L10.3 9.45l-7.72 7.72c-.78.78-.78 2.05 0 2.83L4 21.41c.39.39.9.59 1.41.59.51 0 1.02-.2 1.41-.59l7.78-7.78 2.81-2.81c.8-.78.8-2.07 0-2.86zM5.41 20L4 18.59l7.72-7.72 1.47 1.35L5.41 20z\"/>\n",
       "  </svg>\n",
       "      </button>\n",
       "      \n",
       "  <style>\n",
       "    .colab-df-container {\n",
       "      display:flex;\n",
       "      flex-wrap:wrap;\n",
       "      gap: 12px;\n",
       "    }\n",
       "\n",
       "    .colab-df-convert {\n",
       "      background-color: #E8F0FE;\n",
       "      border: none;\n",
       "      border-radius: 50%;\n",
       "      cursor: pointer;\n",
       "      display: none;\n",
       "      fill: #1967D2;\n",
       "      height: 32px;\n",
       "      padding: 0 0 0 0;\n",
       "      width: 32px;\n",
       "    }\n",
       "\n",
       "    .colab-df-convert:hover {\n",
       "      background-color: #E2EBFA;\n",
       "      box-shadow: 0px 1px 2px rgba(60, 64, 67, 0.3), 0px 1px 3px 1px rgba(60, 64, 67, 0.15);\n",
       "      fill: #174EA6;\n",
       "    }\n",
       "\n",
       "    [theme=dark] .colab-df-convert {\n",
       "      background-color: #3B4455;\n",
       "      fill: #D2E3FC;\n",
       "    }\n",
       "\n",
       "    [theme=dark] .colab-df-convert:hover {\n",
       "      background-color: #434B5C;\n",
       "      box-shadow: 0px 1px 3px 1px rgba(0, 0, 0, 0.15);\n",
       "      filter: drop-shadow(0px 1px 2px rgba(0, 0, 0, 0.3));\n",
       "      fill: #FFFFFF;\n",
       "    }\n",
       "  </style>\n",
       "\n",
       "      <script>\n",
       "        const buttonEl =\n",
       "          document.querySelector('#df-b3c77f90-8080-4c76-b5a1-2dcafb27f0b7 button.colab-df-convert');\n",
       "        buttonEl.style.display =\n",
       "          google.colab.kernel.accessAllowed ? 'block' : 'none';\n",
       "\n",
       "        async function convertToInteractive(key) {\n",
       "          const element = document.querySelector('#df-b3c77f90-8080-4c76-b5a1-2dcafb27f0b7');\n",
       "          const dataTable =\n",
       "            await google.colab.kernel.invokeFunction('convertToInteractive',\n",
       "                                                     [key], {});\n",
       "          if (!dataTable) return;\n",
       "\n",
       "          const docLinkHtml = 'Like what you see? Visit the ' +\n",
       "            '<a target=\"_blank\" href=https://colab.research.google.com/notebooks/data_table.ipynb>data table notebook</a>'\n",
       "            + ' to learn more about interactive tables.';\n",
       "          element.innerHTML = '';\n",
       "          dataTable['output_type'] = 'display_data';\n",
       "          await google.colab.output.renderOutput(dataTable, element);\n",
       "          const docLink = document.createElement('div');\n",
       "          docLink.innerHTML = docLinkHtml;\n",
       "          element.appendChild(docLink);\n",
       "        }\n",
       "      </script>\n",
       "    </div>\n",
       "  </div>\n",
       "  "
      ],
      "text/plain": [
       "  Variable Regression  Phillips Perron Statistic  p-value Lags Used  \\\n",
       "0       td          n                     -1.417    0.146         8   \n",
       "1       td          c                     -6.429    0.000         8   \n",
       "2       td         ct                     -5.665    0.000         8   \n",
       "\n",
       "         Résultat  \n",
       "0  Not Stationary  \n",
       "1      Stationary  \n",
       "2      Stationary  "
      ]
     },
     "execution_count": 20,
     "metadata": {},
     "output_type": "execute_result"
    }
   ],
   "source": [
    "results_n = PhillipsPerron_test(td_serie,  regression='n')\n",
    "results_c = PhillipsPerron_test(td_serie, regression='c')\n",
    "results_ct = PhillipsPerron_test(td_serie, regression='ct')\n",
    "\n",
    "results = pd.concat([results_n, results_c, results_ct], ignore_index=True)\n",
    "results"
   ]
  },
  {
   "cell_type": "markdown",
   "id": "W3L-pTfV4ToK",
   "metadata": {
    "id": "W3L-pTfV4ToK"
   },
   "source": [
    "**En essayant avec la série du taux de défaut intégrée d'ordre 1**"
   ]
  },
  {
   "cell_type": "code",
   "execution_count": null,
   "id": "69x0HYW6aDtG",
   "metadata": {
    "colab": {
     "base_uri": "https://localhost:8080/",
     "height": 306
    },
    "id": "69x0HYW6aDtG",
    "outputId": "b28d3286-e5d2-4825-e5c7-2b0bdd6cad46"
   },
   "outputs": [
    {
     "name": "stderr",
     "output_type": "stream",
     "text": [
      "/usr/local/lib/python3.8/dist-packages/statsmodels/tsa/stattools.py:1875: FutureWarning: The behavior of using nlags=None will change in release 0.13.Currently nlags=None is the same as nlags=\"legacy\", and so a sample-size lag length is used. After the next release, the default will change to be the same as nlags=\"auto\" which uses an automatic lag length selection method. To silence this warning, either use \"auto\" or \"legacy\"\n",
      "  warnings.warn(msg, FutureWarning)\n",
      "/usr/local/lib/python3.8/dist-packages/statsmodels/tsa/stattools.py:1910: InterpolationWarning: The test statistic is outside of the range of p-values available in the\n",
      "look-up table. The actual p-value is greater than the p-value returned.\n",
      "\n",
      "  warnings.warn(\n",
      "/usr/local/lib/python3.8/dist-packages/statsmodels/tsa/stattools.py:1906: InterpolationWarning: The test statistic is outside of the range of p-values available in the\n",
      "look-up table. The actual p-value is smaller than the p-value returned.\n",
      "\n",
      "  warnings.warn(\n"
     ]
    },
    {
     "data": {
      "text/html": [
       "\n",
       "  <div id=\"df-d7fac771-547e-4c3e-b3fd-43391a18b528\">\n",
       "    <div class=\"colab-df-container\">\n",
       "      <div>\n",
       "<style scoped>\n",
       "    .dataframe tbody tr th:only-of-type {\n",
       "        vertical-align: middle;\n",
       "    }\n",
       "\n",
       "    .dataframe tbody tr th {\n",
       "        vertical-align: top;\n",
       "    }\n",
       "\n",
       "    .dataframe thead th {\n",
       "        text-align: right;\n",
       "    }\n",
       "</style>\n",
       "<table border=\"1\" class=\"dataframe\">\n",
       "  <thead>\n",
       "    <tr style=\"text-align: right;\">\n",
       "      <th></th>\n",
       "      <th>Variable</th>\n",
       "      <th>Regression</th>\n",
       "      <th>KPSS Statistic</th>\n",
       "      <th>p-value</th>\n",
       "      <th>Lags Used</th>\n",
       "      <th>Result</th>\n",
       "    </tr>\n",
       "  </thead>\n",
       "  <tbody>\n",
       "    <tr>\n",
       "      <th>0</th>\n",
       "      <td>td</td>\n",
       "      <td>c</td>\n",
       "      <td>0.337</td>\n",
       "      <td>0.10</td>\n",
       "      <td>8</td>\n",
       "      <td>Do Not Reject the null hypothesis -&gt; stationary</td>\n",
       "    </tr>\n",
       "    <tr>\n",
       "      <th>1</th>\n",
       "      <td>td</td>\n",
       "      <td>ct</td>\n",
       "      <td>0.222</td>\n",
       "      <td>0.01</td>\n",
       "      <td>8</td>\n",
       "      <td>Reject the null hypothesis -&gt; series non stati...</td>\n",
       "    </tr>\n",
       "  </tbody>\n",
       "</table>\n",
       "</div>\n",
       "      <button class=\"colab-df-convert\" onclick=\"convertToInteractive('df-d7fac771-547e-4c3e-b3fd-43391a18b528')\"\n",
       "              title=\"Convert this dataframe to an interactive table.\"\n",
       "              style=\"display:none;\">\n",
       "        \n",
       "  <svg xmlns=\"http://www.w3.org/2000/svg\" height=\"24px\"viewBox=\"0 0 24 24\"\n",
       "       width=\"24px\">\n",
       "    <path d=\"M0 0h24v24H0V0z\" fill=\"none\"/>\n",
       "    <path d=\"M18.56 5.44l.94 2.06.94-2.06 2.06-.94-2.06-.94-.94-2.06-.94 2.06-2.06.94zm-11 1L8.5 8.5l.94-2.06 2.06-.94-2.06-.94L8.5 2.5l-.94 2.06-2.06.94zm10 10l.94 2.06.94-2.06 2.06-.94-2.06-.94-.94-2.06-.94 2.06-2.06.94z\"/><path d=\"M17.41 7.96l-1.37-1.37c-.4-.4-.92-.59-1.43-.59-.52 0-1.04.2-1.43.59L10.3 9.45l-7.72 7.72c-.78.78-.78 2.05 0 2.83L4 21.41c.39.39.9.59 1.41.59.51 0 1.02-.2 1.41-.59l7.78-7.78 2.81-2.81c.8-.78.8-2.07 0-2.86zM5.41 20L4 18.59l7.72-7.72 1.47 1.35L5.41 20z\"/>\n",
       "  </svg>\n",
       "      </button>\n",
       "      \n",
       "  <style>\n",
       "    .colab-df-container {\n",
       "      display:flex;\n",
       "      flex-wrap:wrap;\n",
       "      gap: 12px;\n",
       "    }\n",
       "\n",
       "    .colab-df-convert {\n",
       "      background-color: #E8F0FE;\n",
       "      border: none;\n",
       "      border-radius: 50%;\n",
       "      cursor: pointer;\n",
       "      display: none;\n",
       "      fill: #1967D2;\n",
       "      height: 32px;\n",
       "      padding: 0 0 0 0;\n",
       "      width: 32px;\n",
       "    }\n",
       "\n",
       "    .colab-df-convert:hover {\n",
       "      background-color: #E2EBFA;\n",
       "      box-shadow: 0px 1px 2px rgba(60, 64, 67, 0.3), 0px 1px 3px 1px rgba(60, 64, 67, 0.15);\n",
       "      fill: #174EA6;\n",
       "    }\n",
       "\n",
       "    [theme=dark] .colab-df-convert {\n",
       "      background-color: #3B4455;\n",
       "      fill: #D2E3FC;\n",
       "    }\n",
       "\n",
       "    [theme=dark] .colab-df-convert:hover {\n",
       "      background-color: #434B5C;\n",
       "      box-shadow: 0px 1px 3px 1px rgba(0, 0, 0, 0.15);\n",
       "      filter: drop-shadow(0px 1px 2px rgba(0, 0, 0, 0.3));\n",
       "      fill: #FFFFFF;\n",
       "    }\n",
       "  </style>\n",
       "\n",
       "      <script>\n",
       "        const buttonEl =\n",
       "          document.querySelector('#df-d7fac771-547e-4c3e-b3fd-43391a18b528 button.colab-df-convert');\n",
       "        buttonEl.style.display =\n",
       "          google.colab.kernel.accessAllowed ? 'block' : 'none';\n",
       "\n",
       "        async function convertToInteractive(key) {\n",
       "          const element = document.querySelector('#df-d7fac771-547e-4c3e-b3fd-43391a18b528');\n",
       "          const dataTable =\n",
       "            await google.colab.kernel.invokeFunction('convertToInteractive',\n",
       "                                                     [key], {});\n",
       "          if (!dataTable) return;\n",
       "\n",
       "          const docLinkHtml = 'Like what you see? Visit the ' +\n",
       "            '<a target=\"_blank\" href=https://colab.research.google.com/notebooks/data_table.ipynb>data table notebook</a>'\n",
       "            + ' to learn more about interactive tables.';\n",
       "          element.innerHTML = '';\n",
       "          dataTable['output_type'] = 'display_data';\n",
       "          await google.colab.output.renderOutput(dataTable, element);\n",
       "          const docLink = document.createElement('div');\n",
       "          docLink.innerHTML = docLinkHtml;\n",
       "          element.appendChild(docLink);\n",
       "        }\n",
       "      </script>\n",
       "    </div>\n",
       "  </div>\n",
       "  "
      ],
      "text/plain": [
       "  Variable Regression  KPSS Statistic  p-value Lags Used  \\\n",
       "0       td          c           0.337     0.10         8   \n",
       "1       td         ct           0.222     0.01         8   \n",
       "\n",
       "                                              Result  \n",
       "0    Do Not Reject the null hypothesis -> stationary  \n",
       "1  Reject the null hypothesis -> series non stati...  "
      ]
     },
     "execution_count": 208,
     "metadata": {},
     "output_type": "execute_result"
    }
   ],
   "source": [
    "results_c = kpss_test(td_serie_diff, regression='c')\n",
    "results_ct = kpss_test(td_serie_diff, regression='ct')\n",
    "\n",
    "results = pd.concat([results_c, results_ct], ignore_index=True)\n",
    "results"
   ]
  },
  {
   "cell_type": "code",
   "execution_count": null,
   "id": "9L0zCjgkaDvJ",
   "metadata": {
    "colab": {
     "base_uri": "https://localhost:8080/",
     "height": 143
    },
    "id": "9L0zCjgkaDvJ",
    "outputId": "2db7e169-9da7-41cc-e260-7f8bbe6235b0"
   },
   "outputs": [
    {
     "data": {
      "text/html": [
       "\n",
       "  <div id=\"df-227dda63-08b3-40b5-a263-de970ee21290\">\n",
       "    <div class=\"colab-df-container\">\n",
       "      <div>\n",
       "<style scoped>\n",
       "    .dataframe tbody tr th:only-of-type {\n",
       "        vertical-align: middle;\n",
       "    }\n",
       "\n",
       "    .dataframe tbody tr th {\n",
       "        vertical-align: top;\n",
       "    }\n",
       "\n",
       "    .dataframe thead th {\n",
       "        text-align: right;\n",
       "    }\n",
       "</style>\n",
       "<table border=\"1\" class=\"dataframe\">\n",
       "  <thead>\n",
       "    <tr style=\"text-align: right;\">\n",
       "      <th></th>\n",
       "      <th>Variable</th>\n",
       "      <th>Regression</th>\n",
       "      <th>Phillips Perron Statistic</th>\n",
       "      <th>p-value</th>\n",
       "      <th>Lags Used</th>\n",
       "      <th>Résultat</th>\n",
       "    </tr>\n",
       "  </thead>\n",
       "  <tbody>\n",
       "    <tr>\n",
       "      <th>0</th>\n",
       "      <td>td</td>\n",
       "      <td>n</td>\n",
       "      <td>-8.602</td>\n",
       "      <td>0.0</td>\n",
       "      <td>8</td>\n",
       "      <td>Stationary</td>\n",
       "    </tr>\n",
       "    <tr>\n",
       "      <th>1</th>\n",
       "      <td>td</td>\n",
       "      <td>c</td>\n",
       "      <td>-9.143</td>\n",
       "      <td>0.0</td>\n",
       "      <td>8</td>\n",
       "      <td>Stationary</td>\n",
       "    </tr>\n",
       "    <tr>\n",
       "      <th>2</th>\n",
       "      <td>td</td>\n",
       "      <td>ct</td>\n",
       "      <td>-12.471</td>\n",
       "      <td>0.0</td>\n",
       "      <td>8</td>\n",
       "      <td>Stationary</td>\n",
       "    </tr>\n",
       "  </tbody>\n",
       "</table>\n",
       "</div>\n",
       "      <button class=\"colab-df-convert\" onclick=\"convertToInteractive('df-227dda63-08b3-40b5-a263-de970ee21290')\"\n",
       "              title=\"Convert this dataframe to an interactive table.\"\n",
       "              style=\"display:none;\">\n",
       "        \n",
       "  <svg xmlns=\"http://www.w3.org/2000/svg\" height=\"24px\"viewBox=\"0 0 24 24\"\n",
       "       width=\"24px\">\n",
       "    <path d=\"M0 0h24v24H0V0z\" fill=\"none\"/>\n",
       "    <path d=\"M18.56 5.44l.94 2.06.94-2.06 2.06-.94-2.06-.94-.94-2.06-.94 2.06-2.06.94zm-11 1L8.5 8.5l.94-2.06 2.06-.94-2.06-.94L8.5 2.5l-.94 2.06-2.06.94zm10 10l.94 2.06.94-2.06 2.06-.94-2.06-.94-.94-2.06-.94 2.06-2.06.94z\"/><path d=\"M17.41 7.96l-1.37-1.37c-.4-.4-.92-.59-1.43-.59-.52 0-1.04.2-1.43.59L10.3 9.45l-7.72 7.72c-.78.78-.78 2.05 0 2.83L4 21.41c.39.39.9.59 1.41.59.51 0 1.02-.2 1.41-.59l7.78-7.78 2.81-2.81c.8-.78.8-2.07 0-2.86zM5.41 20L4 18.59l7.72-7.72 1.47 1.35L5.41 20z\"/>\n",
       "  </svg>\n",
       "      </button>\n",
       "      \n",
       "  <style>\n",
       "    .colab-df-container {\n",
       "      display:flex;\n",
       "      flex-wrap:wrap;\n",
       "      gap: 12px;\n",
       "    }\n",
       "\n",
       "    .colab-df-convert {\n",
       "      background-color: #E8F0FE;\n",
       "      border: none;\n",
       "      border-radius: 50%;\n",
       "      cursor: pointer;\n",
       "      display: none;\n",
       "      fill: #1967D2;\n",
       "      height: 32px;\n",
       "      padding: 0 0 0 0;\n",
       "      width: 32px;\n",
       "    }\n",
       "\n",
       "    .colab-df-convert:hover {\n",
       "      background-color: #E2EBFA;\n",
       "      box-shadow: 0px 1px 2px rgba(60, 64, 67, 0.3), 0px 1px 3px 1px rgba(60, 64, 67, 0.15);\n",
       "      fill: #174EA6;\n",
       "    }\n",
       "\n",
       "    [theme=dark] .colab-df-convert {\n",
       "      background-color: #3B4455;\n",
       "      fill: #D2E3FC;\n",
       "    }\n",
       "\n",
       "    [theme=dark] .colab-df-convert:hover {\n",
       "      background-color: #434B5C;\n",
       "      box-shadow: 0px 1px 3px 1px rgba(0, 0, 0, 0.15);\n",
       "      filter: drop-shadow(0px 1px 2px rgba(0, 0, 0, 0.3));\n",
       "      fill: #FFFFFF;\n",
       "    }\n",
       "  </style>\n",
       "\n",
       "      <script>\n",
       "        const buttonEl =\n",
       "          document.querySelector('#df-227dda63-08b3-40b5-a263-de970ee21290 button.colab-df-convert');\n",
       "        buttonEl.style.display =\n",
       "          google.colab.kernel.accessAllowed ? 'block' : 'none';\n",
       "\n",
       "        async function convertToInteractive(key) {\n",
       "          const element = document.querySelector('#df-227dda63-08b3-40b5-a263-de970ee21290');\n",
       "          const dataTable =\n",
       "            await google.colab.kernel.invokeFunction('convertToInteractive',\n",
       "                                                     [key], {});\n",
       "          if (!dataTable) return;\n",
       "\n",
       "          const docLinkHtml = 'Like what you see? Visit the ' +\n",
       "            '<a target=\"_blank\" href=https://colab.research.google.com/notebooks/data_table.ipynb>data table notebook</a>'\n",
       "            + ' to learn more about interactive tables.';\n",
       "          element.innerHTML = '';\n",
       "          dataTable['output_type'] = 'display_data';\n",
       "          await google.colab.output.renderOutput(dataTable, element);\n",
       "          const docLink = document.createElement('div');\n",
       "          docLink.innerHTML = docLinkHtml;\n",
       "          element.appendChild(docLink);\n",
       "        }\n",
       "      </script>\n",
       "    </div>\n",
       "  </div>\n",
       "  "
      ],
      "text/plain": [
       "  Variable Regression  Phillips Perron Statistic  p-value Lags Used  \\\n",
       "0       td          n                     -8.602      0.0         8   \n",
       "1       td          c                     -9.143      0.0         8   \n",
       "2       td         ct                    -12.471      0.0         8   \n",
       "\n",
       "     Résultat  \n",
       "0  Stationary  \n",
       "1  Stationary  \n",
       "2  Stationary  "
      ]
     },
     "execution_count": 209,
     "metadata": {},
     "output_type": "execute_result"
    }
   ],
   "source": [
    "results_n = PhillipsPerron_test(td_serie_diff,  regression='n')\n",
    "results_c = PhillipsPerron_test(td_serie_diff, regression='c')\n",
    "results_ct = PhillipsPerron_test(td_serie_diff, regression='ct')\n",
    "\n",
    "results = pd.concat([results_n, results_c, results_ct], ignore_index=True)\n",
    "results"
   ]
  },
  {
   "cell_type": "markdown",
   "id": "SMFDWw1v4fIq",
   "metadata": {
    "id": "SMFDWw1v4fIq"
   },
   "source": []
  },
  {
   "cell_type": "code",
   "execution_count": null,
   "id": "8mtJO1o7aDxX",
   "metadata": {
    "colab": {
     "base_uri": "https://localhost:8080/",
     "height": 677
    },
    "id": "8mtJO1o7aDxX",
    "outputId": "9d24fdc5-9bc7-4210-b54a-4827c6e8f902"
   },
   "outputs": [
    {
     "data": {
      "text/html": [
       "\n",
       "  <div id=\"df-d4f4cba5-b356-4694-a787-af7d620b0960\">\n",
       "    <div class=\"colab-df-container\">\n",
       "      <div>\n",
       "<style scoped>\n",
       "    .dataframe tbody tr th:only-of-type {\n",
       "        vertical-align: middle;\n",
       "    }\n",
       "\n",
       "    .dataframe tbody tr th {\n",
       "        vertical-align: top;\n",
       "    }\n",
       "\n",
       "    .dataframe thead th {\n",
       "        text-align: right;\n",
       "    }\n",
       "</style>\n",
       "<table border=\"1\" class=\"dataframe\">\n",
       "  <thead>\n",
       "    <tr style=\"text-align: right;\">\n",
       "      <th></th>\n",
       "      <th>RGDP</th>\n",
       "      <th>HICP</th>\n",
       "      <th>RREP</th>\n",
       "      <th>IRLT</th>\n",
       "      <th>UNR</th>\n",
       "    </tr>\n",
       "    <tr>\n",
       "      <th>Date</th>\n",
       "      <th></th>\n",
       "      <th></th>\n",
       "      <th></th>\n",
       "      <th></th>\n",
       "      <th></th>\n",
       "    </tr>\n",
       "  </thead>\n",
       "  <tbody>\n",
       "    <tr>\n",
       "      <th>2016-04-30</th>\n",
       "      <td>2229.1000</td>\n",
       "      <td>-1.4000</td>\n",
       "      <td>0.2000</td>\n",
       "      <td>-0.21</td>\n",
       "      <td>0.111388</td>\n",
       "    </tr>\n",
       "    <tr>\n",
       "      <th>2016-07-31</th>\n",
       "      <td>1133.5000</td>\n",
       "      <td>2.0000</td>\n",
       "      <td>-0.7000</td>\n",
       "      <td>0.22</td>\n",
       "      <td>-0.104251</td>\n",
       "    </tr>\n",
       "    <tr>\n",
       "      <th>2016-10-31</th>\n",
       "      <td>2178.9000</td>\n",
       "      <td>-1.5000</td>\n",
       "      <td>-0.9000</td>\n",
       "      <td>0.54</td>\n",
       "      <td>-0.327484</td>\n",
       "    </tr>\n",
       "    <tr>\n",
       "      <th>2017-01-31</th>\n",
       "      <td>1595.2000</td>\n",
       "      <td>2.9000</td>\n",
       "      <td>0.5000</td>\n",
       "      <td>0.27</td>\n",
       "      <td>-0.220664</td>\n",
       "    </tr>\n",
       "    <tr>\n",
       "      <th>2017-04-30</th>\n",
       "      <td>1529.1000</td>\n",
       "      <td>-2.2000</td>\n",
       "      <td>-0.4000</td>\n",
       "      <td>-0.03</td>\n",
       "      <td>0.277596</td>\n",
       "    </tr>\n",
       "    <tr>\n",
       "      <th>2017-07-31</th>\n",
       "      <td>2156.6000</td>\n",
       "      <td>1.9000</td>\n",
       "      <td>-0.4000</td>\n",
       "      <td>-0.16</td>\n",
       "      <td>-0.696519</td>\n",
       "    </tr>\n",
       "    <tr>\n",
       "      <th>2017-10-31</th>\n",
       "      <td>-69.3000</td>\n",
       "      <td>-1.4000</td>\n",
       "      <td>-0.2000</td>\n",
       "      <td>-0.09</td>\n",
       "      <td>0.102146</td>\n",
       "    </tr>\n",
       "    <tr>\n",
       "      <th>2018-01-31</th>\n",
       "      <td>5674.8072</td>\n",
       "      <td>3.2261</td>\n",
       "      <td>2.0880</td>\n",
       "      <td>0.12</td>\n",
       "      <td>0.008503</td>\n",
       "    </tr>\n",
       "    <tr>\n",
       "      <th>2018-04-30</th>\n",
       "      <td>300.2454</td>\n",
       "      <td>-0.9081</td>\n",
       "      <td>-0.8120</td>\n",
       "      <td>0.00</td>\n",
       "      <td>0.000000</td>\n",
       "    </tr>\n",
       "    <tr>\n",
       "      <th>2018-07-31</th>\n",
       "      <td>1400.1312</td>\n",
       "      <td>1.7153</td>\n",
       "      <td>-0.1015</td>\n",
       "      <td>0.00</td>\n",
       "      <td>0.000000</td>\n",
       "    </tr>\n",
       "    <tr>\n",
       "      <th>2018-10-31</th>\n",
       "      <td>169.8450</td>\n",
       "      <td>-2.2198</td>\n",
       "      <td>-0.6090</td>\n",
       "      <td>0.00</td>\n",
       "      <td>0.000000</td>\n",
       "    </tr>\n",
       "    <tr>\n",
       "      <th>2019-01-31</th>\n",
       "      <td>336.8737</td>\n",
       "      <td>3.1465</td>\n",
       "      <td>2.1147</td>\n",
       "      <td>0.40</td>\n",
       "      <td>-0.300000</td>\n",
       "    </tr>\n",
       "    <tr>\n",
       "      <th>2019-04-30</th>\n",
       "      <td>347.2564</td>\n",
       "      <td>-1.7255</td>\n",
       "      <td>-0.3066</td>\n",
       "      <td>0.00</td>\n",
       "      <td>0.000000</td>\n",
       "    </tr>\n",
       "    <tr>\n",
       "      <th>2019-07-31</th>\n",
       "      <td>-1731.9261</td>\n",
       "      <td>1.6240</td>\n",
       "      <td>-0.3066</td>\n",
       "      <td>0.00</td>\n",
       "      <td>0.000000</td>\n",
       "    </tr>\n",
       "    <tr>\n",
       "      <th>2019-10-31</th>\n",
       "      <td>-23485.0881</td>\n",
       "      <td>-2.0300</td>\n",
       "      <td>0.9198</td>\n",
       "      <td>0.00</td>\n",
       "      <td>0.000000</td>\n",
       "    </tr>\n",
       "    <tr>\n",
       "      <th>2020-01-31</th>\n",
       "      <td>-49822.4803</td>\n",
       "      <td>2.3371</td>\n",
       "      <td>3.4756</td>\n",
       "      <td>0.30</td>\n",
       "      <td>-0.300000</td>\n",
       "    </tr>\n",
       "    <tr>\n",
       "      <th>2020-04-30</th>\n",
       "      <td>52688.7638</td>\n",
       "      <td>-1.0160</td>\n",
       "      <td>-2.6676</td>\n",
       "      <td>0.00</td>\n",
       "      <td>0.000000</td>\n",
       "    </tr>\n",
       "    <tr>\n",
       "      <th>2020-07-31</th>\n",
       "      <td>-6339.3540</td>\n",
       "      <td>0.2032</td>\n",
       "      <td>0.2052</td>\n",
       "      <td>0.00</td>\n",
       "      <td>0.000000</td>\n",
       "    </tr>\n",
       "    <tr>\n",
       "      <th>2020-10-31</th>\n",
       "      <td>1064.6630</td>\n",
       "      <td>-0.7112</td>\n",
       "      <td>1.1286</td>\n",
       "      <td>0.00</td>\n",
       "      <td>0.000000</td>\n",
       "    </tr>\n",
       "  </tbody>\n",
       "</table>\n",
       "</div>\n",
       "      <button class=\"colab-df-convert\" onclick=\"convertToInteractive('df-d4f4cba5-b356-4694-a787-af7d620b0960')\"\n",
       "              title=\"Convert this dataframe to an interactive table.\"\n",
       "              style=\"display:none;\">\n",
       "        \n",
       "  <svg xmlns=\"http://www.w3.org/2000/svg\" height=\"24px\"viewBox=\"0 0 24 24\"\n",
       "       width=\"24px\">\n",
       "    <path d=\"M0 0h24v24H0V0z\" fill=\"none\"/>\n",
       "    <path d=\"M18.56 5.44l.94 2.06.94-2.06 2.06-.94-2.06-.94-.94-2.06-.94 2.06-2.06.94zm-11 1L8.5 8.5l.94-2.06 2.06-.94-2.06-.94L8.5 2.5l-.94 2.06-2.06.94zm10 10l.94 2.06.94-2.06 2.06-.94-2.06-.94-.94-2.06-.94 2.06-2.06.94z\"/><path d=\"M17.41 7.96l-1.37-1.37c-.4-.4-.92-.59-1.43-.59-.52 0-1.04.2-1.43.59L10.3 9.45l-7.72 7.72c-.78.78-.78 2.05 0 2.83L4 21.41c.39.39.9.59 1.41.59.51 0 1.02-.2 1.41-.59l7.78-7.78 2.81-2.81c.8-.78.8-2.07 0-2.86zM5.41 20L4 18.59l7.72-7.72 1.47 1.35L5.41 20z\"/>\n",
       "  </svg>\n",
       "      </button>\n",
       "      \n",
       "  <style>\n",
       "    .colab-df-container {\n",
       "      display:flex;\n",
       "      flex-wrap:wrap;\n",
       "      gap: 12px;\n",
       "    }\n",
       "\n",
       "    .colab-df-convert {\n",
       "      background-color: #E8F0FE;\n",
       "      border: none;\n",
       "      border-radius: 50%;\n",
       "      cursor: pointer;\n",
       "      display: none;\n",
       "      fill: #1967D2;\n",
       "      height: 32px;\n",
       "      padding: 0 0 0 0;\n",
       "      width: 32px;\n",
       "    }\n",
       "\n",
       "    .colab-df-convert:hover {\n",
       "      background-color: #E2EBFA;\n",
       "      box-shadow: 0px 1px 2px rgba(60, 64, 67, 0.3), 0px 1px 3px 1px rgba(60, 64, 67, 0.15);\n",
       "      fill: #174EA6;\n",
       "    }\n",
       "\n",
       "    [theme=dark] .colab-df-convert {\n",
       "      background-color: #3B4455;\n",
       "      fill: #D2E3FC;\n",
       "    }\n",
       "\n",
       "    [theme=dark] .colab-df-convert:hover {\n",
       "      background-color: #434B5C;\n",
       "      box-shadow: 0px 1px 3px 1px rgba(0, 0, 0, 0.15);\n",
       "      filter: drop-shadow(0px 1px 2px rgba(0, 0, 0, 0.3));\n",
       "      fill: #FFFFFF;\n",
       "    }\n",
       "  </style>\n",
       "\n",
       "      <script>\n",
       "        const buttonEl =\n",
       "          document.querySelector('#df-d4f4cba5-b356-4694-a787-af7d620b0960 button.colab-df-convert');\n",
       "        buttonEl.style.display =\n",
       "          google.colab.kernel.accessAllowed ? 'block' : 'none';\n",
       "\n",
       "        async function convertToInteractive(key) {\n",
       "          const element = document.querySelector('#df-d4f4cba5-b356-4694-a787-af7d620b0960');\n",
       "          const dataTable =\n",
       "            await google.colab.kernel.invokeFunction('convertToInteractive',\n",
       "                                                     [key], {});\n",
       "          if (!dataTable) return;\n",
       "\n",
       "          const docLinkHtml = 'Like what you see? Visit the ' +\n",
       "            '<a target=\"_blank\" href=https://colab.research.google.com/notebooks/data_table.ipynb>data table notebook</a>'\n",
       "            + ' to learn more about interactive tables.';\n",
       "          element.innerHTML = '';\n",
       "          dataTable['output_type'] = 'display_data';\n",
       "          await google.colab.output.renderOutput(dataTable, element);\n",
       "          const docLink = document.createElement('div');\n",
       "          docLink.innerHTML = docLinkHtml;\n",
       "          element.appendChild(docLink);\n",
       "        }\n",
       "      </script>\n",
       "    </div>\n",
       "  </div>\n",
       "  "
      ],
      "text/plain": [
       "                  RGDP    HICP    RREP  IRLT       UNR\n",
       "Date                                                  \n",
       "2016-04-30   2229.1000 -1.4000  0.2000 -0.21  0.111388\n",
       "2016-07-31   1133.5000  2.0000 -0.7000  0.22 -0.104251\n",
       "2016-10-31   2178.9000 -1.5000 -0.9000  0.54 -0.327484\n",
       "2017-01-31   1595.2000  2.9000  0.5000  0.27 -0.220664\n",
       "2017-04-30   1529.1000 -2.2000 -0.4000 -0.03  0.277596\n",
       "2017-07-31   2156.6000  1.9000 -0.4000 -0.16 -0.696519\n",
       "2017-10-31    -69.3000 -1.4000 -0.2000 -0.09  0.102146\n",
       "2018-01-31   5674.8072  3.2261  2.0880  0.12  0.008503\n",
       "2018-04-30    300.2454 -0.9081 -0.8120  0.00  0.000000\n",
       "2018-07-31   1400.1312  1.7153 -0.1015  0.00  0.000000\n",
       "2018-10-31    169.8450 -2.2198 -0.6090  0.00  0.000000\n",
       "2019-01-31    336.8737  3.1465  2.1147  0.40 -0.300000\n",
       "2019-04-30    347.2564 -1.7255 -0.3066  0.00  0.000000\n",
       "2019-07-31  -1731.9261  1.6240 -0.3066  0.00  0.000000\n",
       "2019-10-31 -23485.0881 -2.0300  0.9198  0.00  0.000000\n",
       "2020-01-31 -49822.4803  2.3371  3.4756  0.30 -0.300000\n",
       "2020-04-30  52688.7638 -1.0160 -2.6676  0.00  0.000000\n",
       "2020-07-31  -6339.3540  0.2032  0.2052  0.00  0.000000\n",
       "2020-10-31   1064.6630 -0.7112  1.1286  0.00  0.000000"
      ]
     },
     "execution_count": 21,
     "metadata": {},
     "output_type": "execute_result"
    }
   ],
   "source": [
    "macro_diff"
   ]
  },
  {
   "cell_type": "code",
   "execution_count": null,
   "id": "dNoON7DmewAw",
   "metadata": {
    "id": "dNoON7DmewAw"
   },
   "outputs": [],
   "source": [
    "\"\"\"macro_diff['td_diff'] = td_serie_diff\n",
    "macro_diff['td'] = td_serie\n",
    "macro_diff_dropna = macro_diff.dropna()\n",
    "macro_diff_dropna\"\"\"\n",
    "macro_dropna = macro.dropna()\n"
   ]
  },
  {
   "cell_type": "markdown",
   "id": "MffEZm4GfxHA",
   "metadata": {
    "id": "MffEZm4GfxHA"
   },
   "source": [
    "# ***Corrélation entre les variables macro et le taux de défaut***\n",
    "\n",
    "On ne peut pas utiliser Pearson à cause du nombre d'observations beaucoup trop faible. Le tau de Kendall est adapté à la taille de l'échantillon en revanche (Approche Non-Parametrique)."
   ]
  },
  {
   "cell_type": "code",
   "execution_count": 140,
   "id": "MaQDoP6bPdQM",
   "metadata": {
    "colab": {
     "base_uri": "https://localhost:8080/",
     "height": 286
    },
    "id": "MaQDoP6bPdQM",
    "outputId": "f5682700-92a8-489c-c8a7-1e262948823e"
   },
   "outputs": [
    {
     "data": {
      "text/plain": [
       "<AxesSubplot:>"
      ]
     },
     "execution_count": 140,
     "metadata": {},
     "output_type": "execute_result"
    },
    {
     "data": {
      "image/png": "[encoded data removed]",
      "text/plain": [
       "<Figure size 432x288 with 2 Axes>"
      ]
     },
     "metadata": {
      "needs_background": "light"
     },
     "output_type": "display_data"
    }
   ],
   "source": [
    "from scipy.stats import kendalltau\n",
    "\n",
    "corr_df = pd.DataFrame(index=macro.columns, columns=macro.columns)\n",
    "for col1 in macro.columns:\n",
    "    for col2 in macro.columns:\n",
    "        corr, _ = kendalltau(macro[col1], macro[col2])\n",
    "        corr_df.loc[col1, col2] = corr\n",
    "\n",
    "# create heatmap\n",
    "sns.heatmap(corr_df.astype(float), cmap='coolwarm', center=0, annot=True)\n"
   ]
  },
  {
   "cell_type": "markdown",
   "id": "tcSovnyArHL5",
   "metadata": {
    "id": "tcSovnyArHL5"
   },
   "source": [
    "Essayer un modèle VAR avec les variables qui sont toutes possiblement autoregressives. Sauf le taux de defaut qui n'apparaît pas comme autorégressif (voir PACF, ACF)"
   ]
  },
  {
   "cell_type": "code",
   "execution_count": null,
   "id": "008Yhd8EqY0Z",
   "metadata": {
    "id": "008Yhd8EqY0Z"
   },
   "outputs": [],
   "source": [
    "# Import Statsmodels\n",
    "from statsmodels.tsa.api import VAR\n",
    "from statsmodels.tsa.stattools import adfuller\n",
    "from statsmodels.tools.eval_measures import rmse, aic"
   ]
  },
  {
   "cell_type": "code",
   "execution_count": null,
   "id": "RwUOmdyDqmaw",
   "metadata": {
    "colab": {
     "base_uri": "https://localhost:8080/"
    },
    "id": "RwUOmdyDqmaw",
    "outputId": "1f3d2e61-7787-4847-d25d-3aa6494277a7"
   },
   "outputs": [
    {
     "data": {
      "text/plain": [
       "{1: ({'ssr_ftest': (1.81408100409395, 0.2029054944314444, 12.0, 1),\n",
       "   'ssr_chi2test': (2.267601255117438, 0.13210423233771362, 1),\n",
       "   'lrtest': (2.111726771618578, 0.1461742937164218, 1),\n",
       "   'params_ftest': (1.8140810040939717, 0.20290549443144193, 12.0, 1.0)},\n",
       "  [<statsmodels.regression.linear_model.RegressionResultsWrapper at 0x7fe28e6c1760>,\n",
       "   <statsmodels.regression.linear_model.RegressionResultsWrapper at 0x7fe28e6c1940>,\n",
       "   array([[0., 1., 0.]])]),\n",
       " 2: ({'ssr_ftest': (1.1619379410167323, 0.355724141623358, 9.0, 2),\n",
       "   'ssr_chi2test': (3.6149180387187223, 0.16407050756707828, 2),\n",
       "   'lrtest': (3.215643609383733, 0.20032348286962562, 2),\n",
       "   'params_ftest': (1.1619379410166688, 0.3557241416233759, 9.0, 2.0)},\n",
       "  [<statsmodels.regression.linear_model.RegressionResultsWrapper at 0x7fe28e6c10d0>,\n",
       "   <statsmodels.regression.linear_model.RegressionResultsWrapper at 0x7fe28e6c1190>,\n",
       "   array([[0., 0., 1., 0., 0.],\n",
       "          [0., 0., 0., 1., 0.]])]),\n",
       " 3: ({'ssr_ftest': (0.3971602964377594, 0.7601474396695456, 6.0, 3),\n",
       "   'ssr_chi2test': (2.5815419268454356, 0.4607346783355484, 3),\n",
       "   'lrtest': (2.354789403602581, 0.5021060400734141, 3),\n",
       "   'params_ftest': (0.39716029643777495, 0.7601474396695357, 6.0, 3.0)},\n",
       "  [<statsmodels.regression.linear_model.RegressionResultsWrapper at 0x7fe28e6c11f0>,\n",
       "   <statsmodels.regression.linear_model.RegressionResultsWrapper at 0x7fe28e6c1340>,\n",
       "   array([[0., 0., 0., 1., 0., 0., 0.],\n",
       "          [0., 0., 0., 0., 1., 0., 0.],\n",
       "          [0., 0., 0., 0., 0., 1., 0.]])]),\n",
       " 4: ({'ssr_ftest': (0.29444595930975864, 0.8658234576593588, 3.0, 4),\n",
       "   'ssr_chi2test': (4.711135348956137, 0.31824087453615074, 4),\n",
       "   'lrtest': (3.9740236175211407, 0.4095327856937946, 4),\n",
       "   'params_ftest': (0.29444595930977, 0.8658234576593518, 3.0, 4.0)},\n",
       "  [<statsmodels.regression.linear_model.RegressionResultsWrapper at 0x7fe28e6c11c0>,\n",
       "   <statsmodels.regression.linear_model.RegressionResultsWrapper at 0x7fe28e6c1c10>,\n",
       "   array([[0., 0., 0., 0., 1., 0., 0., 0., 0.],\n",
       "          [0., 0., 0., 0., 0., 1., 0., 0., 0.],\n",
       "          [0., 0., 0., 0., 0., 0., 1., 0., 0.],\n",
       "          [0., 0., 0., 0., 0., 0., 0., 1., 0.]])])}"
      ]
     },
     "execution_count": 76,
     "metadata": {},
     "output_type": "execute_result"
    }
   ],
   "source": [
    "test_result = grangercausalitytests(macro[['RGDP', 'td']].dropna(), maxlag=maxlag, verbose=False)\n",
    "test_result"
   ]
  },
  {
   "cell_type": "code",
   "execution_count": null,
   "id": "ERAkfKGmqY3t",
   "metadata": {
    "colab": {
     "base_uri": "https://localhost:8080/",
     "height": 897
    },
    "id": "ERAkfKGmqY3t",
    "outputId": "3a70400f-9cb2-4d29-a55f-38275db5f658"
   },
   "outputs": [
    {
     "name": "stderr",
     "output_type": "stream",
     "text": [
      "/usr/local/lib/python3.8/dist-packages/statsmodels/tsa/stattools.py:1488: FutureWarning: verbose is deprecated since functions should not print results\n",
      "  warnings.warn(\n"
     ]
    },
    {
     "name": "stdout",
     "output_type": "stream",
     "text": [
      "Y = RGDP, X = RGDP, P Values = [1.0, 1.0, 1.0, 1.0]\n",
      "Y = HICP, X = RGDP, P Values = [0.0, 0.0051, 0.0005, 0.0044]\n",
      "Y = RREP, X = RGDP, P Values = [0.2034, 0.0016, 0.001, 0.0]\n",
      "Y = IRLT, X = RGDP, P Values = [0.2478, 0.0015, 0.0001, 0.0]\n",
      "Y = UNR, X = RGDP, P Values = [0.0122, 0.2844, 0.4423, 0.0436]\n",
      "Y = td, X = RGDP, P Values = [0.2107, 0.8795, 0.9503, 0.0]\n",
      "Y = RGDP, X = HICP, P Values = [0.0374, 0.011, 0.0008, 0.0]\n",
      "Y = HICP, X = HICP, P Values = [1.0, 1.0, 1.0, 1.0]\n",
      "Y = RREP, X = HICP, P Values = [0.4417, 0.0095, 0.0006, 0.0]\n",
      "Y = IRLT, X = HICP, P Values = [0.9333, 0.0156, 0.0, 0.0]\n",
      "Y = UNR, X = HICP, P Values = [0.5466, 0.167, 0.0005, 0.0]\n",
      "Y = td, X = HICP, P Values = [0.092, 0.2051, 0.0074, 0.0]\n",
      "Y = RGDP, X = RREP, P Values = [0.2037, 0.2363, 0.1211, 0.0]\n",
      "Y = HICP, X = RREP, P Values = [0.4173, 0.004, 0.0121, 0.4725]\n",
      "Y = RREP, X = RREP, P Values = [1.0, 1.0, 1.0, 1.0]\n",
      "Y = IRLT, X = RREP, P Values = [0.5848, 0.2318, 0.1505, 0.0]\n",
      "Y = UNR, X = RREP, P Values = [0.3728, 0.5224, 0.7693, 0.5795]\n",
      "Y = td, X = RREP, P Values = [0.5442, 0.0365, 0.151, 0.0]\n",
      "Y = RGDP, X = IRLT, P Values = [0.3534, 0.6956, 0.6522, 0.4332]\n",
      "Y = HICP, X = IRLT, P Values = [0.0386, 0.4769, 0.008, 0.0]\n",
      "Y = RREP, X = IRLT, P Values = [0.3903, 0.3742, 0.0059, 0.0]\n",
      "Y = IRLT, X = IRLT, P Values = [1.0, 1.0, 1.0, 1.0]\n",
      "Y = UNR, X = IRLT, P Values = [0.101, 0.388, 0.1069, 0.0]\n",
      "Y = td, X = IRLT, P Values = [0.0255, 0.1363, 0.4965, 0.0021]\n",
      "Y = RGDP, X = UNR, P Values = [0.4124, 0.8574, 0.0, 0.0]\n",
      "Y = HICP, X = UNR, P Values = [0.0006, 0.0697, 0.1117, 0.0002]\n",
      "Y = RREP, X = UNR, P Values = [0.1243, 0.018, 0.002, 0.0]\n",
      "Y = IRLT, X = UNR, P Values = [0.6837, 0.1838, 0.53, 0.649]\n",
      "Y = UNR, X = UNR, P Values = [1.0, 1.0, 1.0, 1.0]\n",
      "Y = td, X = UNR, P Values = [0.0625, 0.4703, 0.7846, 0.005]\n",
      "Y = RGDP, X = td, P Values = [0.1321, 0.1641, 0.4607, 0.3182]\n",
      "Y = HICP, X = td, P Values = [0.0084, 0.6081, 0.0115, 0.0052]\n",
      "Y = RREP, X = td, P Values = [0.6893, 0.5962, 0.0038, 0.0]\n",
      "Y = IRLT, X = td, P Values = [0.2836, 0.1392, 0.4227, 0.2805]\n",
      "Y = UNR, X = td, P Values = [0.0011, 0.0438, 0.2091, 0.0]\n",
      "Y = td, X = td, P Values = [1.0, 1.0, 1.0, 1.0]\n"
     ]
    },
    {
     "data": {
      "text/html": [
       "\n",
       "  <div id=\"df-35c2a8c5-9f8f-40d5-98b7-ffc80ad5f8d3\">\n",
       "    <div class=\"colab-df-container\">\n",
       "      <div>\n",
       "<style scoped>\n",
       "    .dataframe tbody tr th:only-of-type {\n",
       "        vertical-align: middle;\n",
       "    }\n",
       "\n",
       "    .dataframe tbody tr th {\n",
       "        vertical-align: top;\n",
       "    }\n",
       "\n",
       "    .dataframe thead th {\n",
       "        text-align: right;\n",
       "    }\n",
       "</style>\n",
       "<table border=\"1\" class=\"dataframe\">\n",
       "  <thead>\n",
       "    <tr style=\"text-align: right;\">\n",
       "      <th></th>\n",
       "      <th>RGDP_x</th>\n",
       "      <th>HICP_x</th>\n",
       "      <th>RREP_x</th>\n",
       "      <th>IRLT_x</th>\n",
       "      <th>UNR_x</th>\n",
       "      <th>td_x</th>\n",
       "    </tr>\n",
       "  </thead>\n",
       "  <tbody>\n",
       "    <tr>\n",
       "      <th>RGDP_y</th>\n",
       "      <td>1.0000</td>\n",
       "      <td>0.0</td>\n",
       "      <td>0.0000</td>\n",
       "      <td>0.3534</td>\n",
       "      <td>0.0000</td>\n",
       "      <td>0.1321</td>\n",
       "    </tr>\n",
       "    <tr>\n",
       "      <th>HICP_y</th>\n",
       "      <td>0.0000</td>\n",
       "      <td>1.0</td>\n",
       "      <td>0.0040</td>\n",
       "      <td>0.0000</td>\n",
       "      <td>0.0002</td>\n",
       "      <td>0.0052</td>\n",
       "    </tr>\n",
       "    <tr>\n",
       "      <th>RREP_y</th>\n",
       "      <td>0.0000</td>\n",
       "      <td>0.0</td>\n",
       "      <td>1.0000</td>\n",
       "      <td>0.0000</td>\n",
       "      <td>0.0000</td>\n",
       "      <td>0.0000</td>\n",
       "    </tr>\n",
       "    <tr>\n",
       "      <th>IRLT_y</th>\n",
       "      <td>0.0000</td>\n",
       "      <td>0.0</td>\n",
       "      <td>0.0000</td>\n",
       "      <td>1.0000</td>\n",
       "      <td>0.1838</td>\n",
       "      <td>0.1392</td>\n",
       "    </tr>\n",
       "    <tr>\n",
       "      <th>UNR_y</th>\n",
       "      <td>0.0122</td>\n",
       "      <td>0.0</td>\n",
       "      <td>0.3728</td>\n",
       "      <td>0.0000</td>\n",
       "      <td>1.0000</td>\n",
       "      <td>0.0000</td>\n",
       "    </tr>\n",
       "    <tr>\n",
       "      <th>td_y</th>\n",
       "      <td>0.0000</td>\n",
       "      <td>0.0</td>\n",
       "      <td>0.0000</td>\n",
       "      <td>0.0021</td>\n",
       "      <td>0.0050</td>\n",
       "      <td>1.0000</td>\n",
       "    </tr>\n",
       "  </tbody>\n",
       "</table>\n",
       "</div>\n",
       "      <button class=\"colab-df-convert\" onclick=\"convertToInteractive('df-35c2a8c5-9f8f-40d5-98b7-ffc80ad5f8d3')\"\n",
       "              title=\"Convert this dataframe to an interactive table.\"\n",
       "              style=\"display:none;\">\n",
       "        \n",
       "  <svg xmlns=\"http://www.w3.org/2000/svg\" height=\"24px\"viewBox=\"0 0 24 24\"\n",
       "       width=\"24px\">\n",
       "    <path d=\"M0 0h24v24H0V0z\" fill=\"none\"/>\n",
       "    <path d=\"M18.56 5.44l.94 2.06.94-2.06 2.06-.94-2.06-.94-.94-2.06-.94 2.06-2.06.94zm-11 1L8.5 8.5l.94-2.06 2.06-.94-2.06-.94L8.5 2.5l-.94 2.06-2.06.94zm10 10l.94 2.06.94-2.06 2.06-.94-2.06-.94-.94-2.06-.94 2.06-2.06.94z\"/><path d=\"M17.41 7.96l-1.37-1.37c-.4-.4-.92-.59-1.43-.59-.52 0-1.04.2-1.43.59L10.3 9.45l-7.72 7.72c-.78.78-.78 2.05 0 2.83L4 21.41c.39.39.9.59 1.41.59.51 0 1.02-.2 1.41-.59l7.78-7.78 2.81-2.81c.8-.78.8-2.07 0-2.86zM5.41 20L4 18.59l7.72-7.72 1.47 1.35L5.41 20z\"/>\n",
       "  </svg>\n",
       "      </button>\n",
       "      \n",
       "  <style>\n",
       "    .colab-df-container {\n",
       "      display:flex;\n",
       "      flex-wrap:wrap;\n",
       "      gap: 12px;\n",
       "    }\n",
       "\n",
       "    .colab-df-convert {\n",
       "      background-color: #E8F0FE;\n",
       "      border: none;\n",
       "      border-radius: 50%;\n",
       "      cursor: pointer;\n",
       "      display: none;\n",
       "      fill: #1967D2;\n",
       "      height: 32px;\n",
       "      padding: 0 0 0 0;\n",
       "      width: 32px;\n",
       "    }\n",
       "\n",
       "    .colab-df-convert:hover {\n",
       "      background-color: #E2EBFA;\n",
       "      box-shadow: 0px 1px 2px rgba(60, 64, 67, 0.3), 0px 1px 3px 1px rgba(60, 64, 67, 0.15);\n",
       "      fill: #174EA6;\n",
       "    }\n",
       "\n",
       "    [theme=dark] .colab-df-convert {\n",
       "      background-color: #3B4455;\n",
       "      fill: #D2E3FC;\n",
       "    }\n",
       "\n",
       "    [theme=dark] .colab-df-convert:hover {\n",
       "      background-color: #434B5C;\n",
       "      box-shadow: 0px 1px 3px 1px rgba(0, 0, 0, 0.15);\n",
       "      filter: drop-shadow(0px 1px 2px rgba(0, 0, 0, 0.3));\n",
       "      fill: #FFFFFF;\n",
       "    }\n",
       "  </style>\n",
       "\n",
       "      <script>\n",
       "        const buttonEl =\n",
       "          document.querySelector('#df-35c2a8c5-9f8f-40d5-98b7-ffc80ad5f8d3 button.colab-df-convert');\n",
       "        buttonEl.style.display =\n",
       "          google.colab.kernel.accessAllowed ? 'block' : 'none';\n",
       "\n",
       "        async function convertToInteractive(key) {\n",
       "          const element = document.querySelector('#df-35c2a8c5-9f8f-40d5-98b7-ffc80ad5f8d3');\n",
       "          const dataTable =\n",
       "            await google.colab.kernel.invokeFunction('convertToInteractive',\n",
       "                                                     [key], {});\n",
       "          if (!dataTable) return;\n",
       "\n",
       "          const docLinkHtml = 'Like what you see? Visit the ' +\n",
       "            '<a target=\"_blank\" href=https://colab.research.google.com/notebooks/data_table.ipynb>data table notebook</a>'\n",
       "            + ' to learn more about interactive tables.';\n",
       "          element.innerHTML = '';\n",
       "          dataTable['output_type'] = 'display_data';\n",
       "          await google.colab.output.renderOutput(dataTable, element);\n",
       "          const docLink = document.createElement('div');\n",
       "          docLink.innerHTML = docLinkHtml;\n",
       "          element.appendChild(docLink);\n",
       "        }\n",
       "      </script>\n",
       "    </div>\n",
       "  </div>\n",
       "  "
      ],
      "text/plain": [
       "        RGDP_x  HICP_x  RREP_x  IRLT_x   UNR_x    td_x\n",
       "RGDP_y  1.0000     0.0  0.0000  0.3534  0.0000  0.1321\n",
       "HICP_y  0.0000     1.0  0.0040  0.0000  0.0002  0.0052\n",
       "RREP_y  0.0000     0.0  1.0000  0.0000  0.0000  0.0000\n",
       "IRLT_y  0.0000     0.0  0.0000  1.0000  0.1838  0.1392\n",
       "UNR_y   0.0122     0.0  0.3728  0.0000  1.0000  0.0000\n",
       "td_y    0.0000     0.0  0.0000  0.0021  0.0050  1.0000"
      ]
     },
     "execution_count": 50,
     "metadata": {},
     "output_type": "execute_result"
    }
   ],
   "source": [
    "from statsmodels.tsa.stattools import grangercausalitytests\n",
    "maxlag=4\n",
    "test = 'ssr_chi2test'\n",
    "def grangers_causation_matrix(data, variables, test='ssr_chi2test', verbose=True):\n",
    "\n",
    "  \"\"\"Check Granger Causality of all possible combinations of the Time series.\n",
    "  The rows are the response variable, columns are predictors. The values in the table \n",
    "  are the P-Values. P-Values lesser than the significance level (0.05), implies \n",
    "  the Null Hypothesis that the coefficients of the corresponding past values is \n",
    "  zero, that is, the X does not cause Y can be rejected.\n",
    "  data      : pandas dataframe containing the time series variables\n",
    "  variables : list containing names of the time series variables.\n",
    "  \"\"\"\n",
    "  df = pd.DataFrame(np.zeros((len(variables), len(variables))), columns=variables, index=variables)\n",
    "  for c in df.columns:\n",
    "    for r in df.index:\n",
    "      test_result = grangercausalitytests(data[[r, c]], maxlag=maxlag, verbose=False)\n",
    "      p_values = [round(test_result[i+1][0][test][1],4) for i in range(maxlag)]\n",
    "      if verbose: print(f'Y = {r}, X = {c}, P Values = {p_values}')\n",
    "      min_p_value = np.min(p_values)\n",
    "      df.loc[r, c] = min_p_value\n",
    "  df.columns = [var + '_x' for var in variables]\n",
    "  df.index = [var + '_y' for var in variables]\n",
    "  return df\n",
    "\n",
    "grangers_causation_matrix(macro.dropna(), variables = macro.columns)        "
   ]
  },
  {
   "cell_type": "code",
   "execution_count": null,
   "id": "ITli9kGRuzEi",
   "metadata": {
    "colab": {
     "base_uri": "https://localhost:8080/",
     "height": 1000
    },
    "id": "ITli9kGRuzEi",
    "outputId": "974eea12-ae25-46f5-c02b-e85168de0682"
   },
   "outputs": [
    {
     "name": "stderr",
     "output_type": "stream",
     "text": [
      "/usr/local/lib/python3.8/dist-packages/statsmodels/tsa/stattools.py:1488: FutureWarning: verbose is deprecated since functions should not print results\n",
      "  warnings.warn(\n"
     ]
    },
    {
     "name": "stdout",
     "output_type": "stream",
     "text": [
      "Y = RGDP, X = RGDP, P Values = [1.0, 1.0, 1.0, 1.0]\n",
      "Y = HICP, X = RGDP, P Values = [0.0616, 0.1918, 0.0222, 0.0469]\n",
      "Y = RREP, X = RGDP, P Values = [0.0611, 0.1687, 0.0328, 0.0484]\n",
      "Y = IRLT, X = RGDP, P Values = [0.7134, 0.4591, 0.3958, 0.0]\n",
      "Y = UNR, X = RGDP, P Values = [0.8184, 0.9998, 0.9601, 0.0328]\n",
      "Y = td_diff, X = RGDP, P Values = [0.9402, 0.8916, 0.9459, 0.0]\n",
      "Y = td, X = RGDP, P Values = [0.87, 0.9887, 0.9541, 0.0337]\n",
      "Y = RGDP, X = HICP, P Values = [0.1184, 0.4305, 0.0, 0.0]\n",
      "Y = HICP, X = HICP, P Values = [1.0, 1.0, 1.0, 1.0]\n",
      "Y = RREP, X = HICP, P Values = [0.1661, 0.0019, 0.0065, 0.0]\n",
      "Y = IRLT, X = HICP, P Values = [0.2664, 0.0764, 0.0, 0.0]\n",
      "Y = UNR, X = HICP, P Values = [0.0966, 0.0078, 0.0003, 0.0043]\n",
      "Y = td_diff, X = HICP, P Values = [0.0636, 0.033, 0.1014, 0.2815]\n",
      "Y = td, X = HICP, P Values = [0.034, 0.1524, 0.0292, 0.0038]\n",
      "Y = RGDP, X = RREP, P Values = [0.4659, 0.9642, 0.0, 0.0]\n",
      "Y = HICP, X = RREP, P Values = [0.026, 0.0384, 0.6265, 0.8106]\n",
      "Y = RREP, X = RREP, P Values = [1.0, 1.0, 1.0, 1.0]\n",
      "Y = IRLT, X = RREP, P Values = [0.1148, 0.0062, 0.0043, 0.0]\n",
      "Y = UNR, X = RREP, P Values = [0.1679, 0.2414, 0.0211, 0.0]\n",
      "Y = td_diff, X = RREP, P Values = [0.3846, 0.0692, 0.0025, 0.0]\n",
      "Y = td, X = RREP, P Values = [0.1938, 0.0852, 0.2966, 0.0]\n",
      "Y = RGDP, X = IRLT, P Values = [0.8507, 0.9011, 0.4605, 0.0]\n",
      "Y = HICP, X = IRLT, P Values = [0.2081, 0.0353, 0.0003, 0.0023]\n",
      "Y = RREP, X = IRLT, P Values = [0.8711, 0.5926, 0.0378, 0.0115]\n",
      "Y = IRLT, X = IRLT, P Values = [1.0, 1.0, 1.0, 1.0]\n",
      "Y = UNR, X = IRLT, P Values = [0.5127, 0.7639, 0.5269, 0.0]\n",
      "Y = td_diff, X = IRLT, P Values = [0.3269, 0.2466, 0.0297, 0.0]\n",
      "Y = td, X = IRLT, P Values = [0.7203, 0.4803, 0.3785, 0.0]\n",
      "Y = RGDP, X = UNR, P Values = [0.8952, 0.0909, 0.0001, 0.0]\n",
      "Y = HICP, X = UNR, P Values = [0.6497, 0.4796, 0.4047, 0.0586]\n",
      "Y = RREP, X = UNR, P Values = [0.7174, 0.1839, 0.3344, 0.0707]\n",
      "Y = IRLT, X = UNR, P Values = [0.6533, 0.8478, 0.5093, 0.1481]\n",
      "Y = UNR, X = UNR, P Values = [1.0, 1.0, 1.0, 1.0]\n",
      "Y = td_diff, X = UNR, P Values = [0.7022, 0.6494, 0.0578, 0.8625]\n",
      "Y = td, X = UNR, P Values = [0.6164, 0.7378, 0.4678, 0.0003]\n",
      "Y = RGDP, X = td_diff, P Values = [0.4118, 0.5214, 0.3682, 0.2283]\n",
      "Y = HICP, X = td_diff, P Values = [0.94, 0.5615, 0.5873, 0.9289]\n",
      "Y = RREP, X = td_diff, P Values = [0.2998, 0.0086, 0.0352, 0.0]\n",
      "Y = IRLT, X = td_diff, P Values = [0.9636, 0.5439, 0.1806, 0.0348]\n",
      "Y = UNR, X = td_diff, P Values = [0.3597, 0.0073, 0.0, 0.0]\n",
      "Y = td_diff, X = td_diff, P Values = [1.0, 1.0, 1.0, 1.0]\n",
      "Y = td, X = td_diff, P Values = [0.2362, 0.3228, 0.0863, 0.1795]\n",
      "Y = RGDP, X = td, P Values = [0.4453, 0.5179, 0.5387, 0.2185]\n",
      "Y = HICP, X = td, P Values = [0.9927, 0.9095, 0.6925, 0.3682]\n",
      "Y = RREP, X = td, P Values = [0.6521, 0.4678, 0.0, 0.0022]\n",
      "Y = IRLT, X = td, P Values = [0.026, 0.052, 0.1543, 0.0432]\n",
      "Y = UNR, X = td, P Values = [0.6449, 0.0156, 0.005, 0.0]\n",
      "Y = td_diff, X = td, P Values = [0.0216, 0.0262, 0.0002, 0.0]\n",
      "Y = td, X = td, P Values = [1.0, 1.0, 1.0, 1.0]\n"
     ]
    },
    {
     "data": {
      "text/html": [
       "\n",
       "  <div id=\"df-71e96226-7da2-4243-b3ec-c1b5741f066b\">\n",
       "    <div class=\"colab-df-container\">\n",
       "      <div>\n",
       "<style scoped>\n",
       "    .dataframe tbody tr th:only-of-type {\n",
       "        vertical-align: middle;\n",
       "    }\n",
       "\n",
       "    .dataframe tbody tr th {\n",
       "        vertical-align: top;\n",
       "    }\n",
       "\n",
       "    .dataframe thead th {\n",
       "        text-align: right;\n",
       "    }\n",
       "</style>\n",
       "<table border=\"1\" class=\"dataframe\">\n",
       "  <thead>\n",
       "    <tr style=\"text-align: right;\">\n",
       "      <th></th>\n",
       "      <th>RGDP_x</th>\n",
       "      <th>HICP_x</th>\n",
       "      <th>RREP_x</th>\n",
       "      <th>IRLT_x</th>\n",
       "      <th>UNR_x</th>\n",
       "      <th>td_diff_x</th>\n",
       "      <th>td_x</th>\n",
       "    </tr>\n",
       "  </thead>\n",
       "  <tbody>\n",
       "    <tr>\n",
       "      <th>RGDP_y</th>\n",
       "      <td>1.0000</td>\n",
       "      <td>0.0000</td>\n",
       "      <td>0.000</td>\n",
       "      <td>0.0000</td>\n",
       "      <td>0.0000</td>\n",
       "      <td>0.2283</td>\n",
       "      <td>0.2185</td>\n",
       "    </tr>\n",
       "    <tr>\n",
       "      <th>HICP_y</th>\n",
       "      <td>0.0222</td>\n",
       "      <td>1.0000</td>\n",
       "      <td>0.026</td>\n",
       "      <td>0.0003</td>\n",
       "      <td>0.0586</td>\n",
       "      <td>0.5615</td>\n",
       "      <td>0.3682</td>\n",
       "    </tr>\n",
       "    <tr>\n",
       "      <th>RREP_y</th>\n",
       "      <td>0.0328</td>\n",
       "      <td>0.0000</td>\n",
       "      <td>1.000</td>\n",
       "      <td>0.0115</td>\n",
       "      <td>0.0707</td>\n",
       "      <td>0.0000</td>\n",
       "      <td>0.0000</td>\n",
       "    </tr>\n",
       "    <tr>\n",
       "      <th>IRLT_y</th>\n",
       "      <td>0.0000</td>\n",
       "      <td>0.0000</td>\n",
       "      <td>0.000</td>\n",
       "      <td>1.0000</td>\n",
       "      <td>0.1481</td>\n",
       "      <td>0.0348</td>\n",
       "      <td>0.0260</td>\n",
       "    </tr>\n",
       "    <tr>\n",
       "      <th>UNR_y</th>\n",
       "      <td>0.0328</td>\n",
       "      <td>0.0003</td>\n",
       "      <td>0.000</td>\n",
       "      <td>0.0000</td>\n",
       "      <td>1.0000</td>\n",
       "      <td>0.0000</td>\n",
       "      <td>0.0000</td>\n",
       "    </tr>\n",
       "    <tr>\n",
       "      <th>td_diff_y</th>\n",
       "      <td>0.0000</td>\n",
       "      <td>0.0330</td>\n",
       "      <td>0.000</td>\n",
       "      <td>0.0000</td>\n",
       "      <td>0.0578</td>\n",
       "      <td>1.0000</td>\n",
       "      <td>0.0000</td>\n",
       "    </tr>\n",
       "    <tr>\n",
       "      <th>td_y</th>\n",
       "      <td>0.0337</td>\n",
       "      <td>0.0038</td>\n",
       "      <td>0.000</td>\n",
       "      <td>0.0000</td>\n",
       "      <td>0.0003</td>\n",
       "      <td>0.0863</td>\n",
       "      <td>1.0000</td>\n",
       "    </tr>\n",
       "  </tbody>\n",
       "</table>\n",
       "</div>\n",
       "      <button class=\"colab-df-convert\" onclick=\"convertToInteractive('df-71e96226-7da2-4243-b3ec-c1b5741f066b')\"\n",
       "              title=\"Convert this dataframe to an interactive table.\"\n",
       "              style=\"display:none;\">\n",
       "        \n",
       "  <svg xmlns=\"http://www.w3.org/2000/svg\" height=\"24px\"viewBox=\"0 0 24 24\"\n",
       "       width=\"24px\">\n",
       "    <path d=\"M0 0h24v24H0V0z\" fill=\"none\"/>\n",
       "    <path d=\"M18.56 5.44l.94 2.06.94-2.06 2.06-.94-2.06-.94-.94-2.06-.94 2.06-2.06.94zm-11 1L8.5 8.5l.94-2.06 2.06-.94-2.06-.94L8.5 2.5l-.94 2.06-2.06.94zm10 10l.94 2.06.94-2.06 2.06-.94-2.06-.94-.94-2.06-.94 2.06-2.06.94z\"/><path d=\"M17.41 7.96l-1.37-1.37c-.4-.4-.92-.59-1.43-.59-.52 0-1.04.2-1.43.59L10.3 9.45l-7.72 7.72c-.78.78-.78 2.05 0 2.83L4 21.41c.39.39.9.59 1.41.59.51 0 1.02-.2 1.41-.59l7.78-7.78 2.81-2.81c.8-.78.8-2.07 0-2.86zM5.41 20L4 18.59l7.72-7.72 1.47 1.35L5.41 20z\"/>\n",
       "  </svg>\n",
       "      </button>\n",
       "      \n",
       "  <style>\n",
       "    .colab-df-container {\n",
       "      display:flex;\n",
       "      flex-wrap:wrap;\n",
       "      gap: 12px;\n",
       "    }\n",
       "\n",
       "    .colab-df-convert {\n",
       "      background-color: #E8F0FE;\n",
       "      border: none;\n",
       "      border-radius: 50%;\n",
       "      cursor: pointer;\n",
       "      display: none;\n",
       "      fill: #1967D2;\n",
       "      height: 32px;\n",
       "      padding: 0 0 0 0;\n",
       "      width: 32px;\n",
       "    }\n",
       "\n",
       "    .colab-df-convert:hover {\n",
       "      background-color: #E2EBFA;\n",
       "      box-shadow: 0px 1px 2px rgba(60, 64, 67, 0.3), 0px 1px 3px 1px rgba(60, 64, 67, 0.15);\n",
       "      fill: #174EA6;\n",
       "    }\n",
       "\n",
       "    [theme=dark] .colab-df-convert {\n",
       "      background-color: #3B4455;\n",
       "      fill: #D2E3FC;\n",
       "    }\n",
       "\n",
       "    [theme=dark] .colab-df-convert:hover {\n",
       "      background-color: #434B5C;\n",
       "      box-shadow: 0px 1px 3px 1px rgba(0, 0, 0, 0.15);\n",
       "      filter: drop-shadow(0px 1px 2px rgba(0, 0, 0, 0.3));\n",
       "      fill: #FFFFFF;\n",
       "    }\n",
       "  </style>\n",
       "\n",
       "      <script>\n",
       "        const buttonEl =\n",
       "          document.querySelector('#df-71e96226-7da2-4243-b3ec-c1b5741f066b button.colab-df-convert');\n",
       "        buttonEl.style.display =\n",
       "          google.colab.kernel.accessAllowed ? 'block' : 'none';\n",
       "\n",
       "        async function convertToInteractive(key) {\n",
       "          const element = document.querySelector('#df-71e96226-7da2-4243-b3ec-c1b5741f066b');\n",
       "          const dataTable =\n",
       "            await google.colab.kernel.invokeFunction('convertToInteractive',\n",
       "                                                     [key], {});\n",
       "          if (!dataTable) return;\n",
       "\n",
       "          const docLinkHtml = 'Like what you see? Visit the ' +\n",
       "            '<a target=\"_blank\" href=https://colab.research.google.com/notebooks/data_table.ipynb>data table notebook</a>'\n",
       "            + ' to learn more about interactive tables.';\n",
       "          element.innerHTML = '';\n",
       "          dataTable['output_type'] = 'display_data';\n",
       "          await google.colab.output.renderOutput(dataTable, element);\n",
       "          const docLink = document.createElement('div');\n",
       "          docLink.innerHTML = docLinkHtml;\n",
       "          element.appendChild(docLink);\n",
       "        }\n",
       "      </script>\n",
       "    </div>\n",
       "  </div>\n",
       "  "
      ],
      "text/plain": [
       "           RGDP_x  HICP_x  RREP_x  IRLT_x   UNR_x  td_diff_x    td_x\n",
       "RGDP_y     1.0000  0.0000   0.000  0.0000  0.0000     0.2283  0.2185\n",
       "HICP_y     0.0222  1.0000   0.026  0.0003  0.0586     0.5615  0.3682\n",
       "RREP_y     0.0328  0.0000   1.000  0.0115  0.0707     0.0000  0.0000\n",
       "IRLT_y     0.0000  0.0000   0.000  1.0000  0.1481     0.0348  0.0260\n",
       "UNR_y      0.0328  0.0003   0.000  0.0000  1.0000     0.0000  0.0000\n",
       "td_diff_y  0.0000  0.0330   0.000  0.0000  0.0578     1.0000  0.0000\n",
       "td_y       0.0337  0.0038   0.000  0.0000  0.0003     0.0863  1.0000"
      ]
     },
     "execution_count": 51,
     "metadata": {},
     "output_type": "execute_result"
    }
   ],
   "source": [
    "grangers_causation_matrix(macro_diff_dropna.dropna(), variables = macro_diff_dropna.columns)        "
   ]
  },
  {
   "cell_type": "code",
   "execution_count": null,
   "id": "-x8r7BwaqY_F",
   "metadata": {
    "id": "-x8r7BwaqY_F"
   },
   "outputs": [],
   "source": [
    "# If a given p-value is < significance level (0.05), then, the corresponding X series (column) causes the Y (row)."
   ]
  },
  {
   "cell_type": "markdown",
   "id": "Rd1lI0W6aCe7",
   "metadata": {
    "id": "Rd1lI0W6aCe7"
   },
   "source": [
    "# **Bayesian model average - BMA**"
   ]
  },
  {
   "cell_type": "code",
   "execution_count": 21,
   "id": "E6PZeBSAbARz",
   "metadata": {
    "colab": {
     "base_uri": "https://localhost:8080/",
     "height": 238
    },
    "id": "E6PZeBSAbARz",
    "outputId": "720339ed-0c91-4eaa-ae1d-96bc1073a90f"
   },
   "outputs": [
    {
     "data": {
      "text/html": [
       "\n",
       "  <div id=\"df-89a15fa8-f72e-40b3-b5fb-9752dd9eea68\">\n",
       "    <div class=\"colab-df-container\">\n",
       "      <div>\n",
       "<style scoped>\n",
       "    .dataframe tbody tr th:only-of-type {\n",
       "        vertical-align: middle;\n",
       "    }\n",
       "\n",
       "    .dataframe tbody tr th {\n",
       "        vertical-align: top;\n",
       "    }\n",
       "\n",
       "    .dataframe thead th {\n",
       "        text-align: right;\n",
       "    }\n",
       "</style>\n",
       "<table border=\"1\" class=\"dataframe\">\n",
       "  <thead>\n",
       "    <tr style=\"text-align: right;\">\n",
       "      <th></th>\n",
       "      <th>RGDP</th>\n",
       "      <th>HICP</th>\n",
       "      <th>RREP</th>\n",
       "      <th>IRLT</th>\n",
       "      <th>UNR</th>\n",
       "      <th>td</th>\n",
       "    </tr>\n",
       "    <tr>\n",
       "      <th>Date</th>\n",
       "      <th></th>\n",
       "      <th></th>\n",
       "      <th></th>\n",
       "      <th></th>\n",
       "      <th></th>\n",
       "      <th></th>\n",
       "    </tr>\n",
       "  </thead>\n",
       "  <tbody>\n",
       "    <tr>\n",
       "      <th>2009-01-31</th>\n",
       "      <td>NaN</td>\n",
       "      <td>NaN</td>\n",
       "      <td>NaN</td>\n",
       "      <td>NaN</td>\n",
       "      <td>NaN</td>\n",
       "      <td>NaN</td>\n",
       "    </tr>\n",
       "    <tr>\n",
       "      <th>2009-04-30</th>\n",
       "      <td>0.581847</td>\n",
       "      <td>1.160876</td>\n",
       "      <td>0.151032</td>\n",
       "      <td>0.229358</td>\n",
       "      <td>6.782559</td>\n",
       "      <td>NaN</td>\n",
       "    </tr>\n",
       "    <tr>\n",
       "      <th>2009-07-31</th>\n",
       "      <td>0.324505</td>\n",
       "      <td>-0.416953</td>\n",
       "      <td>-0.645107</td>\n",
       "      <td>-6.178490</td>\n",
       "      <td>2.184877</td>\n",
       "      <td>NaN</td>\n",
       "    </tr>\n",
       "    <tr>\n",
       "      <th>2009-10-31</th>\n",
       "      <td>0.268196</td>\n",
       "      <td>1.106115</td>\n",
       "      <td>-1.509402</td>\n",
       "      <td>-0.487805</td>\n",
       "      <td>2.610692</td>\n",
       "      <td>NaN</td>\n",
       "    </tr>\n",
       "    <tr>\n",
       "      <th>2010-01-31</th>\n",
       "      <td>0.747525</td>\n",
       "      <td>-0.079115</td>\n",
       "      <td>0.941781</td>\n",
       "      <td>-1.960784</td>\n",
       "      <td>1.357811</td>\n",
       "      <td>0.059661</td>\n",
       "    </tr>\n",
       "  </tbody>\n",
       "</table>\n",
       "</div>\n",
       "      <button class=\"colab-df-convert\" onclick=\"convertToInteractive('df-89a15fa8-f72e-40b3-b5fb-9752dd9eea68')\"\n",
       "              title=\"Convert this dataframe to an interactive table.\"\n",
       "              style=\"display:none;\">\n",
       "        \n",
       "  <svg xmlns=\"http://www.w3.org/2000/svg\" height=\"24px\"viewBox=\"0 0 24 24\"\n",
       "       width=\"24px\">\n",
       "    <path d=\"M0 0h24v24H0V0z\" fill=\"none\"/>\n",
       "    <path d=\"M18.56 5.44l.94 2.06.94-2.06 2.06-.94-2.06-.94-.94-2.06-.94 2.06-2.06.94zm-11 1L8.5 8.5l.94-2.06 2.06-.94-2.06-.94L8.5 2.5l-.94 2.06-2.06.94zm10 10l.94 2.06.94-2.06 2.06-.94-2.06-.94-.94-2.06-.94 2.06-2.06.94z\"/><path d=\"M17.41 7.96l-1.37-1.37c-.4-.4-.92-.59-1.43-.59-.52 0-1.04.2-1.43.59L10.3 9.45l-7.72 7.72c-.78.78-.78 2.05 0 2.83L4 21.41c.39.39.9.59 1.41.59.51 0 1.02-.2 1.41-.59l7.78-7.78 2.81-2.81c.8-.78.8-2.07 0-2.86zM5.41 20L4 18.59l7.72-7.72 1.47 1.35L5.41 20z\"/>\n",
       "  </svg>\n",
       "      </button>\n",
       "      \n",
       "  <style>\n",
       "    .colab-df-container {\n",
       "      display:flex;\n",
       "      flex-wrap:wrap;\n",
       "      gap: 12px;\n",
       "    }\n",
       "\n",
       "    .colab-df-convert {\n",
       "      background-color: #E8F0FE;\n",
       "      border: none;\n",
       "      border-radius: 50%;\n",
       "      cursor: pointer;\n",
       "      display: none;\n",
       "      fill: #1967D2;\n",
       "      height: 32px;\n",
       "      padding: 0 0 0 0;\n",
       "      width: 32px;\n",
       "    }\n",
       "\n",
       "    .colab-df-convert:hover {\n",
       "      background-color: #E2EBFA;\n",
       "      box-shadow: 0px 1px 2px rgba(60, 64, 67, 0.3), 0px 1px 3px 1px rgba(60, 64, 67, 0.15);\n",
       "      fill: #174EA6;\n",
       "    }\n",
       "\n",
       "    [theme=dark] .colab-df-convert {\n",
       "      background-color: #3B4455;\n",
       "      fill: #D2E3FC;\n",
       "    }\n",
       "\n",
       "    [theme=dark] .colab-df-convert:hover {\n",
       "      background-color: #434B5C;\n",
       "      box-shadow: 0px 1px 3px 1px rgba(0, 0, 0, 0.15);\n",
       "      filter: drop-shadow(0px 1px 2px rgba(0, 0, 0, 0.3));\n",
       "      fill: #FFFFFF;\n",
       "    }\n",
       "  </style>\n",
       "\n",
       "      <script>\n",
       "        const buttonEl =\n",
       "          document.querySelector('#df-89a15fa8-f72e-40b3-b5fb-9752dd9eea68 button.colab-df-convert');\n",
       "        buttonEl.style.display =\n",
       "          google.colab.kernel.accessAllowed ? 'block' : 'none';\n",
       "\n",
       "        async function convertToInteractive(key) {\n",
       "          const element = document.querySelector('#df-89a15fa8-f72e-40b3-b5fb-9752dd9eea68');\n",
       "          const dataTable =\n",
       "            await google.colab.kernel.invokeFunction('convertToInteractive',\n",
       "                                                     [key], {});\n",
       "          if (!dataTable) return;\n",
       "\n",
       "          const docLinkHtml = 'Like what you see? Visit the ' +\n",
       "            '<a target=\"_blank\" href=https://colab.research.google.com/notebooks/data_table.ipynb>data table notebook</a>'\n",
       "            + ' to learn more about interactive tables.';\n",
       "          element.innerHTML = '';\n",
       "          dataTable['output_type'] = 'display_data';\n",
       "          await google.colab.output.renderOutput(dataTable, element);\n",
       "          const docLink = document.createElement('div');\n",
       "          docLink.innerHTML = docLinkHtml;\n",
       "          element.appendChild(docLink);\n",
       "        }\n",
       "      </script>\n",
       "    </div>\n",
       "  </div>\n",
       "  "
      ],
      "text/plain": [
       "                RGDP      HICP      RREP      IRLT       UNR        td\n",
       "Date                                                                  \n",
       "2009-01-31       NaN       NaN       NaN       NaN       NaN       NaN\n",
       "2009-04-30  0.581847  1.160876  0.151032  0.229358  6.782559       NaN\n",
       "2009-07-31  0.324505 -0.416953 -0.645107 -6.178490  2.184877       NaN\n",
       "2009-10-31  0.268196  1.106115 -1.509402 -0.487805  2.610692       NaN\n",
       "2010-01-31  0.747525 -0.079115  0.941781 -1.960784  1.357811  0.059661"
      ]
     },
     "execution_count": 21,
     "metadata": {},
     "output_type": "execute_result"
    }
   ],
   "source": [
    "import itertools\n",
    "adl = macro_ADL.copy()\n",
    "df = macro_ADL.copy()\n",
    "df.head()"
   ]
  },
  {
   "cell_type": "code",
   "execution_count": 22,
   "id": "rTLdAVYzfXnM",
   "metadata": {
    "colab": {
     "base_uri": "https://localhost:8080/"
    },
    "id": "rTLdAVYzfXnM",
    "outputId": "2bc0dc08-de7d-4853-dd97-fbc9339f65b3"
   },
   "outputs": [
    {
     "name": "stdout",
     "output_type": "stream",
     "text": [
      "Index(['RGDP', 'HICP', 'RREP', 'IRLT', 'UNR', 'td'], dtype='object')\n"
     ]
    }
   ],
   "source": [
    "# calculer les Lags \n",
    "df_lags = pd.concat([df.shift(1), df.shift(2), df.shift(3), df.shift(4)], axis=1)\n",
    "# Print the original DataFrame and the lagged DataFrame\n",
    "print(df.columns)\n",
    "df_lags.columns = ['RGDP_lag1', 'HICP_lag1', 'RREP_lag1', 'IRLT_lag1', 'UNR_lag1', \"td_lag1\",\n",
    "                   'RGDP_lag2', 'HICP_lag2', 'RREP_lag2', 'IRLT_lag2', 'UNR_lag2', \"td_lag2\",\n",
    "                   'RGDP_lag3', 'HICP_lag3', 'RREP_lag3', 'IRLT_lag3', 'UNR_lag3', \"td_lag3\",\n",
    "                   'RGDP_lag4', 'HICP_lag4', 'RREP_lag4', 'IRLT_lag4', 'UNR_lag4', \"td_lag4\"]\n",
    "df_lags[['RGDP', 'HICP', 'RREP', 'IRLT', 'UNR', 'td']] = df[['RGDP', 'HICP', 'RREP', 'IRLT', 'UNR', 'td']]\n",
    "#df_lags.head(10)\n",
    "df_lags = df_lags.dropna()\n",
    "\n"
   ]
  },
  {
   "cell_type": "code",
   "execution_count": null,
   "id": "E5-uwsFo3rHV",
   "metadata": {
    "id": "E5-uwsFo3rHV"
   },
   "outputs": [],
   "source": [
    "# Define the dependent variable and the independent variables (with lags)\n",
    "y = df_lags[\"td\"]\n",
    "X = df_lags.drop(\"td\", axis=1)\n",
    "\n",
    "# Create a list of all possible combinations of independent variables\n",
    "combos = []\n",
    "for i in range(1, len(X.columns) + 1):\n",
    "    combos.extend(itertools.combinations(X.columns, i))\n",
    "\n",
    "# Initialize an empty DataFrame to store the results\n",
    "df = pd.DataFrame(columns=['variables', 'bic', 'logv', 'pval_shapiro', 'pval_kolmogorov', 'mean_resid', 'nb_var_vif_above_5',\n",
    "                           'nb_vars'])\n",
    "\n",
    "# Loop through all possible combinations of independent variables\n",
    "for combo in combos:\n",
    "    # Fit an OLS model using the current combination of independent variables\n",
    "    if len(combo) > 1:\n",
    "        results = sm.OLS(y, sm.add_constant(X[list(combo)])).fit()\n",
    "    else:\n",
    "        results = sm.OLS(y, X[list(combo)]).fit()\n",
    "    \n",
    "    # Verify the assumptions of normality and multicollinearity\n",
    "    resid = results.resid\n",
    "    p_shapiro = shapiro(resid).pvalue\n",
    "    p_kolmogorov = kstest(resid, 'norm').pvalue\n",
    "    vif = pd.DataFrame()\n",
    "    if X[list(combo)].shape[1] > 2:\n",
    "        vif['VIF'] = [variance_inflation_factor(X[list(combo)].values, i) for i in range(len(combo))]\n",
    "        nb_vif_high = (vif['VIF'] > 5).sum()\n",
    "    else:\n",
    "        nb_vif_high = 0\n",
    "        \n",
    "    # Save the results in the DataFrame\n",
    "    params_dict = {var + '_param': param for var, param in zip(results.params.index, results.params)}\n",
    "    params_dict.pop(\"const_param\", None)\n",
    "    pvals_dict = {var + '_pval': results.pvalues[i] for i, var in enumerate(results.params.index)}\n",
    "    pvals_dict.pop(\"const_pval\", None)\n",
    "    row = {\n",
    "        'variables': list(combo),\n",
    "        'bic': results.bic,\n",
    "        'logv': results.llf,\n",
    "        'pval_shapiro': p_shapiro,\n",
    "        'pval_kolmogorov': p_kolmogorov,\n",
    "        'mean_resid': resid.mean(),\n",
    "        'nb_var_vif_above_5': nb_vif_high,\n",
    "        'nb_vars': len(combo),\n",
    "        **params_dict,\n",
    "        **pvals_dict\n",
    "    }\n",
    "    df = df.append(row, ignore_index=True)\n",
    "\n",
    "# Rearrange the columns of the DataFrame\n",
    "cols = ['variables', 'nb_vars', 'bic', 'logv', 'mean_resid', 'nb_var_vif_above_5', 'pval_shapiro', 'pval_kolmogorov']\n",
    "for col in X.columns:\n",
    "    if col in df.columns:\n",
    "        cols.append(col + '_param')\n",
    "        cols.append(col + '_pval')\n",
    "\n",
    "# Print the DataFrame\n",
    "df\n"
   ]
  },
  {
   "cell_type": "code",
   "execution_count": null,
   "id": "bEgKeEEkC0G7",
   "metadata": {
    "id": "bEgKeEEkC0G7"
   },
   "outputs": [],
   "source": []
  },
  {
   "cell_type": "code",
   "execution_count": null,
   "id": "OC-oZV6NopcT",
   "metadata": {
    "id": "OC-oZV6NopcT"
   },
   "outputs": [],
   "source": []
  }
 ],
 "metadata": {
  "colab": {
   "collapsed_sections": [
    "-7aqEqe77pFT",
    "W4DkQzODbbHb",
    "Sj3p527MW-Mu",
    "MffEZm4GfxHA"
   ],
   "provenance": []
  },
  "kernelspec": {
   "display_name": "Python 3 (ipykernel)",
   "language": "python",
   "name": "python3"
  },
  "language_info": {
   "codemirror_mode": {
    "name": "ipython",
    "version": 3
   },
   "file_extension": ".py",
   "mimetype": "text/x-python",
   "name": "python",
   "nbconvert_exporter": "python",
   "pygments_lexer": "ipython3",
   "version": "3.10.9"
  }
 },
 "nbformat": 4,
 "nbformat_minor": 5
}
