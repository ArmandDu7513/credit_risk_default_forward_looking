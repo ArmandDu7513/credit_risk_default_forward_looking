{
 "cells": [
  {
   "cell_type": "markdown",
   "id": "FGyvmhyOaOw0",
   "metadata": {
    "id": "FGyvmhyOaOw0"
   },
   "source": [
    "# Packages\n"
   ]
  },
  {
   "cell_type": "code",
   "execution_count": 1,
   "id": "d9fd4d6d",
   "metadata": {
    "id": "d9fd4d6d"
   },
   "outputs": [],
   "source": [
    "import pandas as pd\n",
    "import numpy as np\n",
    "\n",
    "import datetime\n",
    "import statsmodels.api as sm\n",
    "from statsmodels.graphics.tsaplots import plot_acf\n",
    "from statsmodels.graphics.tsaplots import plot_pacf\n",
    "from statsmodels.tsa.stattools import kpss\n",
    "from arch.unitroot import PhillipsPerron\n",
    "from statsmodels.tsa.stattools import adfuller\n",
    "\n",
    "\n",
    "from sklearn.preprocessing import StandardScaler\n",
    "from statsmodels.tsa.seasonal import seasonal_decompose\n",
    "\n",
    "import plotly.express as px\n",
    "import matplotlib.pyplot as plt\n",
    "import seaborn as sns\n",
    "import plotly.graph_objs as go\n",
    "\n",
    "from scipy.stats import shapiro, kstest, anderson\n",
    "from scipy.stats import kendalltau\n",
    "\n",
    "from statsmodels.stats.outliers_influence import variance_inflation_factor\n",
    "\n",
    "from sklearn.metrics import r2_score\n",
    "from sklearn.metrics import mean_squared_error\n",
    "\n",
    "import warnings\n",
    "warnings.filterwarnings(\"ignore\")"
   ]
  },
  {
   "cell_type": "code",
   "execution_count": 2,
   "id": "b91d475f",
   "metadata": {},
   "outputs": [],
   "source": [
    "#import functions_module\n",
    "from functions_module import remove_season, lissage_moyenne_mobile, logit, import_and_series_transformation, highlight_variables, highlight_result, highlight_value, ljung_box, show_acf_pacf, AugmenteDickeyFuller_test, PhillipsPerron_test, kpss_test, drop_trimestrielle_or_annuelle_if_wanted\n",
    "from functions_module import concat_tests_and_sort, draw_conclusion_stationary, readable_conclusions, newey_west_tests_find_beta, compute_var_lagged, commpute_corr_matrix, choosing_seuil_corr_to_DR, commpute_corr_matrix_var_macro\n"
   ]
  },
  {
   "cell_type": "code",
   "execution_count": 3,
   "id": "b24c498e",
   "metadata": {},
   "outputs": [],
   "source": [
    "td = pd.read_excel(\"data/default_rate_quarterly.xlsx\")\n",
    "macro_adverse = pd.read_excel(\"data/variables_macroeconomiques_adverse.xlsx\")\n",
    "macro_baseline = pd.read_excel(\"data/variables_macroeconomiques_baseline.xlsx\")\n",
    "\n",
    "# création du dataframe, avec les variables macro et le TD, index par la date\n",
    "td = td.set_index(\"Date\")\n",
    "macro_adverse = macro_adverse.set_index(\"Date\")\n",
    "macro_adverse[\"td\"]=td\n",
    "\n",
    "# Variation mensuelle\n",
    "macro_adverse[['RGDP_tri', 'HICP_tri', 'IRLT_tri',  'RREP_tri', 'UNR_tri']] = (macro_adverse[['RGDP', 'HICP', 'IRLT',  'RREP', 'UNR']] - macro_adverse[['RGDP', 'HICP', 'IRLT',  'RREP', 'UNR']].shift(1)) / macro_adverse[['RGDP', 'HICP', 'IRLT',  'RREP', 'UNR']].shift(1)\n",
    "# Variation annuelle\n",
    "macro_adverse[['RGDP_ann', 'HICP_ann', 'IRLT_ann',  'RREP_ann', 'UNR_ann']] = (macro_adverse[['RGDP', 'HICP', 'IRLT',  'RREP', 'UNR']] - macro_adverse[['RGDP', 'HICP', 'IRLT',  'RREP', 'UNR']].shift(4)) / macro_adverse[['RGDP', 'HICP', 'IRLT',  'RREP', 'UNR']].shift(4)\n",
    "# retirons les variables brutes\n",
    "col_brutes = ['RGDP', 'HICP', 'IRLT',  'RREP', 'UNR']\n",
    "macro_adverse=macro_adverse.drop(col_brutes, axis=1)\n",
    "\n",
    "macro_lagged_adv = compute_var_lagged(macro_adverse, 2, 5, 1)\n",
    "macro_lagged_for_model_adv = macro_lagged_adv.copy()"
   ]
  },
  {
   "cell_type": "markdown",
   "id": "5f4c1549",
   "metadata": {},
   "source": [
    "### Pipeline finale pour obternir un dataframe avec les transformations voulues"
   ]
  },
  {
   "cell_type": "code",
   "execution_count": 4,
   "id": "2a2a2418",
   "metadata": {},
   "outputs": [],
   "source": [
    "drop_na = 'Non'\n",
    "list_col_saison = ['HICP']\n",
    "list_col_lissage = ['RGDP_ann', 'RGDP_tri']\n",
    "logit_choix = 'Non'\n",
    "\n",
    "macro = import_and_series_transformation(drop_na, list_col_saison, list_col_lissage, logit_choix)"
   ]
  },
  {
   "cell_type": "code",
   "execution_count": 5,
   "id": "a8edabb9",
   "metadata": {},
   "outputs": [
    {
     "data": {
      "text/plain": [
       "(48, 11)"
      ]
     },
     "execution_count": 5,
     "metadata": {},
     "output_type": "execute_result"
    }
   ],
   "source": [
    "types_var_choix = 'toutes' # sinon {'trimestrielle', 'annuelle'}\n",
    "\n",
    "macro = drop_trimestrielle_or_annuelle_if_wanted(macro, types_var_choix)\n",
    "np.shape(macro)"
   ]
  },
  {
   "cell_type": "markdown",
   "id": "d9b0260d",
   "metadata": {
    "id": "-7aqEqe77pFT"
   },
   "source": [
    "# **Analyses PACF et ACF**\n",
    "\n"
   ]
  },
  {
   "cell_type": "code",
   "execution_count": 6,
   "id": "123efd88",
   "metadata": {},
   "outputs": [
    {
     "name": "stderr",
     "output_type": "stream",
     "text": [
      "2023-04-05 13:56:16.618 \n",
      "  \u001b[33m\u001b[1mWarning:\u001b[0m to view this Streamlit app on a browser, run it with the following\n",
      "  command:\n",
      "\n",
      "    streamlit run c:\\Users\\arman\\miniconda3\\envs\\creditenv\\lib\\site-packages\\ipykernel_launcher.py [ARGUMENTS]\n"
     ]
    },
    {
     "data": {
      "image/png": "[encoded data removed]",
      "text/plain": [
       "<Figure size 1200x500 with 2 Axes>"
      ]
     },
     "metadata": {},
     "output_type": "display_data"
    }
   ],
   "source": [
    "show_acf_pacf(macro, 'RGDP_tri')"
   ]
  },
  {
   "cell_type": "markdown",
   "id": "ufpRmeCF03fZ",
   "metadata": {
    "id": "ufpRmeCF03fZ"
   },
   "source": [
    "**Seul le PIB a l'air presque stationnaire. Mais sinon on détecte des AR(1) souvent**"
   ]
  },
  {
   "cell_type": "markdown",
   "id": "-ERWWmGcEV5U",
   "metadata": {
    "id": "-ERWWmGcEV5U"
   },
   "source": [
    "**Tests de stationnarité** *KPSS and Philips Perron*"
   ]
  },
  {
   "cell_type": "markdown",
   "id": "W4DkQzODbbHb",
   "metadata": {
    "id": "W4DkQzODbbHb"
   },
   "source": [
    "# ***Les tests***"
   ]
  },
  {
   "cell_type": "markdown",
   "id": "-TkboM6P_BcS",
   "metadata": {
    "id": "-TkboM6P_BcS"
   },
   "source": [
    "**Ljung-Box Test**\n",
    "\n",
    "We could use to pvalues : Ljung-Box and Box-Pierce. But Ljung-Box and Box-Pierce statistic differ in their scaling of the autocorrelation function. Ljung-Box test is has better finite-sample properties. Ljung-Box is best in our case"
   ]
  },
  {
   "cell_type": "code",
   "execution_count": 7,
   "id": "Hze3emC_NcCX",
   "metadata": {
    "colab": {
     "base_uri": "https://localhost:8080/",
     "height": 921
    },
    "id": "Hze3emC_NcCX",
    "outputId": "317e5d5f-4551-4ea8-a0b1-c1a6eb9f7870"
   },
   "outputs": [
    {
     "data": {
      "text/html": [
       "<div>\n",
       "<style scoped>\n",
       "    .dataframe tbody tr th:only-of-type {\n",
       "        vertical-align: middle;\n",
       "    }\n",
       "\n",
       "    .dataframe tbody tr th {\n",
       "        vertical-align: top;\n",
       "    }\n",
       "\n",
       "    .dataframe thead th {\n",
       "        text-align: right;\n",
       "    }\n",
       "</style>\n",
       "<table border=\"1\" class=\"dataframe\">\n",
       "  <thead>\n",
       "    <tr style=\"text-align: right;\">\n",
       "      <th></th>\n",
       "      <th>Variable</th>\n",
       "      <th>Ljung-Box Statistic</th>\n",
       "      <th>p-value</th>\n",
       "      <th>Résultat</th>\n",
       "    </tr>\n",
       "  </thead>\n",
       "  <tbody>\n",
       "    <tr>\n",
       "      <th>0</th>\n",
       "      <td>RGDP_tri</td>\n",
       "      <td>0.037419</td>\n",
       "      <td>0.999986</td>\n",
       "      <td>Les résidus sont indépendants</td>\n",
       "    </tr>\n",
       "    <tr>\n",
       "      <th>1</th>\n",
       "      <td>HICP_tri</td>\n",
       "      <td>12.404887</td>\n",
       "      <td>0.029642</td>\n",
       "      <td>Les résidus NE sont PAS indépendants : il y a ...</td>\n",
       "    </tr>\n",
       "    <tr>\n",
       "      <th>2</th>\n",
       "      <td>IRLT_tri</td>\n",
       "      <td>2.470383</td>\n",
       "      <td>0.780949</td>\n",
       "      <td>Les résidus sont indépendants</td>\n",
       "    </tr>\n",
       "    <tr>\n",
       "      <th>3</th>\n",
       "      <td>RREP_tri</td>\n",
       "      <td>11.092339</td>\n",
       "      <td>0.049580</td>\n",
       "      <td>Les résidus NE sont PAS indépendants : il y a ...</td>\n",
       "    </tr>\n",
       "    <tr>\n",
       "      <th>4</th>\n",
       "      <td>UNR_tri</td>\n",
       "      <td>0.400435</td>\n",
       "      <td>0.995318</td>\n",
       "      <td>Les résidus sont indépendants</td>\n",
       "    </tr>\n",
       "    <tr>\n",
       "      <th>5</th>\n",
       "      <td>RGDP_ann</td>\n",
       "      <td>0.370254</td>\n",
       "      <td>0.996109</td>\n",
       "      <td>Les résidus sont indépendants</td>\n",
       "    </tr>\n",
       "    <tr>\n",
       "      <th>6</th>\n",
       "      <td>HICP_ann</td>\n",
       "      <td>7.020063</td>\n",
       "      <td>0.219152</td>\n",
       "      <td>Les résidus sont indépendants</td>\n",
       "    </tr>\n",
       "    <tr>\n",
       "      <th>7</th>\n",
       "      <td>IRLT_ann</td>\n",
       "      <td>5.291310</td>\n",
       "      <td>0.381372</td>\n",
       "      <td>Les résidus sont indépendants</td>\n",
       "    </tr>\n",
       "    <tr>\n",
       "      <th>8</th>\n",
       "      <td>RREP_ann</td>\n",
       "      <td>11.146938</td>\n",
       "      <td>0.048543</td>\n",
       "      <td>Les résidus NE sont PAS indépendants : il y a ...</td>\n",
       "    </tr>\n",
       "    <tr>\n",
       "      <th>9</th>\n",
       "      <td>UNR_ann</td>\n",
       "      <td>4.347762</td>\n",
       "      <td>0.500507</td>\n",
       "      <td>Les résidus sont indépendants</td>\n",
       "    </tr>\n",
       "  </tbody>\n",
       "</table>\n",
       "</div>"
      ],
      "text/plain": [
       "   Variable  Ljung-Box Statistic   p-value  \\\n",
       "0  RGDP_tri             0.037419  0.999986   \n",
       "1  HICP_tri            12.404887  0.029642   \n",
       "2  IRLT_tri             2.470383  0.780949   \n",
       "3  RREP_tri            11.092339  0.049580   \n",
       "4   UNR_tri             0.400435  0.995318   \n",
       "5  RGDP_ann             0.370254  0.996109   \n",
       "6  HICP_ann             7.020063  0.219152   \n",
       "7  IRLT_ann             5.291310  0.381372   \n",
       "8  RREP_ann            11.146938  0.048543   \n",
       "9   UNR_ann             4.347762  0.500507   \n",
       "\n",
       "                                            Résultat  \n",
       "0                      Les résidus sont indépendants  \n",
       "1  Les résidus NE sont PAS indépendants : il y a ...  \n",
       "2                      Les résidus sont indépendants  \n",
       "3  Les résidus NE sont PAS indépendants : il y a ...  \n",
       "4                      Les résidus sont indépendants  \n",
       "5                      Les résidus sont indépendants  \n",
       "6                      Les résidus sont indépendants  \n",
       "7                      Les résidus sont indépendants  \n",
       "8  Les résidus NE sont PAS indépendants : il y a ...  \n",
       "9                      Les résidus sont indépendants  "
      ]
     },
     "execution_count": 7,
     "metadata": {},
     "output_type": "execute_result"
    }
   ],
   "source": [
    "drop_td='Yes'\n",
    "results_Ljung_box = ljung_box(macro, drop_td)\n",
    "results_Ljung_box"
   ]
  },
  {
   "cell_type": "markdown",
   "id": "mAbqKDz9EbZf",
   "metadata": {
    "id": "mAbqKDz9EbZf"
   },
   "source": [
    "***KPSS*** \n",
    "\n",
    "Taking the null hypothesis as a stationary process and the unit\n",
    "root as an alternative is in accordance with a conservative testing strategy. If we then reject the null hypothesis, we can\n",
    "be pretty confident that the series indeed has a unit root. (Plaff, 2008)"
   ]
  },
  {
   "cell_type": "code",
   "execution_count": 8,
   "id": "ISPcYh-Qf2jJ",
   "metadata": {
    "colab": {
     "base_uri": "https://localhost:8080/",
     "height": 730
    },
    "id": "ISPcYh-Qf2jJ",
    "outputId": "c89d8052-e170-475a-fe67-b7ca34eb9a77"
   },
   "outputs": [
    {
     "data": {
      "text/html": [
       "<div>\n",
       "<style scoped>\n",
       "    .dataframe tbody tr th:only-of-type {\n",
       "        vertical-align: middle;\n",
       "    }\n",
       "\n",
       "    .dataframe tbody tr th {\n",
       "        vertical-align: top;\n",
       "    }\n",
       "\n",
       "    .dataframe thead th {\n",
       "        text-align: right;\n",
       "    }\n",
       "</style>\n",
       "<table border=\"1\" class=\"dataframe\">\n",
       "  <thead>\n",
       "    <tr style=\"text-align: right;\">\n",
       "      <th></th>\n",
       "      <th>Test</th>\n",
       "      <th>Variable</th>\n",
       "      <th>Regression</th>\n",
       "      <th>Test Statistic</th>\n",
       "      <th>p-value</th>\n",
       "      <th>Lags Used</th>\n",
       "      <th>Résultat</th>\n",
       "    </tr>\n",
       "  </thead>\n",
       "  <tbody>\n",
       "    <tr>\n",
       "      <th>0</th>\n",
       "      <td>KPSS</td>\n",
       "      <td>RGDP_tri</td>\n",
       "      <td>c</td>\n",
       "      <td>0.269</td>\n",
       "      <td>0.100</td>\n",
       "      <td>2</td>\n",
       "      <td>Stationnaire</td>\n",
       "    </tr>\n",
       "    <tr>\n",
       "      <th>1</th>\n",
       "      <td>KPSS</td>\n",
       "      <td>HICP_tri</td>\n",
       "      <td>c</td>\n",
       "      <td>0.353</td>\n",
       "      <td>0.098</td>\n",
       "      <td>3</td>\n",
       "      <td>Stationnaire</td>\n",
       "    </tr>\n",
       "    <tr>\n",
       "      <th>2</th>\n",
       "      <td>KPSS</td>\n",
       "      <td>IRLT_tri</td>\n",
       "      <td>c</td>\n",
       "      <td>0.099</td>\n",
       "      <td>0.100</td>\n",
       "      <td>3</td>\n",
       "      <td>Stationnaire</td>\n",
       "    </tr>\n",
       "    <tr>\n",
       "      <th>3</th>\n",
       "      <td>KPSS</td>\n",
       "      <td>RREP_tri</td>\n",
       "      <td>c</td>\n",
       "      <td>0.371</td>\n",
       "      <td>0.090</td>\n",
       "      <td>2</td>\n",
       "      <td>Stationnaire</td>\n",
       "    </tr>\n",
       "    <tr>\n",
       "      <th>4</th>\n",
       "      <td>KPSS</td>\n",
       "      <td>UNR_tri</td>\n",
       "      <td>c</td>\n",
       "      <td>0.164</td>\n",
       "      <td>0.100</td>\n",
       "      <td>0</td>\n",
       "      <td>Stationnaire</td>\n",
       "    </tr>\n",
       "    <tr>\n",
       "      <th>5</th>\n",
       "      <td>KPSS</td>\n",
       "      <td>RGDP_ann</td>\n",
       "      <td>c</td>\n",
       "      <td>0.208</td>\n",
       "      <td>0.100</td>\n",
       "      <td>3</td>\n",
       "      <td>Stationnaire</td>\n",
       "    </tr>\n",
       "    <tr>\n",
       "      <th>6</th>\n",
       "      <td>KPSS</td>\n",
       "      <td>HICP_ann</td>\n",
       "      <td>c</td>\n",
       "      <td>0.445</td>\n",
       "      <td>0.058</td>\n",
       "      <td>4</td>\n",
       "      <td>Stationnaire</td>\n",
       "    </tr>\n",
       "    <tr>\n",
       "      <th>7</th>\n",
       "      <td>KPSS</td>\n",
       "      <td>IRLT_ann</td>\n",
       "      <td>c</td>\n",
       "      <td>0.108</td>\n",
       "      <td>0.100</td>\n",
       "      <td>3</td>\n",
       "      <td>Stationnaire</td>\n",
       "    </tr>\n",
       "    <tr>\n",
       "      <th>8</th>\n",
       "      <td>KPSS</td>\n",
       "      <td>RREP_ann</td>\n",
       "      <td>c</td>\n",
       "      <td>0.294</td>\n",
       "      <td>0.100</td>\n",
       "      <td>4</td>\n",
       "      <td>Stationnaire</td>\n",
       "    </tr>\n",
       "    <tr>\n",
       "      <th>9</th>\n",
       "      <td>KPSS</td>\n",
       "      <td>UNR_ann</td>\n",
       "      <td>c</td>\n",
       "      <td>0.483</td>\n",
       "      <td>0.045</td>\n",
       "      <td>4</td>\n",
       "      <td>Non Stationnaire</td>\n",
       "    </tr>\n",
       "  </tbody>\n",
       "</table>\n",
       "</div>"
      ],
      "text/plain": [
       "   Test  Variable Regression  Test Statistic  p-value  Lags Used  \\\n",
       "0  KPSS  RGDP_tri          c           0.269    0.100          2   \n",
       "1  KPSS  HICP_tri          c           0.353    0.098          3   \n",
       "2  KPSS  IRLT_tri          c           0.099    0.100          3   \n",
       "3  KPSS  RREP_tri          c           0.371    0.090          2   \n",
       "4  KPSS   UNR_tri          c           0.164    0.100          0   \n",
       "5  KPSS  RGDP_ann          c           0.208    0.100          3   \n",
       "6  KPSS  HICP_ann          c           0.445    0.058          4   \n",
       "7  KPSS  IRLT_ann          c           0.108    0.100          3   \n",
       "8  KPSS  RREP_ann          c           0.294    0.100          4   \n",
       "9  KPSS   UNR_ann          c           0.483    0.045          4   \n",
       "\n",
       "           Résultat  \n",
       "0      Stationnaire  \n",
       "1      Stationnaire  \n",
       "2      Stationnaire  \n",
       "3      Stationnaire  \n",
       "4      Stationnaire  \n",
       "5      Stationnaire  \n",
       "6      Stationnaire  \n",
       "7      Stationnaire  \n",
       "8      Stationnaire  \n",
       "9  Non Stationnaire  "
      ]
     },
     "execution_count": 8,
     "metadata": {},
     "output_type": "execute_result"
    }
   ],
   "source": [
    "# fixons les types de regressions qu'on veut tester pendant la stationnarité\n",
    "regression_type_kpss = 'c' # peut être {'c', 'ct', 'c_et_ct'} \n",
    "\n",
    "if regression_type_kpss == 'c':\n",
    "    results_kpss = kpss_test(macro.drop('td', axis=1).dropna(), regression='c')\n",
    "elif regression_type_kpss == 'ct':\n",
    "    results_kpss = kpss_test(macro.drop('td', axis=1).dropna(), regression='ct')\n",
    "else : # 'c_et_ct'\n",
    "    results_c = kpss_test(macro.drop('td', axis=1).dropna(), regression='c')\n",
    "    results_ct = kpss_test(macro.drop('td', axis=1).dropna(), regression='ct')\n",
    "    results_kpss = pd.concat([results_c, results_ct], ignore_index=True)\n",
    "results_kpss.style.applymap(highlight_result, subset=['Résultat'])\n",
    "\n",
    "results_kpss"
   ]
  },
  {
   "cell_type": "markdown",
   "id": "edf552b1",
   "metadata": {},
   "source": [
    "***PP*** "
   ]
  },
  {
   "cell_type": "code",
   "execution_count": 9,
   "id": "GS5TKRt7c-h2",
   "metadata": {
    "colab": {
     "base_uri": "https://localhost:8080/",
     "height": 520
    },
    "id": "GS5TKRt7c-h2",
    "outputId": "0a15a1cc-bdff-450d-c875-a6ed82945a14"
   },
   "outputs": [
    {
     "data": {
      "text/html": [
       "<div>\n",
       "<style scoped>\n",
       "    .dataframe tbody tr th:only-of-type {\n",
       "        vertical-align: middle;\n",
       "    }\n",
       "\n",
       "    .dataframe tbody tr th {\n",
       "        vertical-align: top;\n",
       "    }\n",
       "\n",
       "    .dataframe thead th {\n",
       "        text-align: right;\n",
       "    }\n",
       "</style>\n",
       "<table border=\"1\" class=\"dataframe\">\n",
       "  <thead>\n",
       "    <tr style=\"text-align: right;\">\n",
       "      <th></th>\n",
       "      <th>Test</th>\n",
       "      <th>Variable</th>\n",
       "      <th>Regression</th>\n",
       "      <th>Test Statistic</th>\n",
       "      <th>p-value</th>\n",
       "      <th>Lags Used</th>\n",
       "      <th>Résultat</th>\n",
       "    </tr>\n",
       "  </thead>\n",
       "  <tbody>\n",
       "    <tr>\n",
       "      <th>RGDP_tri</th>\n",
       "      <td>PP</td>\n",
       "      <td>RGDP_tri</td>\n",
       "      <td>n</td>\n",
       "      <td>-4.035</td>\n",
       "      <td>0.000</td>\n",
       "      <td>10</td>\n",
       "      <td>Stationnaire</td>\n",
       "    </tr>\n",
       "    <tr>\n",
       "      <th>HICP_tri</th>\n",
       "      <td>PP</td>\n",
       "      <td>HICP_tri</td>\n",
       "      <td>n</td>\n",
       "      <td>-7.429</td>\n",
       "      <td>0.000</td>\n",
       "      <td>10</td>\n",
       "      <td>Stationnaire</td>\n",
       "    </tr>\n",
       "    <tr>\n",
       "      <th>IRLT_tri</th>\n",
       "      <td>PP</td>\n",
       "      <td>IRLT_tri</td>\n",
       "      <td>n</td>\n",
       "      <td>-5.183</td>\n",
       "      <td>0.000</td>\n",
       "      <td>10</td>\n",
       "      <td>Stationnaire</td>\n",
       "    </tr>\n",
       "    <tr>\n",
       "      <th>RREP_tri</th>\n",
       "      <td>PP</td>\n",
       "      <td>RREP_tri</td>\n",
       "      <td>n</td>\n",
       "      <td>-5.863</td>\n",
       "      <td>0.000</td>\n",
       "      <td>10</td>\n",
       "      <td>Stationnaire</td>\n",
       "    </tr>\n",
       "    <tr>\n",
       "      <th>UNR_tri</th>\n",
       "      <td>PP</td>\n",
       "      <td>UNR_tri</td>\n",
       "      <td>n</td>\n",
       "      <td>-8.626</td>\n",
       "      <td>0.000</td>\n",
       "      <td>10</td>\n",
       "      <td>Stationnaire</td>\n",
       "    </tr>\n",
       "    <tr>\n",
       "      <th>RGDP_ann</th>\n",
       "      <td>PP</td>\n",
       "      <td>RGDP_ann</td>\n",
       "      <td>n</td>\n",
       "      <td>-3.291</td>\n",
       "      <td>0.001</td>\n",
       "      <td>10</td>\n",
       "      <td>Stationnaire</td>\n",
       "    </tr>\n",
       "    <tr>\n",
       "      <th>HICP_ann</th>\n",
       "      <td>PP</td>\n",
       "      <td>HICP_ann</td>\n",
       "      <td>n</td>\n",
       "      <td>-1.445</td>\n",
       "      <td>0.139</td>\n",
       "      <td>10</td>\n",
       "      <td>Non Stationnaire</td>\n",
       "    </tr>\n",
       "    <tr>\n",
       "      <th>IRLT_ann</th>\n",
       "      <td>PP</td>\n",
       "      <td>IRLT_ann</td>\n",
       "      <td>n</td>\n",
       "      <td>-2.257</td>\n",
       "      <td>0.023</td>\n",
       "      <td>10</td>\n",
       "      <td>Stationnaire</td>\n",
       "    </tr>\n",
       "    <tr>\n",
       "      <th>RREP_ann</th>\n",
       "      <td>PP</td>\n",
       "      <td>RREP_ann</td>\n",
       "      <td>n</td>\n",
       "      <td>-1.383</td>\n",
       "      <td>0.155</td>\n",
       "      <td>10</td>\n",
       "      <td>Non Stationnaire</td>\n",
       "    </tr>\n",
       "    <tr>\n",
       "      <th>UNR_ann</th>\n",
       "      <td>PP</td>\n",
       "      <td>UNR_ann</td>\n",
       "      <td>n</td>\n",
       "      <td>-2.363</td>\n",
       "      <td>0.017</td>\n",
       "      <td>10</td>\n",
       "      <td>Stationnaire</td>\n",
       "    </tr>\n",
       "  </tbody>\n",
       "</table>\n",
       "</div>"
      ],
      "text/plain": [
       "         Test  Variable Regression  Test Statistic  p-value  Lags Used  \\\n",
       "RGDP_tri   PP  RGDP_tri          n          -4.035    0.000         10   \n",
       "HICP_tri   PP  HICP_tri          n          -7.429    0.000         10   \n",
       "IRLT_tri   PP  IRLT_tri          n          -5.183    0.000         10   \n",
       "RREP_tri   PP  RREP_tri          n          -5.863    0.000         10   \n",
       "UNR_tri    PP   UNR_tri          n          -8.626    0.000         10   \n",
       "RGDP_ann   PP  RGDP_ann          n          -3.291    0.001         10   \n",
       "HICP_ann   PP  HICP_ann          n          -1.445    0.139         10   \n",
       "IRLT_ann   PP  IRLT_ann          n          -2.257    0.023         10   \n",
       "RREP_ann   PP  RREP_ann          n          -1.383    0.155         10   \n",
       "UNR_ann    PP   UNR_ann          n          -2.363    0.017         10   \n",
       "\n",
       "                  Résultat  \n",
       "RGDP_tri      Stationnaire  \n",
       "HICP_tri      Stationnaire  \n",
       "IRLT_tri      Stationnaire  \n",
       "RREP_tri      Stationnaire  \n",
       "UNR_tri       Stationnaire  \n",
       "RGDP_ann      Stationnaire  \n",
       "HICP_ann  Non Stationnaire  \n",
       "IRLT_ann      Stationnaire  \n",
       "RREP_ann  Non Stationnaire  \n",
       "UNR_ann       Stationnaire  "
      ]
     },
     "execution_count": 9,
     "metadata": {},
     "output_type": "execute_result"
    }
   ],
   "source": [
    "# fixons les types de regressions qu'on veut tester pendant la stationnarité\n",
    "regression_type_pp = 'n' # peut être {'n', 'c', 'ct', 'n_et_c', 'n_et_ct', 'c_et_ct', 'all'} \n",
    "\n",
    "if regression_type_pp == 'n':\n",
    "    results_pp = PhillipsPerron_test(macro.drop('td', axis=1).dropna(), regression='n')\n",
    "elif regression_type_pp == 'c':\n",
    "    results_pp = PhillipsPerron_test(macro.drop('td', axis=1).dropna(), regression='c')\n",
    "elif regression_type_pp == 'ct':\n",
    "    results_pp = PhillipsPerron_test(macro.drop('td', axis=1).dropna(), regression='ct')\n",
    "elif regression_type_pp == 'n_et_c':\n",
    "    results_n = PhillipsPerron_test(macro.drop('td', axis=1).dropna(), regression='n')\n",
    "    results_c = PhillipsPerron_test(macro.drop('td', axis=1).dropna(), regression='c')\n",
    "    results_pp = pd.concat([results_n, results_c], ignore_index=True)\n",
    "elif regression_type_pp == 'n_et_ct':\n",
    "    results_n = PhillipsPerron_test(macro.drop('td', axis=1).dropna(), regression='n')\n",
    "    results_ct = PhillipsPerron_test(macro.drop('td', axis=1).dropna(), regression='ct')\n",
    "    results_pp = pd.concat([results_n, results_ct], ignore_index=True)\n",
    "elif regression_type_pp == 'c_et_ct':\n",
    "    results_c = PhillipsPerron_test(macro.drop('td', axis=1).dropna(), regression='c')\n",
    "    results_ct = PhillipsPerron_test(macro.drop('td', axis=1).dropna(), regression='ct')\n",
    "    results_pp = pd.concat([results_c, results_ct], ignore_index=True)\n",
    "else:\n",
    "    results_n = PhillipsPerron_test(macro.drop('td', axis=1).dropna(), regression='n')\n",
    "    results_c = PhillipsPerron_test(macro.drop('td', axis=1).dropna(), regression='c')\n",
    "    results_ct = PhillipsPerron_test(macro.drop('td', axis=1).dropna(), regression='ct')\n",
    "    results_pp = pd.concat([results_n, results_c, results_ct], ignore_index=True)\n",
    "results_pp.style.applymap(highlight_result, subset=['Résultat'])\n",
    "results_pp"
   ]
  },
  {
   "cell_type": "markdown",
   "id": "0d919c9d",
   "metadata": {},
   "source": [
    "***ADF***"
   ]
  },
  {
   "cell_type": "code",
   "execution_count": 10,
   "id": "fd12dbd4",
   "metadata": {},
   "outputs": [
    {
     "data": {
      "text/html": [
       "<div>\n",
       "<style scoped>\n",
       "    .dataframe tbody tr th:only-of-type {\n",
       "        vertical-align: middle;\n",
       "    }\n",
       "\n",
       "    .dataframe tbody tr th {\n",
       "        vertical-align: top;\n",
       "    }\n",
       "\n",
       "    .dataframe thead th {\n",
       "        text-align: right;\n",
       "    }\n",
       "</style>\n",
       "<table border=\"1\" class=\"dataframe\">\n",
       "  <thead>\n",
       "    <tr style=\"text-align: right;\">\n",
       "      <th></th>\n",
       "      <th>Test</th>\n",
       "      <th>Variable</th>\n",
       "      <th>Regression</th>\n",
       "      <th>Test Statistic</th>\n",
       "      <th>p-value</th>\n",
       "      <th>Lags Used</th>\n",
       "      <th>Résultat</th>\n",
       "    </tr>\n",
       "  </thead>\n",
       "  <tbody>\n",
       "    <tr>\n",
       "      <th>RGDP_tri</th>\n",
       "      <td>ADF</td>\n",
       "      <td>RGDP_tri</td>\n",
       "      <td>n</td>\n",
       "      <td>-4.131</td>\n",
       "      <td>0.000</td>\n",
       "      <td>0</td>\n",
       "      <td>Stationnaire</td>\n",
       "    </tr>\n",
       "    <tr>\n",
       "      <th>HICP_tri</th>\n",
       "      <td>ADF</td>\n",
       "      <td>HICP_tri</td>\n",
       "      <td>n</td>\n",
       "      <td>-2.462</td>\n",
       "      <td>0.013</td>\n",
       "      <td>1</td>\n",
       "      <td>Stationnaire</td>\n",
       "    </tr>\n",
       "    <tr>\n",
       "      <th>IRLT_tri</th>\n",
       "      <td>ADF</td>\n",
       "      <td>IRLT_tri</td>\n",
       "      <td>n</td>\n",
       "      <td>-2.738</td>\n",
       "      <td>0.006</td>\n",
       "      <td>10</td>\n",
       "      <td>Stationnaire</td>\n",
       "    </tr>\n",
       "    <tr>\n",
       "      <th>RREP_tri</th>\n",
       "      <td>ADF</td>\n",
       "      <td>RREP_tri</td>\n",
       "      <td>n</td>\n",
       "      <td>-0.995</td>\n",
       "      <td>0.290</td>\n",
       "      <td>7</td>\n",
       "      <td>Non Stationnaire</td>\n",
       "    </tr>\n",
       "    <tr>\n",
       "      <th>UNR_tri</th>\n",
       "      <td>ADF</td>\n",
       "      <td>UNR_tri</td>\n",
       "      <td>n</td>\n",
       "      <td>-9.007</td>\n",
       "      <td>0.000</td>\n",
       "      <td>0</td>\n",
       "      <td>Stationnaire</td>\n",
       "    </tr>\n",
       "    <tr>\n",
       "      <th>RGDP_ann</th>\n",
       "      <td>ADF</td>\n",
       "      <td>RGDP_ann</td>\n",
       "      <td>n</td>\n",
       "      <td>-3.267</td>\n",
       "      <td>0.001</td>\n",
       "      <td>0</td>\n",
       "      <td>Stationnaire</td>\n",
       "    </tr>\n",
       "    <tr>\n",
       "      <th>HICP_ann</th>\n",
       "      <td>ADF</td>\n",
       "      <td>HICP_ann</td>\n",
       "      <td>n</td>\n",
       "      <td>-2.466</td>\n",
       "      <td>0.013</td>\n",
       "      <td>9</td>\n",
       "      <td>Stationnaire</td>\n",
       "    </tr>\n",
       "    <tr>\n",
       "      <th>IRLT_ann</th>\n",
       "      <td>ADF</td>\n",
       "      <td>IRLT_ann</td>\n",
       "      <td>n</td>\n",
       "      <td>-2.944</td>\n",
       "      <td>0.003</td>\n",
       "      <td>10</td>\n",
       "      <td>Stationnaire</td>\n",
       "    </tr>\n",
       "    <tr>\n",
       "      <th>RREP_ann</th>\n",
       "      <td>ADF</td>\n",
       "      <td>RREP_ann</td>\n",
       "      <td>n</td>\n",
       "      <td>-1.193</td>\n",
       "      <td>0.213</td>\n",
       "      <td>4</td>\n",
       "      <td>Non Stationnaire</td>\n",
       "    </tr>\n",
       "    <tr>\n",
       "      <th>UNR_ann</th>\n",
       "      <td>ADF</td>\n",
       "      <td>UNR_ann</td>\n",
       "      <td>n</td>\n",
       "      <td>-1.845</td>\n",
       "      <td>0.062</td>\n",
       "      <td>1</td>\n",
       "      <td>Non Stationnaire</td>\n",
       "    </tr>\n",
       "  </tbody>\n",
       "</table>\n",
       "</div>"
      ],
      "text/plain": [
       "         Test  Variable Regression  Test Statistic  p-value  Lags Used  \\\n",
       "RGDP_tri  ADF  RGDP_tri          n          -4.131    0.000          0   \n",
       "HICP_tri  ADF  HICP_tri          n          -2.462    0.013          1   \n",
       "IRLT_tri  ADF  IRLT_tri          n          -2.738    0.006         10   \n",
       "RREP_tri  ADF  RREP_tri          n          -0.995    0.290          7   \n",
       "UNR_tri   ADF   UNR_tri          n          -9.007    0.000          0   \n",
       "RGDP_ann  ADF  RGDP_ann          n          -3.267    0.001          0   \n",
       "HICP_ann  ADF  HICP_ann          n          -2.466    0.013          9   \n",
       "IRLT_ann  ADF  IRLT_ann          n          -2.944    0.003         10   \n",
       "RREP_ann  ADF  RREP_ann          n          -1.193    0.213          4   \n",
       "UNR_ann   ADF   UNR_ann          n          -1.845    0.062          1   \n",
       "\n",
       "                  Résultat  \n",
       "RGDP_tri      Stationnaire  \n",
       "HICP_tri      Stationnaire  \n",
       "IRLT_tri      Stationnaire  \n",
       "RREP_tri  Non Stationnaire  \n",
       "UNR_tri       Stationnaire  \n",
       "RGDP_ann      Stationnaire  \n",
       "HICP_ann      Stationnaire  \n",
       "IRLT_ann      Stationnaire  \n",
       "RREP_ann  Non Stationnaire  \n",
       "UNR_ann   Non Stationnaire  "
      ]
     },
     "execution_count": 10,
     "metadata": {},
     "output_type": "execute_result"
    }
   ],
   "source": [
    "# fixons les types de regressions qu'on veut tester pendant la stationnarité\n",
    "if regression_type_pp == 'n':\n",
    "    results_adf = AugmenteDickeyFuller_test(macro.drop('td', axis=1).dropna(), regression='n')\n",
    "elif regression_type_pp == 'c':\n",
    "    results_adf = AugmenteDickeyFuller_test(macro.drop('td', axis=1).dropna(), regression='c')\n",
    "elif regression_type_pp == 'ct':\n",
    "    results_adf = AugmenteDickeyFuller_test(macro.drop('td', axis=1).dropna(), regression='ct')\n",
    "elif regression_type_pp == 'n_et_c':\n",
    "    results_n = AugmenteDickeyFuller_test(macro.drop('td', axis=1).dropna(), regression='n')\n",
    "    results_c = AugmenteDickeyFuller_test(macro.drop('td', axis=1).dropna(), regression='c')\n",
    "    results_adf = pd.concat([results_n, results_c], ignore_index=True)\n",
    "elif regression_type_pp == 'n_et_ct':\n",
    "    results_n = AugmenteDickeyFuller_test(macro.drop('td', axis=1).dropna(), regression='n')\n",
    "    results_ct = AugmenteDickeyFuller_test(macro.drop('td', axis=1).dropna(), regression='ct')\n",
    "    results_adf = pd.concat([results_n, results_ct], ignore_index=True)\n",
    "elif regression_type_pp == 'c_et_ct':\n",
    "    results_c = AugmenteDickeyFuller_test(macro.drop('td', axis=1).dropna(), regression='c')\n",
    "    results_ct = AugmenteDickeyFuller_test(macro.drop('td', axis=1).dropna(), regression='ct')\n",
    "    results_adf = pd.concat([results_c, results_ct], ignore_index=True)\n",
    "else:\n",
    "    results_n = AugmenteDickeyFuller_test(macro.drop('td', axis=1).dropna(), regression='n')\n",
    "    results_c = AugmenteDickeyFuller_test(macro.drop('td', axis=1).dropna(), regression='c')\n",
    "    results_ct = AugmenteDickeyFuller_test(macro.drop('td', axis=1).dropna(), regression='ct')\n",
    "    results_adf = pd.concat([results_n, results_c, results_ct], ignore_index=True)\n",
    "results_adf.style.applymap(highlight_result, subset=['Résultat'])\n",
    "results_adf"
   ]
  },
  {
   "cell_type": "markdown",
   "id": "cea4b63b",
   "metadata": {},
   "source": [
    "## ***Tous les tests***"
   ]
  },
  {
   "cell_type": "code",
   "execution_count": 11,
   "id": "a55d9f24",
   "metadata": {},
   "outputs": [
    {
     "data": {
      "text/html": [
       "<div>\n",
       "<style scoped>\n",
       "    .dataframe tbody tr th:only-of-type {\n",
       "        vertical-align: middle;\n",
       "    }\n",
       "\n",
       "    .dataframe tbody tr th {\n",
       "        vertical-align: top;\n",
       "    }\n",
       "\n",
       "    .dataframe thead th {\n",
       "        text-align: right;\n",
       "    }\n",
       "</style>\n",
       "<table border=\"1\" class=\"dataframe\">\n",
       "  <thead>\n",
       "    <tr style=\"text-align: right;\">\n",
       "      <th></th>\n",
       "      <th>Variable</th>\n",
       "      <th>Proportion de conclusion positive pour la stationnarité (%)</th>\n",
       "      <th>Décision Finale</th>\n",
       "    </tr>\n",
       "  </thead>\n",
       "  <tbody>\n",
       "    <tr>\n",
       "      <th>0</th>\n",
       "      <td>HICP_ann</td>\n",
       "      <td>66.67</td>\n",
       "      <td>Stationnaire</td>\n",
       "    </tr>\n",
       "    <tr>\n",
       "      <th>1</th>\n",
       "      <td>HICP_tri</td>\n",
       "      <td>100.00</td>\n",
       "      <td>Stationnaire</td>\n",
       "    </tr>\n",
       "    <tr>\n",
       "      <th>2</th>\n",
       "      <td>IRLT_ann</td>\n",
       "      <td>100.00</td>\n",
       "      <td>Stationnaire</td>\n",
       "    </tr>\n",
       "    <tr>\n",
       "      <th>3</th>\n",
       "      <td>IRLT_tri</td>\n",
       "      <td>100.00</td>\n",
       "      <td>Stationnaire</td>\n",
       "    </tr>\n",
       "    <tr>\n",
       "      <th>4</th>\n",
       "      <td>RGDP_ann</td>\n",
       "      <td>100.00</td>\n",
       "      <td>Stationnaire</td>\n",
       "    </tr>\n",
       "    <tr>\n",
       "      <th>5</th>\n",
       "      <td>RGDP_tri</td>\n",
       "      <td>100.00</td>\n",
       "      <td>Stationnaire</td>\n",
       "    </tr>\n",
       "    <tr>\n",
       "      <th>6</th>\n",
       "      <td>RREP_ann</td>\n",
       "      <td>33.33</td>\n",
       "      <td>Non Stationnaire</td>\n",
       "    </tr>\n",
       "    <tr>\n",
       "      <th>7</th>\n",
       "      <td>RREP_tri</td>\n",
       "      <td>66.67</td>\n",
       "      <td>Stationnaire</td>\n",
       "    </tr>\n",
       "    <tr>\n",
       "      <th>8</th>\n",
       "      <td>UNR_ann</td>\n",
       "      <td>33.33</td>\n",
       "      <td>Non Stationnaire</td>\n",
       "    </tr>\n",
       "    <tr>\n",
       "      <th>9</th>\n",
       "      <td>UNR_tri</td>\n",
       "      <td>100.00</td>\n",
       "      <td>Stationnaire</td>\n",
       "    </tr>\n",
       "  </tbody>\n",
       "</table>\n",
       "</div>"
      ],
      "text/plain": [
       "   Variable  Proportion de conclusion positive pour la stationnarité (%)  \\\n",
       "0  HICP_ann                                              66.67             \n",
       "1  HICP_tri                                             100.00             \n",
       "2  IRLT_ann                                             100.00             \n",
       "3  IRLT_tri                                             100.00             \n",
       "4  RGDP_ann                                             100.00             \n",
       "5  RGDP_tri                                             100.00             \n",
       "6  RREP_ann                                              33.33             \n",
       "7  RREP_tri                                              66.67             \n",
       "8   UNR_ann                                              33.33             \n",
       "9   UNR_tri                                             100.00             \n",
       "\n",
       "    Décision Finale  \n",
       "0      Stationnaire  \n",
       "1      Stationnaire  \n",
       "2      Stationnaire  \n",
       "3      Stationnaire  \n",
       "4      Stationnaire  \n",
       "5      Stationnaire  \n",
       "6  Non Stationnaire  \n",
       "7      Stationnaire  \n",
       "8  Non Stationnaire  \n",
       "9      Stationnaire  "
      ]
     },
     "execution_count": 11,
     "metadata": {},
     "output_type": "execute_result"
    }
   ],
   "source": [
    "resultats_des_tests = concat_tests_and_sort(results_kpss, results_pp, results_adf)\n",
    "nb_variables_studies = len(resultats_des_tests['Variable'].unique())\n",
    "conclusions = draw_conclusion_stationary(resultats_des_tests, nb_variables_studies)\n",
    "conclusions_readable = readable_conclusions(conclusions)\n",
    "conclusions_readable.style.applymap(highlight_result, subset=['Décision Finale'])\n",
    "conclusions_readable"
   ]
  },
  {
   "cell_type": "code",
   "execution_count": 12,
   "id": "1b4b6682",
   "metadata": {},
   "outputs": [],
   "source": [
    "list_var_stationary = conclusions_readable[conclusions_readable['Décision Finale']=='Stationnaire']['Variable'].unique().tolist()\n",
    "macro_stationary = macro[list_var_stationary+ ['td']]"
   ]
  },
  {
   "cell_type": "markdown",
   "id": "58db3e14",
   "metadata": {},
   "source": [
    "# Stationnarité du taux de defaut "
   ]
  },
  {
   "cell_type": "code",
   "execution_count": 13,
   "id": "06pmPOSXLB3_",
   "metadata": {
    "colab": {
     "base_uri": "https://localhost:8080/",
     "height": 545
    },
    "id": "06pmPOSXLB3_",
    "outputId": "7d51a5fe-e90f-4fbc-e8ca-93c1285b29c8"
   },
   "outputs": [
    {
     "data": {
      "text/html": [
       "<div>\n",
       "<style scoped>\n",
       "    .dataframe tbody tr th:only-of-type {\n",
       "        vertical-align: middle;\n",
       "    }\n",
       "\n",
       "    .dataframe tbody tr th {\n",
       "        vertical-align: top;\n",
       "    }\n",
       "\n",
       "    .dataframe thead th {\n",
       "        text-align: right;\n",
       "    }\n",
       "</style>\n",
       "<table border=\"1\" class=\"dataframe\">\n",
       "  <thead>\n",
       "    <tr style=\"text-align: right;\">\n",
       "      <th></th>\n",
       "      <th>Variable</th>\n",
       "      <th>Ljung-Box Statistic</th>\n",
       "      <th>p-value</th>\n",
       "      <th>Résultat</th>\n",
       "    </tr>\n",
       "  </thead>\n",
       "  <tbody>\n",
       "    <tr>\n",
       "      <th>0</th>\n",
       "      <td>td</td>\n",
       "      <td>3.879696</td>\n",
       "      <td>0.566864</td>\n",
       "      <td>Les résidus sont indépendants</td>\n",
       "    </tr>\n",
       "  </tbody>\n",
       "</table>\n",
       "</div>"
      ],
      "text/plain": [
       "  Variable  Ljung-Box Statistic   p-value                       Résultat\n",
       "0       td             3.879696  0.566864  Les résidus sont indépendants"
      ]
     },
     "execution_count": 13,
     "metadata": {},
     "output_type": "execute_result"
    }
   ],
   "source": [
    "td_serie = pd.DataFrame(macro['td']).dropna()\n",
    "drop_td='No'\n",
    "lj_b = ljung_box(td_serie, drop_td)\n",
    "lj_b"
   ]
  },
  {
   "cell_type": "code",
   "execution_count": 14,
   "id": "LDfIBtnrLgnJ",
   "metadata": {
    "colab": {
     "base_uri": "https://localhost:8080/",
     "height": 236
    },
    "id": "LDfIBtnrLgnJ",
    "outputId": "7ef9b3a0-dc5e-4b3f-dceb-759a2596c9c5"
   },
   "outputs": [
    {
     "data": {
      "text/html": [
       "<style type=\"text/css\">\n",
       "#T_cb7e2_row0_col6, #T_cb7e2_row1_col6, #T_cb7e2_row2_col6 {\n",
       "  color: white;\n",
       "  background-color: mediumvioletred;\n",
       "}\n",
       "</style>\n",
       "<table id=\"T_cb7e2\">\n",
       "  <thead>\n",
       "    <tr>\n",
       "      <th class=\"blank level0\" >&nbsp;</th>\n",
       "      <th id=\"T_cb7e2_level0_col0\" class=\"col_heading level0 col0\" >Test</th>\n",
       "      <th id=\"T_cb7e2_level0_col1\" class=\"col_heading level0 col1\" >Variable</th>\n",
       "      <th id=\"T_cb7e2_level0_col2\" class=\"col_heading level0 col2\" >Regression</th>\n",
       "      <th id=\"T_cb7e2_level0_col3\" class=\"col_heading level0 col3\" >Test Statistic</th>\n",
       "      <th id=\"T_cb7e2_level0_col4\" class=\"col_heading level0 col4\" >p-value</th>\n",
       "      <th id=\"T_cb7e2_level0_col5\" class=\"col_heading level0 col5\" >Lags Used</th>\n",
       "      <th id=\"T_cb7e2_level0_col6\" class=\"col_heading level0 col6\" >Résultat</th>\n",
       "    </tr>\n",
       "  </thead>\n",
       "  <tbody>\n",
       "    <tr>\n",
       "      <th id=\"T_cb7e2_level0_row0\" class=\"row_heading level0 row0\" >0</th>\n",
       "      <td id=\"T_cb7e2_row0_col0\" class=\"data row0 col0\" >KPSS</td>\n",
       "      <td id=\"T_cb7e2_row0_col1\" class=\"data row0 col1\" >td</td>\n",
       "      <td id=\"T_cb7e2_row0_col2\" class=\"data row0 col2\" >c</td>\n",
       "      <td id=\"T_cb7e2_row0_col3\" class=\"data row0 col3\" >0.765000</td>\n",
       "      <td id=\"T_cb7e2_row0_col4\" class=\"data row0 col4\" >0.010000</td>\n",
       "      <td id=\"T_cb7e2_row0_col5\" class=\"data row0 col5\" >4</td>\n",
       "      <td id=\"T_cb7e2_row0_col6\" class=\"data row0 col6\" >Non Stationnaire</td>\n",
       "    </tr>\n",
       "    <tr>\n",
       "      <th id=\"T_cb7e2_level0_row1\" class=\"row_heading level0 row1\" >1</th>\n",
       "      <td id=\"T_cb7e2_row1_col0\" class=\"data row1 col0\" >PP</td>\n",
       "      <td id=\"T_cb7e2_row1_col1\" class=\"data row1 col1\" >td</td>\n",
       "      <td id=\"T_cb7e2_row1_col2\" class=\"data row1 col2\" >c</td>\n",
       "      <td id=\"T_cb7e2_row1_col3\" class=\"data row1 col3\" >-1.741000</td>\n",
       "      <td id=\"T_cb7e2_row1_col4\" class=\"data row1 col4\" >0.410000</td>\n",
       "      <td id=\"T_cb7e2_row1_col5\" class=\"data row1 col5\" >10</td>\n",
       "      <td id=\"T_cb7e2_row1_col6\" class=\"data row1 col6\" >Non Stationnaire</td>\n",
       "    </tr>\n",
       "    <tr>\n",
       "      <th id=\"T_cb7e2_level0_row2\" class=\"row_heading level0 row2\" >2</th>\n",
       "      <td id=\"T_cb7e2_row2_col0\" class=\"data row2 col0\" >ADF</td>\n",
       "      <td id=\"T_cb7e2_row2_col1\" class=\"data row2 col1\" >td</td>\n",
       "      <td id=\"T_cb7e2_row2_col2\" class=\"data row2 col2\" >c</td>\n",
       "      <td id=\"T_cb7e2_row2_col3\" class=\"data row2 col3\" >-1.700000</td>\n",
       "      <td id=\"T_cb7e2_row2_col4\" class=\"data row2 col4\" >0.431000</td>\n",
       "      <td id=\"T_cb7e2_row2_col5\" class=\"data row2 col5\" >0</td>\n",
       "      <td id=\"T_cb7e2_row2_col6\" class=\"data row2 col6\" >Non Stationnaire</td>\n",
       "    </tr>\n",
       "  </tbody>\n",
       "</table>\n"
      ],
      "text/plain": [
       "<pandas.io.formats.style.Styler at 0x246ccb1f1c0>"
      ]
     },
     "execution_count": 14,
     "metadata": {},
     "output_type": "execute_result"
    }
   ],
   "source": [
    "results_KPSS_c = kpss_test(td_serie, regression='c')\n",
    "results_PP_c = PhillipsPerron_test(td_serie,  regression='c')\n",
    "results_ADF_c = AugmenteDickeyFuller_test(td_serie, regression='c')\n",
    "results_DR = pd.concat([results_KPSS_c, results_PP_c, results_ADF_c], ignore_index=True)\n",
    "results_DR.style.applymap(highlight_result, subset=['Résultat'])"
   ]
  },
  {
   "cell_type": "code",
   "execution_count": 15,
   "id": "7ba995f3",
   "metadata": {},
   "outputs": [],
   "source": [
    "kpss_beta = newey_west_tests_find_beta(macro, 'KPSS')\n",
    "pp_beta = newey_west_tests_find_beta(macro, 'PP')\n",
    "adf_beta = newey_west_tests_find_beta(macro, 'ADF')\n",
    "    "
   ]
  },
  {
   "cell_type": "code",
   "execution_count": 16,
   "id": "26ac218f",
   "metadata": {},
   "outputs": [
    {
     "name": "stdout",
     "output_type": "stream",
     "text": [
      "Aucun Beta disponible, les tests sont trop restrictifs\n"
     ]
    }
   ],
   "source": [
    "values_adf = np.array(adf_beta[adf_beta['crit'] > adf_beta['stat']]['betax'])\n",
    "values_kpss = np.array(kpss_beta[kpss_beta['crit'] > kpss_beta['stat']]['betax'])\n",
    "values_pp = np.array(pp_beta[pp_beta['crit'] > pp_beta['stat']]['betax'])\n",
    "\n",
    "# Inner join sur les deux arrays : car on veut garder les valeurs de beta pour lesquellesles deux tests expriment la stationnarité\n",
    "values_available_for_beta = np.intersect1d(values_kpss, values_pp)\n",
    "values_available_for_beta = np.intersect1d(values_available_for_beta, values_adf)\n",
    "\n",
    "if not len(values_available_for_beta) == 0:\n",
    "    print(values_available_for_beta)\n",
    "else:\n",
    "    print('Aucun Beta disponible, les tests sont trop restrictifs')\n"
   ]
  },
  {
   "cell_type": "markdown",
   "id": "0b721a77",
   "metadata": {},
   "source": [
    "#  Creation de toutes les varaibles avec les lags, en retire les variables non stationnaires"
   ]
  },
  {
   "cell_type": "markdown",
   "id": "MffEZm4GfxHA",
   "metadata": {
    "id": "MffEZm4GfxHA"
   },
   "source": [
    "# ***Corrélation entre les variables macro et le taux de défaut***\n",
    "\n",
    "On ne peut pas utiliser Pearson à cause du nombre d'observations beaucoup trop faible. Le tau de Kendall est adapté à la taille de l'échantillon en revanche (Approche Non-Parametrique)."
   ]
  },
  {
   "cell_type": "markdown",
   "id": "a0737e57",
   "metadata": {},
   "source": [
    "#### En calculant des Variables laggées, je crée plusieurs valeurs manquantes en début de séries. Au maximum j'en crée 5. Pour les variables avec les variations annuelles, avec un lag de 5, j'obtiens 10 valeurs manquantes en tout début de période. Je préfère calculer deux lag pour les variables de variations annuelles, ca permet de ne perdre que 6 observations en début de période"
   ]
  },
  {
   "cell_type": "code",
   "execution_count": 54,
   "id": "87fafd54",
   "metadata": {},
   "outputs": [
    {
     "data": {
      "text/plain": [
       "41"
      ]
     },
     "execution_count": 54,
     "metadata": {},
     "output_type": "execute_result"
    }
   ],
   "source": [
    "# Avec : macro_stationary\n",
    "number_lag_ann = 2\n",
    "number_lag_tri = 5\n",
    "number_lag_td = 1\n",
    "macro_lagged = compute_var_lagged(macro_stationary, number_lag_ann, number_lag_tri, number_lag_td)\n",
    "macro_lagged_for_model = macro_lagged.copy()\n",
    "len(macro_lagged_for_model.columns)"
   ]
  },
  {
   "cell_type": "code",
   "execution_count": 55,
   "id": "MaQDoP6bPdQM",
   "metadata": {
    "colab": {
     "base_uri": "https://localhost:8080/",
     "height": 911
    },
    "id": "MaQDoP6bPdQM",
    "outputId": "84e6566d-da47-4913-a2c4-1492971f8fc1",
    "scrolled": true
   },
   "outputs": [
    {
     "data": {
      "text/plain": [
       "20"
      ]
     },
     "execution_count": 55,
     "metadata": {},
     "output_type": "execute_result"
    }
   ],
   "source": [
    "corr_df = commpute_corr_matrix(macro_lagged)\n",
    "# On se focalise sur les correlations concernant le taux de défaut\n",
    "df_var_corr_to_DR = pd.DataFrame(corr_df['td']).rename(columns={'td': 'Kendall Correlations'}).sort_values(by=['Kendall Correlations']).drop('td',axis=0)\n",
    "# Peu importe le sens des signes, on cherche surtout à avoir les variables qui sont corrélées avec le taux de défaut : donc on prend la valeur absolue\n",
    "df_var_corr_to_DR['Kendall Correlations'] = df_var_corr_to_DR['Kendall Correlations'].abs()\n",
    "df_var_corr_to_DR = df_var_corr_to_DR.sort_values(by=['Kendall Correlations'], ascending=False)\n",
    "\n",
    "number_threshold = 0.15\n",
    "\n",
    "list_var_in_model = choosing_seuil_corr_to_DR(df_var_corr_to_DR, number_threshold)\n",
    "len(list_var_in_model)"
   ]
  },
  {
   "cell_type": "markdown",
   "id": "c5204e71",
   "metadata": {},
   "source": [
    "## OUTPUT DES CORR AVEC TAUX DE DEFAUT = UNE LISTE :"
   ]
  },
  {
   "cell_type": "markdown",
   "id": "659c535e",
   "metadata": {},
   "source": [
    "## Correlation des variables(qu'on voudrait garder dans le modèle) : retirer les variables trop corrélées entre elles"
   ]
  },
  {
   "cell_type": "code",
   "execution_count": 56,
   "id": "b8678ae0",
   "metadata": {},
   "outputs": [
    {
     "data": {
      "text/plain": [
       "['td_lag1',\n",
       " 'RREP_tri_lag1',\n",
       " 'RREP_tri_lag5',\n",
       " 'UNR_tri_lag5',\n",
       " 'RREP_tri',\n",
       " 'RGDP_ann_lag2',\n",
       " 'UNR_tri_lag4',\n",
       " 'RGDP_tri_lag4',\n",
       " 'RGDP_tri_lag5',\n",
       " 'IRLT_ann_lag2',\n",
       " 'UNR_tri_lag3',\n",
       " 'RREP_tri_lag4',\n",
       " 'UNR_tri',\n",
       " 'RGDP_ann_lag1',\n",
       " 'IRLT_ann_lag1',\n",
       " 'RGDP_tri_lag3',\n",
       " 'RREP_tri_lag2',\n",
       " 'RREP_tri_lag3',\n",
       " 'UNR_tri_lag1',\n",
       " 'IRLT_ann']"
      ]
     },
     "execution_count": 56,
     "metadata": {},
     "output_type": "execute_result"
    }
   ],
   "source": [
    "list_var_in_model"
   ]
  },
  {
   "cell_type": "code",
   "execution_count": 57,
   "id": "37b62775",
   "metadata": {},
   "outputs": [
    {
     "data": {
      "image/png": "[encoded data removed]",
      "text/plain": [
       "<Figure size 640x480 with 2 Axes>"
      ]
     },
     "metadata": {},
     "output_type": "display_data"
    }
   ],
   "source": [
    "list_var_in_model.sort()\n",
    "macro_lagged_for_corr = macro_lagged.copy()\n",
    "corr_df_macro = commpute_corr_matrix_var_macro(macro_lagged, list_var_in_model)\n",
    "corr_df_for_corr = commpute_corr_matrix_var_macro(macro_lagged_for_corr, list_var_in_model)\n",
    "\n",
    "sns.heatmap(corr_df_macro.astype(float), cmap='coolwarm', center=0, annot=False)\n",
    "plt.show()"
   ]
  },
  {
   "cell_type": "code",
   "execution_count": 58,
   "id": "cd745dd4",
   "metadata": {},
   "outputs": [],
   "source": [
    "def find_high_corr_pairs(corr_matrix, threshold):\n",
    "    high_corr_pairs = []\n",
    "    for i in range(len(corr_matrix.columns)):\n",
    "        for j in range(i+1, len(corr_matrix.columns)):\n",
    "            if abs(corr_matrix.iloc[i, j]) > threshold:\n",
    "                high_corr_pairs.append((corr_matrix.columns[i], corr_matrix.columns[j]))\n",
    "    return high_corr_pairs\n"
   ]
  },
  {
   "cell_type": "code",
   "execution_count": 59,
   "id": "967d8cf8",
   "metadata": {},
   "outputs": [
    {
     "data": {
      "image/png": "[encoded data removed]",
      "text/plain": [
       "<Figure size 640x480 with 2 Axes>"
      ]
     },
     "metadata": {},
     "output_type": "display_data"
    }
   ],
   "source": [
    "number_seuil = 0.4\n",
    "\n",
    "first_elements_variables = [t[0] for t in find_high_corr_pairs(corr_df_macro, number_seuil)]\n",
    "all_elements_variables = list(set(first_elements_variables))\n",
    "\n",
    "macro_lagged_for_corr = macro_lagged_for_corr[list_var_in_model].drop(all_elements_variables, axis=1)\n",
    "\n",
    "corr_df_for_corr = commpute_corr_matrix_var_macro(macro_lagged_for_corr, sorted(macro_lagged_for_corr.columns))\n",
    "\n",
    "sns.heatmap(corr_df_for_corr.astype(float), cmap='coolwarm', center=0, annot=False)\n",
    "plt.show()"
   ]
  },
  {
   "cell_type": "code",
   "execution_count": 60,
   "id": "21bbb1a1",
   "metadata": {},
   "outputs": [
    {
     "data": {
      "text/plain": [
       "[]"
      ]
     },
     "execution_count": 60,
     "metadata": {},
     "output_type": "execute_result"
    }
   ],
   "source": [
    "var_to_drop = []\n",
    "find_high_corr_pairs(macro_lagged_for_corr.drop(var_to_drop, axis=1), 0.4)"
   ]
  },
  {
   "cell_type": "code",
   "execution_count": 61,
   "id": "86900433",
   "metadata": {},
   "outputs": [],
   "source": [
    "for i in range (len(find_high_corr_pairs(corr_df_for_corr, 0.4))):\n",
    "    try:\n",
    "        macro_lagged_for_corr = macro_lagged_for_corr.drop(find_high_corr_pairs(corr_df_for_corr, 0.5)[i][0], axis=1)\n",
    "    except :\n",
    "        pass"
   ]
  },
  {
   "cell_type": "code",
   "execution_count": 62,
   "id": "ad58c3ea",
   "metadata": {},
   "outputs": [
    {
     "data": {
      "image/png": "[encoded data removed]",
      "text/plain": [
       "<Figure size 640x480 with 2 Axes>"
      ]
     },
     "metadata": {},
     "output_type": "display_data"
    }
   ],
   "source": [
    "corr_df_for_corr = commpute_corr_matrix_var_macro(macro_lagged_for_corr, macro_lagged_for_corr.columns)\n",
    "#corr_df_macro\n",
    "\n",
    "sns.heatmap(corr_df_for_corr.astype(float), cmap='coolwarm', center=0, annot=False)\n",
    "plt.show()"
   ]
  },
  {
   "cell_type": "code",
   "execution_count": 63,
   "id": "c8fd81f4",
   "metadata": {},
   "outputs": [
    {
     "data": {
      "text/plain": [
       "\"corr_df_for_corr = commpute_corr_matrix_var_macro(macro_lagged_for_corr, macro_lagged_for_corr.columns)\\n#corr_df_macro\\n\\nsns.heatmap(corr_df_for_corr.astype(float), cmap='coolwarm', center=0, annot=False)\\nplt.show()\""
      ]
     },
     "execution_count": 63,
     "metadata": {},
     "output_type": "execute_result"
    }
   ],
   "source": [
    "\"\"\"corr_df_for_corr = commpute_corr_matrix_var_macro(macro_lagged_for_corr, macro_lagged_for_corr.columns)\n",
    "#corr_df_macro\n",
    "\n",
    "sns.heatmap(corr_df_for_corr.astype(float), cmap='coolwarm', center=0, annot=False)\n",
    "plt.show()\"\"\""
   ]
  },
  {
   "cell_type": "code",
   "execution_count": 64,
   "id": "c4420280",
   "metadata": {},
   "outputs": [],
   "source": [
    "macro_lagged_for_corr = macro_lagged[macro_lagged_for_corr.columns.tolist() + ['td']]"
   ]
  },
  {
   "cell_type": "code",
   "execution_count": 65,
   "id": "f30926b3",
   "metadata": {},
   "outputs": [
    {
     "data": {
      "text/plain": [
       "15"
      ]
     },
     "execution_count": 65,
     "metadata": {},
     "output_type": "execute_result"
    }
   ],
   "source": [
    "len(macro_lagged_for_corr.columns)"
   ]
  },
  {
   "cell_type": "markdown",
   "id": "ebc08b72",
   "metadata": {},
   "source": [
    "# UNE AUTRE HISTOIRE... LA MODELISATION"
   ]
  },
  {
   "cell_type": "markdown",
   "id": "398ec343",
   "metadata": {},
   "source": [
    "# Modélisation simple"
   ]
  },
  {
   "cell_type": "code",
   "execution_count": 66,
   "id": "502ff720",
   "metadata": {},
   "outputs": [
    {
     "data": {
      "text/plain": [
       "Index(['IRLT_ann_lag2', 'RGDP_tri_lag5', 'RREP_tri', 'RREP_tri_lag1',\n",
       "       'RREP_tri_lag2', 'RREP_tri_lag3', 'RREP_tri_lag4', 'RREP_tri_lag5',\n",
       "       'UNR_tri', 'UNR_tri_lag1', 'UNR_tri_lag3', 'UNR_tri_lag4',\n",
       "       'UNR_tri_lag5', 'td_lag1', 'td'],\n",
       "      dtype='object')"
      ]
     },
     "execution_count": 66,
     "metadata": {},
     "output_type": "execute_result"
    }
   ],
   "source": [
    "import itertools\n",
    "from statsmodels.stats.diagnostic import het_breuschpagan, het_white, het_goldfeldquandt\n",
    "import statsmodels.api as sm\n",
    "# faut changer les dataframes\n",
    "adl = macro_lagged_for_corr.copy()\n",
    "df_lags = macro_lagged_for_corr.copy()\n",
    "\n",
    "df_lags = df_lags.dropna()\n",
    "df_lags.columns"
   ]
  },
  {
   "cell_type": "code",
   "execution_count": 67,
   "id": "b6f4dd0a",
   "metadata": {},
   "outputs": [
    {
     "name": "stdout",
     "output_type": "stream",
     "text": [
      "Train set size: 34\n",
      "Test set size: 4\n"
     ]
    }
   ],
   "source": [
    "def split_train_test(df):\n",
    "    df.index = pd.to_datetime(df.index)\n",
    "\n",
    "    # Get index object\n",
    "    idx = df.index\n",
    "\n",
    "    # Define time interval for train and test sets\n",
    "    train_start_date = datetime.date(2010, 7, 31)\n",
    "    train_end_date = datetime.date(2018, 10, 31)\n",
    "    test_start_date = datetime.date(2018, 10, 31)\n",
    "    test_end_date = datetime.date(2024, 12, 31)\n",
    "\n",
    "    # Split data into train and test sets based on time interval\n",
    "    train_data = df[(idx.date >= train_start_date) & (idx.date <= train_end_date)]\n",
    "    test_data = df[(idx.date > test_start_date) & (idx.date <= test_end_date)]\n",
    "\n",
    "    # Display train and test set sizes\n",
    "    print('Train set size:', len(train_data))\n",
    "    print('Test set size:', len(test_data))\n",
    "\n",
    "    return train_data, test_data\n",
    "\n",
    "df_train, df_test = split_train_test(df_lags) #on fait un split : 1 an pour le test, le reste sert à entraîner le modèle"
   ]
  },
  {
   "cell_type": "code",
   "execution_count": 68,
   "id": "68d9a993",
   "metadata": {},
   "outputs": [],
   "source": [
    "def model_OLS(df_lags, varaibles_explicatives_allowed):\n",
    "    y = df_lags[\"td\"]\n",
    "    X = df_lags[varaibles_explicatives_allowed]\n",
    "    # Sort columns alphabetically\n",
    "    sorted_columns = sorted(X.columns)\n",
    "    # Reindex DataFrame using sorted column names\n",
    "    X = X[sorted_columns]\n",
    "    X = sm.add_constant(X)\n",
    "    df_var = X\n",
    "    results = sm.OLS(y, X).fit() #toujours mettre une constante dans le modèle\n",
    "\n",
    "    # Verify the assumptions of normality and multicollinearity\n",
    "    resid = results.resid\n",
    "    p_shapiro = shapiro(resid).pvalue\n",
    "    p_kolmogorov = kstest(resid, 'norm').pvalue\n",
    "    boolean_anderson = anderson(resid).statistic > anderson(resid).critical_values[2]\n",
    "    vif = pd.DataFrame()\n",
    "    vif['VIF'] = [variance_inflation_factor(X, i) for i in range(1, X.shape[1])]\n",
    "    nb_vif_high = (vif['VIF'] > 5).sum()\n",
    "\n",
    "    # Save the results in the DataFrame\n",
    "    params_dict = {var + '_param': param for var, param in zip(results.params.index, results.params)}\n",
    "    #params_dict.pop(\"const_param\", None) #Je veux garder la constante, et connaitre sa valeur\n",
    "    pvals_dict = {var + '_pval': results.pvalues[i] for i, var in enumerate(results.params.index)}\n",
    "    pvals_dict.pop(\"const_pval\", None)\n",
    "    errors_for_theil = (np.sqrt(sum(np.array(y)**2) / len(y))) + (np.sqrt(sum(np.array(results.predict(sm.add_constant(X)))**2) / len(results.predict(sm.add_constant(X)))))\n",
    "\n",
    "    row = {\n",
    "            'variables': [results.params.index],\n",
    "            'bic': results.bic,\n",
    "            'logv': results.llf,\n",
    "            'R2' : results.rsquared,\n",
    "            'R2_aj' : results.rsquared_adj,\n",
    "            'RMSE' : np.sqrt(results.mse_resid),\n",
    "            'U de Theil' :  np.sqrt(results.mse_resid)/errors_for_theil,\n",
    "            'pval_shapiro': p_shapiro,\n",
    "            'pval_kolmogorov': p_kolmogorov,\n",
    "            'boolean_anderson': boolean_anderson,\n",
    "            'mean_resid': resid.mean(),\n",
    "            'nb_var_vif_above_5': nb_vif_high,\n",
    "            'nb_vars': X.shape[1] - 1,\n",
    "            **params_dict,\n",
    "            **pvals_dict\n",
    "        }\n",
    "\n",
    "    # On return un dataframe avec les informations clés du modèle, le modèle lui-même sous forme sm.OLS().fit, la variable cible le dataframe créé de variables explicatives \n",
    "    return row, results, y, df_var "
   ]
  },
  {
   "cell_type": "code",
   "execution_count": 69,
   "id": "ddf3eb0b",
   "metadata": {},
   "outputs": [],
   "source": [
    "def graphique_periode_entrainement(df, sentence):\n",
    "    fig = px.scatter(df, x='td', y='td_predicted')\n",
    "\n",
    "    # Add axis labels and a title\n",
    "    fig.update_layout(\n",
    "        xaxis_title='td',\n",
    "        yaxis_title='td_predicted',\n",
    "        title=\"Graphique du dataset d'entrainement\"\n",
    "    )\n",
    "\n",
    "    # Create a line plot of 'td' vs 'y_pred'\n",
    "    fig = go.Figure()\n",
    "    fig.add_trace(go.Scatter(x=df.index, y=df['td'], mode='lines', name='td', line=dict(color='red')))\n",
    "    fig.add_trace(go.Scatter(x=df.index, y=df['td_predicted'], mode='lines', name='td_predicted', line=dict(color='blue')))\n",
    "\n",
    "    # Add axis labels and a title\n",
    "    fig.update_layout(\n",
    "        xaxis_title='Dates',\n",
    "        yaxis_title='%',\n",
    "        title=\"Graphique du dataset d'entrainement en utilisant \"+ sentence\n",
    "    )\n",
    "\n",
    "    # Display the plot\n",
    "    fig.show()\n",
    "\n",
    "def interpretation_tests(df):\n",
    "\n",
    "    hypothesis = pd.DataFrame(df)[['pval_shapiro',\n",
    "                'pval_kolmogorov',\n",
    "                'mean_resid',\n",
    "                'nb_var_vif_above_5', \n",
    "                'boolean_anderson']]\n",
    "    conclusion_tests_normalite = 0\n",
    "    if hypothesis['mean_resid'][0]<0.5 :\n",
    "        print(\"La moyenne des résidus est très proche de zéro. L'hypothèse faible de normalité des résidus est respectée.\")\n",
    "    else :\n",
    "        print(\"La moyenne des résidus est plutôt loin de zéro. L'hypothèse faible de normalité des résidus n'est pas respectée\")\n",
    "    print(\"-------\")\n",
    "    if hypothesis['pval_shapiro'][0]>0.05:\n",
    "        print(\"On ne peut pas dire que les résidus ne suivent pas une loi normale. Donc on accepte l'hypothèse de normalité des résidus\")\n",
    "        conclusion_tests_normalite +=1\n",
    "    else :\n",
    "        print(\"On peut  dire que les résidus ne suivent pas une loi normale. Donc on rejette l'hypothèse de normalité des résidus\")\n",
    "    \n",
    "    if hypothesis['pval_kolmogorov'][0]>0.05:\n",
    "        print(\"On rejette l'hypothèse de normalité (two-sided test).\")\n",
    "    else :\n",
    "        print(\"On accepte l'hypothèse de normanité des résidus\")\n",
    "        conclusion_tests_normalite +=1\n",
    "    if hypothesis['boolean_anderson'][0] == True :\n",
    "        print(\"On rejette l'hypothèse H0 du test, donc on rejette la normalité des résidus\")\n",
    "    else:\n",
    "        print(\"On accepte l'hypothèse H0 du test, donc on accepte la normalité des résidus\")\n",
    "        conclusion_tests_normalite +=1\n",
    "    if conclusion_tests_normalite >1 :\n",
    "        print(\"{}% des tests de normalité admettent la normalité des résidus, sur 3 tests.\".format(round(conclusion_tests_normalite/3*100), 0))\n",
    "    print(\"-------\")\n",
    "    print(\"Le modèle admet {} variables avec un facteur VIF supérieur à 5\".format(hypothesis['nb_var_vif_above_5'][0]))\n",
    "\n",
    "def tests_homoscedasticide(res, endog_var, exog_var):\n",
    "    pval_breuschpagan = het_breuschpagan(resid=res, exog_het=exog_var)[0]\n",
    "    pval_white = het_white(resid=res, exog=exog_var)[1]\n",
    "    pval_goldfeldquandt = het_goldfeldquandt(y=endog_var, x=exog_var)[1]\n",
    "    print(\"Pvalue du test Breusch Pagan : \", str(pval_breuschpagan))\n",
    "    print(\"Pvalue du test White : \", str(pval_white))\n",
    "    print(\"Pvalue du test Goldfeldquandt : \", str(pval_goldfeldquandt))"
   ]
  },
  {
   "attachments": {},
   "cell_type": "markdown",
   "id": "ef263b2f",
   "metadata": {},
   "source": [
    "Estimation du modèle simpliste"
   ]
  },
  {
   "cell_type": "code",
   "execution_count": 171,
   "id": "3d1292da",
   "metadata": {},
   "outputs": [],
   "source": [
    "df_train_unrealistic = df_train.copy()\n",
    "\n",
    "variables_kept_unrealistic = list(df_train_unrealistic.columns)\n",
    "variables_excluded_unrealistic = ['td']    #ajouter des trucs pour donner le choix à l'utilisateur de retirer des varaibles\n",
    "for variable in variables_excluded_unrealistic:\n",
    "    variables_kept_unrealistic.remove(variable)\n",
    "row_unrealistic, results_unrealistic, dr_unrealistic, var_unrealistic = model_OLS(df_train_unrealistic, variables_kept_unrealistic) #modèle de base\n",
    "df_train_unrealistic['td_predicted'] = results_unrealistic.predict()\n",
    "#row_unrealistic"
   ]
  },
  {
   "cell_type": "code",
   "execution_count": 128,
   "id": "6daed500",
   "metadata": {},
   "outputs": [],
   "source": [
    "#results_unrealistic.summary()"
   ]
  },
  {
   "cell_type": "code",
   "execution_count": 129,
   "id": "ead67297",
   "metadata": {},
   "outputs": [
    {
     "data": {
      "application/vnd.plotly.v1+json": {
       "config": {
        "plotlyServerURL": "https://plot.ly"
       },
       "data": [
        {
         "line": {
          "color": "red"
         },
         "mode": "lines",
         "name": "td",
         "type": "scatter",
         "x": [
          "2010-07-31T00:00:00",
          "2010-10-31T00:00:00",
          "2011-01-31T00:00:00",
          "2011-04-30T00:00:00",
          "2011-07-31T00:00:00",
          "2011-10-31T00:00:00",
          "2012-01-31T00:00:00",
          "2012-04-30T00:00:00",
          "2012-07-31T00:00:00",
          "2012-10-31T00:00:00",
          "2013-01-31T00:00:00",
          "2013-04-30T00:00:00",
          "2013-07-31T00:00:00",
          "2013-10-31T00:00:00",
          "2014-01-31T00:00:00",
          "2014-04-30T00:00:00",
          "2014-07-31T00:00:00",
          "2014-10-31T00:00:00",
          "2015-01-31T00:00:00",
          "2015-04-30T00:00:00",
          "2015-07-31T00:00:00",
          "2015-10-31T00:00:00",
          "2016-01-31T00:00:00",
          "2016-04-30T00:00:00",
          "2016-07-31T00:00:00",
          "2016-10-31T00:00:00",
          "2017-01-31T00:00:00",
          "2017-04-30T00:00:00",
          "2017-07-31T00:00:00",
          "2017-10-31T00:00:00",
          "2018-01-31T00:00:00",
          "2018-04-30T00:00:00",
          "2018-07-31T00:00:00",
          "2018-10-31T00:00:00"
         ],
         "y": [
          0.04943352188018248,
          0.04946565720064504,
          0.047990023084883385,
          0.047581668087583955,
          0.04862997428296995,
          0.04348597169510162,
          0.04324161913487208,
          0.040473442526336466,
          0.044703985043887354,
          0.045476925601862776,
          0.04793521426532042,
          0.04612159329140461,
          0.04901546968321972,
          0.05086447872450564,
          0.05287556938846544,
          0.050363891071855675,
          0.05083448392800911,
          0.046937178362226384,
          0.04527907093614513,
          0.0426706543616138,
          0.037858249823511964,
          0.03745551349844676,
          0.03623136017898794,
          0.02971323479810693,
          0.030604309774415573,
          0.030966998600938194,
          0.030708590097166828,
          0.026359754965658067,
          0.027693368002255567,
          0.027913906200543542,
          0.027727969647358436,
          0.027448554392900344,
          0.02803393311167612,
          0.02808746637365968
         ]
        },
        {
         "line": {
          "color": "blue"
         },
         "mode": "lines",
         "name": "td_predicted",
         "type": "scatter",
         "x": [
          "2010-07-31T00:00:00",
          "2010-10-31T00:00:00",
          "2011-01-31T00:00:00",
          "2011-04-30T00:00:00",
          "2011-07-31T00:00:00",
          "2011-10-31T00:00:00",
          "2012-01-31T00:00:00",
          "2012-04-30T00:00:00",
          "2012-07-31T00:00:00",
          "2012-10-31T00:00:00",
          "2013-01-31T00:00:00",
          "2013-04-30T00:00:00",
          "2013-07-31T00:00:00",
          "2013-10-31T00:00:00",
          "2014-01-31T00:00:00",
          "2014-04-30T00:00:00",
          "2014-07-31T00:00:00",
          "2014-10-31T00:00:00",
          "2015-01-31T00:00:00",
          "2015-04-30T00:00:00",
          "2015-07-31T00:00:00",
          "2015-10-31T00:00:00",
          "2016-01-31T00:00:00",
          "2016-04-30T00:00:00",
          "2016-07-31T00:00:00",
          "2016-10-31T00:00:00",
          "2017-01-31T00:00:00",
          "2017-04-30T00:00:00",
          "2017-07-31T00:00:00",
          "2017-10-31T00:00:00",
          "2018-01-31T00:00:00",
          "2018-04-30T00:00:00",
          "2018-07-31T00:00:00",
          "2018-10-31T00:00:00"
         ],
         "y": [
          0.04887680975657367,
          0.05004115307459655,
          0.04814880515391528,
          0.04445930067408605,
          0.04772025977183274,
          0.045257416886415595,
          0.044104734600877334,
          0.04268202176245815,
          0.04223281674526529,
          0.04673989756708759,
          0.046873298774427204,
          0.04502489213563733,
          0.04943679346870617,
          0.05146092238793014,
          0.051481632508322744,
          0.049671465756755566,
          0.050231642599234086,
          0.04791448387825141,
          0.045396009326962285,
          0.04275758692786484,
          0.04003635852560475,
          0.038545284210042864,
          0.03586993579935084,
          0.030984478117904238,
          0.028829917867589594,
          0.030849685499348536,
          0.030915465955186072,
          0.030034215098314884,
          0.026227827254302897,
          0.027719492831378534,
          0.029030987436246068,
          0.027343650885011103,
          0.027292275371265395,
          0.025992083407970136
         ]
        }
       ],
       "layout": {
        "template": {
         "data": {
          "candlestick": [
           {
            "decreasing": {
             "line": {
              "color": "#000033"
             }
            },
            "increasing": {
             "line": {
              "color": "#000032"
             }
            },
            "type": "candlestick"
           }
          ],
          "contour": [
           {
            "colorscale": [
             [
              0,
              "#000011"
             ],
             [
              0.1111111111111111,
              "#000012"
             ],
             [
              0.2222222222222222,
              "#000013"
             ],
             [
              0.3333333333333333,
              "#000014"
             ],
             [
              0.4444444444444444,
              "#000015"
             ],
             [
              0.5555555555555556,
              "#000016"
             ],
             [
              0.6666666666666666,
              "#000017"
             ],
             [
              0.7777777777777778,
              "#000018"
             ],
             [
              0.8888888888888888,
              "#000019"
             ],
             [
              1,
              "#000020"
             ]
            ],
            "type": "contour"
           }
          ],
          "contourcarpet": [
           {
            "colorscale": [
             [
              0,
              "#000011"
             ],
             [
              0.1111111111111111,
              "#000012"
             ],
             [
              0.2222222222222222,
              "#000013"
             ],
             [
              0.3333333333333333,
              "#000014"
             ],
             [
              0.4444444444444444,
              "#000015"
             ],
             [
              0.5555555555555556,
              "#000016"
             ],
             [
              0.6666666666666666,
              "#000017"
             ],
             [
              0.7777777777777778,
              "#000018"
             ],
             [
              0.8888888888888888,
              "#000019"
             ],
             [
              1,
              "#000020"
             ]
            ],
            "type": "contourcarpet"
           }
          ],
          "heatmap": [
           {
            "colorscale": [
             [
              0,
              "#000011"
             ],
             [
              0.1111111111111111,
              "#000012"
             ],
             [
              0.2222222222222222,
              "#000013"
             ],
             [
              0.3333333333333333,
              "#000014"
             ],
             [
              0.4444444444444444,
              "#000015"
             ],
             [
              0.5555555555555556,
              "#000016"
             ],
             [
              0.6666666666666666,
              "#000017"
             ],
             [
              0.7777777777777778,
              "#000018"
             ],
             [
              0.8888888888888888,
              "#000019"
             ],
             [
              1,
              "#000020"
             ]
            ],
            "type": "heatmap"
           }
          ],
          "histogram2d": [
           {
            "colorscale": [
             [
              0,
              "#000011"
             ],
             [
              0.1111111111111111,
              "#000012"
             ],
             [
              0.2222222222222222,
              "#000013"
             ],
             [
              0.3333333333333333,
              "#000014"
             ],
             [
              0.4444444444444444,
              "#000015"
             ],
             [
              0.5555555555555556,
              "#000016"
             ],
             [
              0.6666666666666666,
              "#000017"
             ],
             [
              0.7777777777777778,
              "#000018"
             ],
             [
              0.8888888888888888,
              "#000019"
             ],
             [
              1,
              "#000020"
             ]
            ],
            "type": "histogram2d"
           }
          ],
          "icicle": [
           {
            "textfont": {
             "color": "white"
            },
            "type": "icicle"
           }
          ],
          "sankey": [
           {
            "textfont": {
             "color": "#000036"
            },
            "type": "sankey"
           }
          ],
          "scatter": [
           {
            "marker": {
             "line": {
              "width": 0
             }
            },
            "type": "scatter"
           }
          ],
          "table": [
           {
            "cells": {
             "fill": {
              "color": "#000038"
             },
             "font": {
              "color": "#000037"
             },
             "line": {
              "color": "#000039"
             }
            },
            "header": {
             "fill": {
              "color": "#000040"
             },
             "font": {
              "color": "#000036"
             },
             "line": {
              "color": "#000039"
             }
            },
            "type": "table"
           }
          ],
          "waterfall": [
           {
            "connector": {
             "line": {
              "color": "#000036",
              "width": 2
             }
            },
            "decreasing": {
             "marker": {
              "color": "#000033"
             }
            },
            "increasing": {
             "marker": {
              "color": "#000032"
             }
            },
            "totals": {
             "marker": {
              "color": "#000034"
             }
            },
            "type": "waterfall"
           }
          ]
         },
         "layout": {
          "coloraxis": {
           "colorscale": [
            [
             0,
             "#000011"
            ],
            [
             0.1111111111111111,
             "#000012"
            ],
            [
             0.2222222222222222,
             "#000013"
            ],
            [
             0.3333333333333333,
             "#000014"
            ],
            [
             0.4444444444444444,
             "#000015"
            ],
            [
             0.5555555555555556,
             "#000016"
            ],
            [
             0.6666666666666666,
             "#000017"
            ],
            [
             0.7777777777777778,
             "#000018"
            ],
            [
             0.8888888888888888,
             "#000019"
            ],
            [
             1,
             "#000020"
            ]
           ]
          },
          "colorscale": {
           "diverging": [
            [
             0,
             "#000021"
            ],
            [
             0.1,
             "#000022"
            ],
            [
             0.2,
             "#000023"
            ],
            [
             0.3,
             "#000024"
            ],
            [
             0.4,
             "#000025"
            ],
            [
             0.5,
             "#000026"
            ],
            [
             0.6,
             "#000027"
            ],
            [
             0.7,
             "#000028"
            ],
            [
             0.8,
             "#000029"
            ],
            [
             0.9,
             "#000030"
            ],
            [
             1,
             "#000031"
            ]
           ],
           "sequential": [
            [
             0,
             "#000011"
            ],
            [
             0.1111111111111111,
             "#000012"
            ],
            [
             0.2222222222222222,
             "#000013"
            ],
            [
             0.3333333333333333,
             "#000014"
            ],
            [
             0.4444444444444444,
             "#000015"
            ],
            [
             0.5555555555555556,
             "#000016"
            ],
            [
             0.6666666666666666,
             "#000017"
            ],
            [
             0.7777777777777778,
             "#000018"
            ],
            [
             0.8888888888888888,
             "#000019"
            ],
            [
             1,
             "#000020"
            ]
           ],
           "sequentialminus": [
            [
             0,
             "#000011"
            ],
            [
             0.1111111111111111,
             "#000012"
            ],
            [
             0.2222222222222222,
             "#000013"
            ],
            [
             0.3333333333333333,
             "#000014"
            ],
            [
             0.4444444444444444,
             "#000015"
            ],
            [
             0.5555555555555556,
             "#000016"
            ],
            [
             0.6666666666666666,
             "#000017"
            ],
            [
             0.7777777777777778,
             "#000018"
            ],
            [
             0.8888888888888888,
             "#000019"
            ],
            [
             1,
             "#000020"
            ]
           ]
          },
          "colorway": [
           "#000001",
           "#000002",
           "#000003",
           "#000004",
           "#000005",
           "#000006",
           "#000007",
           "#000008",
           "#000009",
           "#000010"
          ]
         }
        },
        "title": {
         "text": "Graphique du dataset d'entrainement en utilisant le modèle sous-optimal"
        },
        "xaxis": {
         "title": {
          "text": "Dates"
         }
        },
        "yaxis": {
         "title": {
          "text": "%"
         }
        }
       }
      }
     },
     "metadata": {},
     "output_type": "display_data"
    }
   ],
   "source": [
    "\n",
    "graphique_periode_entrainement(df_train_unrealistic, \"le modèle sous-optimal\")"
   ]
  },
  {
   "cell_type": "code",
   "execution_count": 130,
   "id": "adc3b8a1",
   "metadata": {},
   "outputs": [
    {
     "name": "stdout",
     "output_type": "stream",
     "text": [
      "La moyenne des résidus est très proche de zéro. L'hypothèse faible de normalité des résidus est respectée.\n",
      "-------\n",
      "On ne peut pas dire que les résidus ne suivent pas une loi normale. Donc on accepte l'hypothèse de normalité des résidus\n",
      "On accepte l'hypothèse de normanité des résidus\n",
      "On accepte l'hypothèse H0 du test, donc on accepte la normalité des résidus\n",
      "100% des tests de normalité admettent la normalité des résidus, sur 3 tests.\n",
      "-------\n",
      "Le modèle admet 8 variables avec un facteur VIF supérieur à 5\n"
     ]
    }
   ],
   "source": [
    "\n",
    "interpretation_tests(row_unrealistic)"
   ]
  },
  {
   "cell_type": "code",
   "execution_count": 131,
   "id": "913faabc",
   "metadata": {},
   "outputs": [
    {
     "data": {
      "application/vnd.plotly.v1+json": {
       "config": {
        "plotlyServerURL": "https://plot.ly"
       },
       "data": [
        {
         "hovertemplate": "Valeurs prédites=%{x}<br>Résidus=%{y}<extra></extra>",
         "legendgroup": "",
         "marker": {
          "color": "#000001",
          "symbol": "circle"
         },
         "mode": "markers",
         "name": "",
         "orientation": "v",
         "showlegend": false,
         "type": "scatter",
         "x": [
          0.04887680975657367,
          0.05004115307459655,
          0.04814880515391528,
          0.04445930067408605,
          0.04772025977183274,
          0.045257416886415595,
          0.044104734600877334,
          0.04268202176245815,
          0.04223281674526529,
          0.04673989756708759,
          0.046873298774427204,
          0.04502489213563733,
          0.04943679346870617,
          0.05146092238793014,
          0.051481632508322744,
          0.049671465756755566,
          0.050231642599234086,
          0.04791448387825141,
          0.045396009326962285,
          0.04275758692786484,
          0.04003635852560475,
          0.038545284210042864,
          0.03586993579935084,
          0.030984478117904238,
          0.028829917867589594,
          0.030849685499348536,
          0.030915465955186072,
          0.030034215098314884,
          0.026227827254302897,
          0.027719492831378534,
          0.029030987436246068,
          0.027343650885011103,
          0.027292275371265395,
          0.025992083407970136
         ],
         "xaxis": "x",
         "y": [
          0.0005567121236088046,
          -0.0005754958739515106,
          -0.00015878206903189446,
          0.0031223674134979035,
          0.0009097145111372149,
          -0.001771445191313975,
          -0.0008631154660052529,
          -0.002208579236121687,
          0.0024711682986220604,
          -0.0012629719652248114,
          0.0010619154908932185,
          0.0010967011557672796,
          -0.00042132378548644794,
          -0.000596443663424498,
          0.0013939368801426932,
          0.0006924253151001092,
          0.0006028413287750209,
          -0.000977305516025026,
          -0.0001169383908171534,
          -0.00008693256625104395,
          -0.0021781087020927847,
          -0.0010897707115961053,
          0.0003614243796370986,
          -0.0012712433197973085,
          0.001774391906825979,
          0.00011731310158965766,
          -0.00020687585801924466,
          -0.003674460132656817,
          0.0014655407479526698,
          0.0001944133691650085,
          -0.0013030177888876324,
          0.00010490350788924102,
          0.0007416577404107255,
          0.0020953829656895455
         ],
         "yaxis": "y"
        }
       ],
       "layout": {
        "legend": {
         "tracegroupgap": 0
        },
        "shapes": [
         {
          "line": {
           "color": "red",
           "dash": "dot"
          },
          "type": "line",
          "x0": 0,
          "x1": 1,
          "xref": "x domain",
          "y0": 0,
          "y1": 0,
          "yref": "y"
         }
        ],
        "template": {
         "data": {
          "candlestick": [
           {
            "decreasing": {
             "line": {
              "color": "#000033"
             }
            },
            "increasing": {
             "line": {
              "color": "#000032"
             }
            },
            "type": "candlestick"
           }
          ],
          "contour": [
           {
            "colorscale": [
             [
              0,
              "#000011"
             ],
             [
              0.1111111111111111,
              "#000012"
             ],
             [
              0.2222222222222222,
              "#000013"
             ],
             [
              0.3333333333333333,
              "#000014"
             ],
             [
              0.4444444444444444,
              "#000015"
             ],
             [
              0.5555555555555556,
              "#000016"
             ],
             [
              0.6666666666666666,
              "#000017"
             ],
             [
              0.7777777777777778,
              "#000018"
             ],
             [
              0.8888888888888888,
              "#000019"
             ],
             [
              1,
              "#000020"
             ]
            ],
            "type": "contour"
           }
          ],
          "contourcarpet": [
           {
            "colorscale": [
             [
              0,
              "#000011"
             ],
             [
              0.1111111111111111,
              "#000012"
             ],
             [
              0.2222222222222222,
              "#000013"
             ],
             [
              0.3333333333333333,
              "#000014"
             ],
             [
              0.4444444444444444,
              "#000015"
             ],
             [
              0.5555555555555556,
              "#000016"
             ],
             [
              0.6666666666666666,
              "#000017"
             ],
             [
              0.7777777777777778,
              "#000018"
             ],
             [
              0.8888888888888888,
              "#000019"
             ],
             [
              1,
              "#000020"
             ]
            ],
            "type": "contourcarpet"
           }
          ],
          "heatmap": [
           {
            "colorscale": [
             [
              0,
              "#000011"
             ],
             [
              0.1111111111111111,
              "#000012"
             ],
             [
              0.2222222222222222,
              "#000013"
             ],
             [
              0.3333333333333333,
              "#000014"
             ],
             [
              0.4444444444444444,
              "#000015"
             ],
             [
              0.5555555555555556,
              "#000016"
             ],
             [
              0.6666666666666666,
              "#000017"
             ],
             [
              0.7777777777777778,
              "#000018"
             ],
             [
              0.8888888888888888,
              "#000019"
             ],
             [
              1,
              "#000020"
             ]
            ],
            "type": "heatmap"
           }
          ],
          "histogram2d": [
           {
            "colorscale": [
             [
              0,
              "#000011"
             ],
             [
              0.1111111111111111,
              "#000012"
             ],
             [
              0.2222222222222222,
              "#000013"
             ],
             [
              0.3333333333333333,
              "#000014"
             ],
             [
              0.4444444444444444,
              "#000015"
             ],
             [
              0.5555555555555556,
              "#000016"
             ],
             [
              0.6666666666666666,
              "#000017"
             ],
             [
              0.7777777777777778,
              "#000018"
             ],
             [
              0.8888888888888888,
              "#000019"
             ],
             [
              1,
              "#000020"
             ]
            ],
            "type": "histogram2d"
           }
          ],
          "icicle": [
           {
            "textfont": {
             "color": "white"
            },
            "type": "icicle"
           }
          ],
          "sankey": [
           {
            "textfont": {
             "color": "#000036"
            },
            "type": "sankey"
           }
          ],
          "scatter": [
           {
            "marker": {
             "line": {
              "width": 0
             }
            },
            "type": "scatter"
           }
          ],
          "table": [
           {
            "cells": {
             "fill": {
              "color": "#000038"
             },
             "font": {
              "color": "#000037"
             },
             "line": {
              "color": "#000039"
             }
            },
            "header": {
             "fill": {
              "color": "#000040"
             },
             "font": {
              "color": "#000036"
             },
             "line": {
              "color": "#000039"
             }
            },
            "type": "table"
           }
          ],
          "waterfall": [
           {
            "connector": {
             "line": {
              "color": "#000036",
              "width": 2
             }
            },
            "decreasing": {
             "marker": {
              "color": "#000033"
             }
            },
            "increasing": {
             "marker": {
              "color": "#000032"
             }
            },
            "totals": {
             "marker": {
              "color": "#000034"
             }
            },
            "type": "waterfall"
           }
          ]
         },
         "layout": {
          "coloraxis": {
           "colorscale": [
            [
             0,
             "#000011"
            ],
            [
             0.1111111111111111,
             "#000012"
            ],
            [
             0.2222222222222222,
             "#000013"
            ],
            [
             0.3333333333333333,
             "#000014"
            ],
            [
             0.4444444444444444,
             "#000015"
            ],
            [
             0.5555555555555556,
             "#000016"
            ],
            [
             0.6666666666666666,
             "#000017"
            ],
            [
             0.7777777777777778,
             "#000018"
            ],
            [
             0.8888888888888888,
             "#000019"
            ],
            [
             1,
             "#000020"
            ]
           ]
          },
          "colorscale": {
           "diverging": [
            [
             0,
             "#000021"
            ],
            [
             0.1,
             "#000022"
            ],
            [
             0.2,
             "#000023"
            ],
            [
             0.3,
             "#000024"
            ],
            [
             0.4,
             "#000025"
            ],
            [
             0.5,
             "#000026"
            ],
            [
             0.6,
             "#000027"
            ],
            [
             0.7,
             "#000028"
            ],
            [
             0.8,
             "#000029"
            ],
            [
             0.9,
             "#000030"
            ],
            [
             1,
             "#000031"
            ]
           ],
           "sequential": [
            [
             0,
             "#000011"
            ],
            [
             0.1111111111111111,
             "#000012"
            ],
            [
             0.2222222222222222,
             "#000013"
            ],
            [
             0.3333333333333333,
             "#000014"
            ],
            [
             0.4444444444444444,
             "#000015"
            ],
            [
             0.5555555555555556,
             "#000016"
            ],
            [
             0.6666666666666666,
             "#000017"
            ],
            [
             0.7777777777777778,
             "#000018"
            ],
            [
             0.8888888888888888,
             "#000019"
            ],
            [
             1,
             "#000020"
            ]
           ],
           "sequentialminus": [
            [
             0,
             "#000011"
            ],
            [
             0.1111111111111111,
             "#000012"
            ],
            [
             0.2222222222222222,
             "#000013"
            ],
            [
             0.3333333333333333,
             "#000014"
            ],
            [
             0.4444444444444444,
             "#000015"
            ],
            [
             0.5555555555555556,
             "#000016"
            ],
            [
             0.6666666666666666,
             "#000017"
            ],
            [
             0.7777777777777778,
             "#000018"
            ],
            [
             0.8888888888888888,
             "#000019"
            ],
            [
             1,
             "#000020"
            ]
           ]
          },
          "colorway": [
           "#000001",
           "#000002",
           "#000003",
           "#000004",
           "#000005",
           "#000006",
           "#000007",
           "#000008",
           "#000009",
           "#000010"
          ]
         }
        },
        "title": {
         "text": "Graphique de résidus pour montrer l'homoscédasticité"
        },
        "xaxis": {
         "anchor": "y",
         "domain": [
          0,
          1
         ],
         "title": {
          "text": "Valeurs prédites"
         }
        },
        "yaxis": {
         "anchor": "x",
         "domain": [
          0,
          1
         ],
         "title": {
          "text": "Résidus"
         }
        }
       }
      }
     },
     "metadata": {},
     "output_type": "display_data"
    }
   ],
   "source": [
    "fig = px.scatter(x=results_unrealistic.predict(var_unrealistic), y=results_unrealistic.resid, labels={'x': 'Valeurs prédites', 'y': 'Résidus'},\n",
    "                 title='Graphique de résidus pour montrer l\\'homoscédasticité')\n",
    "fig.add_hline(y=0, line_dash=\"dot\", line_color=\"red\")\n",
    "\n",
    "fig.show()"
   ]
  },
  {
   "cell_type": "code",
   "execution_count": 132,
   "id": "5b7d5bee",
   "metadata": {},
   "outputs": [
    {
     "name": "stdout",
     "output_type": "stream",
     "text": [
      "Cusum statistic :  0.4927 | p-value :  0.9684\n"
     ]
    },
    {
     "data": {
      "image/png": "[encoded data removed]",
      "text/plain": [
       "<Figure size 1000x600 with 1 Axes>"
      ]
     },
     "metadata": {},
     "output_type": "display_data"
    }
   ],
   "source": [
    "from statsmodels.stats.diagnostic import breaks_cusumolsresid\n",
    "cusum_test = breaks_cusumolsresid(results_unrealistic.resid)\n",
    "print(\"Cusum statistic : \", round(cusum_test[0], 4), \"| p-value : \", round(cusum_test[1], 4))\n",
    "\n",
    "rls_reg = sm.RecursiveLS(pd.DataFrame(dr_unrealistic) , var_unrealistic)\n",
    "res = rls_reg.fit()\n",
    "fig = res.plot_cusum(figsize=(10,6))\n",
    "plt.title('CUSUM Chart')\n",
    "plt.xlabel('Observation')\n",
    "plt.ylabel('CUSUM')\n",
    "plt.show()"
   ]
  },
  {
   "cell_type": "code",
   "execution_count": 133,
   "id": "ce123294",
   "metadata": {},
   "outputs": [
    {
     "data": {
      "image/png": "[encoded data removed]",
      "text/plain": [
       "<Figure size 640x480 with 1 Axes>"
      ]
     },
     "metadata": {},
     "output_type": "display_data"
    }
   ],
   "source": [
    "fig = sm.qqplot(results_unrealistic.resid, line = \"r\")\n",
    "plt.title(\"Q-Q plot for residus' OLS regression\")\n",
    "plt.show()"
   ]
  },
  {
   "cell_type": "code",
   "execution_count": 134,
   "id": "2e80c7eb",
   "metadata": {},
   "outputs": [
    {
     "name": "stdout",
     "output_type": "stream",
     "text": [
      "Pvalue du test Breusch Pagan :  19.82725235890753\n",
      "Pvalue du test White :  0.4192380898312325\n",
      "Pvalue du test Goldfeldquandt :  nan\n",
      "None\n"
     ]
    }
   ],
   "source": [
    "\n",
    "tests_homoscedasticide_unrealistic = tests_homoscedasticide(results_unrealistic.resid, dr_unrealistic,  var_unrealistic)\n",
    "print(tests_homoscedasticide_unrealistic)"
   ]
  },
  {
   "cell_type": "code",
   "execution_count": 135,
   "id": "14459b39",
   "metadata": {},
   "outputs": [
    {
     "ename": "ValueError",
     "evalue": "Must enter at least two input sample vectors.",
     "output_type": "error",
     "traceback": [
      "\u001b[1;31m---------------------------------------------------------------------------\u001b[0m",
      "\u001b[1;31mValueError\u001b[0m                                Traceback (most recent call last)",
      "Cell \u001b[1;32mIn[135], line 2\u001b[0m\n\u001b[0;32m      1\u001b[0m \u001b[39mfrom\u001b[39;00m \u001b[39mscipy\u001b[39;00m\u001b[39m.\u001b[39;00m\u001b[39mstats\u001b[39;00m \u001b[39mimport\u001b[39;00m bartlett\n\u001b[1;32m----> 2\u001b[0m bartlett(results_unrealistic\u001b[39m.\u001b[39;49mresid)\n",
      "File \u001b[1;32mc:\\Users\\arman\\miniconda3\\envs\\creditenv\\lib\\site-packages\\scipy\\stats\\_morestats.py:2565\u001b[0m, in \u001b[0;36mbartlett\u001b[1;34m(*samples)\u001b[0m\n\u001b[0;32m   2563\u001b[0m k \u001b[39m=\u001b[39m \u001b[39mlen\u001b[39m(samples)\n\u001b[0;32m   2564\u001b[0m \u001b[39mif\u001b[39;00m k \u001b[39m<\u001b[39m \u001b[39m2\u001b[39m:\n\u001b[1;32m-> 2565\u001b[0m     \u001b[39mraise\u001b[39;00m \u001b[39mValueError\u001b[39;00m(\u001b[39m\"\u001b[39m\u001b[39mMust enter at least two input sample vectors.\u001b[39m\u001b[39m\"\u001b[39m)\n\u001b[0;32m   2566\u001b[0m Ni \u001b[39m=\u001b[39m np\u001b[39m.\u001b[39mempty(k)\n\u001b[0;32m   2567\u001b[0m ssq \u001b[39m=\u001b[39m np\u001b[39m.\u001b[39mempty(k, \u001b[39m'\u001b[39m\u001b[39md\u001b[39m\u001b[39m'\u001b[39m)\n",
      "\u001b[1;31mValueError\u001b[0m: Must enter at least two input sample vectors."
     ]
    }
   ],
   "source": [
    "from scipy.stats import bartlett\n",
    "bartlett(results_unrealistic.resid)\n"
   ]
  },
  {
   "cell_type": "code",
   "execution_count": 136,
   "id": "9a7d2d65",
   "metadata": {},
   "outputs": [
    {
     "data": {
      "application/vnd.plotly.v1+json": {
       "config": {
        "plotlyServerURL": "https://plot.ly"
       },
       "data": [
        {
         "mode": "markers",
         "type": "scatter",
         "x": [
          0.04887680975657367,
          0.05004115307459655,
          0.04814880515391528,
          0.04445930067408605,
          0.04772025977183274,
          0.045257416886415595,
          0.044104734600877334,
          0.04268202176245815,
          0.04223281674526529,
          0.04673989756708759,
          0.046873298774427204,
          0.04502489213563733,
          0.04943679346870617,
          0.05146092238793014,
          0.051481632508322744,
          0.049671465756755566,
          0.050231642599234086,
          0.04791448387825141,
          0.045396009326962285,
          0.04275758692786484,
          0.04003635852560475,
          0.038545284210042864,
          0.03586993579935084,
          0.030984478117904238,
          0.028829917867589594,
          0.030849685499348536,
          0.030915465955186072,
          0.030034215098314884,
          0.026227827254302897,
          0.027719492831378534,
          0.029030987436246068,
          0.027343650885011103,
          0.027292275371265395,
          0.025992083407970136
         ],
         "y": [
          0.0005567121236088046,
          -0.0005754958739515106,
          -0.00015878206903189446,
          0.0031223674134979035,
          0.0009097145111372149,
          -0.001771445191313975,
          -0.0008631154660052529,
          -0.002208579236121687,
          0.0024711682986220604,
          -0.0012629719652248114,
          0.0010619154908932185,
          0.0010967011557672796,
          -0.00042132378548644794,
          -0.000596443663424498,
          0.0013939368801426932,
          0.0006924253151001092,
          0.0006028413287750209,
          -0.000977305516025026,
          -0.0001169383908171534,
          -0.00008693256625104395,
          -0.0021781087020927847,
          -0.0010897707115961053,
          0.0003614243796370986,
          -0.0012712433197973085,
          0.001774391906825979,
          0.00011731310158965766,
          -0.00020687585801924466,
          -0.003674460132656817,
          0.0014655407479526698,
          0.0001944133691650085,
          -0.0013030177888876324,
          0.00010490350788924102,
          0.0007416577404107255,
          0.0020953829656895455
         ]
        }
       ],
       "layout": {
        "template": {
         "data": {
          "candlestick": [
           {
            "decreasing": {
             "line": {
              "color": "#000033"
             }
            },
            "increasing": {
             "line": {
              "color": "#000032"
             }
            },
            "type": "candlestick"
           }
          ],
          "contour": [
           {
            "colorscale": [
             [
              0,
              "#000011"
             ],
             [
              0.1111111111111111,
              "#000012"
             ],
             [
              0.2222222222222222,
              "#000013"
             ],
             [
              0.3333333333333333,
              "#000014"
             ],
             [
              0.4444444444444444,
              "#000015"
             ],
             [
              0.5555555555555556,
              "#000016"
             ],
             [
              0.6666666666666666,
              "#000017"
             ],
             [
              0.7777777777777778,
              "#000018"
             ],
             [
              0.8888888888888888,
              "#000019"
             ],
             [
              1,
              "#000020"
             ]
            ],
            "type": "contour"
           }
          ],
          "contourcarpet": [
           {
            "colorscale": [
             [
              0,
              "#000011"
             ],
             [
              0.1111111111111111,
              "#000012"
             ],
             [
              0.2222222222222222,
              "#000013"
             ],
             [
              0.3333333333333333,
              "#000014"
             ],
             [
              0.4444444444444444,
              "#000015"
             ],
             [
              0.5555555555555556,
              "#000016"
             ],
             [
              0.6666666666666666,
              "#000017"
             ],
             [
              0.7777777777777778,
              "#000018"
             ],
             [
              0.8888888888888888,
              "#000019"
             ],
             [
              1,
              "#000020"
             ]
            ],
            "type": "contourcarpet"
           }
          ],
          "heatmap": [
           {
            "colorscale": [
             [
              0,
              "#000011"
             ],
             [
              0.1111111111111111,
              "#000012"
             ],
             [
              0.2222222222222222,
              "#000013"
             ],
             [
              0.3333333333333333,
              "#000014"
             ],
             [
              0.4444444444444444,
              "#000015"
             ],
             [
              0.5555555555555556,
              "#000016"
             ],
             [
              0.6666666666666666,
              "#000017"
             ],
             [
              0.7777777777777778,
              "#000018"
             ],
             [
              0.8888888888888888,
              "#000019"
             ],
             [
              1,
              "#000020"
             ]
            ],
            "type": "heatmap"
           }
          ],
          "histogram2d": [
           {
            "colorscale": [
             [
              0,
              "#000011"
             ],
             [
              0.1111111111111111,
              "#000012"
             ],
             [
              0.2222222222222222,
              "#000013"
             ],
             [
              0.3333333333333333,
              "#000014"
             ],
             [
              0.4444444444444444,
              "#000015"
             ],
             [
              0.5555555555555556,
              "#000016"
             ],
             [
              0.6666666666666666,
              "#000017"
             ],
             [
              0.7777777777777778,
              "#000018"
             ],
             [
              0.8888888888888888,
              "#000019"
             ],
             [
              1,
              "#000020"
             ]
            ],
            "type": "histogram2d"
           }
          ],
          "icicle": [
           {
            "textfont": {
             "color": "white"
            },
            "type": "icicle"
           }
          ],
          "sankey": [
           {
            "textfont": {
             "color": "#000036"
            },
            "type": "sankey"
           }
          ],
          "scatter": [
           {
            "marker": {
             "line": {
              "width": 0
             }
            },
            "type": "scatter"
           }
          ],
          "table": [
           {
            "cells": {
             "fill": {
              "color": "#000038"
             },
             "font": {
              "color": "#000037"
             },
             "line": {
              "color": "#000039"
             }
            },
            "header": {
             "fill": {
              "color": "#000040"
             },
             "font": {
              "color": "#000036"
             },
             "line": {
              "color": "#000039"
             }
            },
            "type": "table"
           }
          ],
          "waterfall": [
           {
            "connector": {
             "line": {
              "color": "#000036",
              "width": 2
             }
            },
            "decreasing": {
             "marker": {
              "color": "#000033"
             }
            },
            "increasing": {
             "marker": {
              "color": "#000032"
             }
            },
            "totals": {
             "marker": {
              "color": "#000034"
             }
            },
            "type": "waterfall"
           }
          ]
         },
         "layout": {
          "coloraxis": {
           "colorscale": [
            [
             0,
             "#000011"
            ],
            [
             0.1111111111111111,
             "#000012"
            ],
            [
             0.2222222222222222,
             "#000013"
            ],
            [
             0.3333333333333333,
             "#000014"
            ],
            [
             0.4444444444444444,
             "#000015"
            ],
            [
             0.5555555555555556,
             "#000016"
            ],
            [
             0.6666666666666666,
             "#000017"
            ],
            [
             0.7777777777777778,
             "#000018"
            ],
            [
             0.8888888888888888,
             "#000019"
            ],
            [
             1,
             "#000020"
            ]
           ]
          },
          "colorscale": {
           "diverging": [
            [
             0,
             "#000021"
            ],
            [
             0.1,
             "#000022"
            ],
            [
             0.2,
             "#000023"
            ],
            [
             0.3,
             "#000024"
            ],
            [
             0.4,
             "#000025"
            ],
            [
             0.5,
             "#000026"
            ],
            [
             0.6,
             "#000027"
            ],
            [
             0.7,
             "#000028"
            ],
            [
             0.8,
             "#000029"
            ],
            [
             0.9,
             "#000030"
            ],
            [
             1,
             "#000031"
            ]
           ],
           "sequential": [
            [
             0,
             "#000011"
            ],
            [
             0.1111111111111111,
             "#000012"
            ],
            [
             0.2222222222222222,
             "#000013"
            ],
            [
             0.3333333333333333,
             "#000014"
            ],
            [
             0.4444444444444444,
             "#000015"
            ],
            [
             0.5555555555555556,
             "#000016"
            ],
            [
             0.6666666666666666,
             "#000017"
            ],
            [
             0.7777777777777778,
             "#000018"
            ],
            [
             0.8888888888888888,
             "#000019"
            ],
            [
             1,
             "#000020"
            ]
           ],
           "sequentialminus": [
            [
             0,
             "#000011"
            ],
            [
             0.1111111111111111,
             "#000012"
            ],
            [
             0.2222222222222222,
             "#000013"
            ],
            [
             0.3333333333333333,
             "#000014"
            ],
            [
             0.4444444444444444,
             "#000015"
            ],
            [
             0.5555555555555556,
             "#000016"
            ],
            [
             0.6666666666666666,
             "#000017"
            ],
            [
             0.7777777777777778,
             "#000018"
            ],
            [
             0.8888888888888888,
             "#000019"
            ],
            [
             1,
             "#000020"
            ]
           ]
          },
          "colorway": [
           "#000001",
           "#000002",
           "#000003",
           "#000004",
           "#000005",
           "#000006",
           "#000007",
           "#000008",
           "#000009",
           "#000010"
          ]
         }
        },
        "title": {
         "text": "Graphique de résidus versus ajustements"
        },
        "xaxis": {
         "title": {
          "text": "Ajustements"
         }
        },
        "yaxis": {
         "title": {
          "text": "Résidus"
         }
        }
       }
      }
     },
     "metadata": {},
     "output_type": "display_data"
    }
   ],
   "source": [
    "import plotly.graph_objs as go\n",
    "import plotly.offline as pyo\n",
    "\n",
    "trace = go.Scatter(x=results_unrealistic.predict(), y=results_unrealistic.resid, mode='markers')\n",
    "layout = go.Layout(title='Graphique de résidus versus ajustements', xaxis=dict(title='Ajustements'), yaxis=dict(title='Résidus'))\n",
    "fig = go.Figure(data=[trace], layout=layout)\n",
    "fig.show()"
   ]
  },
  {
   "attachments": {},
   "cell_type": "markdown",
   "id": "e526e8aa",
   "metadata": {},
   "source": [
    "### LJUNG BOX : LE FAIRE BIEN. BESOIN D Y REFLECHIR AVEC LA TETE FRAICHE "
   ]
  },
  {
   "cell_type": "code",
   "execution_count": 137,
   "id": "cd0eb62c",
   "metadata": {},
   "outputs": [
    {
     "data": {
      "text/plain": [
       "Index(['IRLT_ann', 'IRLT_ann_lag1', 'IRLT_ann_lag2', 'RGDP_tri_lag3',\n",
       "       'RGDP_tri_lag4', 'RGDP_tri_lag5', 'RREP_tri', 'RREP_tri_lag1',\n",
       "       'RREP_tri_lag2', 'RREP_tri_lag3', 'RREP_tri_lag4', 'RREP_tri_lag5',\n",
       "       'UNR_tri', 'UNR_tri_lag1', 'UNR_tri_lag3', 'UNR_tri_lag4',\n",
       "       'UNR_tri_lag5', 'td_lag1', 'td'],\n",
       "      dtype='object')"
      ]
     },
     "execution_count": 137,
     "metadata": {},
     "output_type": "execute_result"
    }
   ],
   "source": [
    "df_train.columns"
   ]
  },
  {
   "attachments": {},
   "cell_type": "markdown",
   "id": "76316633",
   "metadata": {},
   "source": [
    "Modèle traditionnel : OLS respectueux des hypothèses sur les pvalues"
   ]
  },
  {
   "cell_type": "code",
   "execution_count": 138,
   "id": "20dc953a",
   "metadata": {},
   "outputs": [],
   "source": [
    "\n",
    "variables_kept_signi = list(df_train.columns)\n",
    "variables_excluded_signi = ['td', 'UNR_tri_lag5', 'RGDP_tri_lag5', 'UNR_tri', 'RREP_tri', 'RREP_tri_lag4', 'UNR_tri_lag1', 'RGDP_tri_lag3', \n",
    "                      'UNR_tri_lag3', 'UNR_tri_lag4', 'RREP_tri_lag3', 'RREP_tri_lag1', 'RREP_tri_lag2']    #ajouter des trucs pour donner le choix à l'utilisateur de retirer des varaibles\n",
    "for variable in variables_excluded_signi:\n",
    "    variables_kept_signi.remove(variable)\n",
    "row_signi, results_signi, dr_signi, var_signi = model_OLS(df_train, variables_kept_signi) \n",
    "\n",
    "df_train['td_predicted'] = results_signi.predict()\n",
    "#row_signi"
   ]
  },
  {
   "cell_type": "code",
   "execution_count": 139,
   "id": "48b5d261",
   "metadata": {},
   "outputs": [
    {
     "data": {
      "application/vnd.plotly.v1+json": {
       "config": {
        "plotlyServerURL": "https://plot.ly"
       },
       "data": [
        {
         "line": {
          "color": "red"
         },
         "mode": "lines",
         "name": "td",
         "type": "scatter",
         "x": [
          "2010-07-31T00:00:00",
          "2010-10-31T00:00:00",
          "2011-01-31T00:00:00",
          "2011-04-30T00:00:00",
          "2011-07-31T00:00:00",
          "2011-10-31T00:00:00",
          "2012-01-31T00:00:00",
          "2012-04-30T00:00:00",
          "2012-07-31T00:00:00",
          "2012-10-31T00:00:00",
          "2013-01-31T00:00:00",
          "2013-04-30T00:00:00",
          "2013-07-31T00:00:00",
          "2013-10-31T00:00:00",
          "2014-01-31T00:00:00",
          "2014-04-30T00:00:00",
          "2014-07-31T00:00:00",
          "2014-10-31T00:00:00",
          "2015-01-31T00:00:00",
          "2015-04-30T00:00:00",
          "2015-07-31T00:00:00",
          "2015-10-31T00:00:00",
          "2016-01-31T00:00:00",
          "2016-04-30T00:00:00",
          "2016-07-31T00:00:00",
          "2016-10-31T00:00:00",
          "2017-01-31T00:00:00",
          "2017-04-30T00:00:00",
          "2017-07-31T00:00:00",
          "2017-10-31T00:00:00",
          "2018-01-31T00:00:00",
          "2018-04-30T00:00:00",
          "2018-07-31T00:00:00",
          "2018-10-31T00:00:00"
         ],
         "y": [
          0.04943352188018248,
          0.04946565720064504,
          0.047990023084883385,
          0.047581668087583955,
          0.04862997428296995,
          0.04348597169510162,
          0.04324161913487208,
          0.040473442526336466,
          0.044703985043887354,
          0.045476925601862776,
          0.04793521426532042,
          0.04612159329140461,
          0.04901546968321972,
          0.05086447872450564,
          0.05287556938846544,
          0.050363891071855675,
          0.05083448392800911,
          0.046937178362226384,
          0.04527907093614513,
          0.0426706543616138,
          0.037858249823511964,
          0.03745551349844676,
          0.03623136017898794,
          0.02971323479810693,
          0.030604309774415573,
          0.030966998600938194,
          0.030708590097166828,
          0.026359754965658067,
          0.027693368002255567,
          0.027913906200543542,
          0.027727969647358436,
          0.027448554392900344,
          0.02803393311167612,
          0.02808746637365968
         ]
        },
        {
         "line": {
          "color": "blue"
         },
         "mode": "lines",
         "name": "td_predicted",
         "type": "scatter",
         "x": [
          "2010-07-31T00:00:00",
          "2010-10-31T00:00:00",
          "2011-01-31T00:00:00",
          "2011-04-30T00:00:00",
          "2011-07-31T00:00:00",
          "2011-10-31T00:00:00",
          "2012-01-31T00:00:00",
          "2012-04-30T00:00:00",
          "2012-07-31T00:00:00",
          "2012-10-31T00:00:00",
          "2013-01-31T00:00:00",
          "2013-04-30T00:00:00",
          "2013-07-31T00:00:00",
          "2013-10-31T00:00:00",
          "2014-01-31T00:00:00",
          "2014-04-30T00:00:00",
          "2014-07-31T00:00:00",
          "2014-10-31T00:00:00",
          "2015-01-31T00:00:00",
          "2015-04-30T00:00:00",
          "2015-07-31T00:00:00",
          "2015-10-31T00:00:00",
          "2016-01-31T00:00:00",
          "2016-04-30T00:00:00",
          "2016-07-31T00:00:00",
          "2016-10-31T00:00:00",
          "2017-01-31T00:00:00",
          "2017-04-30T00:00:00",
          "2017-07-31T00:00:00",
          "2017-10-31T00:00:00",
          "2018-01-31T00:00:00",
          "2018-04-30T00:00:00",
          "2018-07-31T00:00:00",
          "2018-10-31T00:00:00"
         ],
         "y": [
          0.0471261663980079,
          0.04926034784654676,
          0.04773820794226738,
          0.04596251454577289,
          0.0462659710011677,
          0.04647909100034946,
          0.044825258788370466,
          0.04272732064365731,
          0.041667736798926075,
          0.046893232408204436,
          0.04671362562591489,
          0.046826419087752987,
          0.04874227982224103,
          0.05160239211807643,
          0.051026518390293894,
          0.05005826664787329,
          0.04980350112278243,
          0.04794570401418827,
          0.045010762212731543,
          0.04386943194557573,
          0.040015363266673876,
          0.03787435455057191,
          0.03730105650225436,
          0.030786188355981996,
          0.028615179675652743,
          0.030611048273482988,
          0.030069644742848775,
          0.03042659519352956,
          0.02504181940042632,
          0.028367879929963,
          0.02857060385497365,
          0.02800139201304989,
          0.027351498155173234,
          0.026606229741431963
         ]
        }
       ],
       "layout": {
        "template": {
         "data": {
          "candlestick": [
           {
            "decreasing": {
             "line": {
              "color": "#000033"
             }
            },
            "increasing": {
             "line": {
              "color": "#000032"
             }
            },
            "type": "candlestick"
           }
          ],
          "contour": [
           {
            "colorscale": [
             [
              0,
              "#000011"
             ],
             [
              0.1111111111111111,
              "#000012"
             ],
             [
              0.2222222222222222,
              "#000013"
             ],
             [
              0.3333333333333333,
              "#000014"
             ],
             [
              0.4444444444444444,
              "#000015"
             ],
             [
              0.5555555555555556,
              "#000016"
             ],
             [
              0.6666666666666666,
              "#000017"
             ],
             [
              0.7777777777777778,
              "#000018"
             ],
             [
              0.8888888888888888,
              "#000019"
             ],
             [
              1,
              "#000020"
             ]
            ],
            "type": "contour"
           }
          ],
          "contourcarpet": [
           {
            "colorscale": [
             [
              0,
              "#000011"
             ],
             [
              0.1111111111111111,
              "#000012"
             ],
             [
              0.2222222222222222,
              "#000013"
             ],
             [
              0.3333333333333333,
              "#000014"
             ],
             [
              0.4444444444444444,
              "#000015"
             ],
             [
              0.5555555555555556,
              "#000016"
             ],
             [
              0.6666666666666666,
              "#000017"
             ],
             [
              0.7777777777777778,
              "#000018"
             ],
             [
              0.8888888888888888,
              "#000019"
             ],
             [
              1,
              "#000020"
             ]
            ],
            "type": "contourcarpet"
           }
          ],
          "heatmap": [
           {
            "colorscale": [
             [
              0,
              "#000011"
             ],
             [
              0.1111111111111111,
              "#000012"
             ],
             [
              0.2222222222222222,
              "#000013"
             ],
             [
              0.3333333333333333,
              "#000014"
             ],
             [
              0.4444444444444444,
              "#000015"
             ],
             [
              0.5555555555555556,
              "#000016"
             ],
             [
              0.6666666666666666,
              "#000017"
             ],
             [
              0.7777777777777778,
              "#000018"
             ],
             [
              0.8888888888888888,
              "#000019"
             ],
             [
              1,
              "#000020"
             ]
            ],
            "type": "heatmap"
           }
          ],
          "histogram2d": [
           {
            "colorscale": [
             [
              0,
              "#000011"
             ],
             [
              0.1111111111111111,
              "#000012"
             ],
             [
              0.2222222222222222,
              "#000013"
             ],
             [
              0.3333333333333333,
              "#000014"
             ],
             [
              0.4444444444444444,
              "#000015"
             ],
             [
              0.5555555555555556,
              "#000016"
             ],
             [
              0.6666666666666666,
              "#000017"
             ],
             [
              0.7777777777777778,
              "#000018"
             ],
             [
              0.8888888888888888,
              "#000019"
             ],
             [
              1,
              "#000020"
             ]
            ],
            "type": "histogram2d"
           }
          ],
          "icicle": [
           {
            "textfont": {
             "color": "white"
            },
            "type": "icicle"
           }
          ],
          "sankey": [
           {
            "textfont": {
             "color": "#000036"
            },
            "type": "sankey"
           }
          ],
          "scatter": [
           {
            "marker": {
             "line": {
              "width": 0
             }
            },
            "type": "scatter"
           }
          ],
          "table": [
           {
            "cells": {
             "fill": {
              "color": "#000038"
             },
             "font": {
              "color": "#000037"
             },
             "line": {
              "color": "#000039"
             }
            },
            "header": {
             "fill": {
              "color": "#000040"
             },
             "font": {
              "color": "#000036"
             },
             "line": {
              "color": "#000039"
             }
            },
            "type": "table"
           }
          ],
          "waterfall": [
           {
            "connector": {
             "line": {
              "color": "#000036",
              "width": 2
             }
            },
            "decreasing": {
             "marker": {
              "color": "#000033"
             }
            },
            "increasing": {
             "marker": {
              "color": "#000032"
             }
            },
            "totals": {
             "marker": {
              "color": "#000034"
             }
            },
            "type": "waterfall"
           }
          ]
         },
         "layout": {
          "coloraxis": {
           "colorscale": [
            [
             0,
             "#000011"
            ],
            [
             0.1111111111111111,
             "#000012"
            ],
            [
             0.2222222222222222,
             "#000013"
            ],
            [
             0.3333333333333333,
             "#000014"
            ],
            [
             0.4444444444444444,
             "#000015"
            ],
            [
             0.5555555555555556,
             "#000016"
            ],
            [
             0.6666666666666666,
             "#000017"
            ],
            [
             0.7777777777777778,
             "#000018"
            ],
            [
             0.8888888888888888,
             "#000019"
            ],
            [
             1,
             "#000020"
            ]
           ]
          },
          "colorscale": {
           "diverging": [
            [
             0,
             "#000021"
            ],
            [
             0.1,
             "#000022"
            ],
            [
             0.2,
             "#000023"
            ],
            [
             0.3,
             "#000024"
            ],
            [
             0.4,
             "#000025"
            ],
            [
             0.5,
             "#000026"
            ],
            [
             0.6,
             "#000027"
            ],
            [
             0.7,
             "#000028"
            ],
            [
             0.8,
             "#000029"
            ],
            [
             0.9,
             "#000030"
            ],
            [
             1,
             "#000031"
            ]
           ],
           "sequential": [
            [
             0,
             "#000011"
            ],
            [
             0.1111111111111111,
             "#000012"
            ],
            [
             0.2222222222222222,
             "#000013"
            ],
            [
             0.3333333333333333,
             "#000014"
            ],
            [
             0.4444444444444444,
             "#000015"
            ],
            [
             0.5555555555555556,
             "#000016"
            ],
            [
             0.6666666666666666,
             "#000017"
            ],
            [
             0.7777777777777778,
             "#000018"
            ],
            [
             0.8888888888888888,
             "#000019"
            ],
            [
             1,
             "#000020"
            ]
           ],
           "sequentialminus": [
            [
             0,
             "#000011"
            ],
            [
             0.1111111111111111,
             "#000012"
            ],
            [
             0.2222222222222222,
             "#000013"
            ],
            [
             0.3333333333333333,
             "#000014"
            ],
            [
             0.4444444444444444,
             "#000015"
            ],
            [
             0.5555555555555556,
             "#000016"
            ],
            [
             0.6666666666666666,
             "#000017"
            ],
            [
             0.7777777777777778,
             "#000018"
            ],
            [
             0.8888888888888888,
             "#000019"
            ],
            [
             1,
             "#000020"
            ]
           ]
          },
          "colorway": [
           "#000001",
           "#000002",
           "#000003",
           "#000004",
           "#000005",
           "#000006",
           "#000007",
           "#000008",
           "#000009",
           "#000010"
          ]
         }
        },
        "title": {
         "text": "Graphique du dataset d'entrainement en utilisant le modèle sous-optimal"
        },
        "xaxis": {
         "title": {
          "text": "Dates"
         }
        },
        "yaxis": {
         "title": {
          "text": "%"
         }
        }
       }
      }
     },
     "metadata": {},
     "output_type": "display_data"
    }
   ],
   "source": [
    "graphique_periode_entrainement(df_train, \"le modèle sous-optimal\")"
   ]
  },
  {
   "cell_type": "code",
   "execution_count": 140,
   "id": "18a4d9e5",
   "metadata": {},
   "outputs": [
    {
     "name": "stdout",
     "output_type": "stream",
     "text": [
      "La moyenne des résidus est très proche de zéro. L'hypothèse faible de normalité des résidus est respectée.\n",
      "-------\n",
      "On ne peut pas dire que les résidus ne suivent pas une loi normale. Donc on accepte l'hypothèse de normalité des résidus\n",
      "On accepte l'hypothèse de normanité des résidus\n",
      "On accepte l'hypothèse H0 du test, donc on accepte la normalité des résidus\n",
      "100% des tests de normalité admettent la normalité des résidus, sur 3 tests.\n",
      "-------\n",
      "Le modèle admet 1 variables avec un facteur VIF supérieur à 5\n"
     ]
    },
    {
     "data": {
      "application/vnd.plotly.v1+json": {
       "config": {
        "plotlyServerURL": "https://plot.ly"
       },
       "data": [
        {
         "hovertemplate": "Valeurs prédites=%{x}<br>Résidus=%{y}<extra></extra>",
         "legendgroup": "",
         "marker": {
          "color": "#000001",
          "symbol": "circle"
         },
         "mode": "markers",
         "name": "",
         "orientation": "v",
         "showlegend": false,
         "type": "scatter",
         "x": [
          0.0471261663980079,
          0.04926034784654676,
          0.04773820794226738,
          0.04596251454577289,
          0.0462659710011677,
          0.04647909100034946,
          0.044825258788370466,
          0.04272732064365731,
          0.041667736798926075,
          0.046893232408204436,
          0.04671362562591489,
          0.046826419087752987,
          0.04874227982224103,
          0.05160239211807643,
          0.051026518390293894,
          0.05005826664787329,
          0.04980350112278243,
          0.04794570401418827,
          0.045010762212731543,
          0.04386943194557573,
          0.040015363266673876,
          0.03787435455057191,
          0.03730105650225436,
          0.030786188355981996,
          0.028615179675652743,
          0.030611048273482988,
          0.030069644742848775,
          0.03042659519352956,
          0.02504181940042632,
          0.028367879929963,
          0.02857060385497365,
          0.02800139201304989,
          0.027351498155173234,
          0.026606229741431963
         ],
         "xaxis": "x",
         "y": [
          0.002307355482174575,
          0.00020530935409827922,
          0.0002518151426160048,
          0.0016191535418110664,
          0.0023640032818022516,
          -0.0029931193052478364,
          -0.0015836396534983851,
          -0.0022538781173208414,
          0.0030362482449612788,
          -0.0014163068063416592,
          0.0012215886394055311,
          -0.0007048257963483753,
          0.0002731898609786912,
          -0.0007379133935707868,
          0.0018490509981715433,
          0.00030562442398238826,
          0.0010309828052266767,
          -0.0010085256519618835,
          0.0002683087234135878,
          -0.0011987775839619325,
          -0.002157113443161912,
          -0.00041884105212515454,
          -0.0010696963232664225,
          -0.001072953557875067,
          0.00198913009876283,
          0.000355950327455206,
          0.0006389453543180525,
          -0.004066840227871495,
          0.0026515486018292463,
          -0.00045397372941945874,
          -0.000842634207615215,
          -0.0005528376201495468,
          0.0006824349565028864,
          0.0014812366322277185
         ],
         "yaxis": "y"
        }
       ],
       "layout": {
        "legend": {
         "tracegroupgap": 0
        },
        "shapes": [
         {
          "line": {
           "color": "red",
           "dash": "dot"
          },
          "type": "line",
          "x0": 0,
          "x1": 1,
          "xref": "x domain",
          "y0": 0,
          "y1": 0,
          "yref": "y"
         }
        ],
        "template": {
         "data": {
          "candlestick": [
           {
            "decreasing": {
             "line": {
              "color": "#000033"
             }
            },
            "increasing": {
             "line": {
              "color": "#000032"
             }
            },
            "type": "candlestick"
           }
          ],
          "contour": [
           {
            "colorscale": [
             [
              0,
              "#000011"
             ],
             [
              0.1111111111111111,
              "#000012"
             ],
             [
              0.2222222222222222,
              "#000013"
             ],
             [
              0.3333333333333333,
              "#000014"
             ],
             [
              0.4444444444444444,
              "#000015"
             ],
             [
              0.5555555555555556,
              "#000016"
             ],
             [
              0.6666666666666666,
              "#000017"
             ],
             [
              0.7777777777777778,
              "#000018"
             ],
             [
              0.8888888888888888,
              "#000019"
             ],
             [
              1,
              "#000020"
             ]
            ],
            "type": "contour"
           }
          ],
          "contourcarpet": [
           {
            "colorscale": [
             [
              0,
              "#000011"
             ],
             [
              0.1111111111111111,
              "#000012"
             ],
             [
              0.2222222222222222,
              "#000013"
             ],
             [
              0.3333333333333333,
              "#000014"
             ],
             [
              0.4444444444444444,
              "#000015"
             ],
             [
              0.5555555555555556,
              "#000016"
             ],
             [
              0.6666666666666666,
              "#000017"
             ],
             [
              0.7777777777777778,
              "#000018"
             ],
             [
              0.8888888888888888,
              "#000019"
             ],
             [
              1,
              "#000020"
             ]
            ],
            "type": "contourcarpet"
           }
          ],
          "heatmap": [
           {
            "colorscale": [
             [
              0,
              "#000011"
             ],
             [
              0.1111111111111111,
              "#000012"
             ],
             [
              0.2222222222222222,
              "#000013"
             ],
             [
              0.3333333333333333,
              "#000014"
             ],
             [
              0.4444444444444444,
              "#000015"
             ],
             [
              0.5555555555555556,
              "#000016"
             ],
             [
              0.6666666666666666,
              "#000017"
             ],
             [
              0.7777777777777778,
              "#000018"
             ],
             [
              0.8888888888888888,
              "#000019"
             ],
             [
              1,
              "#000020"
             ]
            ],
            "type": "heatmap"
           }
          ],
          "histogram2d": [
           {
            "colorscale": [
             [
              0,
              "#000011"
             ],
             [
              0.1111111111111111,
              "#000012"
             ],
             [
              0.2222222222222222,
              "#000013"
             ],
             [
              0.3333333333333333,
              "#000014"
             ],
             [
              0.4444444444444444,
              "#000015"
             ],
             [
              0.5555555555555556,
              "#000016"
             ],
             [
              0.6666666666666666,
              "#000017"
             ],
             [
              0.7777777777777778,
              "#000018"
             ],
             [
              0.8888888888888888,
              "#000019"
             ],
             [
              1,
              "#000020"
             ]
            ],
            "type": "histogram2d"
           }
          ],
          "icicle": [
           {
            "textfont": {
             "color": "white"
            },
            "type": "icicle"
           }
          ],
          "sankey": [
           {
            "textfont": {
             "color": "#000036"
            },
            "type": "sankey"
           }
          ],
          "scatter": [
           {
            "marker": {
             "line": {
              "width": 0
             }
            },
            "type": "scatter"
           }
          ],
          "table": [
           {
            "cells": {
             "fill": {
              "color": "#000038"
             },
             "font": {
              "color": "#000037"
             },
             "line": {
              "color": "#000039"
             }
            },
            "header": {
             "fill": {
              "color": "#000040"
             },
             "font": {
              "color": "#000036"
             },
             "line": {
              "color": "#000039"
             }
            },
            "type": "table"
           }
          ],
          "waterfall": [
           {
            "connector": {
             "line": {
              "color": "#000036",
              "width": 2
             }
            },
            "decreasing": {
             "marker": {
              "color": "#000033"
             }
            },
            "increasing": {
             "marker": {
              "color": "#000032"
             }
            },
            "totals": {
             "marker": {
              "color": "#000034"
             }
            },
            "type": "waterfall"
           }
          ]
         },
         "layout": {
          "coloraxis": {
           "colorscale": [
            [
             0,
             "#000011"
            ],
            [
             0.1111111111111111,
             "#000012"
            ],
            [
             0.2222222222222222,
             "#000013"
            ],
            [
             0.3333333333333333,
             "#000014"
            ],
            [
             0.4444444444444444,
             "#000015"
            ],
            [
             0.5555555555555556,
             "#000016"
            ],
            [
             0.6666666666666666,
             "#000017"
            ],
            [
             0.7777777777777778,
             "#000018"
            ],
            [
             0.8888888888888888,
             "#000019"
            ],
            [
             1,
             "#000020"
            ]
           ]
          },
          "colorscale": {
           "diverging": [
            [
             0,
             "#000021"
            ],
            [
             0.1,
             "#000022"
            ],
            [
             0.2,
             "#000023"
            ],
            [
             0.3,
             "#000024"
            ],
            [
             0.4,
             "#000025"
            ],
            [
             0.5,
             "#000026"
            ],
            [
             0.6,
             "#000027"
            ],
            [
             0.7,
             "#000028"
            ],
            [
             0.8,
             "#000029"
            ],
            [
             0.9,
             "#000030"
            ],
            [
             1,
             "#000031"
            ]
           ],
           "sequential": [
            [
             0,
             "#000011"
            ],
            [
             0.1111111111111111,
             "#000012"
            ],
            [
             0.2222222222222222,
             "#000013"
            ],
            [
             0.3333333333333333,
             "#000014"
            ],
            [
             0.4444444444444444,
             "#000015"
            ],
            [
             0.5555555555555556,
             "#000016"
            ],
            [
             0.6666666666666666,
             "#000017"
            ],
            [
             0.7777777777777778,
             "#000018"
            ],
            [
             0.8888888888888888,
             "#000019"
            ],
            [
             1,
             "#000020"
            ]
           ],
           "sequentialminus": [
            [
             0,
             "#000011"
            ],
            [
             0.1111111111111111,
             "#000012"
            ],
            [
             0.2222222222222222,
             "#000013"
            ],
            [
             0.3333333333333333,
             "#000014"
            ],
            [
             0.4444444444444444,
             "#000015"
            ],
            [
             0.5555555555555556,
             "#000016"
            ],
            [
             0.6666666666666666,
             "#000017"
            ],
            [
             0.7777777777777778,
             "#000018"
            ],
            [
             0.8888888888888888,
             "#000019"
            ],
            [
             1,
             "#000020"
            ]
           ]
          },
          "colorway": [
           "#000001",
           "#000002",
           "#000003",
           "#000004",
           "#000005",
           "#000006",
           "#000007",
           "#000008",
           "#000009",
           "#000010"
          ]
         }
        },
        "title": {
         "text": "Graphique de résidus pour montrer l'homoscédasticité"
        },
        "xaxis": {
         "anchor": "y",
         "domain": [
          0,
          1
         ],
         "title": {
          "text": "Valeurs prédites"
         }
        },
        "yaxis": {
         "anchor": "x",
         "domain": [
          0,
          1
         ],
         "title": {
          "text": "Résidus"
         }
        }
       }
      }
     },
     "metadata": {},
     "output_type": "display_data"
    }
   ],
   "source": [
    "interpretation_tests(row_signi)\n",
    "fig = px.scatter(x=results_signi.predict(var_signi), y=results_signi.resid, labels={'x': 'Valeurs prédites', 'y': 'Résidus'},\n",
    "                 title='Graphique de résidus pour montrer l\\'homoscédasticité')\n",
    "fig.add_hline(y=0, line_dash=\"dot\", line_color=\"red\")\n",
    "\n",
    "fig.show()"
   ]
  },
  {
   "cell_type": "code",
   "execution_count": 141,
   "id": "b54403ac",
   "metadata": {},
   "outputs": [
    {
     "name": "stdout",
     "output_type": "stream",
     "text": [
      "Cusum statistic :  0.7105 | p-value :  0.6937\n"
     ]
    },
    {
     "data": {
      "image/png": "[encoded data removed]",
      "text/plain": [
       "<Figure size 1000x600 with 1 Axes>"
      ]
     },
     "metadata": {},
     "output_type": "display_data"
    }
   ],
   "source": [
    "from statsmodels.stats.diagnostic import breaks_cusumolsresid\n",
    "cusum_test = breaks_cusumolsresid(results_signi.resid)\n",
    "print(\"Cusum statistic : \", round(cusum_test[0], 4), \"| p-value : \", round(cusum_test[1], 4))\n",
    "\n",
    "rls_reg = sm.RecursiveLS(pd.DataFrame(dr_signi) , var_signi)\n",
    "res = rls_reg.fit()\n",
    "fig = res.plot_cusum(figsize=(10,6))\n",
    "plt.title('CUSUM Chart')\n",
    "plt.xlabel('Observation')\n",
    "plt.ylabel('CUSUM')\n",
    "plt.show()"
   ]
  },
  {
   "cell_type": "code",
   "execution_count": 142,
   "id": "af794668",
   "metadata": {},
   "outputs": [
    {
     "data": {
      "image/png": "[encoded data removed]",
      "text/plain": [
       "<Figure size 640x480 with 1 Axes>"
      ]
     },
     "metadata": {},
     "output_type": "display_data"
    }
   ],
   "source": [
    "fig = sm.qqplot(results_signi.resid, line = \"r\")\n",
    "plt.title(\"Q-Q plot for residus' OLS regression\")\n",
    "plt.show()"
   ]
  },
  {
   "cell_type": "code",
   "execution_count": 143,
   "id": "3d9a4215",
   "metadata": {},
   "outputs": [
    {
     "name": "stdout",
     "output_type": "stream",
     "text": [
      "Pvalue du test Breusch Pagan :  12.054584395329142\n",
      "Pvalue du test White :  0.4228218209393461\n",
      "Pvalue du test Goldfeldquandt :  0.4993800491481213\n",
      "None\n"
     ]
    }
   ],
   "source": [
    "\n",
    "tests_homoscedasticide_unrealistic = tests_homoscedasticide(results_signi.resid, dr_signi,  var_signi)\n",
    "print(tests_homoscedasticide_unrealistic)"
   ]
  },
  {
   "cell_type": "code",
   "execution_count": 150,
   "id": "b9e6550e",
   "metadata": {},
   "outputs": [
    {
     "data": {
      "text/plain": [
       "Index(['IRLT_ann', 'IRLT_ann_lag1', 'IRLT_ann_lag2', 'RGDP_tri_lag3',\n",
       "       'RGDP_tri_lag4', 'RGDP_tri_lag5', 'RREP_tri', 'RREP_tri_lag1',\n",
       "       'RREP_tri_lag2', 'RREP_tri_lag3', 'RREP_tri_lag4', 'RREP_tri_lag5',\n",
       "       'UNR_tri', 'UNR_tri_lag1', 'UNR_tri_lag3', 'UNR_tri_lag4',\n",
       "       'UNR_tri_lag5', 'td_lag1', 'td'],\n",
       "      dtype='object')"
      ]
     },
     "execution_count": 150,
     "metadata": {},
     "output_type": "execute_result"
    }
   ],
   "source": [
    "df_lags.columns"
   ]
  },
  {
   "attachments": {},
   "cell_type": "markdown",
   "id": "41e3c162",
   "metadata": {},
   "source": [
    "## Utilisation des estimations pour faire les prédictions"
   ]
  },
  {
   "attachments": {},
   "cell_type": "markdown",
   "id": "eee57f11",
   "metadata": {},
   "source": [
    "#### Preprocessing sur les scénarios"
   ]
  },
  {
   "cell_type": "code",
   "execution_count": 145,
   "id": "7e545dd2",
   "metadata": {},
   "outputs": [],
   "source": [
    "td = pd.read_excel(\"data/default_rate_quarterly.xlsx\")\n",
    "macro_adverse = pd.read_excel(\"data/variables_macroeconomiques_adverse.xlsx\")\n",
    "macro_baseline = pd.read_excel(\"data/variables_macroeconomiques_baseline.xlsx\")\n",
    "\n",
    "# création du dataframe, avec les variables macro et le TD, index par la date\n",
    "td = td.set_index(\"Date\")\n",
    "macro_adverse = macro_adverse.set_index(\"Date\")\n",
    "macro_adverse[\"td\"]=td\n",
    "\n",
    "# Variation mensuelle\n",
    "macro_adverse[['RGDP_tri', 'HICP_tri', 'IRLT_tri',  'RREP_tri', 'UNR_tri']] = (macro_adverse[['RGDP', 'HICP', 'IRLT',  'RREP', 'UNR']] - macro_adverse[['RGDP', 'HICP', 'IRLT',  'RREP', 'UNR']].shift(1)) / macro_adverse[['RGDP', 'HICP', 'IRLT',  'RREP', 'UNR']].shift(1)\n",
    "# Variation annuelle\n",
    "macro_adverse[['RGDP_ann', 'HICP_ann', 'IRLT_ann',  'RREP_ann', 'UNR_ann']] = (macro_adverse[['RGDP', 'HICP', 'IRLT',  'RREP', 'UNR']] - macro_adverse[['RGDP', 'HICP', 'IRLT',  'RREP', 'UNR']].shift(4)) / macro_adverse[['RGDP', 'HICP', 'IRLT',  'RREP', 'UNR']].shift(4)\n",
    "# retirons les variables brutes\n",
    "col_brutes = ['RGDP', 'HICP', 'IRLT',  'RREP', 'UNR']\n",
    "macro_adverse=macro_adverse.drop(col_brutes, axis=1)\n",
    "\n",
    "macro_lagged_adv = compute_var_lagged(macro_adverse, 2, 5, 1)\n",
    "macro_lagged_for_model_adv = macro_lagged_adv.copy()\n",
    "\n",
    "macro_lagged_for_model_adv = macro_lagged_for_model_adv[variables_kept_signi]\n",
    "\n",
    "# Sort columns alphabetically\n",
    "sorted_columns = sorted(macro_lagged_for_model_adv.columns)\n",
    "# Reindex DataFrame using sorted column names\n",
    "macro_lagged_for_model_adv = macro_lagged_for_model_adv[sorted_columns]\n",
    "\n",
    "macro_lagged_for_model_adv = sm.add_constant(macro_lagged_for_model_adv)"
   ]
  },
  {
   "cell_type": "code",
   "execution_count": 146,
   "id": "0ea54ba7",
   "metadata": {},
   "outputs": [],
   "source": [
    "predicted_y = df_train.loc[df_train.index[-1], 'td']\n",
    "\n",
    "train_end_index = macro_lagged_for_model_adv.index.get_loc(pd.to_datetime('2018-10-31')) #je vais prédire à partir de la fin de l'entrainement\n",
    "macro_lagged_for_model_adv_loop = macro_lagged_for_model_adv.reset_index(drop = True)\n",
    "macro_lagged_for_model_adv_loop\n",
    "adverse_predict = macro_lagged_for_model_adv_loop.copy()\n"
   ]
  },
  {
   "cell_type": "code",
   "execution_count": 147,
   "id": "16fd34d4",
   "metadata": {},
   "outputs": [
    {
     "name": "stdout",
     "output_type": "stream",
     "text": [
      "    const  IRLT_ann  IRLT_ann_lag1  IRLT_ann_lag2  RGDP_tri_lag4  \\\n",
      "11    1.0  0.666667       0.594203       0.479821      -0.000171   \n",
      "\n",
      "    RREP_tri_lag5   td_lag1  \n",
      "11      -0.004032  0.028087  \n",
      "    const  IRLT_ann  IRLT_ann_lag1  IRLT_ann_lag2  RGDP_tri_lag4  \\\n",
      "12    1.0  0.121212       0.666667       0.594203      -0.005958   \n",
      "\n",
      "    RREP_tri_lag5   td_lag1  \n",
      "12      -0.002024  0.030911  \n",
      "    const  IRLT_ann  IRLT_ann_lag1  IRLT_ann_lag2  RGDP_tri_lag4  \\\n",
      "13    1.0  0.121212       0.121212       0.666667       0.000733   \n",
      "\n",
      "    RREP_tri_lag5   td_lag1  \n",
      "13      -0.067359  0.031655  \n",
      "    const  IRLT_ann  IRLT_ann_lag1  IRLT_ann_lag2  RGDP_tri_lag4  \\\n",
      "14    1.0  0.121212       0.121212       0.121212       0.003414   \n",
      "\n",
      "    RREP_tri_lag5   td_lag1  \n",
      "14      -0.008065  0.043407  \n",
      "    const  IRLT_ann  IRLT_ann_lag1  IRLT_ann_lag2  RGDP_tri_lag4  \\\n",
      "15    1.0  0.121212       0.121212       0.121212       0.000413   \n",
      "\n",
      "    RREP_tri_lag5   td_lag1  \n",
      "15      -0.001016  0.043001  \n",
      "    const  IRLT_ann  IRLT_ann_lag1  IRLT_ann_lag2  RGDP_tri_lag4  \\\n",
      "16    1.0  0.081081       0.121212       0.121212      -0.007264   \n",
      "\n",
      "    RREP_tri_lag5   td_lag1  \n",
      "16      -0.006104  0.042523  \n",
      "    const  IRLT_ann  IRLT_ann_lag1  IRLT_ann_lag2  RGDP_tri_lag4  \\\n",
      "17    1.0  0.081081       0.081081       0.121212       0.000843   \n",
      "\n",
      "    RREP_tri_lag5  td_lag1  \n",
      "17       0.040591  0.04455  \n",
      "    const  IRLT_ann  IRLT_ann_lag1  IRLT_ann_lag2  RGDP_tri_lag4  \\\n",
      "18    1.0  0.081081       0.081081       0.081081        -0.0042   \n",
      "\n",
      "    RREP_tri_lag5   td_lag1  \n",
      "18      -0.003027  0.038613  \n",
      "    const  IRLT_ann  IRLT_ann_lag1  IRLT_ann_lag2  RGDP_tri_lag4  \\\n",
      "19    1.0  0.081081       0.081081       0.081081      -0.057198   \n",
      "\n",
      "    RREP_tri_lag5   td_lag1  \n",
      "19      -0.003036  0.039541  \n"
     ]
    }
   ],
   "source": [
    "for i in range(train_end_index, len(macro_lagged_for_model_adv_loop)):\n",
    "    # Add predicted value for previous date to predictors\n",
    "    macro_lagged_for_model_adv_loop.loc[i, 'td_lag1'] = predicted_y\n",
    "    \n",
    "    macro_lagged_for_model_adv_i = macro_lagged_for_model_adv_loop.iloc[[i]]\n",
    "    # Make prediction for current date\n",
    "    print(macro_lagged_for_model_adv_i)\n",
    "    predicted_y_i = results_signi.predict(macro_lagged_for_model_adv_i)\n",
    "    \n",
    "    adverse_predict.loc[macro_lagged_for_model_adv_loop.index[i], 'td_predict'] = predicted_y\n",
    "\n",
    "    # Update predicted value for next date\n",
    "    predicted_y = predicted_y_i.values[0]\n",
    "\n"
   ]
  },
  {
   "cell_type": "code",
   "execution_count": 152,
   "id": "4a8e5531",
   "metadata": {},
   "outputs": [],
   "source": [
    "#adverse_predict"
   ]
  },
  {
   "cell_type": "markdown",
   "id": "Rd1lI0W6aCe7",
   "metadata": {
    "id": "Rd1lI0W6aCe7"
   },
   "source": [
    "# **Bayesian model average - BMA**\n",
    "***CHANGER LA FONCTION POUR AVOIR QUE DES MODELES AVEC CONSTANTE***"
   ]
  },
  {
   "cell_type": "markdown",
   "id": "L_Rd0_dkrY21",
   "metadata": {
    "id": "L_Rd0_dkrY21"
   },
   "source": [
    "# BMA - Estimations des équations MCO, vérification des hypothèses, pondération des sous-modèles retenus, calcul de la série DR estimée \n",
    "\n",
    "**Estimation de tous les sous-modèles possibles**"
   ]
  },
  {
   "cell_type": "code",
   "execution_count": 70,
   "id": "9344c44b",
   "metadata": {},
   "outputs": [
    {
     "data": {
      "text/plain": [
       "Index(['IRLT_ann_lag2', 'RGDP_tri_lag5', 'RREP_tri', 'RREP_tri_lag1',\n",
       "       'RREP_tri_lag2', 'RREP_tri_lag3', 'RREP_tri_lag4', 'RREP_tri_lag5',\n",
       "       'UNR_tri', 'UNR_tri_lag1', 'UNR_tri_lag3', 'UNR_tri_lag4',\n",
       "       'UNR_tri_lag5', 'td_lag1', 'td'],\n",
       "      dtype='object')"
      ]
     },
     "execution_count": 70,
     "metadata": {},
     "output_type": "execute_result"
    }
   ],
   "source": [
    "df_train.columns"
   ]
  },
  {
   "cell_type": "code",
   "execution_count": 199,
   "id": "41876e3f",
   "metadata": {},
   "outputs": [],
   "source": [
    "\n"
   ]
  },
  {
   "cell_type": "code",
   "execution_count": 72,
   "id": "06365d60",
   "metadata": {},
   "outputs": [
    {
     "name": "stdout",
     "output_type": "stream",
     "text": [
      "16383\n"
     ]
    }
   ],
   "source": [
    "# Define the dependent variable and the independent variables (with lags)\n",
    "y = np.array(df_train.copy()[\"td\"])\n",
    "X = np.array(df_train.copy().drop(\"td\", axis=1))\n",
    "#X = np.array(df_train[['IRLT_ann', 'IRLT_ann_lag1', 'IRLT_ann_lag2']].copy())\n",
    "\n",
    "# Create a list of all possible combinations of independent variables\n",
    "combos = []\n",
    "for i in range(1, X.shape[1] + 1):\n",
    "    for combo in itertools.combinations(range(X.shape[1]), i):\n",
    "        combos.append(combo)\n",
    "\n",
    "print(len(combos))\n",
    "\n"
   ]
  },
  {
   "cell_type": "code",
   "execution_count": 73,
   "id": "149441cc",
   "metadata": {},
   "outputs": [
    {
     "ename": "KeyboardInterrupt",
     "evalue": "",
     "output_type": "error",
     "traceback": [
      "\u001b[1;31m---------------------------------------------------------------------------\u001b[0m",
      "\u001b[1;31mKeyboardInterrupt\u001b[0m                         Traceback (most recent call last)",
      "Cell \u001b[1;32mIn[73], line 21\u001b[0m\n\u001b[0;32m     19\u001b[0m vif \u001b[39m=\u001b[39m pd\u001b[39m.\u001b[39mDataFrame()\n\u001b[0;32m     20\u001b[0m \u001b[39mif\u001b[39;00m X_combo\u001b[39m.\u001b[39mshape[\u001b[39m1\u001b[39m] \u001b[39m>\u001b[39m \u001b[39m1\u001b[39m:\n\u001b[1;32m---> 21\u001b[0m     vif[\u001b[39m'\u001b[39m\u001b[39mVIF\u001b[39m\u001b[39m'\u001b[39m] \u001b[39m=\u001b[39m [variance_inflation_factor(X_combo, i) \u001b[39mfor\u001b[39;00m i \u001b[39min\u001b[39;00m \u001b[39mrange\u001b[39m(\u001b[39m1\u001b[39m, X_combo\u001b[39m.\u001b[39mshape[\u001b[39m1\u001b[39m])]\n\u001b[0;32m     22\u001b[0m     nb_vif_high \u001b[39m=\u001b[39m (vif[\u001b[39m'\u001b[39m\u001b[39mVIF\u001b[39m\u001b[39m'\u001b[39m] \u001b[39m>\u001b[39m \u001b[39m5\u001b[39m)\u001b[39m.\u001b[39msum()\n\u001b[0;32m     23\u001b[0m \u001b[39melse\u001b[39;00m:\n",
      "Cell \u001b[1;32mIn[73], line 21\u001b[0m, in \u001b[0;36m<listcomp>\u001b[1;34m(.0)\u001b[0m\n\u001b[0;32m     19\u001b[0m vif \u001b[39m=\u001b[39m pd\u001b[39m.\u001b[39mDataFrame()\n\u001b[0;32m     20\u001b[0m \u001b[39mif\u001b[39;00m X_combo\u001b[39m.\u001b[39mshape[\u001b[39m1\u001b[39m] \u001b[39m>\u001b[39m \u001b[39m1\u001b[39m:\n\u001b[1;32m---> 21\u001b[0m     vif[\u001b[39m'\u001b[39m\u001b[39mVIF\u001b[39m\u001b[39m'\u001b[39m] \u001b[39m=\u001b[39m [variance_inflation_factor(X_combo, i) \u001b[39mfor\u001b[39;00m i \u001b[39min\u001b[39;00m \u001b[39mrange\u001b[39m(\u001b[39m1\u001b[39m, X_combo\u001b[39m.\u001b[39mshape[\u001b[39m1\u001b[39m])]\n\u001b[0;32m     22\u001b[0m     nb_vif_high \u001b[39m=\u001b[39m (vif[\u001b[39m'\u001b[39m\u001b[39mVIF\u001b[39m\u001b[39m'\u001b[39m] \u001b[39m>\u001b[39m \u001b[39m5\u001b[39m)\u001b[39m.\u001b[39msum()\n\u001b[0;32m     23\u001b[0m \u001b[39melse\u001b[39;00m:\n",
      "File \u001b[1;32mc:\\Users\\arman\\miniconda3\\envs\\creditenv\\lib\\site-packages\\statsmodels\\stats\\outliers_influence.py:194\u001b[0m, in \u001b[0;36mvariance_inflation_factor\u001b[1;34m(exog, exog_idx)\u001b[0m\n\u001b[0;32m    192\u001b[0m mask \u001b[39m=\u001b[39m np\u001b[39m.\u001b[39marange(k_vars) \u001b[39m!=\u001b[39m exog_idx\n\u001b[0;32m    193\u001b[0m x_noti \u001b[39m=\u001b[39m exog[:, mask]\n\u001b[1;32m--> 194\u001b[0m r_squared_i \u001b[39m=\u001b[39m OLS(x_i, x_noti)\u001b[39m.\u001b[39mfit()\u001b[39m.\u001b[39mrsquared\n\u001b[0;32m    195\u001b[0m vif \u001b[39m=\u001b[39m \u001b[39m1.\u001b[39m \u001b[39m/\u001b[39m (\u001b[39m1.\u001b[39m \u001b[39m-\u001b[39m r_squared_i)\n\u001b[0;32m    196\u001b[0m \u001b[39mreturn\u001b[39;00m vif\n",
      "File \u001b[1;32mc:\\Users\\arman\\miniconda3\\envs\\creditenv\\lib\\site-packages\\statsmodels\\regression\\linear_model.py:906\u001b[0m, in \u001b[0;36mOLS.__init__\u001b[1;34m(self, endog, exog, missing, hasconst, **kwargs)\u001b[0m\n\u001b[0;32m    903\u001b[0m     msg \u001b[39m=\u001b[39m (\u001b[39m\"\u001b[39m\u001b[39mWeights are not supported in OLS and will be ignored\u001b[39m\u001b[39m\"\u001b[39m\n\u001b[0;32m    904\u001b[0m            \u001b[39m\"\u001b[39m\u001b[39mAn exception will be raised in the next version.\u001b[39m\u001b[39m\"\u001b[39m)\n\u001b[0;32m    905\u001b[0m     warnings\u001b[39m.\u001b[39mwarn(msg, ValueWarning)\n\u001b[1;32m--> 906\u001b[0m \u001b[39msuper\u001b[39m(OLS, \u001b[39mself\u001b[39m)\u001b[39m.\u001b[39m\u001b[39m__init__\u001b[39m(endog, exog, missing\u001b[39m=\u001b[39mmissing,\n\u001b[0;32m    907\u001b[0m                           hasconst\u001b[39m=\u001b[39mhasconst, \u001b[39m*\u001b[39m\u001b[39m*\u001b[39mkwargs)\n\u001b[0;32m    908\u001b[0m \u001b[39mif\u001b[39;00m \u001b[39m\"\u001b[39m\u001b[39mweights\u001b[39m\u001b[39m\"\u001b[39m \u001b[39min\u001b[39;00m \u001b[39mself\u001b[39m\u001b[39m.\u001b[39m_init_keys:\n\u001b[0;32m    909\u001b[0m     \u001b[39mself\u001b[39m\u001b[39m.\u001b[39m_init_keys\u001b[39m.\u001b[39mremove(\u001b[39m\"\u001b[39m\u001b[39mweights\u001b[39m\u001b[39m\"\u001b[39m)\n",
      "File \u001b[1;32mc:\\Users\\arman\\miniconda3\\envs\\creditenv\\lib\\site-packages\\statsmodels\\regression\\linear_model.py:733\u001b[0m, in \u001b[0;36mWLS.__init__\u001b[1;34m(self, endog, exog, weights, missing, hasconst, **kwargs)\u001b[0m\n\u001b[0;32m    731\u001b[0m \u001b[39melse\u001b[39;00m:\n\u001b[0;32m    732\u001b[0m     weights \u001b[39m=\u001b[39m weights\u001b[39m.\u001b[39msqueeze()\n\u001b[1;32m--> 733\u001b[0m \u001b[39msuper\u001b[39m(WLS, \u001b[39mself\u001b[39m)\u001b[39m.\u001b[39m\u001b[39m__init__\u001b[39m(endog, exog, missing\u001b[39m=\u001b[39mmissing,\n\u001b[0;32m    734\u001b[0m                           weights\u001b[39m=\u001b[39mweights, hasconst\u001b[39m=\u001b[39mhasconst, \u001b[39m*\u001b[39m\u001b[39m*\u001b[39mkwargs)\n\u001b[0;32m    735\u001b[0m nobs \u001b[39m=\u001b[39m \u001b[39mself\u001b[39m\u001b[39m.\u001b[39mexog\u001b[39m.\u001b[39mshape[\u001b[39m0\u001b[39m]\n\u001b[0;32m    736\u001b[0m weights \u001b[39m=\u001b[39m \u001b[39mself\u001b[39m\u001b[39m.\u001b[39mweights\n",
      "File \u001b[1;32mc:\\Users\\arman\\miniconda3\\envs\\creditenv\\lib\\site-packages\\statsmodels\\regression\\linear_model.py:190\u001b[0m, in \u001b[0;36mRegressionModel.__init__\u001b[1;34m(self, endog, exog, **kwargs)\u001b[0m\n\u001b[0;32m    189\u001b[0m \u001b[39mdef\u001b[39;00m \u001b[39m__init__\u001b[39m(\u001b[39mself\u001b[39m, endog, exog, \u001b[39m*\u001b[39m\u001b[39m*\u001b[39mkwargs):\n\u001b[1;32m--> 190\u001b[0m     \u001b[39msuper\u001b[39m(RegressionModel, \u001b[39mself\u001b[39m)\u001b[39m.\u001b[39m\u001b[39m__init__\u001b[39m(endog, exog, \u001b[39m*\u001b[39m\u001b[39m*\u001b[39mkwargs)\n\u001b[0;32m    191\u001b[0m     \u001b[39mself\u001b[39m\u001b[39m.\u001b[39m_data_attr\u001b[39m.\u001b[39mextend([\u001b[39m'\u001b[39m\u001b[39mpinv_wexog\u001b[39m\u001b[39m'\u001b[39m, \u001b[39m'\u001b[39m\u001b[39mwendog\u001b[39m\u001b[39m'\u001b[39m, \u001b[39m'\u001b[39m\u001b[39mwexog\u001b[39m\u001b[39m'\u001b[39m, \u001b[39m'\u001b[39m\u001b[39mweights\u001b[39m\u001b[39m'\u001b[39m])\n",
      "File \u001b[1;32mc:\\Users\\arman\\miniconda3\\envs\\creditenv\\lib\\site-packages\\statsmodels\\base\\model.py:267\u001b[0m, in \u001b[0;36mLikelihoodModel.__init__\u001b[1;34m(self, endog, exog, **kwargs)\u001b[0m\n\u001b[0;32m    266\u001b[0m \u001b[39mdef\u001b[39;00m \u001b[39m__init__\u001b[39m(\u001b[39mself\u001b[39m, endog, exog\u001b[39m=\u001b[39m\u001b[39mNone\u001b[39;00m, \u001b[39m*\u001b[39m\u001b[39m*\u001b[39mkwargs):\n\u001b[1;32m--> 267\u001b[0m     \u001b[39msuper\u001b[39m()\u001b[39m.\u001b[39m\u001b[39m__init__\u001b[39m(endog, exog, \u001b[39m*\u001b[39m\u001b[39m*\u001b[39mkwargs)\n\u001b[0;32m    268\u001b[0m     \u001b[39mself\u001b[39m\u001b[39m.\u001b[39minitialize()\n",
      "File \u001b[1;32mc:\\Users\\arman\\miniconda3\\envs\\creditenv\\lib\\site-packages\\statsmodels\\base\\model.py:92\u001b[0m, in \u001b[0;36mModel.__init__\u001b[1;34m(self, endog, exog, **kwargs)\u001b[0m\n\u001b[0;32m     90\u001b[0m missing \u001b[39m=\u001b[39m kwargs\u001b[39m.\u001b[39mpop(\u001b[39m'\u001b[39m\u001b[39mmissing\u001b[39m\u001b[39m'\u001b[39m, \u001b[39m'\u001b[39m\u001b[39mnone\u001b[39m\u001b[39m'\u001b[39m)\n\u001b[0;32m     91\u001b[0m hasconst \u001b[39m=\u001b[39m kwargs\u001b[39m.\u001b[39mpop(\u001b[39m'\u001b[39m\u001b[39mhasconst\u001b[39m\u001b[39m'\u001b[39m, \u001b[39mNone\u001b[39;00m)\n\u001b[1;32m---> 92\u001b[0m \u001b[39mself\u001b[39m\u001b[39m.\u001b[39mdata \u001b[39m=\u001b[39m \u001b[39mself\u001b[39m\u001b[39m.\u001b[39m_handle_data(endog, exog, missing, hasconst,\n\u001b[0;32m     93\u001b[0m                               \u001b[39m*\u001b[39m\u001b[39m*\u001b[39mkwargs)\n\u001b[0;32m     94\u001b[0m \u001b[39mself\u001b[39m\u001b[39m.\u001b[39mk_constant \u001b[39m=\u001b[39m \u001b[39mself\u001b[39m\u001b[39m.\u001b[39mdata\u001b[39m.\u001b[39mk_constant\n\u001b[0;32m     95\u001b[0m \u001b[39mself\u001b[39m\u001b[39m.\u001b[39mexog \u001b[39m=\u001b[39m \u001b[39mself\u001b[39m\u001b[39m.\u001b[39mdata\u001b[39m.\u001b[39mexog\n",
      "File \u001b[1;32mc:\\Users\\arman\\miniconda3\\envs\\creditenv\\lib\\site-packages\\statsmodels\\base\\model.py:132\u001b[0m, in \u001b[0;36mModel._handle_data\u001b[1;34m(self, endog, exog, missing, hasconst, **kwargs)\u001b[0m\n\u001b[0;32m    131\u001b[0m \u001b[39mdef\u001b[39;00m \u001b[39m_handle_data\u001b[39m(\u001b[39mself\u001b[39m, endog, exog, missing, hasconst, \u001b[39m*\u001b[39m\u001b[39m*\u001b[39mkwargs):\n\u001b[1;32m--> 132\u001b[0m     data \u001b[39m=\u001b[39m handle_data(endog, exog, missing, hasconst, \u001b[39m*\u001b[39m\u001b[39m*\u001b[39mkwargs)\n\u001b[0;32m    133\u001b[0m     \u001b[39m# kwargs arrays could have changed, easier to just attach here\u001b[39;00m\n\u001b[0;32m    134\u001b[0m     \u001b[39mfor\u001b[39;00m key \u001b[39min\u001b[39;00m kwargs:\n",
      "File \u001b[1;32mc:\\Users\\arman\\miniconda3\\envs\\creditenv\\lib\\site-packages\\statsmodels\\base\\data.py:700\u001b[0m, in \u001b[0;36mhandle_data\u001b[1;34m(endog, exog, missing, hasconst, **kwargs)\u001b[0m\n\u001b[0;32m    697\u001b[0m     exog \u001b[39m=\u001b[39m np\u001b[39m.\u001b[39masarray(exog)\n\u001b[0;32m    699\u001b[0m klass \u001b[39m=\u001b[39m handle_data_class_factory(endog, exog)\n\u001b[1;32m--> 700\u001b[0m \u001b[39mreturn\u001b[39;00m klass(endog, exog\u001b[39m=\u001b[39mexog, missing\u001b[39m=\u001b[39mmissing, hasconst\u001b[39m=\u001b[39mhasconst,\n\u001b[0;32m    701\u001b[0m              \u001b[39m*\u001b[39m\u001b[39m*\u001b[39mkwargs)\n",
      "File \u001b[1;32mc:\\Users\\arman\\miniconda3\\envs\\creditenv\\lib\\site-packages\\statsmodels\\base\\data.py:88\u001b[0m, in \u001b[0;36mModelData.__init__\u001b[1;34m(self, endog, exog, missing, hasconst, **kwargs)\u001b[0m\n\u001b[0;32m     86\u001b[0m \u001b[39mself\u001b[39m\u001b[39m.\u001b[39mconst_idx \u001b[39m=\u001b[39m \u001b[39mNone\u001b[39;00m\n\u001b[0;32m     87\u001b[0m \u001b[39mself\u001b[39m\u001b[39m.\u001b[39mk_constant \u001b[39m=\u001b[39m \u001b[39m0\u001b[39m\n\u001b[1;32m---> 88\u001b[0m \u001b[39mself\u001b[39;49m\u001b[39m.\u001b[39;49m_handle_constant(hasconst)\n\u001b[0;32m     89\u001b[0m \u001b[39mself\u001b[39m\u001b[39m.\u001b[39m_check_integrity()\n\u001b[0;32m     90\u001b[0m \u001b[39mself\u001b[39m\u001b[39m.\u001b[39m_cache \u001b[39m=\u001b[39m {}\n",
      "File \u001b[1;32mc:\\Users\\arman\\miniconda3\\envs\\creditenv\\lib\\site-packages\\statsmodels\\base\\data.py:132\u001b[0m, in \u001b[0;36mModelData._handle_constant\u001b[1;34m(self, hasconst)\u001b[0m\n\u001b[0;32m    129\u001b[0m \u001b[39melse\u001b[39;00m:\n\u001b[0;32m    130\u001b[0m     \u001b[39m# detect where the constant is\u001b[39;00m\n\u001b[0;32m    131\u001b[0m     check_implicit \u001b[39m=\u001b[39m \u001b[39mFalse\u001b[39;00m\n\u001b[1;32m--> 132\u001b[0m     exog_max \u001b[39m=\u001b[39m np\u001b[39m.\u001b[39;49mmax(\u001b[39mself\u001b[39;49m\u001b[39m.\u001b[39;49mexog, axis\u001b[39m=\u001b[39;49m\u001b[39m0\u001b[39;49m)\n\u001b[0;32m    133\u001b[0m     \u001b[39mif\u001b[39;00m \u001b[39mnot\u001b[39;00m np\u001b[39m.\u001b[39misfinite(exog_max)\u001b[39m.\u001b[39mall():\n\u001b[0;32m    134\u001b[0m         \u001b[39mraise\u001b[39;00m MissingDataError(\u001b[39m'\u001b[39m\u001b[39mexog contains inf or nans\u001b[39m\u001b[39m'\u001b[39m)\n",
      "File \u001b[1;32m<__array_function__ internals>:200\u001b[0m, in \u001b[0;36mamax\u001b[1;34m(*args, **kwargs)\u001b[0m\n",
      "File \u001b[1;32mc:\\Users\\arman\\miniconda3\\envs\\creditenv\\lib\\site-packages\\numpy\\core\\fromnumeric.py:2820\u001b[0m, in \u001b[0;36mamax\u001b[1;34m(a, axis, out, keepdims, initial, where)\u001b[0m\n\u001b[0;32m   2703\u001b[0m \u001b[39m@array_function_dispatch\u001b[39m(_amax_dispatcher)\n\u001b[0;32m   2704\u001b[0m \u001b[39mdef\u001b[39;00m \u001b[39mamax\u001b[39m(a, axis\u001b[39m=\u001b[39m\u001b[39mNone\u001b[39;00m, out\u001b[39m=\u001b[39m\u001b[39mNone\u001b[39;00m, keepdims\u001b[39m=\u001b[39mnp\u001b[39m.\u001b[39m_NoValue, initial\u001b[39m=\u001b[39mnp\u001b[39m.\u001b[39m_NoValue,\n\u001b[0;32m   2705\u001b[0m          where\u001b[39m=\u001b[39mnp\u001b[39m.\u001b[39m_NoValue):\n\u001b[0;32m   2706\u001b[0m \u001b[39m    \u001b[39m\u001b[39m\"\"\"\u001b[39;00m\n\u001b[0;32m   2707\u001b[0m \u001b[39m    Return the maximum of an array or maximum along an axis.\u001b[39;00m\n\u001b[0;32m   2708\u001b[0m \n\u001b[1;32m   (...)\u001b[0m\n\u001b[0;32m   2818\u001b[0m \u001b[39m    5\u001b[39;00m\n\u001b[0;32m   2819\u001b[0m \u001b[39m    \"\"\"\u001b[39;00m\n\u001b[1;32m-> 2820\u001b[0m     \u001b[39mreturn\u001b[39;00m _wrapreduction(a, np\u001b[39m.\u001b[39;49mmaximum, \u001b[39m'\u001b[39;49m\u001b[39mmax\u001b[39;49m\u001b[39m'\u001b[39;49m, axis, \u001b[39mNone\u001b[39;49;00m, out,\n\u001b[0;32m   2821\u001b[0m                           keepdims\u001b[39m=\u001b[39;49mkeepdims, initial\u001b[39m=\u001b[39;49minitial, where\u001b[39m=\u001b[39;49mwhere)\n",
      "File \u001b[1;32mc:\\Users\\arman\\miniconda3\\envs\\creditenv\\lib\\site-packages\\numpy\\core\\fromnumeric.py:86\u001b[0m, in \u001b[0;36m_wrapreduction\u001b[1;34m(obj, ufunc, method, axis, dtype, out, **kwargs)\u001b[0m\n\u001b[0;32m     83\u001b[0m         \u001b[39melse\u001b[39;00m:\n\u001b[0;32m     84\u001b[0m             \u001b[39mreturn\u001b[39;00m reduction(axis\u001b[39m=\u001b[39maxis, out\u001b[39m=\u001b[39mout, \u001b[39m*\u001b[39m\u001b[39m*\u001b[39mpasskwargs)\n\u001b[1;32m---> 86\u001b[0m \u001b[39mreturn\u001b[39;00m ufunc\u001b[39m.\u001b[39mreduce(obj, axis, dtype, out, \u001b[39m*\u001b[39m\u001b[39m*\u001b[39mpasskwargs)\n",
      "\u001b[1;31mKeyboardInterrupt\u001b[0m: "
     ]
    }
   ],
   "source": [
    "# Initialize an empty DataFrame to store the results\n",
    "df = pd.DataFrame(columns=['variables', 'bic', 'logv','R2' ,\n",
    "        'R2_aj', 'RMSE' , 'U de Theil', 'pval_shapiro', 'pval_kolmogorov','boolean_anderson', 'mean_resid', 'nb_var_vif_above_5', 'nb_vars'])\n",
    "\n",
    "# Loop through all possible combinations of independent variables\n",
    "rows = []\n",
    "for combo in combos:\n",
    "    # Fit an OLS model using the current combination of independent variables\n",
    "    X_combo = X[:, list(combo)]\n",
    "    X_combo = sm.add_constant(X_combo)\n",
    "    results = sm.OLS(y, X_combo).fit() #toujours mettre une constante dans le modèle\n",
    "\n",
    "    # Verify the assumptions of normality and multicollinearity\n",
    "    resid = results.resid\n",
    "    p_shapiro = shapiro(resid).pvalue\n",
    "    p_kolmogorov = kstest(resid, 'norm').pvalue\n",
    "    boolean_anderson = anderson(resid).statistic > anderson(resid).critical_values[2]\n",
    "\n",
    "    vif = pd.DataFrame()\n",
    "    if X_combo.shape[1] > 1:\n",
    "        vif['VIF'] = [variance_inflation_factor(X_combo, i) for i in range(1, X_combo.shape[1])]\n",
    "        nb_vif_high = (vif['VIF'] > 5).sum()\n",
    "    else:\n",
    "        nb_vif_high = 0\n",
    "        \n",
    "    # Save the results in the DataFrame\n",
    "    params_dict = {f'X_{i}_param': param for i, param in enumerate(results.params)}\n",
    "    params_dict['const_param'] = params_dict.pop('X_0_param')\n",
    "    pvals_dict = {f'X_{i}_pval': results.pvalues[i] for i in range(X_combo.shape[1])}\n",
    "    pvals_dict['const_pval'] = pvals_dict.pop('X_0_pval')\n",
    "    errors_for_theil = (np.sqrt(sum(np.array(y)**2) / len(y))) + (np.sqrt(sum(np.array(results.predict(X_combo))**2) / len(results.predict(X_combo))))\n",
    "\n",
    "    row = {\n",
    "        'variables': list(combo),\n",
    "        'bic': results.bic,\n",
    "        'logv': results.llf,\n",
    "        'R2' : results.rsquared,\n",
    "        'R2_aj' : results.rsquared_adj,\n",
    "        'RMSE' : np.sqrt(results.mse_resid),\n",
    "        'U de Theil' :  np.sqrt(results.mse_resid)/errors_for_theil,\n",
    "        'pval_shapiro': p_shapiro,\n",
    "        'pval_kolmogorov': p_kolmogorov,\n",
    "        'boolean_anderson': boolean_anderson,\n",
    "\n",
    "        'mean_resid': resid.mean(),\n",
    "        'nb_var_vif_above_5': nb_vif_high,\n",
    "        'nb_vars': X_combo.shape[1] - 1,\n",
    "        **params_dict,\n",
    "        **pvals_dict\n",
    "    }\n",
    "    rows.append(row)\n",
    "\n"
   ]
  },
  {
   "cell_type": "code",
   "execution_count": 203,
   "id": "3fc42413",
   "metadata": {},
   "outputs": [
    {
     "data": {
      "text/html": [
       "<div>\n",
       "<style scoped>\n",
       "    .dataframe tbody tr th:only-of-type {\n",
       "        vertical-align: middle;\n",
       "    }\n",
       "\n",
       "    .dataframe tbody tr th {\n",
       "        vertical-align: top;\n",
       "    }\n",
       "\n",
       "    .dataframe thead th {\n",
       "        text-align: right;\n",
       "    }\n",
       "</style>\n",
       "<table border=\"1\" class=\"dataframe\">\n",
       "  <thead>\n",
       "    <tr style=\"text-align: right;\">\n",
       "      <th></th>\n",
       "      <th>variables</th>\n",
       "      <th>bic</th>\n",
       "      <th>logv</th>\n",
       "      <th>R2</th>\n",
       "      <th>R2_aj</th>\n",
       "      <th>RMSE</th>\n",
       "      <th>U de Theil</th>\n",
       "      <th>pval_shapiro</th>\n",
       "      <th>pval_kolmogorov</th>\n",
       "      <th>boolean_anderson</th>\n",
       "      <th>...</th>\n",
       "      <th>nb_var_vif_above_5</th>\n",
       "      <th>nb_vars</th>\n",
       "      <th>X_1_param</th>\n",
       "      <th>const_param</th>\n",
       "      <th>X_1_pval</th>\n",
       "      <th>const_pval</th>\n",
       "      <th>X_2_param</th>\n",
       "      <th>X_2_pval</th>\n",
       "      <th>X_3_param</th>\n",
       "      <th>X_3_pval</th>\n",
       "    </tr>\n",
       "  </thead>\n",
       "  <tbody>\n",
       "    <tr>\n",
       "      <th>0</th>\n",
       "      <td>[0]</td>\n",
       "      <td>-224.599774</td>\n",
       "      <td>115.826248</td>\n",
       "      <td>0.184819</td>\n",
       "      <td>0.159345</td>\n",
       "      <td>0.008269</td>\n",
       "      <td>0.101149</td>\n",
       "      <td>0.311294</td>\n",
       "      <td>3.409470e-08</td>\n",
       "      <td>False</td>\n",
       "      <td>...</td>\n",
       "      <td>0</td>\n",
       "      <td>1</td>\n",
       "      <td>-0.010665</td>\n",
       "      <td>0.040434</td>\n",
       "      <td>0.011161</td>\n",
       "      <td>2.597788e-24</td>\n",
       "      <td>NaN</td>\n",
       "      <td>NaN</td>\n",
       "      <td>NaN</td>\n",
       "      <td>NaN</td>\n",
       "    </tr>\n",
       "    <tr>\n",
       "      <th>1</th>\n",
       "      <td>[1]</td>\n",
       "      <td>-223.723767</td>\n",
       "      <td>115.388244</td>\n",
       "      <td>0.163543</td>\n",
       "      <td>0.137404</td>\n",
       "      <td>0.008376</td>\n",
       "      <td>0.102487</td>\n",
       "      <td>0.025954</td>\n",
       "      <td>3.175876e-08</td>\n",
       "      <td>True</td>\n",
       "      <td>...</td>\n",
       "      <td>0</td>\n",
       "      <td>1</td>\n",
       "      <td>-0.010207</td>\n",
       "      <td>0.040285</td>\n",
       "      <td>0.017683</td>\n",
       "      <td>4.246921e-24</td>\n",
       "      <td>NaN</td>\n",
       "      <td>NaN</td>\n",
       "      <td>NaN</td>\n",
       "      <td>NaN</td>\n",
       "    </tr>\n",
       "    <tr>\n",
       "      <th>2</th>\n",
       "      <td>[2]</td>\n",
       "      <td>-221.238654</td>\n",
       "      <td>114.145688</td>\n",
       "      <td>0.100116</td>\n",
       "      <td>0.071994</td>\n",
       "      <td>0.008688</td>\n",
       "      <td>0.106382</td>\n",
       "      <td>0.000963</td>\n",
       "      <td>3.138391e-08</td>\n",
       "      <td>True</td>\n",
       "      <td>...</td>\n",
       "      <td>0</td>\n",
       "      <td>1</td>\n",
       "      <td>-0.008472</td>\n",
       "      <td>0.040099</td>\n",
       "      <td>0.068285</td>\n",
       "      <td>1.628195e-23</td>\n",
       "      <td>NaN</td>\n",
       "      <td>NaN</td>\n",
       "      <td>NaN</td>\n",
       "      <td>NaN</td>\n",
       "    </tr>\n",
       "    <tr>\n",
       "      <th>3</th>\n",
       "      <td>[0, 1]</td>\n",
       "      <td>-221.658243</td>\n",
       "      <td>116.118662</td>\n",
       "      <td>0.198721</td>\n",
       "      <td>0.147026</td>\n",
       "      <td>0.008329</td>\n",
       "      <td>0.101871</td>\n",
       "      <td>0.132590</td>\n",
       "      <td>3.379397e-08</td>\n",
       "      <td>False</td>\n",
       "      <td>...</td>\n",
       "      <td>0</td>\n",
       "      <td>2</td>\n",
       "      <td>-0.007206</td>\n",
       "      <td>0.040384</td>\n",
       "      <td>0.252266</td>\n",
       "      <td>1.125347e-23</td>\n",
       "      <td>-0.004609</td>\n",
       "      <td>0.468840</td>\n",
       "      <td>NaN</td>\n",
       "      <td>NaN</td>\n",
       "    </tr>\n",
       "    <tr>\n",
       "      <th>4</th>\n",
       "      <td>[0, 2]</td>\n",
       "      <td>-222.057821</td>\n",
       "      <td>116.318451</td>\n",
       "      <td>0.208083</td>\n",
       "      <td>0.156991</td>\n",
       "      <td>0.008280</td>\n",
       "      <td>0.101262</td>\n",
       "      <td>0.123261</td>\n",
       "      <td>3.418869e-08</td>\n",
       "      <td>False</td>\n",
       "      <td>...</td>\n",
       "      <td>0</td>\n",
       "      <td>2</td>\n",
       "      <td>-0.008950</td>\n",
       "      <td>0.040306</td>\n",
       "      <td>0.048303</td>\n",
       "      <td>1.103528e-23</td>\n",
       "      <td>-0.004484</td>\n",
       "      <td>0.347320</td>\n",
       "      <td>NaN</td>\n",
       "      <td>NaN</td>\n",
       "    </tr>\n",
       "    <tr>\n",
       "      <th>5</th>\n",
       "      <td>[1, 2]</td>\n",
       "      <td>-220.207162</td>\n",
       "      <td>115.393122</td>\n",
       "      <td>0.163783</td>\n",
       "      <td>0.109834</td>\n",
       "      <td>0.008509</td>\n",
       "      <td>0.104111</td>\n",
       "      <td>0.021434</td>\n",
       "      <td>3.174602e-08</td>\n",
       "      <td>True</td>\n",
       "      <td>...</td>\n",
       "      <td>0</td>\n",
       "      <td>2</td>\n",
       "      <td>-0.009753</td>\n",
       "      <td>0.040271</td>\n",
       "      <td>0.134606</td>\n",
       "      <td>2.584231e-23</td>\n",
       "      <td>-0.000635</td>\n",
       "      <td>0.925465</td>\n",
       "      <td>NaN</td>\n",
       "      <td>NaN</td>\n",
       "    </tr>\n",
       "    <tr>\n",
       "      <th>6</th>\n",
       "      <td>[0, 1, 2]</td>\n",
       "      <td>-218.532495</td>\n",
       "      <td>116.318968</td>\n",
       "      <td>0.208107</td>\n",
       "      <td>0.128918</td>\n",
       "      <td>0.008417</td>\n",
       "      <td>0.102935</td>\n",
       "      <td>0.120457</td>\n",
       "      <td>3.416612e-08</td>\n",
       "      <td>False</td>\n",
       "      <td>...</td>\n",
       "      <td>1</td>\n",
       "      <td>3</td>\n",
       "      <td>-0.008794</td>\n",
       "      <td>0.040308</td>\n",
       "      <td>0.204918</td>\n",
       "      <td>5.891764e-23</td>\n",
       "      <td>-0.000291</td>\n",
       "      <td>0.976098</td>\n",
       "      <td>-0.004319</td>\n",
       "      <td>0.555449</td>\n",
       "    </tr>\n",
       "  </tbody>\n",
       "</table>\n",
       "<p>7 rows × 21 columns</p>\n",
       "</div>"
      ],
      "text/plain": [
       "   variables         bic        logv        R2     R2_aj      RMSE  \\\n",
       "0        [0] -224.599774  115.826248  0.184819  0.159345  0.008269   \n",
       "1        [1] -223.723767  115.388244  0.163543  0.137404  0.008376   \n",
       "2        [2] -221.238654  114.145688  0.100116  0.071994  0.008688   \n",
       "3     [0, 1] -221.658243  116.118662  0.198721  0.147026  0.008329   \n",
       "4     [0, 2] -222.057821  116.318451  0.208083  0.156991  0.008280   \n",
       "5     [1, 2] -220.207162  115.393122  0.163783  0.109834  0.008509   \n",
       "6  [0, 1, 2] -218.532495  116.318968  0.208107  0.128918  0.008417   \n",
       "\n",
       "   U de Theil  pval_shapiro  pval_kolmogorov  boolean_anderson  ...  \\\n",
       "0    0.101149      0.311294     3.409470e-08             False  ...   \n",
       "1    0.102487      0.025954     3.175876e-08              True  ...   \n",
       "2    0.106382      0.000963     3.138391e-08              True  ...   \n",
       "3    0.101871      0.132590     3.379397e-08             False  ...   \n",
       "4    0.101262      0.123261     3.418869e-08             False  ...   \n",
       "5    0.104111      0.021434     3.174602e-08              True  ...   \n",
       "6    0.102935      0.120457     3.416612e-08             False  ...   \n",
       "\n",
       "   nb_var_vif_above_5  nb_vars  X_1_param  const_param  X_1_pval  \\\n",
       "0                   0        1  -0.010665     0.040434  0.011161   \n",
       "1                   0        1  -0.010207     0.040285  0.017683   \n",
       "2                   0        1  -0.008472     0.040099  0.068285   \n",
       "3                   0        2  -0.007206     0.040384  0.252266   \n",
       "4                   0        2  -0.008950     0.040306  0.048303   \n",
       "5                   0        2  -0.009753     0.040271  0.134606   \n",
       "6                   1        3  -0.008794     0.040308  0.204918   \n",
       "\n",
       "     const_pval  X_2_param  X_2_pval  X_3_param  X_3_pval  \n",
       "0  2.597788e-24        NaN       NaN        NaN       NaN  \n",
       "1  4.246921e-24        NaN       NaN        NaN       NaN  \n",
       "2  1.628195e-23        NaN       NaN        NaN       NaN  \n",
       "3  1.125347e-23  -0.004609  0.468840        NaN       NaN  \n",
       "4  1.103528e-23  -0.004484  0.347320        NaN       NaN  \n",
       "5  2.584231e-23  -0.000635  0.925465        NaN       NaN  \n",
       "6  5.891764e-23  -0.000291  0.976098  -0.004319  0.555449  \n",
       "\n",
       "[7 rows x 21 columns]"
      ]
     },
     "execution_count": 203,
     "metadata": {},
     "output_type": "execute_result"
    }
   ],
   "source": [
    "#df = pd.concat(rows, ignore_index=True)\n",
    "\n",
    "df = pd.DataFrame(rows)\n",
    "df"
   ]
  },
  {
   "cell_type": "code",
   "execution_count": 78,
   "id": "28866319",
   "metadata": {},
   "outputs": [],
   "source": [
    "folder_path = 'data'\n",
    "filename = 'df_all_models_bma.csv'\n",
    "df.to_csv(folder_path + '/' + filename, index=False)"
   ]
  },
  {
   "cell_type": "code",
   "execution_count": null,
   "id": "90e06ddf",
   "metadata": {},
   "outputs": [],
   "source": [
    "\n",
    "# Rearrange the columns of the DataFrame\n",
    "cols = ['variables', 'nb_vars', 'bic', 'logv', 'mean_resid', 'nb_var_vif_above_5', 'pval_shapiro', 'pval_kolmogorov']\n",
    "for i in range(1, X.shape[1]):\n",
    "    cols.append(f'X_{i}_param')\n",
    "    cols.append(f'X_{i}_pval')\n",
    "\n",
    "df = df[cols]\n",
    "\n",
    "# Print the DataFrame\n",
    "df"
   ]
  },
  {
   "cell_type": "markdown",
   "id": "27b2f540",
   "metadata": {},
   "source": [
    "////\n"
   ]
  },
  {
   "cell_type": "code",
   "execution_count": null,
   "id": "0f8f61b5",
   "metadata": {},
   "outputs": [],
   "source": []
  },
  {
   "cell_type": "code",
   "execution_count": null,
   "id": "0443b77b",
   "metadata": {},
   "outputs": [],
   "source": []
  },
  {
   "cell_type": "markdown",
   "id": "15b5472c",
   "metadata": {},
   "source": []
  },
  {
   "cell_type": "code",
   "execution_count": 74,
   "id": "7c0e6160",
   "metadata": {},
   "outputs": [
    {
     "name": "stdout",
     "output_type": "stream",
     "text": [
      "16369\n"
     ]
    }
   ],
   "source": [
    "# Define the dependent variable and the independent variables (with lags)\n",
    "y = df_train[\"td\"]\n",
    "X = df_train.drop(\"td\", axis=1)\n",
    "#X = df_train[['IRLT_ann', 'IRLT_ann_lag1', 'IRLT_ann_lag2']].copy()\n",
    "\n",
    "# Create a list of all possible combinations of independent variables\n",
    "combos = []\n",
    "for i in range(1, len(X.columns) + 1):\n",
    "    combos.extend(itertools.combinations(X.columns, i))\n",
    "\n",
    "combos = [c for c in combos if not len(list(c))==1]\n",
    "\n",
    "print(len(combos))\n"
   ]
  },
  {
   "cell_type": "code",
   "execution_count": 75,
   "id": "7d1d1f94",
   "metadata": {},
   "outputs": [],
   "source": [
    "df = pd.DataFrame(columns=['variables', 'bic', 'logv','R2' ,\n",
    "        'R2_aj', 'RMSE' , 'U de Theil', 'pval_shapiro', 'pval_kolmogorov','boolean_anderson', 'mean_resid', 'nb_var_vif_above_5', 'nb_vars'])\n",
    "rows=[]\n"
   ]
  },
  {
   "cell_type": "code",
   "execution_count": 76,
   "id": "E5-uwsFo3rHV",
   "metadata": {
    "colab": {
     "base_uri": "https://localhost:8080/",
     "height": 922
    },
    "id": "E5-uwsFo3rHV",
    "outputId": "c0b17742-71bb-4627-e7b5-311270bbff50"
   },
   "outputs": [],
   "source": [
    "\n",
    "# Loop through all possible combinations of independent variables\n",
    "for combo in combos:\n",
    "    # Fit an OLS model using the current combination of independent variables\n",
    "    results = sm.OLS(y, sm.add_constant(X[list(combo)])).fit() #toujours mettre une constante dans le modèle\n",
    "\n",
    "    # Verify the assumptions of normality and multicollinearity\n",
    "    resid = results.resid\n",
    "    p_shapiro = shapiro(resid).pvalue\n",
    "    p_kolmogorov = kstest(resid, 'norm').pvalue\n",
    "    boolean_anderson = anderson(resid).statistic > anderson(resid).critical_values[2]\n",
    "\n",
    "    vif = [variance_inflation_factor(X[list(combo)].values, i) for i in range(len(combo))]\n",
    "    nb_vif_high = sum(v > 5 for v in vif)\n",
    "\n",
    "    # Save the results in the DataFrame\n",
    "    params_dict = {var + '_param': param for var, param in zip(results.params.index, results.params)}\n",
    "    #params_dict.pop(\"const_param\", None) #Je veux garder la constante, et connaitre sa valeur\n",
    "    pvals_dict = {var + '_pval': results.pvalues[i] for i, var in enumerate(results.params.index)}\n",
    "    pvals_dict.pop(\"const_pval\", None) # -> peu importe la significativité de la constante, on devra en avoir une dans les modèles, et dans le modele BMA. Ce qui\n",
    "    # nous intéresse c'est seulement la valeur des constantes\n",
    "    errors_for_theil = (np.sqrt(sum(np.array(y)**2) / len(y))) + (np.sqrt(sum(np.array(results.predict(sm.add_constant(X[list(combo)])))**2) / len(results.predict(sm.add_constant(X[list(combo)])))))\n",
    "\n",
    "    row = {\n",
    "        'variables': list(combo),\n",
    "        'bic': results.bic,\n",
    "        'logv': results.llf,\n",
    "    \n",
    "        'R2' : results.rsquared,\n",
    "        'R2_aj' : results.rsquared_adj,\n",
    "        'RMSE' : np.sqrt(results.mse_resid),\n",
    "        'U de Theil' :  np.sqrt(results.mse_resid)/errors_for_theil,\n",
    "        'pval_shapiro': p_shapiro,\n",
    "        'pval_kolmogorov': p_kolmogorov,\n",
    "        'boolean_anderson': boolean_anderson,\n",
    "        'mean_resid': resid.mean(),\n",
    "        'nb_var_vif_above_5': nb_vif_high,\n",
    "        'nb_vars': len(combo),\n",
    "        **params_dict,\n",
    "        **pvals_dict\n",
    "    }\n",
    "        \n",
    "    rows.append(row)"
   ]
  },
  {
   "cell_type": "code",
   "execution_count": 77,
   "id": "Lk9o5qkY6UZ6",
   "metadata": {
    "colab": {
     "base_uri": "https://localhost:8080/",
     "height": 140
    },
    "id": "Lk9o5qkY6UZ6",
    "outputId": "d19475c1-6077-4010-b43c-33072617605f"
   },
   "outputs": [
    {
     "data": {
      "text/html": [
       "<div>\n",
       "<style scoped>\n",
       "    .dataframe tbody tr th:only-of-type {\n",
       "        vertical-align: middle;\n",
       "    }\n",
       "\n",
       "    .dataframe tbody tr th {\n",
       "        vertical-align: top;\n",
       "    }\n",
       "\n",
       "    .dataframe thead th {\n",
       "        text-align: right;\n",
       "    }\n",
       "</style>\n",
       "<table border=\"1\" class=\"dataframe\">\n",
       "  <thead>\n",
       "    <tr style=\"text-align: right;\">\n",
       "      <th></th>\n",
       "      <th>variables</th>\n",
       "      <th>bic</th>\n",
       "      <th>logv</th>\n",
       "      <th>R2</th>\n",
       "      <th>R2_aj</th>\n",
       "      <th>RMSE</th>\n",
       "      <th>U de Theil</th>\n",
       "      <th>pval_shapiro</th>\n",
       "      <th>pval_kolmogorov</th>\n",
       "      <th>boolean_anderson</th>\n",
       "      <th>...</th>\n",
       "      <th>UNR_tri_lag1_param</th>\n",
       "      <th>UNR_tri_lag1_pval</th>\n",
       "      <th>UNR_tri_lag3_param</th>\n",
       "      <th>UNR_tri_lag3_pval</th>\n",
       "      <th>UNR_tri_lag4_param</th>\n",
       "      <th>UNR_tri_lag4_pval</th>\n",
       "      <th>UNR_tri_lag5_param</th>\n",
       "      <th>UNR_tri_lag5_pval</th>\n",
       "      <th>td_lag1_param</th>\n",
       "      <th>td_lag1_pval</th>\n",
       "    </tr>\n",
       "  </thead>\n",
       "  <tbody>\n",
       "    <tr>\n",
       "      <th>0</th>\n",
       "      <td>[IRLT_ann_lag2, RGDP_tri_lag5]</td>\n",
       "      <td>-223.860074</td>\n",
       "      <td>117.219578</td>\n",
       "      <td>0.248967</td>\n",
       "      <td>0.200513</td>\n",
       "      <td>0.008064</td>\n",
       "      <td>0.098566</td>\n",
       "      <td>0.025057</td>\n",
       "      <td>3.125440e-08</td>\n",
       "      <td>True</td>\n",
       "      <td>...</td>\n",
       "      <td>NaN</td>\n",
       "      <td>NaN</td>\n",
       "      <td>NaN</td>\n",
       "      <td>NaN</td>\n",
       "      <td>NaN</td>\n",
       "      <td>NaN</td>\n",
       "      <td>NaN</td>\n",
       "      <td>NaN</td>\n",
       "      <td>NaN</td>\n",
       "      <td>NaN</td>\n",
       "    </tr>\n",
       "    <tr>\n",
       "      <th>1</th>\n",
       "      <td>[IRLT_ann_lag2, RREP_tri]</td>\n",
       "      <td>-221.011045</td>\n",
       "      <td>115.795063</td>\n",
       "      <td>0.183322</td>\n",
       "      <td>0.130634</td>\n",
       "      <td>0.008409</td>\n",
       "      <td>0.102864</td>\n",
       "      <td>0.092092</td>\n",
       "      <td>3.328809e-08</td>\n",
       "      <td>False</td>\n",
       "      <td>...</td>\n",
       "      <td>NaN</td>\n",
       "      <td>NaN</td>\n",
       "      <td>NaN</td>\n",
       "      <td>NaN</td>\n",
       "      <td>NaN</td>\n",
       "      <td>NaN</td>\n",
       "      <td>NaN</td>\n",
       "      <td>NaN</td>\n",
       "      <td>NaN</td>\n",
       "      <td>NaN</td>\n",
       "    </tr>\n",
       "    <tr>\n",
       "      <th>2</th>\n",
       "      <td>[IRLT_ann_lag2, RREP_tri_lag1]</td>\n",
       "      <td>-221.296169</td>\n",
       "      <td>115.937625</td>\n",
       "      <td>0.190143</td>\n",
       "      <td>0.137894</td>\n",
       "      <td>0.008374</td>\n",
       "      <td>0.102425</td>\n",
       "      <td>0.300609</td>\n",
       "      <td>3.427481e-08</td>\n",
       "      <td>False</td>\n",
       "      <td>...</td>\n",
       "      <td>NaN</td>\n",
       "      <td>NaN</td>\n",
       "      <td>NaN</td>\n",
       "      <td>NaN</td>\n",
       "      <td>NaN</td>\n",
       "      <td>NaN</td>\n",
       "      <td>NaN</td>\n",
       "      <td>NaN</td>\n",
       "      <td>NaN</td>\n",
       "      <td>NaN</td>\n",
       "    </tr>\n",
       "    <tr>\n",
       "      <th>3</th>\n",
       "      <td>[IRLT_ann_lag2, RREP_tri_lag2]</td>\n",
       "      <td>-219.000289</td>\n",
       "      <td>114.789685</td>\n",
       "      <td>0.133568</td>\n",
       "      <td>0.077669</td>\n",
       "      <td>0.008661</td>\n",
       "      <td>0.106014</td>\n",
       "      <td>0.010397</td>\n",
       "      <td>3.204505e-08</td>\n",
       "      <td>True</td>\n",
       "      <td>...</td>\n",
       "      <td>NaN</td>\n",
       "      <td>NaN</td>\n",
       "      <td>NaN</td>\n",
       "      <td>NaN</td>\n",
       "      <td>NaN</td>\n",
       "      <td>NaN</td>\n",
       "      <td>NaN</td>\n",
       "      <td>NaN</td>\n",
       "      <td>NaN</td>\n",
       "      <td>NaN</td>\n",
       "    </tr>\n",
       "    <tr>\n",
       "      <th>4</th>\n",
       "      <td>[IRLT_ann_lag2, RREP_tri_lag3]</td>\n",
       "      <td>-219.430204</td>\n",
       "      <td>115.004643</td>\n",
       "      <td>0.144454</td>\n",
       "      <td>0.089258</td>\n",
       "      <td>0.008606</td>\n",
       "      <td>0.105332</td>\n",
       "      <td>0.004032</td>\n",
       "      <td>3.153269e-08</td>\n",
       "      <td>True</td>\n",
       "      <td>...</td>\n",
       "      <td>NaN</td>\n",
       "      <td>NaN</td>\n",
       "      <td>NaN</td>\n",
       "      <td>NaN</td>\n",
       "      <td>NaN</td>\n",
       "      <td>NaN</td>\n",
       "      <td>NaN</td>\n",
       "      <td>NaN</td>\n",
       "      <td>NaN</td>\n",
       "      <td>NaN</td>\n",
       "    </tr>\n",
       "    <tr>\n",
       "      <th>...</th>\n",
       "      <td>...</td>\n",
       "      <td>...</td>\n",
       "      <td>...</td>\n",
       "      <td>...</td>\n",
       "      <td>...</td>\n",
       "      <td>...</td>\n",
       "      <td>...</td>\n",
       "      <td>...</td>\n",
       "      <td>...</td>\n",
       "      <td>...</td>\n",
       "      <td>...</td>\n",
       "      <td>...</td>\n",
       "      <td>...</td>\n",
       "      <td>...</td>\n",
       "      <td>...</td>\n",
       "      <td>...</td>\n",
       "      <td>...</td>\n",
       "      <td>...</td>\n",
       "      <td>...</td>\n",
       "      <td>...</td>\n",
       "      <td>...</td>\n",
       "    </tr>\n",
       "    <tr>\n",
       "      <th>16364</th>\n",
       "      <td>[IRLT_ann_lag2, RGDP_tri_lag5, RREP_tri, RREP_...</td>\n",
       "      <td>-289.518740</td>\n",
       "      <td>169.443894</td>\n",
       "      <td>0.965206</td>\n",
       "      <td>0.942591</td>\n",
       "      <td>0.002161</td>\n",
       "      <td>0.026191</td>\n",
       "      <td>0.262742</td>\n",
       "      <td>2.445512e-08</td>\n",
       "      <td>False</td>\n",
       "      <td>...</td>\n",
       "      <td>0.008551</td>\n",
       "      <td>0.572058</td>\n",
       "      <td>0.015738</td>\n",
       "      <td>0.208563</td>\n",
       "      <td>0.031454</td>\n",
       "      <td>0.054726</td>\n",
       "      <td>0.006290</td>\n",
       "      <td>0.699532</td>\n",
       "      <td>0.885259</td>\n",
       "      <td>3.717895e-11</td>\n",
       "    </tr>\n",
       "    <tr>\n",
       "      <th>16365</th>\n",
       "      <td>[IRLT_ann_lag2, RGDP_tri_lag5, RREP_tri_lag1, ...</td>\n",
       "      <td>-289.519792</td>\n",
       "      <td>169.444420</td>\n",
       "      <td>0.965208</td>\n",
       "      <td>0.942592</td>\n",
       "      <td>0.002161</td>\n",
       "      <td>0.026191</td>\n",
       "      <td>0.023855</td>\n",
       "      <td>2.439939e-08</td>\n",
       "      <td>True</td>\n",
       "      <td>...</td>\n",
       "      <td>0.004949</td>\n",
       "      <td>0.733918</td>\n",
       "      <td>0.011658</td>\n",
       "      <td>0.357781</td>\n",
       "      <td>0.027643</td>\n",
       "      <td>0.073769</td>\n",
       "      <td>0.005386</td>\n",
       "      <td>0.741627</td>\n",
       "      <td>0.896947</td>\n",
       "      <td>2.681609e-11</td>\n",
       "    </tr>\n",
       "    <tr>\n",
       "      <th>16366</th>\n",
       "      <td>[IRLT_ann_lag2, RREP_tri, RREP_tri_lag1, RREP_...</td>\n",
       "      <td>-290.289734</td>\n",
       "      <td>169.829391</td>\n",
       "      <td>0.965987</td>\n",
       "      <td>0.943878</td>\n",
       "      <td>0.002136</td>\n",
       "      <td>0.025896</td>\n",
       "      <td>0.067211</td>\n",
       "      <td>2.425927e-08</td>\n",
       "      <td>True</td>\n",
       "      <td>...</td>\n",
       "      <td>0.007983</td>\n",
       "      <td>0.548958</td>\n",
       "      <td>0.013259</td>\n",
       "      <td>0.296560</td>\n",
       "      <td>0.031195</td>\n",
       "      <td>0.030316</td>\n",
       "      <td>0.005808</td>\n",
       "      <td>0.668183</td>\n",
       "      <td>0.889152</td>\n",
       "      <td>7.122573e-12</td>\n",
       "    </tr>\n",
       "    <tr>\n",
       "      <th>16367</th>\n",
       "      <td>[RGDP_tri_lag5, RREP_tri, RREP_tri_lag1, RREP_...</td>\n",
       "      <td>-289.350606</td>\n",
       "      <td>169.359827</td>\n",
       "      <td>0.965034</td>\n",
       "      <td>0.942306</td>\n",
       "      <td>0.002166</td>\n",
       "      <td>0.026256</td>\n",
       "      <td>0.119573</td>\n",
       "      <td>2.444692e-08</td>\n",
       "      <td>False</td>\n",
       "      <td>...</td>\n",
       "      <td>0.011036</td>\n",
       "      <td>0.448732</td>\n",
       "      <td>0.013844</td>\n",
       "      <td>0.286622</td>\n",
       "      <td>0.032595</td>\n",
       "      <td>0.045805</td>\n",
       "      <td>0.007087</td>\n",
       "      <td>0.662601</td>\n",
       "      <td>0.870128</td>\n",
       "      <td>1.298516e-11</td>\n",
       "    </tr>\n",
       "    <tr>\n",
       "      <th>16368</th>\n",
       "      <td>[IRLT_ann_lag2, RGDP_tri_lag5, RREP_tri, RREP_...</td>\n",
       "      <td>-286.766041</td>\n",
       "      <td>169.830724</td>\n",
       "      <td>0.965989</td>\n",
       "      <td>0.940929</td>\n",
       "      <td>0.002192</td>\n",
       "      <td>0.026567</td>\n",
       "      <td>0.064121</td>\n",
       "      <td>2.426913e-08</td>\n",
       "      <td>True</td>\n",
       "      <td>...</td>\n",
       "      <td>0.007713</td>\n",
       "      <td>0.616593</td>\n",
       "      <td>0.013328</td>\n",
       "      <td>0.311386</td>\n",
       "      <td>0.030904</td>\n",
       "      <td>0.063143</td>\n",
       "      <td>0.005464</td>\n",
       "      <td>0.741806</td>\n",
       "      <td>0.890198</td>\n",
       "      <td>9.611119e-11</td>\n",
       "    </tr>\n",
       "  </tbody>\n",
       "</table>\n",
       "<p>16369 rows × 42 columns</p>\n",
       "</div>"
      ],
      "text/plain": [
       "                                               variables         bic  \\\n",
       "0                         [IRLT_ann_lag2, RGDP_tri_lag5] -223.860074   \n",
       "1                              [IRLT_ann_lag2, RREP_tri] -221.011045   \n",
       "2                         [IRLT_ann_lag2, RREP_tri_lag1] -221.296169   \n",
       "3                         [IRLT_ann_lag2, RREP_tri_lag2] -219.000289   \n",
       "4                         [IRLT_ann_lag2, RREP_tri_lag3] -219.430204   \n",
       "...                                                  ...         ...   \n",
       "16364  [IRLT_ann_lag2, RGDP_tri_lag5, RREP_tri, RREP_... -289.518740   \n",
       "16365  [IRLT_ann_lag2, RGDP_tri_lag5, RREP_tri_lag1, ... -289.519792   \n",
       "16366  [IRLT_ann_lag2, RREP_tri, RREP_tri_lag1, RREP_... -290.289734   \n",
       "16367  [RGDP_tri_lag5, RREP_tri, RREP_tri_lag1, RREP_... -289.350606   \n",
       "16368  [IRLT_ann_lag2, RGDP_tri_lag5, RREP_tri, RREP_... -286.766041   \n",
       "\n",
       "             logv        R2     R2_aj      RMSE  U de Theil  pval_shapiro  \\\n",
       "0      117.219578  0.248967  0.200513  0.008064    0.098566      0.025057   \n",
       "1      115.795063  0.183322  0.130634  0.008409    0.102864      0.092092   \n",
       "2      115.937625  0.190143  0.137894  0.008374    0.102425      0.300609   \n",
       "3      114.789685  0.133568  0.077669  0.008661    0.106014      0.010397   \n",
       "4      115.004643  0.144454  0.089258  0.008606    0.105332      0.004032   \n",
       "...           ...       ...       ...       ...         ...           ...   \n",
       "16364  169.443894  0.965206  0.942591  0.002161    0.026191      0.262742   \n",
       "16365  169.444420  0.965208  0.942592  0.002161    0.026191      0.023855   \n",
       "16366  169.829391  0.965987  0.943878  0.002136    0.025896      0.067211   \n",
       "16367  169.359827  0.965034  0.942306  0.002166    0.026256      0.119573   \n",
       "16368  169.830724  0.965989  0.940929  0.002192    0.026567      0.064121   \n",
       "\n",
       "       pval_kolmogorov  boolean_anderson  ...  UNR_tri_lag1_param  \\\n",
       "0         3.125440e-08              True  ...                 NaN   \n",
       "1         3.328809e-08             False  ...                 NaN   \n",
       "2         3.427481e-08             False  ...                 NaN   \n",
       "3         3.204505e-08              True  ...                 NaN   \n",
       "4         3.153269e-08              True  ...                 NaN   \n",
       "...                ...               ...  ...                 ...   \n",
       "16364     2.445512e-08             False  ...            0.008551   \n",
       "16365     2.439939e-08              True  ...            0.004949   \n",
       "16366     2.425927e-08              True  ...            0.007983   \n",
       "16367     2.444692e-08             False  ...            0.011036   \n",
       "16368     2.426913e-08              True  ...            0.007713   \n",
       "\n",
       "       UNR_tri_lag1_pval  UNR_tri_lag3_param  UNR_tri_lag3_pval  \\\n",
       "0                    NaN                 NaN                NaN   \n",
       "1                    NaN                 NaN                NaN   \n",
       "2                    NaN                 NaN                NaN   \n",
       "3                    NaN                 NaN                NaN   \n",
       "4                    NaN                 NaN                NaN   \n",
       "...                  ...                 ...                ...   \n",
       "16364           0.572058            0.015738           0.208563   \n",
       "16365           0.733918            0.011658           0.357781   \n",
       "16366           0.548958            0.013259           0.296560   \n",
       "16367           0.448732            0.013844           0.286622   \n",
       "16368           0.616593            0.013328           0.311386   \n",
       "\n",
       "       UNR_tri_lag4_param  UNR_tri_lag4_pval  UNR_tri_lag5_param  \\\n",
       "0                     NaN                NaN                 NaN   \n",
       "1                     NaN                NaN                 NaN   \n",
       "2                     NaN                NaN                 NaN   \n",
       "3                     NaN                NaN                 NaN   \n",
       "4                     NaN                NaN                 NaN   \n",
       "...                   ...                ...                 ...   \n",
       "16364            0.031454           0.054726            0.006290   \n",
       "16365            0.027643           0.073769            0.005386   \n",
       "16366            0.031195           0.030316            0.005808   \n",
       "16367            0.032595           0.045805            0.007087   \n",
       "16368            0.030904           0.063143            0.005464   \n",
       "\n",
       "       UNR_tri_lag5_pval  td_lag1_param  td_lag1_pval  \n",
       "0                    NaN            NaN           NaN  \n",
       "1                    NaN            NaN           NaN  \n",
       "2                    NaN            NaN           NaN  \n",
       "3                    NaN            NaN           NaN  \n",
       "4                    NaN            NaN           NaN  \n",
       "...                  ...            ...           ...  \n",
       "16364           0.699532       0.885259  3.717895e-11  \n",
       "16365           0.741627       0.896947  2.681609e-11  \n",
       "16366           0.668183       0.889152  7.122573e-12  \n",
       "16367           0.662601       0.870128  1.298516e-11  \n",
       "16368           0.741806       0.890198  9.611119e-11  \n",
       "\n",
       "[16369 rows x 42 columns]"
      ]
     },
     "execution_count": 77,
     "metadata": {},
     "output_type": "execute_result"
    }
   ],
   "source": [
    "df = pd.DataFrame(rows)\n",
    "df"
   ]
  },
  {
   "cell_type": "markdown",
   "id": "6lmCIHIjsalj",
   "metadata": {
    "id": "6lmCIHIjsalj"
   },
   "source": [
    "**Etude des hypothèses**"
   ]
  },
  {
   "cell_type": "code",
   "execution_count": 79,
   "id": "3Wm_5yxSO0Nl",
   "metadata": {
    "id": "3Wm_5yxSO0Nl"
   },
   "outputs": [],
   "source": [
    "df_bma = df.copy()"
   ]
  },
  {
   "cell_type": "code",
   "execution_count": 80,
   "id": "7voAGDUiO4EO",
   "metadata": {
    "id": "7voAGDUiO4EO"
   },
   "outputs": [],
   "source": [
    "df_bma[['pval_shapiro', 'pval_kolmogorov', 'mean_resid']] = df_bma[['pval_shapiro', 'pval_kolmogorov', 'mean_resid']].round(4)"
   ]
  },
  {
   "cell_type": "code",
   "execution_count": 81,
   "id": "bEgKeEEkC0G7",
   "metadata": {
    "colab": {
     "base_uri": "https://localhost:8080/"
    },
    "id": "bEgKeEEkC0G7",
    "outputId": "2695e4f7-192b-4807-80fe-27719503721c"
   },
   "outputs": [
    {
     "data": {
      "text/plain": [
       "count    16369.0\n",
       "mean         0.0\n",
       "std          0.0\n",
       "min          0.0\n",
       "25%          0.0\n",
       "50%          0.0\n",
       "75%          0.0\n",
       "max          0.0\n",
       "Name: mean_resid, dtype: float64"
      ]
     },
     "execution_count": 81,
     "metadata": {},
     "output_type": "execute_result"
    }
   ],
   "source": [
    "df_bma.mean_resid.describe()"
   ]
  },
  {
   "cell_type": "markdown",
   "id": "8yBneIxlPNO4",
   "metadata": {
    "id": "8yBneIxlPNO4"
   },
   "source": [
    "Tous les modèles ont des résidus très proches de 0 en moyenne"
   ]
  },
  {
   "cell_type": "code",
   "execution_count": 82,
   "id": "OC-oZV6NopcT",
   "metadata": {
    "colab": {
     "base_uri": "https://localhost:8080/"
    },
    "id": "OC-oZV6NopcT",
    "outputId": "106bfe3d-b494-4640-9ad8-f6a2acd6a362"
   },
   "outputs": [
    {
     "data": {
      "text/plain": [
       "count    16369.000000\n",
       "mean         0.223616\n",
       "std          0.211428\n",
       "min          0.000900\n",
       "25%          0.053300\n",
       "50%          0.149800\n",
       "75%          0.342900\n",
       "max          0.996600\n",
       "Name: pval_shapiro, dtype: float64"
      ]
     },
     "execution_count": 82,
     "metadata": {},
     "output_type": "execute_result"
    }
   ],
   "source": [
    "df_bma.pval_shapiro.describe()"
   ]
  },
  {
   "cell_type": "markdown",
   "id": "pTl_m2nTQlMw",
   "metadata": {
    "id": "pTl_m2nTQlMw"
   },
   "source": [
    "When pvalue>5% : then we fail to reject the null hypothesis i.e. we do not have sufficient evidence to say that sample does not come from a normal distribution.\n",
    "\n",
    "Ici on a à peu près 75% des modèles qui ont une pval supérieure à 5%. On peut décider de mettre de côté les modèles avec une pval < 5% et n'utiliser que les autres\n",
    "\n"
   ]
  },
  {
   "cell_type": "code",
   "execution_count": 83,
   "id": "TRfcvPeWPC80",
   "metadata": {
    "colab": {
     "base_uri": "https://localhost:8080/"
    },
    "id": "TRfcvPeWPC80",
    "outputId": "5d1e2e27-aaf1-49f1-a888-55d43c00b54f"
   },
   "outputs": [
    {
     "data": {
      "text/plain": [
       "count    16369.0\n",
       "mean         0.0\n",
       "std          0.0\n",
       "min          0.0\n",
       "25%          0.0\n",
       "50%          0.0\n",
       "75%          0.0\n",
       "max          0.0\n",
       "Name: pval_kolmogorov, dtype: float64"
      ]
     },
     "execution_count": 83,
     "metadata": {},
     "output_type": "execute_result"
    }
   ],
   "source": [
    "df_bma.pval_kolmogorov.describe()"
   ]
  },
  {
   "cell_type": "markdown",
   "id": "unDq9gxTP8sr",
   "metadata": {
    "id": "unDq9gxTP8sr"
   },
   "source": [
    "The p-value is lower than our threshold of 0.05, so we reject the null hypothesis in favor of the default “two-sided” alternative: the data are not distributed according to the standard normal.\n",
    "\n",
    "BUT\n",
    "K-S a l'air très difficile à respecter : aucun modèle ne passe le tests. Le test a l'air trop restrictif"
   ]
  },
  {
   "cell_type": "code",
   "execution_count": 85,
   "id": "Aq4YCuucPGOu",
   "metadata": {
    "colab": {
     "base_uri": "https://localhost:8080/",
     "height": 352
    },
    "id": "Aq4YCuucPGOu",
    "outputId": "8822bb59-b0b2-4a07-a220-e94f4daf8b44"
   },
   "outputs": [
    {
     "data": {
      "image/png": "[encoded data removed]",
      "text/plain": [
       "<Figure size 640x480 with 1 Axes>"
      ]
     },
     "metadata": {},
     "output_type": "display_data"
    }
   ],
   "source": [
    "plt.hist(df_bma.nb_var_vif_above_5)\n",
    "plt.show()"
   ]
  },
  {
   "cell_type": "markdown",
   "id": "yYtbSqHURR-H",
   "metadata": {
    "id": "yYtbSqHURR-H"
   },
   "source": [
    "On peut décider ici de retirer tous les modèles avec des VIF > 5"
   ]
  },
  {
   "cell_type": "markdown",
   "id": "ykdYmaSfR5Y2",
   "metadata": {
    "id": "ykdYmaSfR5Y2"
   },
   "source": [
    "En appliquant les deux règles (shapiro et VIF) alors on perd la moitié des sous-modèles. Ceci signifie que la moitié des sous-modèles ne respectent pas les hypothèses de normalité des résidus et de non-multi-collinéarité des variables"
   ]
  },
  {
   "cell_type": "code",
   "execution_count": 86,
   "id": "3Aci9k7LQ_M1",
   "metadata": {
    "id": "3Aci9k7LQ_M1"
   },
   "outputs": [],
   "source": [
    "df_models_kept = df_bma[(df_bma.nb_var_vif_above_5 < 1 ) & (df_bma.pval_shapiro > 0.05)]\n",
    "df_models_kept = df_models_kept.drop(['pval_shapiro', 'pval_kolmogorov', 'mean_resid', 'nb_var_vif_above_5'], axis=1)"
   ]
  },
  {
   "cell_type": "code",
   "execution_count": 87,
   "id": "FIdLezIkR2HI",
   "metadata": {
    "colab": {
     "base_uri": "https://localhost:8080/"
    },
    "id": "FIdLezIkR2HI",
    "outputId": "5aa690f4-4f12-4803-9be1-5d70bcd1e965"
   },
   "outputs": [
    {
     "data": {
      "text/plain": [
       "(12232, 38)"
      ]
     },
     "execution_count": 87,
     "metadata": {},
     "output_type": "execute_result"
    }
   ],
   "source": [
    "np.shape(df_models_kept)"
   ]
  },
  {
   "cell_type": "markdown",
   "id": "viptVGZ2jvLp",
   "metadata": {
    "id": "viptVGZ2jvLp"
   },
   "source": [
    "  Maintenant je garde les modèles qui respectent les hypothèses sur les pvalues des variables "
   ]
  },
  {
   "cell_type": "code",
   "execution_count": 88,
   "id": "jlDHY2rgsyE7",
   "metadata": {
    "colab": {
     "base_uri": "https://localhost:8080/"
    },
    "id": "jlDHY2rgsyE7",
    "outputId": "d8041a84-af08-4187-d61d-f6bd285f94da"
   },
   "outputs": [
    {
     "name": "stdout",
     "output_type": "stream",
     "text": [
      "const_param : Nombre de modèles sans cette variables : 0\n",
      "IRLT_ann_lag2_param : Nombre de modèles sans cette variables : 6087\n",
      "RGDP_tri_lag5_param : Nombre de modèles sans cette variables : 6699\n",
      "RREP_tri_param : Nombre de modèles sans cette variables : 6128\n",
      "RREP_tri_lag1_param : Nombre de modèles sans cette variables : 5877\n",
      "RREP_tri_lag2_param : Nombre de modèles sans cette variables : 6902\n",
      "RREP_tri_lag3_param : Nombre de modèles sans cette variables : 6044\n",
      "RREP_tri_lag4_param : Nombre de modèles sans cette variables : 6228\n",
      "RREP_tri_lag5_param : Nombre de modèles sans cette variables : 5412\n",
      "UNR_tri_param : Nombre de modèles sans cette variables : 6295\n",
      "UNR_tri_lag1_param : Nombre de modèles sans cette variables : 6307\n",
      "UNR_tri_lag3_param : Nombre de modèles sans cette variables : 5718\n",
      "UNR_tri_lag4_param : Nombre de modèles sans cette variables : 6312\n",
      "UNR_tri_lag5_param : Nombre de modèles sans cette variables : 6225\n",
      "td_lag1_param : Nombre de modèles sans cette variables : 7525\n"
     ]
    }
   ],
   "source": [
    "#ici je regarde juste l'occurence des variables, des sous modèles non colinéaires et aux résidus normaux\n",
    "\n",
    "pval_cols = [col for col in df_models_kept.columns if col.endswith('_param')]\n",
    "\n",
    "for col in pval_cols :\n",
    "\n",
    "  print(col , \": Nombre de modèles sans cette variables :\" , df_models_kept[col].isna().sum())"
   ]
  },
  {
   "cell_type": "code",
   "execution_count": 89,
   "id": "g-HtxSGkg-2q",
   "metadata": {
    "id": "g-HtxSGkg-2q"
   },
   "outputs": [],
   "source": [
    "# ici je regarde plus sérieusement la significativité des variables, et je drop tous les sous modèles avec des pvalues \n",
    "pval_cols = [col for col in df_models_kept.columns if col.endswith('_pval')]\n",
    "\n",
    "for col in pval_cols :\n",
    "    df_models_kept[col] = df_models_kept[col].fillna(-100) # ca facilite le mask juste après.\n",
    "\n",
    "mask = (df_models_kept[pval_cols] < 0.05).all(axis=1)\n",
    "\n",
    "df_significant = df_models_kept[mask]\n"
   ]
  },
  {
   "cell_type": "code",
   "execution_count": 91,
   "id": "P-U1z06A1y5D",
   "metadata": {
    "colab": {
     "base_uri": "https://localhost:8080/",
     "height": 790
    },
    "id": "P-U1z06A1y5D",
    "outputId": "45c29ff1-0c36-44a9-f54a-f3cbe0735538"
   },
   "outputs": [
    {
     "data": {
      "text/plain": [
       "Index(['variables', 'bic', 'logv', 'R2', 'R2_aj', 'RMSE', 'U de Theil',\n",
       "       'boolean_anderson', 'nb_vars', 'const_param', 'IRLT_ann_lag2_param',\n",
       "       'RGDP_tri_lag5_param', 'IRLT_ann_lag2_pval', 'RGDP_tri_lag5_pval',\n",
       "       'RREP_tri_param', 'RREP_tri_pval', 'RREP_tri_lag1_param',\n",
       "       'RREP_tri_lag1_pval', 'RREP_tri_lag2_param', 'RREP_tri_lag2_pval',\n",
       "       'RREP_tri_lag3_param', 'RREP_tri_lag3_pval', 'RREP_tri_lag4_param',\n",
       "       'RREP_tri_lag4_pval', 'RREP_tri_lag5_param', 'RREP_tri_lag5_pval',\n",
       "       'UNR_tri_param', 'UNR_tri_pval', 'UNR_tri_lag1_param',\n",
       "       'UNR_tri_lag1_pval', 'UNR_tri_lag3_param', 'UNR_tri_lag3_pval',\n",
       "       'UNR_tri_lag4_param', 'UNR_tri_lag4_pval', 'UNR_tri_lag5_param',\n",
       "       'UNR_tri_lag5_pval', 'td_lag1_param', 'td_lag1_pval'],\n",
       "      dtype='object')"
      ]
     },
     "execution_count": 91,
     "metadata": {},
     "output_type": "execute_result"
    }
   ],
   "source": [
    "df_significant.columns"
   ]
  },
  {
   "cell_type": "markdown",
   "id": "Lv9G67kYV35b",
   "metadata": {
    "id": "Lv9G67kYV35b"
   },
   "source": [
    "Maintenant que je n'ai gardé que les modèles qui respectent les hypothèses, je peux regarder quels modèles sont les plus performants : Avec le BIC je calcule la proba à posteriori. "
   ]
  },
  {
   "cell_type": "markdown",
   "id": "0k2OlFKnTKj2",
   "metadata": {
    "id": "0k2OlFKnTKj2"
   },
   "source": [
    "**Sélection des sous-modèles les plus performants et Proba à posteriori**"
   ]
  },
  {
   "cell_type": "code",
   "execution_count": null,
   "id": "TlKmdaD-mNBH",
   "metadata": {
    "colab": {
     "base_uri": "https://localhost:8080/",
     "height": 484
    },
    "id": "TlKmdaD-mNBH",
    "outputId": "7f82a589-601d-4782-f0b7-e34f7707aa4a"
   },
   "outputs": [],
   "source": [
    "df_sorted = df_significant.sort_values(by=['bic']) \n",
    "n = len(df_sorted) // 2 \n",
    "df_filtered = df_sorted.head(n)\n",
    "df_filtered\n"
   ]
  },
  {
   "cell_type": "code",
   "execution_count": null,
   "id": "_Ti79aCRT-L1",
   "metadata": {
    "colab": {
     "base_uri": "https://localhost:8080/"
    },
    "id": "_Ti79aCRT-L1",
    "outputId": "099922c4-7fdf-423d-e5ed-6f4bb42da1f4"
   },
   "outputs": [],
   "source": [
    "# c'est équivalent au fait d'appliquer le SoftMax sur la colonne du BIC\n",
    "df_filtered['prob_post_num'] = df_filtered['bic'].apply(lambda x: np.exp(-0.5 * x))\n",
    "df_filtered['prob_posteriori'] = df_filtered['prob_post_num'].apply(lambda x: x/df_filtered['prob_post_num'].sum())"
   ]
  },
  {
   "cell_type": "markdown",
   "id": "udS6mW-9a9pM",
   "metadata": {
    "id": "udS6mW-9a9pM"
   },
   "source": [
    "**Pondération des sous-modèles, contruction finale du modèle BMA et analyse des résultats de la modélisation**"
   ]
  },
  {
   "cell_type": "code",
   "execution_count": null,
   "id": "DOpJ_kd4bE6H",
   "metadata": {
    "id": "DOpJ_kd4bE6H"
   },
   "outputs": [],
   "source": [
    "\n",
    "### Création du dataframe avec les colonnes que l'on garde car au moins un modèle admet un coefficient pour la variable & aussi on applique la pondération des coefficients par la probabilité a posteriori du modele. On fillna par 0 les colonnes vides\n",
    "# filter out the columns that end with '_param'\n",
    "param_cols = [col for col in df_filtered.columns if col.endswith('_param')]\n",
    "\n",
    "# create a new dataframe with the filtered columns multiplied by 'prob_posteriori'\n",
    "df_significant_param = df_filtered[param_cols].multiply(df_filtered['prob_posteriori'], axis=0)\n",
    "\n",
    "# print the new dataframe\n",
    "df_significant_param = df_significant_param.fillna(0)\n",
    "\n",
    "### On drop les colonnes sans coefficients ; ce sont des variables non significatives ou qui n'expliquent pas la target.\n",
    "# create a list of columns to drop\n",
    "cols_to_drop = []\n",
    "\n",
    "# loop through each column in the DataFrame\n",
    "for col in df_significant_param.columns:\n",
    "    # check if the column is filled with 0\n",
    "    if df_significant_param[col].eq(0).all():\n",
    "        cols_to_drop.append(col)\n",
    "\n",
    "# drop the columns that are filled with 0\n",
    "df_significant_param_no_0 = df_significant_param.drop(cols_to_drop, axis=1)\n",
    "\n",
    "### Finalement on va sommer les colonnes, ca fait qu'on obtient dans chaque colonne le paramètre de la variable associée\n",
    "# sum all the columns of the DataFrame\n",
    "df_sum = df_significant_param_no_0.sum()\n",
    "\n",
    "# convert the resulting series to a DataFrame with one row\n",
    "df_row_parameters = pd.DataFrame(df_sum).transpose()\n",
    "\n",
    "# Create a dictionary of old and new column names\n",
    "rename_dict = {col: col.replace('_param', '') for col in df_row_parameters.columns}\n",
    "\n",
    "# Rename the columns using the dictionary\n",
    "df_row_parameters = df_row_parameters.rename(columns=rename_dict)\n",
    "\n",
    "### Il faut utiliser les paramètres et les observations pour créer la série DRt estimée\n",
    "#maintenant qu'on a les coefficients il faut les utiliser avec les observations pour calculer le DRt Estimé \n",
    "df_X = X.copy()\n",
    "\n",
    "# Get the column names of df_X and df_row_parameters\n",
    "X_cols = set(df_X.columns)\n",
    "params_cols = set(df_row_parameters.columns)\n",
    "#Attention : on perd la constance ici, ON DOIT LA RAJOUTER ENSUITE\n",
    "\n",
    "# Find the common columns between the two sets\n",
    "common_cols = list(X_cols.intersection(params_cols))\n",
    "\n",
    "# Create a new DataFrame with only the common columns\n",
    "df_X_common = df_X[common_cols]\n",
    "\n",
    "# Convert the DataFrames to numpy arrays\n",
    "X_observed = df_X_common.values\n",
    "params = df_row_parameters[common_cols].values.reshape(-1, 1)\n",
    "\n",
    "# Multiply X and params using matrix multiplication\n",
    "pred_values = X_observed @ params \n",
    "\n",
    "# Adding the intercept...\n",
    "pred_values_BMA = pred_values + df_row_parameters.const[0]\n"
   ]
  },
  {
   "cell_type": "code",
   "execution_count": null,
   "id": "5AmIgoZ-gQ1C",
   "metadata": {
    "id": "5AmIgoZ-gQ1C"
   },
   "outputs": [],
   "source": [
    "df_pred = pd.DataFrame(pred_values_BMA, index=df_X.index, columns=['pred_values_BMA'])\n",
    "y_obs = pd.DataFrame(y)\n",
    "df_actual_and_predict = pd.merge(df_pred, y_obs, how='inner', left_index=True, right_index=True)\n"
   ]
  },
  {
   "cell_type": "code",
   "execution_count": null,
   "id": "17qJokOjpLz6",
   "metadata": {
    "colab": {
     "base_uri": "https://localhost:8080/",
     "height": 279
    },
    "id": "17qJokOjpLz6",
    "outputId": "164c3781-e2bf-4688-c9c2-3c3ab842d2c8"
   },
   "outputs": [],
   "source": [
    "x = df_actual_and_predict.index # Use the index as the x-axis\n",
    "y_pred = df_actual_and_predict['pred_values_BMA'] # Get the predicted values\n",
    "y_actual = df_actual_and_predict['td'] # Get the actual values\n",
    "\n",
    "# Plot the predicted values and actual values as two separate lines\n",
    "plt.plot(x, y_pred, label='Predicted \"DRt estimé\"')\n",
    "plt.plot(x, y_actual, label='Actual \"DRt\"')\n",
    "\n",
    "# Set the axis labels and legend\n",
    "plt.xlabel('Index')\n",
    "plt.ylabel('Value')\n",
    "plt.legend()\n",
    "\n",
    "# Show the plot\n",
    "plt.show()\n"
   ]
  },
  {
   "cell_type": "code",
   "execution_count": null,
   "id": "2J4ZfnPjgQwY",
   "metadata": {
    "colab": {
     "base_uri": "https://localhost:8080/"
    },
    "id": "2J4ZfnPjgQwY",
    "outputId": "2e475527-33cf-4f92-9ea3-0ad9984677ad"
   },
   "outputs": [],
   "source": [
    "coefficient_of_dermination_BMA = round(r2_score(y, pred_values_BMA), 4)\n",
    "coefficient_of_dermination_BMA"
   ]
  },
  {
   "cell_type": "code",
   "execution_count": null,
   "id": "KWVrmZqhjTHl",
   "metadata": {
    "colab": {
     "base_uri": "https://localhost:8080/"
    },
    "id": "KWVrmZqhjTHl",
    "outputId": "bfbacc4e-a230-418b-acc5-5f000da12497"
   },
   "outputs": [],
   "source": [
    "mean_squared_error_BMA = round(mean_squared_error(y, pred_values_BMA, squared=False), 4)\n",
    "mean_squared_error_BMA"
   ]
  },
  {
   "cell_type": "code",
   "execution_count": null,
   "id": "OCWsA_IupL-y",
   "metadata": {
    "id": "OCWsA_IupL-y"
   },
   "outputs": [],
   "source": []
  },
  {
   "cell_type": "code",
   "execution_count": null,
   "id": "WVt6oCJ8j0ra",
   "metadata": {
    "id": "WVt6oCJ8j0ra"
   },
   "outputs": [],
   "source": []
  },
  {
   "cell_type": "code",
   "execution_count": null,
   "id": "kVef0sbdqBsM",
   "metadata": {
    "id": "kVef0sbdqBsM"
   },
   "outputs": [],
   "source": []
  },
  {
   "cell_type": "markdown",
   "id": "GQCdO5Uw3yWC",
   "metadata": {
    "id": "GQCdO5Uw3yWC"
   },
   "source": [
    "# Sans pondération : garder le meilleur modèle\n",
    "\n",
    "Le modèle qui minimise le critère d'info <=> BIC"
   ]
  },
  {
   "cell_type": "code",
   "execution_count": null,
   "id": "jDYKREPF3tnz",
   "metadata": {
    "colab": {
     "base_uri": "https://localhost:8080/",
     "height": 209
    },
    "id": "jDYKREPF3tnz",
    "outputId": "4a26e3d8-2692-4546-de25-50aeec0fb69c",
    "scrolled": true
   },
   "outputs": [],
   "source": [
    "row_with_lowest_bic = pd.DataFrame(df_significant.loc[df_significant['bic'].idxmin()]).T\n",
    "\n",
    "row_with_lowest_bic"
   ]
  },
  {
   "cell_type": "code",
   "execution_count": null,
   "id": "ezAYPdgKvMDK",
   "metadata": {
    "id": "ezAYPdgKvMDK"
   },
   "outputs": [],
   "source": [
    "def compute_y_estimated_from_model(df):\n",
    "\n",
    "  # filter out the columns that end with '_param'\n",
    "  param_cols = [col for col in df.columns if col.endswith('_param')]\n",
    "  df = df[param_cols]\n",
    "  # print the new dataframe\n",
    "  df_significant_param = df.fillna(0)\n",
    "\n",
    "  # create a list of columns to drop\n",
    "  cols_to_drop = []\n",
    "\n",
    "  # loop through each column in the DataFrame\n",
    "  for col in df_significant_param.columns:\n",
    "    # check if the column is filled with 0\n",
    "    if df_significant_param[col].eq(0).all():\n",
    "        cols_to_drop.append(col)\n",
    "  df_row_parameters = df_significant_param.drop(cols_to_drop, axis=1)\n",
    "\n",
    "  \n",
    "  # Create a dictionary of old and new column names\n",
    "  rename_dict = {col: col.replace('_param', '') for col in df_row_parameters.columns}\n",
    "\n",
    "  # Rename the columns using the dictionary\n",
    "  df_row_parameters = df_row_parameters.rename(columns=rename_dict)\n",
    "\n",
    "  ### Il faut utiliser les paramètres et les observations pour créer la série DRt estimée\n",
    "  #maintenant qu'on a les coefficients il faut les utiliser avec les observations pour calculer le DRt Estimé \n",
    "  df_X = X.copy()\n",
    "\n",
    "  # Get the column names of df_X and df_row_parameters\n",
    "  X_cols = set(df_X.columns)\n",
    "  params_cols = set(df_row_parameters.columns)\n",
    "\n",
    "  # Find the common columns between the two sets\n",
    "  common_cols = list(X_cols.intersection(params_cols))\n",
    "\n",
    "  # Create a new DataFrame with only the common columns\n",
    "  df_X_common = df_X[common_cols]\n",
    "\n",
    "  # Convert the DataFrames to numpy arrays\n",
    "  X_observed = df_X_common.values\n",
    "  params = df_row_parameters[common_cols].values.reshape(-1, 1)\n",
    "\n",
    "  # Multiply X and params using matrix multiplication\n",
    "  pred_values = X_observed @ params \n",
    "  \n",
    "  df_row_parameters.reset_index(drop=True, inplace=True)\n",
    "\n",
    "  # Adding the intercept...\n",
    "  pred_values_model = pred_values + df_row_parameters.const[0]\n",
    "\n",
    "  return pred_values_model\n",
    "\n",
    "pred_values_model_bic = compute_y_estimated_from_model(row_with_lowest_bic)"
   ]
  },
  {
   "cell_type": "code",
   "execution_count": null,
   "id": "vWI8qvYnyJkb",
   "metadata": {
    "colab": {
     "base_uri": "https://localhost:8080/"
    },
    "id": "vWI8qvYnyJkb",
    "outputId": "8461ce6a-3659-44c0-b74b-197549a7bd5d",
    "scrolled": true
   },
   "outputs": [],
   "source": [
    "coefficient_of_dermination_best_bic = round(r2_score(y, pred_values_model_bic), 4)\n",
    "coefficient_of_dermination_best_bic"
   ]
  },
  {
   "cell_type": "code",
   "execution_count": null,
   "id": "p0evTy6MyUpc",
   "metadata": {
    "colab": {
     "base_uri": "https://localhost:8080/"
    },
    "id": "p0evTy6MyUpc",
    "outputId": "e1c43015-2604-4391-da18-ea0f24585183",
    "scrolled": true
   },
   "outputs": [],
   "source": [
    "mean_squared_error_best_bic = round(mean_squared_error(y, pred_values_model_bic, squared=False), 4)\n",
    "mean_squared_error_best_bic"
   ]
  },
  {
   "cell_type": "code",
   "execution_count": null,
   "id": "UULv8K-stDaW",
   "metadata": {
    "id": "UULv8K-stDaW"
   },
   "outputs": [],
   "source": []
  },
  {
   "cell_type": "markdown",
   "id": "jAQY51LvtEhd",
   "metadata": {
    "id": "jAQY51LvtEhd"
   },
   "source": [
    "**Le modèle qui maximise la vraisemblance**"
   ]
  },
  {
   "cell_type": "code",
   "execution_count": null,
   "id": "pCP1kYBZtDVS",
   "metadata": {
    "colab": {
     "base_uri": "https://localhost:8080/",
     "height": 209
    },
    "id": "pCP1kYBZtDVS",
    "outputId": "8266700f-4fd1-4ebd-ff39-e7f311095d0f"
   },
   "outputs": [],
   "source": [
    "row_with_highest_LL = pd.DataFrame(df_significant.loc[df_significant['logv'].idxmax()]).T\n",
    "row_with_highest_LL"
   ]
  },
  {
   "cell_type": "code",
   "execution_count": null,
   "id": "31TSZnHftDIn",
   "metadata": {
    "id": "31TSZnHftDIn"
   },
   "outputs": [],
   "source": [
    "pred_values_model_LL = compute_y_estimated_from_model(row_with_highest_LL)"
   ]
  },
  {
   "cell_type": "code",
   "execution_count": null,
   "id": "DJzSRRery2_l",
   "metadata": {
    "colab": {
     "base_uri": "https://localhost:8080/"
    },
    "id": "DJzSRRery2_l",
    "outputId": "d5b0b9bf-202b-444e-977d-3853af855a9c"
   },
   "outputs": [],
   "source": [
    "coefficient_of_dermination_best_bic = round(r2_score(y, pred_values_model_LL), 4)\n",
    "coefficient_of_dermination_best_bic"
   ]
  },
  {
   "cell_type": "code",
   "execution_count": null,
   "id": "5Fe5lOXty8ht",
   "metadata": {
    "colab": {
     "base_uri": "https://localhost:8080/"
    },
    "id": "5Fe5lOXty8ht",
    "outputId": "1ef38cfb-2e9d-49ef-915e-8841e0a09a7a"
   },
   "outputs": [],
   "source": [
    "mean_squared_error_best_LL = round(mean_squared_error(y, pred_values_model_LL, squared=False), 4)\n",
    "mean_squared_error_best_LL"
   ]
  },
  {
   "cell_type": "code",
   "execution_count": null,
   "id": "u58vcnFDy8b9",
   "metadata": {
    "id": "u58vcnFDy8b9"
   },
   "outputs": [],
   "source": []
  },
  {
   "cell_type": "code",
   "execution_count": null,
   "id": "vqaX9mR_y8XR",
   "metadata": {
    "id": "vqaX9mR_y8XR"
   },
   "outputs": [],
   "source": []
  }
 ],
 "metadata": {
  "colab": {
   "provenance": []
  },
  "kernelspec": {
   "display_name": "creditenv",
   "language": "python",
   "name": "python3"
  },
  "language_info": {
   "codemirror_mode": {
    "name": "ipython",
    "version": 3
   },
   "file_extension": ".py",
   "mimetype": "text/x-python",
   "name": "python",
   "nbconvert_exporter": "python",
   "pygments_lexer": "ipython3",
   "version": "3.10.9"
  },
  "vscode": {
   "interpreter": {
    "hash": "567833f4bf8785d7499bfdf50f4b883a3b8cc860e6ebb52c604f8c00d07a3ef8"
   }
  }
 },
 "nbformat": 4,
 "nbformat_minor": 5
}
